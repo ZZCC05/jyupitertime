{
 "cells": [
  {
   "cell_type": "markdown",
   "metadata": {},
   "source": [
    "#HW2 - ml4786"
   ]
  },
  {
   "cell_type": "code",
   "execution_count": 3,
   "metadata": {
    "collapsed": false
   },
   "outputs": [
    {
     "name": "stdout",
     "output_type": "stream",
     "text": [
      "Place data files in '/home/neil/Projects/ML4786/HW 2 - JAC/'\n"
     ]
    }
   ],
   "source": [
    "%matplotlib inline\n",
    "\n",
    "import numpy as np\n",
    "from sklearn.cluster import KMeans\n",
    "from scipy.spatial.distance import cdist, pdist\n",
    "from scipy.cluster.hierarchy import linkage\n",
    "import matplotlib.pyplot as plt\n",
    "import os\n",
    "print(\"Place data files in '\"+os.getcwd()+\"/'\")"
   ]
  },
  {
   "cell_type": "code",
   "execution_count": 4,
   "metadata": {
    "collapsed": true
   },
   "outputs": [],
   "source": [
    "def csv_to_matrix(csv_file):\n",
    "    return np.loadtxt(open(csv_file),delimiter=\",\")"
   ]
  },
  {
   "cell_type": "code",
   "execution_count": 5,
   "metadata": {
    "collapsed": false
   },
   "outputs": [],
   "source": [
    "def my_kmeans(X,us): #returns the cluster arrays   \n",
    "    km = KMeans(n_clusters=2, init=us, n_init=1)\n",
    "    km.fit(X)\n",
    "    classifications = km.predict(X)\n",
    "    C1 = []\n",
    "    C2 = []\n",
    "    for c,point in zip(classifications, K1):\n",
    "        if c==0: \n",
    "            C1.append(point)\n",
    "        else:\n",
    "            C2.append(point)\n",
    "    return np.array(C1), np.array(C2)"
   ]
  },
  {
   "cell_type": "code",
   "execution_count": 15,
   "metadata": {
    "collapsed": true
   },
   "outputs": [],
   "source": [
    "def plot_2cluster(C1, C2, US, centroid=True):\n",
    "    plt.scatter(C1[:,0],C1[:,1], c='red',  alpha=1, marker=\"o\", label=\"C_1\")\n",
    "    plt.scatter(C2[:,0],C2[:,1], c='blue', alpha=1, marker=\"o\", label=\"C_2\")\n",
    "    if centroid:\n",
    "        plt.scatter(US[:,0],US[:,1], c='green', alpha=1, marker=\"+\", label=\"Centroids\")\n",
    "    plt.legend(loc='upper right')\n",
    "    plt.show()"
   ]
  },
  {
   "cell_type": "markdown",
   "metadata": {},
   "source": [
    "## Kmeans_I"
   ]
  },
  {
   "cell_type": "code",
   "execution_count": 7,
   "metadata": {
    "collapsed": false
   },
   "outputs": [
    {
     "data": {
      "image/png": "[encoded data removed]",
      "text/plain": [
       "<matplotlib.figure.Figure at 0x7f4bc5133890>"
      ]
     },
     "metadata": {},
     "output_type": "display_data"
    }
   ],
   "source": [
    "# Get data\n",
    "K1 = csv_to_matrix('XkmeansI.csv') \n",
    "u1 = [0.9, 1.25]\n",
    "u2 = [-0.29999999999999993, 1.35]\n",
    "us = np.array([u1, u2])\n",
    "# Run kmeans\n",
    "K1_C1, K1_C2 = my_kmeans(K1,us)\n",
    "# Plot\n",
    "plot_2cluster(K1_C1, K1_C2, us)"
   ]
  },
  {
   "cell_type": "markdown",
   "metadata": {},
   "source": [
    "## Kmeans_2"
   ]
  },
  {
   "cell_type": "code",
   "execution_count": 8,
   "metadata": {
    "collapsed": false,
    "scrolled": true
   },
   "outputs": [
    {
     "data": {
      "image/png": "[encoded data removed]",
      "text/plain": [
       "<matplotlib.figure.Figure at 0x7f4ba01d6910>"
      ]
     },
     "metadata": {},
     "output_type": "display_data"
    }
   ],
   "source": [
    "# Get data\n",
    "K2 = csv_to_matrix('XkmeansII.csv') \n",
    "u1 = [0.9, 1.25]\n",
    "u2 = [-0.29999999999999993, 1.35]\n",
    "us = np.array([u1, u2])\n",
    "# Run kmeans\n",
    "K2_C1, K2_C2 = my_kmeans(K2,us)\n",
    "# Plot\n",
    "plot_2cluster(K2_C1, K2_C2, us)"
   ]
  },
  {
   "cell_type": "markdown",
   "metadata": {},
   "source": [
    "## SingleLink"
   ]
  },
  {
   "cell_type": "code",
   "execution_count": 11,
   "metadata": {
    "collapsed": true
   },
   "outputs": [],
   "source": [
    "def single_link(clusters, len_clusters, first=True):\n",
    "    '''\n",
    "    Computes the single clink clustering for the given points:    \n",
    "    Arguments:\n",
    "        m: A list with shape (n,2)\n",
    "    Returns:\n",
    "        A 0-1 vector deliminating the clusters, in the same order as the input.\n",
    "    '''\n",
    "    #Handle initial clustering\n",
    "    if first: clusters =[   [(pt,idx)] for idx,pt in enumerate(clusters)   ]\n",
    "\n",
    "    #base case\n",
    "    if len(clusters) == 2:\n",
    "        C1 = [ pt for pt,idx in clusters[0]]\n",
    "        C2 = [ pt for pt,idx in clusters[1]]\n",
    "        return np.array(C1), np.array(C2)\n",
    "    ###Single Link Algorithm###\n",
    "    # Find closest pair\n",
    "    j1,j2 = None, None\n",
    "    min_dist = float('inf')\n",
    "    for idx1,c1 in enumerate(clusters):\n",
    "        for idx2,c2 in enumerate(clusters):\n",
    "            if idx1 != idx2:\n",
    "                for p,_ in c1:\n",
    "                    for q,_ in c2:\n",
    "                        d = np.linalg.norm(p-q)\n",
    "                        if d < min_dist:\n",
    "                            j1, j1_idx = c1, idx1\n",
    "                            j2, j2_idx = c2, idx2\n",
    "                            min_dist = d\n",
    "    # Update clustesr\n",
    "    del clusters[j1_idx]\n",
    "    del clusters[j2_idx-1] #minus becasue I just deleted\n",
    "    j1.extend(j2)\n",
    "    clusters.append(j1)\n",
    "    #Recurr\n",
    "    return single_link(clusters, len_clusters, first=False)"
   ]
  },
  {
   "cell_type": "markdown",
   "metadata": {},
   "source": [
    "## SingleLink_I"
   ]
  },
  {
   "cell_type": "code",
   "execution_count": 16,
   "metadata": {
    "collapsed": false
   },
   "outputs": [
    {
     "data": {
      "image/png": "[encoded data removed]",
      "text/plain": [
       "<matplotlib.figure.Figure at 0x7f4b9fd551d0>"
      ]
     },
     "metadata": {},
     "output_type": "display_data"
    }
   ],
   "source": [
    "# Get data\n",
    "S1 = csv_to_matrix('XslinkI.csv') \n",
    "# Run Slink\n",
    "S1_C1, S1_C2 = single_link(S1, len(S1))\n",
    "# Plot\n",
    "plot_2cluster(S1_C1, S1_C2, [], False)"
   ]
  },
  {
   "cell_type": "markdown",
   "metadata": {},
   "source": [
    "## SingleLink_2"
   ]
  },
  {
   "cell_type": "code",
   "execution_count": 17,
   "metadata": {
    "collapsed": false
   },
   "outputs": [
    {
     "data": {
      "image/png": "[encoded data removed]",
      "text/plain": [
       "<matplotlib.figure.Figure at 0x7f4b9fbd8150>"
      ]
     },
     "metadata": {},
     "output_type": "display_data"
    }
   ],
   "source": [
    "# Get data\n",
    "S1 = csv_to_matrix('XslinkII.csv') \n",
    "# Run Slink\n",
    "S1_C1, S1_C2 = single_link(S1, len(S1))\n",
    "# Plot\n",
    "plot_2cluster(S1_C1, S1_C2, [], False)"
   ]
  },
  {
   "cell_type": "markdown",
   "metadata": {
    "collapsed": true
   },
   "source": [
    "## Spectral Clustering"
   ]
  },
  {
   "cell_type": "code",
   "execution_count": 146,
   "metadata": {
    "collapsed": true
   },
   "outputs": [],
   "source": [
    "from sklearn.cluster import SpectralClustering\n",
    "def sk_spectral_clustering(A):\n",
    "    sc = SpectralClustering(n_clusters=2, eigen_solver='arpack',n_init=1, affinity='precomputed')\n",
    "    sc.fit(np_A)\n",
    "    return sc.labels_.astype(np.int)"
   ]
  },
  {
   "cell_type": "markdown",
   "metadata": {
    "collapsed": true
   },
   "source": [
    "## Spectral Clustering 1"
   ]
  },
  {
   "cell_type": "code",
   "execution_count": 150,
   "metadata": {
    "collapsed": false
   },
   "outputs": [
    {
     "name": "stdout",
     "output_type": "stream",
     "text": [
      "[0 0 0 0 0 0 0 0 0 0 0 0 0 0 0 1 1 1 1 1 1 1 1 1 1 1 1 1 1 1]\n"
     ]
    }
   ],
   "source": [
    "# Get data\n",
    "A1 = csv_to_matrix('AspectralI.csv') \n",
    "# Run Spectral\n",
    "clustering_assings1 = sk_spectral_clustering(A1)\n",
    "# Plot\n",
    "#plot_2cluster(S1_C1, S1_C2, [], False)\n",
    "print clustering_assings1"
   ]
  },
  {
   "cell_type": "markdown",
   "metadata": {
    "collapsed": true
   },
   "source": [
    "## Spectral Clustering 2"
   ]
  },
  {
   "cell_type": "code",
   "execution_count": 151,
   "metadata": {
    "collapsed": false
   },
   "outputs": [
    {
     "name": "stdout",
     "output_type": "stream",
     "text": [
      "[1 1 1 1 1 1 1 1 1 1 1 1 1 1 1 0 0 0 0 0 0 0 0 0 0 0 0 0 0 0]\n"
     ]
    }
   ],
   "source": [
    "# Get data\n",
    "A2 = csv_to_matrix('AspectralII.csv') \n",
    "# Run Spectral\n",
    "clustering_assings2 = sk_spectral_clustering(A2)\n",
    "# Plot\n",
    "#plot_2cluster(S1_C1, S1_C2, [], False)\n",
    "print clustering_assings2"
   ]
  },
  {
   "cell_type": "code",
   "execution_count": null,
   "metadata": {
    "collapsed": true
   },
   "outputs": [],
   "source": []
  }
 ],
 "metadata": {
  "kernelspec": {
   "display_name": "Python 2",
   "language": "python",
   "name": "python2"
  },
  "language_info": {
   "codemirror_mode": {
    "name": "ipython",
    "version": 2
   },
   "file_extension": ".py",
   "mimetype": "text/x-python",
   "name": "python",
   "nbconvert_exporter": "python",
   "pygments_lexer": "ipython2",
   "version": "2.7.9"
  }
 },
 "nbformat": 4,
 "nbformat_minor": 0
}
