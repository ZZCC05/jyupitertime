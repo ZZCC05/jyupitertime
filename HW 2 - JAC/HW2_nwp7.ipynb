{
 "cells": [
  {
   "cell_type": "markdown",
   "metadata": {},
   "source": [
    "#HW2 - ml4786"
   ]
  },
  {
   "cell_type": "code",
   "execution_count": 72,
   "metadata": {
    "collapsed": false
   },
   "outputs": [
    {
     "name": "stdout",
     "output_type": "stream",
     "text": [
      "Place data files in '/home/neil/Projects/ML4786/HW 2 - JAC/'\n"
     ]
    }
   ],
   "source": [
    "%matplotlib inline\n",
    "\n",
    "import numpy as np\n",
    "from sklearn.cluster import KMeans\n",
    "from scipy.spatial.distance import cdist\n",
    "import matplotlib.pyplot as plt\n",
    "import os\n",
    "print(\"Place data files in '\"+os.getcwd()+\"/'\")"
   ]
  },
  {
   "cell_type": "code",
   "execution_count": 73,
   "metadata": {
    "collapsed": true
   },
   "outputs": [],
   "source": [
    "def csv_to_matrix(csv_file):\n",
    "    return np.loadtxt(open(csv_file),delimiter=\",\")"
   ]
  },
  {
   "cell_type": "code",
   "execution_count": 74,
   "metadata": {
    "collapsed": false
   },
   "outputs": [],
   "source": [
    "def my_kmeans(X,us): #returns the cluster arrays   \n",
    "    km = KMeans(n_clusters=2, init=us, n_init=1)\n",
    "    km.fit(X)\n",
    "    classifications = km.predict(X)\n",
    "    C1 = []\n",
    "    C2 = []\n",
    "    for c,point in zip(classifications, K1):\n",
    "        if c==0: \n",
    "            C1.append(point)\n",
    "        else:\n",
    "            C2.append(point)\n",
    "    return np.array(C1), np.array(C2)"
   ]
  },
  {
   "cell_type": "code",
   "execution_count": 80,
   "metadata": {
    "collapsed": true
   },
   "outputs": [],
   "source": [
    "def plot_2cluster(C1, C2, US):\n",
    "    plt.scatter(C1[:,0],C1[:,1], c='red',  alpha=1, marker=\"o\", label=\"C_1\")\n",
    "    plt.scatter(C2[:,0],C2[:,1], c='blue', alpha=1, marker=\"o\", label=\"C_2\")\n",
    "    plt.scatter(US[:,0],US[:,1], c='green', alpha=1, marker=\"+\", label=\"Centroids\")\n",
    "    plt.legend(loc='upper right')\n",
    "    plt.show()"
   ]
  },
  {
   "cell_type": "markdown",
   "metadata": {},
   "source": [
    "## Kmeans_I"
   ]
  },
  {
   "cell_type": "code",
   "execution_count": 81,
   "metadata": {
    "collapsed": false
   },
   "outputs": [
    {
     "data": {
      "image/png": "[encoded data removed]",
      "text/plain": [
       "<matplotlib.figure.Figure at 0x7f9b5bb9bdd0>"
      ]
     },
     "metadata": {},
     "output_type": "display_data"
    }
   ],
   "source": [
    "# Get data\n",
    "K1 = csv_to_matrix('XkmeansI.csv') \n",
    "u1 = [0.9, 1.25]\n",
    "u2 = [-0.29999999999999993, 1.35]\n",
    "us = np.array([u1, u2])\n",
    "# Run kmeans\n",
    "K1_C1, K1_C2 = my_kmeans(K1,us)\n",
    "# Plot\n",
    "plot_2cluster(K1_C1, K1_C2, us)"
   ]
  },
  {
   "cell_type": "markdown",
   "metadata": {},
   "source": [
    "## Kmeans_2"
   ]
  },
  {
   "cell_type": "code",
   "execution_count": 83,
   "metadata": {
    "collapsed": false
   },
   "outputs": [
    {
     "data": {
      "image/png": "[encoded data removed]",
      "text/plain": [
       "<matplotlib.figure.Figure at 0x7f9b5bc31750>"
      ]
     },
     "metadata": {},
     "output_type": "display_data"
    }
   ],
   "source": [
    "# Get data\n",
    "K2 = csv_to_matrix('XkmeansII.csv') \n",
    "u1 = [0.9, 1.25]\n",
    "u2 = [-0.29999999999999993, 1.35]\n",
    "us = np.array([u1, u2])\n",
    "# Run kmeans\n",
    "K2_C1, K2_C2 = my_kmeans(K2,us)\n",
    "# Plot\n",
    "plot_2cluster(K2_C1, K2_C2, us)"
   ]
  },
  {
   "cell_type": "code",
   "execution_count": null,
   "metadata": {
    "collapsed": true
   },
   "outputs": [],
   "source": []
  }
 ],
 "metadata": {
  "kernelspec": {
   "display_name": "Python 2",
   "language": "python",
   "name": "python2"
  },
  "language_info": {
   "codemirror_mode": {
    "name": "ipython",
    "version": 2
   },
   "file_extension": ".py",
   "mimetype": "text/x-python",
   "name": "python",
   "nbconvert_exporter": "python",
   "pygments_lexer": "ipython2",
   "version": "2.7.9"
  }
 },
 "nbformat": 4,
 "nbformat_minor": 0
}
