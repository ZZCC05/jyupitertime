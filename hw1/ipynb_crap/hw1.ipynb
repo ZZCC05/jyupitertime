{
 "metadata": {
  "colabVersion": "0.1",
  "name": ""
 },
 "nbformat": 3,
 "nbformat_minor": 0,
 "worksheets": [
  {
   "cells": [
    {
     "cell_type": "heading",
     "level": 1,
     "metadata": {},
     "source": [
      "CS 4786 HW 1"
     ]
    },
    {
     "cell_type": "code",
     "collapsed": false,
     "input": [
      "from __future__ import print_function\n",
      "from __future__ import division\n",
      "import numpy as np\n",
      "import csv"
     ],
     "language": "python",
     "metadata": {
      "cellView": null,
      "executionInfo": {
       "content": {
        "execution_count": 1,
        "payload": [],
        "status": "ok",
        "user_expressions": {},
        "user_variables": {}
       },
       "timestamp": 1424976479720,
       "user": {
        "color": "#1FA15D",
        "displayName": "Neil Parker",
        "isAnonymous": false,
        "isMe": true,
        "permissionId": "14423546989307804392",
        "photoUrl": "//lh3.googleusercontent.com/-eG_SotPt2e4/AAAAAAAAAAI/AAAAAAAAACI/oJJ-GUxQQFg/s50-c-k-no/photo.jpg",
        "sessionId": "6fdfade1db001652",
        "userId": "114524373999278622294"
       },
       "user_tz": 300
      }
     },
     "outputs": [],
     "prompt_number": 6
    },
    {
     "cell_type": "code",
     "collapsed": false,
     "input": [
      "%matplotlib inline\n",
      "import matplotlib.pyplot as plt"
     ],
     "language": "python",
     "metadata": {
      "cellView": null,
      "executionInfo": {
       "content": {
        "execution_count": 2,
        "payload": [],
        "status": "ok",
        "user_expressions": {},
        "user_variables": {}
       },
       "timestamp": 1424976480665,
       "user": {
        "color": "#1FA15D",
        "displayName": "Neil Parker",
        "isAnonymous": false,
        "isMe": true,
        "permissionId": "14423546989307804392",
        "photoUrl": "//lh3.googleusercontent.com/-eG_SotPt2e4/AAAAAAAAAAI/AAAAAAAAACI/oJJ-GUxQQFg/s50-c-k-no/photo.jpg",
        "sessionId": "6fdfade1db001652",
        "userId": "114524373999278622294"
       },
       "user_tz": 300
      }
     },
     "outputs": [],
     "prompt_number": 7
    },
    {
     "cell_type": "markdown",
     "metadata": {},
     "source": []
    },
    {
     "cell_type": "heading",
     "level": 2,
     "metadata": {},
     "source": [
      "Problem 1"
     ]
    },
    {
     "cell_type": "code",
     "collapsed": false,
     "input": [
      "def csv_to_cords(csv_file):\n",
      "    # Build data from csv\n",
      "    x = []\n",
      "    y = []\n",
      "    with open(csv_file, 'rb') as csvfile:\n",
      "        my_csv = csv.reader(csvfile, delimiter=',', quotechar='|')\n",
      "        for x_pnt,y_pnt in my_csv:\n",
      "            x.append(x_pnt)\n",
      "            y.append(y_pnt)\n",
      "    return x,y"
     ],
     "language": "python",
     "metadata": {
      "cellView": null,
      "executionInfo": {
       "content": {
        "execution_count": 3,
        "payload": [],
        "status": "ok",
        "user_expressions": {},
        "user_variables": {}
       },
       "timestamp": 1424976482008,
       "user": {
        "color": "#1FA15D",
        "displayName": "Neil Parker",
        "isAnonymous": false,
        "isMe": true,
        "permissionId": "14423546989307804392",
        "photoUrl": "//lh3.googleusercontent.com/-eG_SotPt2e4/AAAAAAAAAAI/AAAAAAAAACI/oJJ-GUxQQFg/s50-c-k-no/photo.jpg",
        "sessionId": "6fdfade1db001652",
        "userId": "114524373999278622294"
       },
       "user_tz": 300
      }
     },
     "outputs": [],
     "prompt_number": 8
    },
    {
     "cell_type": "code",
     "collapsed": false,
     "input": [
      "# Make the plot\n",
      "x_I, y_I = csv_to_cords('a1_data/smiley/2d-gaussian.csv')\n",
      "x_II, y_II = csv_to_cords('a1_data/smiley/2d-gaussian-rotated.csv')\n",
      "plt.scatter(x_I, y_I, c='red', alpha=0.9, marker=\"+\", label=\"X_I\")\n",
      "plt.scatter(x_II, y_II, c='green', alpha=0.9, marker=\"x\", label=\"X_II\")\n",
      "legend = plt.legend(loc='upper right', fontsize='large')\n",
      "plt.show()"
     ],
     "language": "python",
     "metadata": {
      "cellView": null,
      "executionInfo": {
       "content": {
        "execution_count": 4,
        "payload": [],
        "status": "ok",
        "user_expressions": {},
        "user_variables": {}
       },
       "timestamp": 1424976483382,
       "user": {
        "color": "#1FA15D",
        "displayName": "Neil Parker",
        "isAnonymous": false,
        "isMe": true,
        "permissionId": "14423546989307804392",
        "photoUrl": "//lh3.googleusercontent.com/-eG_SotPt2e4/AAAAAAAAAAI/AAAAAAAAACI/oJJ-GUxQQFg/s50-c-k-no/photo.jpg",
        "sessionId": "6fdfade1db001652",
        "userId": "114524373999278622294"
       },
       "user_tz": 300
      }
     },
     "outputs": [
      {
       "ename": "IOError",
       "evalue": "[Errno 2] No such file or directory: 'a1_data/smiley/2d-gaussian.csv'",
       "output_type": "pyerr",
       "traceback": [
        "\u001b[0;31m---------------------------------------------------------------------------\u001b[0m\n\u001b[0;31mIOError\u001b[0m                                   Traceback (most recent call last)",
        "\u001b[0;32m<ipython-input-9-f2cc9a000016>\u001b[0m in \u001b[0;36m<module>\u001b[0;34m()\u001b[0m\n\u001b[1;32m      1\u001b[0m \u001b[0;31m# Make the plot\u001b[0m\u001b[0;34m\u001b[0m\u001b[0;34m\u001b[0m\u001b[0m\n\u001b[0;32m----> 2\u001b[0;31m \u001b[0mx_I\u001b[0m\u001b[0;34m,\u001b[0m \u001b[0my_I\u001b[0m \u001b[0;34m=\u001b[0m \u001b[0mcsv_to_cords\u001b[0m\u001b[0;34m(\u001b[0m\u001b[0;34m'a1_data/smiley/2d-gaussian.csv'\u001b[0m\u001b[0;34m)\u001b[0m\u001b[0;34m\u001b[0m\u001b[0m\n\u001b[0m\u001b[1;32m      3\u001b[0m \u001b[0mx_II\u001b[0m\u001b[0;34m,\u001b[0m \u001b[0my_II\u001b[0m \u001b[0;34m=\u001b[0m \u001b[0mcsv_to_cords\u001b[0m\u001b[0;34m(\u001b[0m\u001b[0;34m'a1_data/smiley/2d-gaussian-rotated.csv'\u001b[0m\u001b[0;34m)\u001b[0m\u001b[0;34m\u001b[0m\u001b[0m\n\u001b[1;32m      4\u001b[0m \u001b[0mplt\u001b[0m\u001b[0;34m.\u001b[0m\u001b[0mscatter\u001b[0m\u001b[0;34m(\u001b[0m\u001b[0mx_I\u001b[0m\u001b[0;34m,\u001b[0m \u001b[0my_I\u001b[0m\u001b[0;34m,\u001b[0m \u001b[0mc\u001b[0m\u001b[0;34m=\u001b[0m\u001b[0;34m'red'\u001b[0m\u001b[0;34m,\u001b[0m \u001b[0malpha\u001b[0m\u001b[0;34m=\u001b[0m\u001b[0;36m0.9\u001b[0m\u001b[0;34m,\u001b[0m \u001b[0mmarker\u001b[0m\u001b[0;34m=\u001b[0m\u001b[0;34m\"+\"\u001b[0m\u001b[0;34m,\u001b[0m \u001b[0mlabel\u001b[0m\u001b[0;34m=\u001b[0m\u001b[0;34m\"X_I\"\u001b[0m\u001b[0;34m)\u001b[0m\u001b[0;34m\u001b[0m\u001b[0m\n\u001b[1;32m      5\u001b[0m \u001b[0mplt\u001b[0m\u001b[0;34m.\u001b[0m\u001b[0mscatter\u001b[0m\u001b[0;34m(\u001b[0m\u001b[0mx_II\u001b[0m\u001b[0;34m,\u001b[0m \u001b[0my_II\u001b[0m\u001b[0;34m,\u001b[0m \u001b[0mc\u001b[0m\u001b[0;34m=\u001b[0m\u001b[0;34m'green'\u001b[0m\u001b[0;34m,\u001b[0m \u001b[0malpha\u001b[0m\u001b[0;34m=\u001b[0m\u001b[0;36m0.9\u001b[0m\u001b[0;34m,\u001b[0m \u001b[0mmarker\u001b[0m\u001b[0;34m=\u001b[0m\u001b[0;34m\"x\"\u001b[0m\u001b[0;34m,\u001b[0m \u001b[0mlabel\u001b[0m\u001b[0;34m=\u001b[0m\u001b[0;34m\"X_II\"\u001b[0m\u001b[0;34m)\u001b[0m\u001b[0;34m\u001b[0m\u001b[0m\n",
        "\u001b[0;32m<ipython-input-8-8861ab11880d>\u001b[0m in \u001b[0;36mcsv_to_cords\u001b[0;34m(csv_file)\u001b[0m\n\u001b[1;32m      3\u001b[0m     \u001b[0mx\u001b[0m \u001b[0;34m=\u001b[0m \u001b[0;34m[\u001b[0m\u001b[0;34m]\u001b[0m\u001b[0;34m\u001b[0m\u001b[0m\n\u001b[1;32m      4\u001b[0m     \u001b[0my\u001b[0m \u001b[0;34m=\u001b[0m \u001b[0;34m[\u001b[0m\u001b[0;34m]\u001b[0m\u001b[0;34m\u001b[0m\u001b[0m\n\u001b[0;32m----> 5\u001b[0;31m     \u001b[0;32mwith\u001b[0m \u001b[0mopen\u001b[0m\u001b[0;34m(\u001b[0m\u001b[0mcsv_file\u001b[0m\u001b[0;34m,\u001b[0m \u001b[0;34m'rb'\u001b[0m\u001b[0;34m)\u001b[0m \u001b[0;32mas\u001b[0m \u001b[0mcsvfile\u001b[0m\u001b[0;34m:\u001b[0m\u001b[0;34m\u001b[0m\u001b[0m\n\u001b[0m\u001b[1;32m      6\u001b[0m         \u001b[0mmy_csv\u001b[0m \u001b[0;34m=\u001b[0m \u001b[0mcsv\u001b[0m\u001b[0;34m.\u001b[0m\u001b[0mreader\u001b[0m\u001b[0;34m(\u001b[0m\u001b[0mcsvfile\u001b[0m\u001b[0;34m,\u001b[0m \u001b[0mdelimiter\u001b[0m\u001b[0;34m=\u001b[0m\u001b[0;34m','\u001b[0m\u001b[0;34m,\u001b[0m \u001b[0mquotechar\u001b[0m\u001b[0;34m=\u001b[0m\u001b[0;34m'|'\u001b[0m\u001b[0;34m)\u001b[0m\u001b[0;34m\u001b[0m\u001b[0m\n\u001b[1;32m      7\u001b[0m         \u001b[0;32mfor\u001b[0m \u001b[0mx_pnt\u001b[0m\u001b[0;34m,\u001b[0m\u001b[0my_pnt\u001b[0m \u001b[0;32min\u001b[0m \u001b[0mmy_csv\u001b[0m\u001b[0;34m:\u001b[0m\u001b[0;34m\u001b[0m\u001b[0m\n",
        "\u001b[0;31mIOError\u001b[0m: [Errno 2] No such file or directory: 'a1_data/smiley/2d-gaussian.csv'"
       ]
      }
     ],
     "prompt_number": 9
    },
    {
     "cell_type": "code",
     "collapsed": false,
     "input": [],
     "language": "python",
     "metadata": {
      "cellView": null,
      "executionInfo": {
       "content": {
        "execution_count": 4,
        "payload": [],
        "status": "ok",
        "user_expressions": {},
        "user_variables": {}
       },
       "timestamp": 1424976484891,
       "user": {
        "color": "#1FA15D",
        "displayName": "Neil Parker",
        "isAnonymous": false,
        "isMe": true,
        "permissionId": "14423546989307804392",
        "photoUrl": "//lh3.googleusercontent.com/-eG_SotPt2e4/AAAAAAAAAAI/AAAAAAAAACI/oJJ-GUxQQFg/s50-c-k-no/photo.jpg",
        "sessionId": "6fdfade1db001652",
        "userId": "114524373999278622294"
       },
       "user_tz": 300
      }
     },
     "outputs": [],
     "prompt_number": 9
    },
    {
     "cell_type": "heading",
     "level": 2,
     "metadata": {},
     "source": [
      "Problem 2"
     ]
    },
    {
     "cell_type": "heading",
     "level": 3,
     "metadata": {},
     "source": [
      "PCA"
     ]
    },
    {
     "cell_type": "code",
     "collapsed": false,
     "input": [],
     "language": "python",
     "metadata": {
      "cellView": null,
      "executionInfo": null
     },
     "outputs": [],
     "prompt_number": 9
    },
    {
     "cell_type": "code",
     "collapsed": false,
     "input": [],
     "language": "python",
     "metadata": {},
     "outputs": [],
     "prompt_number": 9
    },
    {
     "cell_type": "code",
     "collapsed": false,
     "input": [],
     "language": "python",
     "metadata": {},
     "outputs": [],
     "prompt_number": 9
    },
    {
     "cell_type": "code",
     "collapsed": false,
     "input": [],
     "language": "python",
     "metadata": {},
     "outputs": [],
     "prompt_number": 9
    },
    {
     "cell_type": "code",
     "collapsed": false,
     "input": [],
     "language": "python",
     "metadata": {},
     "outputs": [],
     "prompt_number": 9
    },
    {
     "cell_type": "code",
     "collapsed": false,
     "input": [],
     "language": "python",
     "metadata": {},
     "outputs": [],
     "prompt_number": 9
    },
    {
     "cell_type": "code",
     "collapsed": false,
     "input": [],
     "language": "python",
     "metadata": {},
     "outputs": [],
     "prompt_number": 9
    },
    {
     "cell_type": "code",
     "collapsed": false,
     "input": [],
     "language": "python",
     "metadata": {},
     "outputs": [],
     "prompt_number": 9
    },
    {
     "cell_type": "code",
     "collapsed": false,
     "input": [],
     "language": "python",
     "metadata": {},
     "outputs": [],
     "prompt_number": 9
    },
    {
     "cell_type": "code",
     "collapsed": false,
     "input": [],
     "language": "python",
     "metadata": {},
     "outputs": [],
     "prompt_number": 9
    },
    {
     "cell_type": "code",
     "collapsed": false,
     "input": [],
     "language": "python",
     "metadata": {},
     "outputs": [],
     "prompt_number": 9
    },
    {
     "cell_type": "code",
     "collapsed": false,
     "input": [],
     "language": "python",
     "metadata": {},
     "outputs": [],
     "prompt_number": 9
    },
    {
     "cell_type": "code",
     "collapsed": false,
     "input": [],
     "language": "python",
     "metadata": {},
     "outputs": [],
     "prompt_number": 9
    }
   ],
   "metadata": {}
  }
 ]
}