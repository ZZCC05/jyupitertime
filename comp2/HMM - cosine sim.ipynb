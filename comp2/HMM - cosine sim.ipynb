{
 "cells": [
  {
   "cell_type": "code",
   "execution_count": 38,
   "metadata": {
    "collapsed": true
   },
   "outputs": [],
   "source": [
    "import sys\n",
    "import numpy as np\n",
    "from sys import stdout\n",
    "from scipy.spatial import distance\n",
    "from numpy import linalg\n",
    "from sklearn import svm, grid_search\n",
    "import matplotlib.pyplot as plt\n",
    "from sklearn import hmm\n",
    "\n",
    "%matplotlib inline\n",
    "\n",
    "NUM_WORDS = 7\n",
    "NUM_COEFFS = 13\n",
    "NUM_WINDOWS = 83"
   ]
  },
  {
   "cell_type": "markdown",
   "metadata": {},
   "source": [
    "## Data Processing"
   ]
  },
  {
   "cell_type": "code",
   "execution_count": 3,
   "metadata": {
    "collapsed": false
   },
   "outputs": [
    {
     "name": "stdout",
     "output_type": "stream",
     "text": [
      "4620 7\n",
      "done\n"
     ]
    }
   ],
   "source": [
    "_data = {}\n",
    "_label_data = {}\n",
    "\n",
    "# create example -> info mapping\n",
    "with open('competition_2/train.data', 'r') as data_file:\n",
    "    for i, line in enumerate(data_file):\n",
    "        _data[i] = {}\n",
    "        _data[i]['data'] = []\n",
    "\n",
    "        coeffs = line.split(',')\n",
    "        for k in xrange(0, len(coeffs), NUM_COEFFS):\n",
    "            _data[i]['data'].append(np.array([float(num) for num in coeffs[k:k+13]]))\n",
    "    \n",
    "with open('competition_2/train.labels', 'r') as label_file:\n",
    "    for i, line in enumerate(label_file):\n",
    "        if i == 0: continue\n",
    "        vals = line.split(',')\n",
    "        pt = int(vals[0])\n",
    "        label = int(vals[1])\n",
    "        _data[pt]['label'] = label\n",
    "        \n",
    "# create label -> data mapping\n",
    "for i, val in _data.iteritems():\n",
    "    label = val['label']\n",
    "    data = val['data']\n",
    "    if label not in _label_data:\n",
    "        _label_data[label] = []\n",
    "    _label_data[label].append(data)\n",
    "        \n",
    "NUM_EXAMPLES = len(_data)\n",
    "print NUM_EXAMPLES, len(_label_data)\n",
    "print 'done'\n"
   ]
  },
  {
   "cell_type": "markdown",
   "metadata": {},
   "source": [
    "## Class Probabilities with conditional cosine sim "
   ]
  },
  {
   "cell_type": "code",
   "execution_count": 114,
   "metadata": {
    "collapsed": false
   },
   "outputs": [
    {
     "name": "stdout",
     "output_type": "stream",
     "text": [
      "10.6455505697\n"
     ]
    }
   ],
   "source": [
    "# get average cosine similarities with every training point\n",
    "# args: vector of observation coefficients, vector of example coefficients\n",
    "def get_example_dist(obs_vec, example):\n",
    "    example_dist = 0\n",
    "\n",
    "    # iterate through windows and add log similarities\n",
    "    for window in range(len(example)):\n",
    "#         print \"window \" + str(window)\n",
    "#         print obs_vec[window], example[window]\n",
    "#         print linalg.norm(obs_vec[window]), linalg.norm(example[window])\n",
    "#         print np.dot(obs_vec[window], example[window])\n",
    "#         print distance.cosine(obs_vec[window], example[window])\n",
    "        \n",
    "        if linalg.norm(obs_vec[window] != 0) and linalg.norm(example[window]) != 0:\n",
    "            example_dist += distance.cosine(obs_vec[window], example[window])\n",
    "#         print example_dist\n",
    "        \n",
    "    return example_dist\n",
    "\n",
    "# test\n",
    "print get_example_dist(_data[0]['data'], _data[1]['data'])"
   ]
  },
  {
   "cell_type": "code",
   "execution_count": 121,
   "metadata": {
    "collapsed": false
   },
   "outputs": [],
   "source": [
    "def evaluate_observations(obs_vec):\n",
    "    dists = [0 for i in range(NUM_WORDS)]\n",
    "    for word in range(NUM_WORDS):\n",
    "        # find the probability that the observation is this word\n",
    "        examples = _label_data[word]\n",
    "        num_examples = len(examples)\n",
    "        avg_dist = 0.0\n",
    "        \n",
    "        # iterate through examples and get average log probability\n",
    "        for example in examples:\n",
    "            avg_dist += get_example_dist(obs_vec, example)\n",
    "            \n",
    "        avg_dist /= num_examples\n",
    "        dists[word] = avg_dist\n",
    "    return dists"
   ]
  },
  {
   "cell_type": "markdown",
   "metadata": {},
   "source": [
    "## Predictions"
   ]
  },
  {
   "cell_type": "code",
   "execution_count": 124,
   "metadata": {
    "collapsed": false
   },
   "outputs": [
    {
     "name": "stdout",
     "output_type": "stream",
     "text": [
      "[13.591426311957827, 13.439150272035237, 15.409914786843604, 19.99527797810735, 12.739804626894834, 20.224360916076598, 15.16685856025695]\n"
     ]
    }
   ],
   "source": [
    "with open('competition_2/train.data', 'r') as test_data:\n",
    "    for i, line in enumerate(test_data):\n",
    "        if i < 700: continue\n",
    "        obs_vec = []\n",
    "        coeffs = line.split(',')\n",
    "        for k in xrange(0, len(coeffs), NUM_COEFFS):\n",
    "            obs_vec.append(np.array([float(num) for num in coeffs[k:k+13]]))\n",
    "        \n",
    "        print evaluate_observations(obs_vec)\n",
    "        break"
   ]
  },
  {
   "cell_type": "markdown",
   "metadata": {},
   "source": [
    "## SVM"
   ]
  },
  {
   "cell_type": "code",
   "execution_count": 16,
   "metadata": {
    "collapsed": false
   },
   "outputs": [
    {
     "name": "stdout",
     "output_type": "stream",
     "text": [
      "fitting...\n"
     ]
    },
    {
     "data": {
      "text/plain": [
       "GridSearchCV(cv=None,\n",
       "       estimator=SVC(C=1.0, cache_size=200, class_weight=None, coef0=0.0, degree=3, gamma=0.0,\n",
       "  kernel='rbf', max_iter=-1, probability=False, random_state=None,\n",
       "  shrinking=True, tol=0.001, verbose=False),\n",
       "       fit_params={}, iid=True, loss_func=None, n_jobs=1,\n",
       "       param_grid={'kernel': ('linear', 'rbf'), 'C': [1, 10]},\n",
       "       pre_dispatch='2*n_jobs', refit=True, score_func=None, scoring=None,\n",
       "       verbose=0)"
      ]
     },
     "execution_count": 16,
     "metadata": {},
     "output_type": "execute_result"
    }
   ],
   "source": [
    "parameters = {'kernel':('linear', 'rbf'), 'C':[1, 10]}\n",
    "svr = svm.SVC()\n",
    "clf = grid_search.GridSearchCV(svr, parameters)\n",
    "\n",
    "X = []\n",
    "Y = []\n",
    "for k, v in _data.iteritems():\n",
    "    X.append(np.array(v['data']).flatten())\n",
    "    Y.append(v['label'])\n",
    "    \n",
    "print 'fitting...'\n",
    "clf.fit(X, Y)"
   ]
  },
  {
   "cell_type": "code",
   "execution_count": 28,
   "metadata": {
    "collapsed": false
   },
   "outputs": [
    {
     "name": "stdout",
     "output_type": "stream",
     "text": [
      "1540\n"
     ]
    }
   ],
   "source": [
    "test_vectors = []\n",
    "with open('competition_2/test.data', 'r') as test_data:\n",
    "    for i, line in enumerate(test_data):\n",
    "#         obs_vec = []\n",
    "        coeffs = line.split(',')\n",
    "#         for k in xrange(0, len(coeffs), NUM_COEFFS):\n",
    "#             obs_vec.append(np.array([float(num) for num in coeffs[k:k+13]]))\n",
    "        \n",
    "        test_vectors.append([float(val) for val in coeffs])\n",
    "\n",
    "print len(test_vectors)\n",
    "predictions = clf.predict(test_vectors)"
   ]
  },
  {
   "cell_type": "code",
   "execution_count": 29,
   "metadata": {
    "collapsed": false
   },
   "outputs": [
    {
     "name": "stdout",
     "output_type": "stream",
     "text": [
      "0.975324675325\n",
      "{0: 220, 1: 219, 2: 217, 3: 220, 4: 220, 5: 220, 6: 224}\n"
     ]
    },
    {
     "data": {
      "image/png": "[encoded data removed]",
      "text/plain": [
       "<matplotlib.figure.Figure at 0x110722890>"
      ]
     },
     "metadata": {},
     "output_type": "display_data"
    }
   ],
   "source": [
    "correct = 0.0\n",
    "\n",
    "with open('97.csv', 'r') as good_preds_data:\n",
    "    for i, line in enumerate(good_preds_data):\n",
    "        if i == 0: continue\n",
    "        vals = line.split(',')\n",
    "        id = int(vals[0])\n",
    "        good_pred = int(vals[1])\n",
    "        \n",
    "        if predictions[id] == good_pred:\n",
    "            correct += 1\n",
    "\n",
    "# for i, pred in enumerate(predictions):\n",
    "#     if _data[i]['label'] == pred:\n",
    "#         correct += 1\n",
    "\n",
    "print correct / len(predictions)\n",
    "\n",
    "plt.hist(predictions, bins = 7)\n",
    "\n",
    "counts = {}\n",
    "for pred in predictions:\n",
    "    if pred not in counts:\n",
    "        counts[pred] = 0\n",
    "    counts[pred] += 1\n",
    "\n",
    "print counts"
   ]
  },
  {
   "cell_type": "code",
   "execution_count": 20,
   "metadata": {
    "collapsed": true
   },
   "outputs": [],
   "source": [
    "# output file\n",
    "with open('svm_preds.txt', 'w') as svm_preds_file:\n",
    "    svm_preds_file.write('Id,Prediction\\n')\n",
    "    for i, pred in enumerate(predictions):\n",
    "        svm_preds_file.write(str(i) + ',' + str(pred)+'\\n')"
   ]
  },
  {
   "cell_type": "markdown",
   "metadata": {},
   "source": [
    "## Linear SVC Classifier"
   ]
  },
  {
   "cell_type": "code",
   "execution_count": 36,
   "metadata": {
    "collapsed": false
   },
   "outputs": [
    {
     "name": "stdout",
     "output_type": "stream",
     "text": [
      "fitting...\n",
      "done\n"
     ]
    }
   ],
   "source": [
    "parameters = {'C':[1, 10]}\n",
    "lin_svc = svm.LinearSVC(penalty='l1', dual=False)\n",
    "lin_clf = grid_search.GridSearchCV(lin_svc, parameters)\n",
    "\n",
    "print 'fitting...'\n",
    "lin_clf.fit(X, Y)\n",
    "print 'done'"
   ]
  },
  {
   "cell_type": "code",
   "execution_count": 37,
   "metadata": {
    "collapsed": false
   },
   "outputs": [
    {
     "data": {
      "text/plain": [
       "(array([219, 224, 213, 211, 221, 220, 232]),\n",
       " array([ 0.        ,  0.85714286,  1.71428571,  2.57142857,  3.42857143,\n",
       "         4.28571429,  5.14285714,  6.        ]),\n",
       " <a list of 7 Patch objects>)"
      ]
     },
     "execution_count": 37,
     "metadata": {},
     "output_type": "execute_result"
    },
    {
     "data": {
      "image/png": "[encoded data removed]",
      "text/plain": [
       "<matplotlib.figure.Figure at 0x112a0a9d0>"
      ]
     },
     "metadata": {},
     "output_type": "display_data"
    }
   ],
   "source": [
    "# predict\n",
    "predictions_lin = lin_clf.predict(test_vectors)\n",
    "\n",
    "# plot\n",
    "plt.hist(predictions_lin, bins=7)"
   ]
  },
  {
   "cell_type": "markdown",
   "metadata": {},
   "source": [
    "##HMM Classifier"
   ]
  },
  {
   "cell_type": "code",
   "execution_count": 92,
   "metadata": {
    "collapsed": false
   },
   "outputs": [
    {
     "name": "stderr",
     "output_type": "stream",
     "text": [
      "/Library/Python/2.7/site-packages/sklearn/utils/__init__.py:75: DeprecationWarning: Class _BaseHMM is deprecated; WARNING: The HMM module and its function will be removed in 0.17as it no longer falls within the project's scope and API. It has been moved to a separate repository: https://github.com/hmmlearn/hmmlearn\n",
      "  warnings.warn(msg, category=DeprecationWarning)\n",
      "/Library/Python/2.7/site-packages/sklearn/utils/__init__.py:93: DeprecationWarning: Function normalize is deprecated; WARNING: The HMM module and its functions will be removed in 0.17 as it no longer falls within the project's scope and API. It has been moved to a separate repository: https://github.com/hmmlearn/hmmlearn\n",
      "  warnings.warn(msg, category=DeprecationWarning)\n",
      "/Library/Python/2.7/site-packages/sklearn/utils/__init__.py:93: DeprecationWarning: Function normalize is deprecated; WARNING: The HMM module and its functions will be removed in 0.17 as it no longer falls within the project's scope and API. It has been moved to a separate repository: https://github.com/hmmlearn/hmmlearn\n",
      "  warnings.warn(msg, category=DeprecationWarning)\n",
      "/Library/Python/2.7/site-packages/sklearn/utils/__init__.py:93: DeprecationWarning: Function normalize is deprecated; WARNING: The HMM module and its functions will be removed in 0.17 as it no longer falls within the project's scope and API. It has been moved to a separate repository: https://github.com/hmmlearn/hmmlearn\n",
      "  warnings.warn(msg, category=DeprecationWarning)\n",
      "/Library/Python/2.7/site-packages/sklearn/utils/__init__.py:93: DeprecationWarning: Function normalize is deprecated; WARNING: The HMM module and its functions will be removed in 0.17 as it no longer falls within the project's scope and API. It has been moved to a separate repository: https://github.com/hmmlearn/hmmlearn\n",
      "  warnings.warn(msg, category=DeprecationWarning)\n",
      "/Library/Python/2.7/site-packages/sklearn/utils/__init__.py:93: DeprecationWarning: Function normalize is deprecated; WARNING: The HMM module and its functions will be removed in 0.17 as it no longer falls within the project's scope and API. It has been moved to a separate repository: https://github.com/hmmlearn/hmmlearn\n",
      "  warnings.warn(msg, category=DeprecationWarning)\n",
      "/Library/Python/2.7/site-packages/sklearn/utils/__init__.py:93: DeprecationWarning: Function normalize is deprecated; WARNING: The HMM module and its functions will be removed in 0.17 as it no longer falls within the project's scope and API. It has been moved to a separate repository: https://github.com/hmmlearn/hmmlearn\n",
      "  warnings.warn(msg, category=DeprecationWarning)\n",
      "/Library/Python/2.7/site-packages/sklearn/utils/__init__.py:93: DeprecationWarning: Function normalize is deprecated; WARNING: The HMM module and its functions will be removed in 0.17 as it no longer falls within the project's scope and API. It has been moved to a separate repository: https://github.com/hmmlearn/hmmlearn\n",
      "  warnings.warn(msg, category=DeprecationWarning)\n",
      "/Library/Python/2.7/site-packages/sklearn/utils/__init__.py:93: DeprecationWarning: Function normalize is deprecated; WARNING: The HMM module and its functions will be removed in 0.17 as it no longer falls within the project's scope and API. It has been moved to a separate repository: https://github.com/hmmlearn/hmmlearn\n",
      "  warnings.warn(msg, category=DeprecationWarning)\n",
      "/Library/Python/2.7/site-packages/sklearn/utils/__init__.py:93: DeprecationWarning: Function normalize is deprecated; WARNING: The HMM module and its functions will be removed in 0.17 as it no longer falls within the project's scope and API. It has been moved to a separate repository: https://github.com/hmmlearn/hmmlearn\n",
      "  warnings.warn(msg, category=DeprecationWarning)\n",
      "/Library/Python/2.7/site-packages/sklearn/utils/__init__.py:93: DeprecationWarning: Function normalize is deprecated; WARNING: The HMM module and its functions will be removed in 0.17 as it no longer falls within the project's scope and API. It has been moved to a separate repository: https://github.com/hmmlearn/hmmlearn\n",
      "  warnings.warn(msg, category=DeprecationWarning)\n",
      "/Library/Python/2.7/site-packages/sklearn/utils/__init__.py:93: DeprecationWarning: Function normalize is deprecated; WARNING: The HMM module and its functions will be removed in 0.17 as it no longer falls within the project's scope and API. It has been moved to a separate repository: https://github.com/hmmlearn/hmmlearn\n",
      "  warnings.warn(msg, category=DeprecationWarning)\n",
      "/Library/Python/2.7/site-packages/sklearn/utils/__init__.py:93: DeprecationWarning: Function normalize is deprecated; WARNING: The HMM module and its functions will be removed in 0.17 as it no longer falls within the project's scope and API. It has been moved to a separate repository: https://github.com/hmmlearn/hmmlearn\n",
      "  warnings.warn(msg, category=DeprecationWarning)\n",
      "/Library/Python/2.7/site-packages/sklearn/utils/__init__.py:93: DeprecationWarning: Function normalize is deprecated; WARNING: The HMM module and its functions will be removed in 0.17 as it no longer falls within the project's scope and API. It has been moved to a separate repository: https://github.com/hmmlearn/hmmlearn\n",
      "  warnings.warn(msg, category=DeprecationWarning)\n",
      "/Library/Python/2.7/site-packages/sklearn/utils/__init__.py:93: DeprecationWarning: Function normalize is deprecated; WARNING: The HMM module and its functions will be removed in 0.17 as it no longer falls within the project's scope and API. It has been moved to a separate repository: https://github.com/hmmlearn/hmmlearn\n",
      "  warnings.warn(msg, category=DeprecationWarning)\n",
      "/Library/Python/2.7/site-packages/sklearn/utils/__init__.py:93: DeprecationWarning: Function normalize is deprecated; WARNING: The HMM module and its functions will be removed in 0.17 as it no longer falls within the project's scope and API. It has been moved to a separate repository: https://github.com/hmmlearn/hmmlearn\n",
      "  warnings.warn(msg, category=DeprecationWarning)\n",
      "/Library/Python/2.7/site-packages/sklearn/utils/__init__.py:93: DeprecationWarning: Function normalize is deprecated; WARNING: The HMM module and its functions will be removed in 0.17 as it no longer falls within the project's scope and API. It has been moved to a separate repository: https://github.com/hmmlearn/hmmlearn\n",
      "  warnings.warn(msg, category=DeprecationWarning)\n",
      "/Library/Python/2.7/site-packages/sklearn/utils/__init__.py:93: DeprecationWarning: Function normalize is deprecated; WARNING: The HMM module and its functions will be removed in 0.17 as it no longer falls within the project's scope and API. It has been moved to a separate repository: https://github.com/hmmlearn/hmmlearn\n",
      "  warnings.warn(msg, category=DeprecationWarning)\n",
      "/Library/Python/2.7/site-packages/sklearn/utils/__init__.py:93: DeprecationWarning: Function normalize is deprecated; WARNING: The HMM module and its functions will be removed in 0.17 as it no longer falls within the project's scope and API. It has been moved to a separate repository: https://github.com/hmmlearn/hmmlearn\n",
      "  warnings.warn(msg, category=DeprecationWarning)\n",
      "/Library/Python/2.7/site-packages/sklearn/utils/__init__.py:93: DeprecationWarning: Function normalize is deprecated; WARNING: The HMM module and its functions will be removed in 0.17 as it no longer falls within the project's scope and API. It has been moved to a separate repository: https://github.com/hmmlearn/hmmlearn\n",
      "  warnings.warn(msg, category=DeprecationWarning)\n",
      "/Library/Python/2.7/site-packages/sklearn/utils/__init__.py:93: DeprecationWarning: Function normalize is deprecated; WARNING: The HMM module and its functions will be removed in 0.17 as it no longer falls within the project's scope and API. It has been moved to a separate repository: https://github.com/hmmlearn/hmmlearn\n",
      "  warnings.warn(msg, category=DeprecationWarning)\n",
      "/Library/Python/2.7/site-packages/sklearn/utils/__init__.py:75: DeprecationWarning: Class _BaseHMM is deprecated; WARNING: The HMM module and its function will be removed in 0.17as it no longer falls within the project's scope and API. It has been moved to a separate repository: https://github.com/hmmlearn/hmmlearn\n",
      "  warnings.warn(msg, category=DeprecationWarning)\n",
      "/Library/Python/2.7/site-packages/sklearn/utils/__init__.py:93: DeprecationWarning: Function normalize is deprecated; WARNING: The HMM module and its functions will be removed in 0.17 as it no longer falls within the project's scope and API. It has been moved to a separate repository: https://github.com/hmmlearn/hmmlearn\n",
      "  warnings.warn(msg, category=DeprecationWarning)\n",
      "/Library/Python/2.7/site-packages/sklearn/utils/__init__.py:93: DeprecationWarning: Function normalize is deprecated; WARNING: The HMM module and its functions will be removed in 0.17 as it no longer falls within the project's scope and API. It has been moved to a separate repository: https://github.com/hmmlearn/hmmlearn\n",
      "  warnings.warn(msg, category=DeprecationWarning)\n",
      "/Library/Python/2.7/site-packages/sklearn/utils/__init__.py:93: DeprecationWarning: Function normalize is deprecated; WARNING: The HMM module and its functions will be removed in 0.17 as it no longer falls within the project's scope and API. It has been moved to a separate repository: https://github.com/hmmlearn/hmmlearn\n",
      "  warnings.warn(msg, category=DeprecationWarning)\n",
      "/Library/Python/2.7/site-packages/sklearn/utils/__init__.py:93: DeprecationWarning: Function normalize is deprecated; WARNING: The HMM module and its functions will be removed in 0.17 as it no longer falls within the project's scope and API. It has been moved to a separate repository: https://github.com/hmmlearn/hmmlearn\n",
      "  warnings.warn(msg, category=DeprecationWarning)\n",
      "/Library/Python/2.7/site-packages/sklearn/utils/__init__.py:93: DeprecationWarning: Function normalize is deprecated; WARNING: The HMM module and its functions will be removed in 0.17 as it no longer falls within the project's scope and API. It has been moved to a separate repository: https://github.com/hmmlearn/hmmlearn\n",
      "  warnings.warn(msg, category=DeprecationWarning)\n",
      "/Library/Python/2.7/site-packages/sklearn/utils/__init__.py:93: DeprecationWarning: Function normalize is deprecated; WARNING: The HMM module and its functions will be removed in 0.17 as it no longer falls within the project's scope and API. It has been moved to a separate repository: https://github.com/hmmlearn/hmmlearn\n",
      "  warnings.warn(msg, category=DeprecationWarning)\n",
      "/Library/Python/2.7/site-packages/sklearn/utils/__init__.py:93: DeprecationWarning: Function normalize is deprecated; WARNING: The HMM module and its functions will be removed in 0.17 as it no longer falls within the project's scope and API. It has been moved to a separate repository: https://github.com/hmmlearn/hmmlearn\n",
      "  warnings.warn(msg, category=DeprecationWarning)\n",
      "/Library/Python/2.7/site-packages/sklearn/utils/__init__.py:93: DeprecationWarning: Function normalize is deprecated; WARNING: The HMM module and its functions will be removed in 0.17 as it no longer falls within the project's scope and API. It has been moved to a separate repository: https://github.com/hmmlearn/hmmlearn\n",
      "  warnings.warn(msg, category=DeprecationWarning)\n",
      "/Library/Python/2.7/site-packages/sklearn/utils/__init__.py:93: DeprecationWarning: Function normalize is deprecated; WARNING: The HMM module and its functions will be removed in 0.17 as it no longer falls within the project's scope and API. It has been moved to a separate repository: https://github.com/hmmlearn/hmmlearn\n",
      "  warnings.warn(msg, category=DeprecationWarning)\n",
      "/Library/Python/2.7/site-packages/sklearn/utils/__init__.py:93: DeprecationWarning: Function normalize is deprecated; WARNING: The HMM module and its functions will be removed in 0.17 as it no longer falls within the project's scope and API. It has been moved to a separate repository: https://github.com/hmmlearn/hmmlearn\n",
      "  warnings.warn(msg, category=DeprecationWarning)\n",
      "/Library/Python/2.7/site-packages/sklearn/utils/__init__.py:93: DeprecationWarning: Function normalize is deprecated; WARNING: The HMM module and its functions will be removed in 0.17 as it no longer falls within the project's scope and API. It has been moved to a separate repository: https://github.com/hmmlearn/hmmlearn\n",
      "  warnings.warn(msg, category=DeprecationWarning)\n",
      "/Library/Python/2.7/site-packages/sklearn/utils/__init__.py:93: DeprecationWarning: Function normalize is deprecated; WARNING: The HMM module and its functions will be removed in 0.17 as it no longer falls within the project's scope and API. It has been moved to a separate repository: https://github.com/hmmlearn/hmmlearn\n",
      "  warnings.warn(msg, category=DeprecationWarning)\n",
      "/Library/Python/2.7/site-packages/sklearn/utils/__init__.py:93: DeprecationWarning: Function normalize is deprecated; WARNING: The HMM module and its functions will be removed in 0.17 as it no longer falls within the project's scope and API. It has been moved to a separate repository: https://github.com/hmmlearn/hmmlearn\n",
      "  warnings.warn(msg, category=DeprecationWarning)\n",
      "/Library/Python/2.7/site-packages/sklearn/utils/__init__.py:93: DeprecationWarning: Function normalize is deprecated; WARNING: The HMM module and its functions will be removed in 0.17 as it no longer falls within the project's scope and API. It has been moved to a separate repository: https://github.com/hmmlearn/hmmlearn\n",
      "  warnings.warn(msg, category=DeprecationWarning)\n",
      "/Library/Python/2.7/site-packages/sklearn/utils/__init__.py:93: DeprecationWarning: Function normalize is deprecated; WARNING: The HMM module and its functions will be removed in 0.17 as it no longer falls within the project's scope and API. It has been moved to a separate repository: https://github.com/hmmlearn/hmmlearn\n",
      "  warnings.warn(msg, category=DeprecationWarning)\n",
      "/Library/Python/2.7/site-packages/sklearn/utils/__init__.py:93: DeprecationWarning: Function normalize is deprecated; WARNING: The HMM module and its functions will be removed in 0.17 as it no longer falls within the project's scope and API. It has been moved to a separate repository: https://github.com/hmmlearn/hmmlearn\n",
      "  warnings.warn(msg, category=DeprecationWarning)\n",
      "/Library/Python/2.7/site-packages/sklearn/utils/__init__.py:93: DeprecationWarning: Function normalize is deprecated; WARNING: The HMM module and its functions will be removed in 0.17 as it no longer falls within the project's scope and API. It has been moved to a separate repository: https://github.com/hmmlearn/hmmlearn\n",
      "  warnings.warn(msg, category=DeprecationWarning)\n",
      "/Library/Python/2.7/site-packages/sklearn/utils/__init__.py:93: DeprecationWarning: Function normalize is deprecated; WARNING: The HMM module and its functions will be removed in 0.17 as it no longer falls within the project's scope and API. It has been moved to a separate repository: https://github.com/hmmlearn/hmmlearn\n",
      "  warnings.warn(msg, category=DeprecationWarning)\n",
      "/Library/Python/2.7/site-packages/sklearn/utils/__init__.py:93: DeprecationWarning: Function normalize is deprecated; WARNING: The HMM module and its functions will be removed in 0.17 as it no longer falls within the project's scope and API. It has been moved to a separate repository: https://github.com/hmmlearn/hmmlearn\n",
      "  warnings.warn(msg, category=DeprecationWarning)\n",
      "/Library/Python/2.7/site-packages/sklearn/utils/__init__.py:93: DeprecationWarning: Function normalize is deprecated; WARNING: The HMM module and its functions will be removed in 0.17 as it no longer falls within the project's scope and API. It has been moved to a separate repository: https://github.com/hmmlearn/hmmlearn\n",
      "  warnings.warn(msg, category=DeprecationWarning)\n",
      "/Library/Python/2.7/site-packages/sklearn/utils/__init__.py:75: DeprecationWarning: Class _BaseHMM is deprecated; WARNING: The HMM module and its function will be removed in 0.17as it no longer falls within the project's scope and API. It has been moved to a separate repository: https://github.com/hmmlearn/hmmlearn\n",
      "  warnings.warn(msg, category=DeprecationWarning)\n",
      "/Library/Python/2.7/site-packages/sklearn/utils/__init__.py:93: DeprecationWarning: Function normalize is deprecated; WARNING: The HMM module and its functions will be removed in 0.17 as it no longer falls within the project's scope and API. It has been moved to a separate repository: https://github.com/hmmlearn/hmmlearn\n",
      "  warnings.warn(msg, category=DeprecationWarning)\n",
      "/Library/Python/2.7/site-packages/sklearn/utils/__init__.py:93: DeprecationWarning: Function normalize is deprecated; WARNING: The HMM module and its functions will be removed in 0.17 as it no longer falls within the project's scope and API. It has been moved to a separate repository: https://github.com/hmmlearn/hmmlearn\n",
      "  warnings.warn(msg, category=DeprecationWarning)\n",
      "/Library/Python/2.7/site-packages/sklearn/utils/__init__.py:93: DeprecationWarning: Function normalize is deprecated; WARNING: The HMM module and its functions will be removed in 0.17 as it no longer falls within the project's scope and API. It has been moved to a separate repository: https://github.com/hmmlearn/hmmlearn\n",
      "  warnings.warn(msg, category=DeprecationWarning)\n",
      "/Library/Python/2.7/site-packages/sklearn/utils/__init__.py:93: DeprecationWarning: Function normalize is deprecated; WARNING: The HMM module and its functions will be removed in 0.17 as it no longer falls within the project's scope and API. It has been moved to a separate repository: https://github.com/hmmlearn/hmmlearn\n",
      "  warnings.warn(msg, category=DeprecationWarning)\n",
      "/Library/Python/2.7/site-packages/sklearn/utils/__init__.py:93: DeprecationWarning: Function normalize is deprecated; WARNING: The HMM module and its functions will be removed in 0.17 as it no longer falls within the project's scope and API. It has been moved to a separate repository: https://github.com/hmmlearn/hmmlearn\n",
      "  warnings.warn(msg, category=DeprecationWarning)\n",
      "/Library/Python/2.7/site-packages/sklearn/utils/__init__.py:93: DeprecationWarning: Function normalize is deprecated; WARNING: The HMM module and its functions will be removed in 0.17 as it no longer falls within the project's scope and API. It has been moved to a separate repository: https://github.com/hmmlearn/hmmlearn\n",
      "  warnings.warn(msg, category=DeprecationWarning)\n",
      "/Library/Python/2.7/site-packages/sklearn/utils/__init__.py:93: DeprecationWarning: Function normalize is deprecated; WARNING: The HMM module and its functions will be removed in 0.17 as it no longer falls within the project's scope and API. It has been moved to a separate repository: https://github.com/hmmlearn/hmmlearn\n",
      "  warnings.warn(msg, category=DeprecationWarning)\n",
      "/Library/Python/2.7/site-packages/sklearn/utils/__init__.py:93: DeprecationWarning: Function normalize is deprecated; WARNING: The HMM module and its functions will be removed in 0.17 as it no longer falls within the project's scope and API. It has been moved to a separate repository: https://github.com/hmmlearn/hmmlearn\n",
      "  warnings.warn(msg, category=DeprecationWarning)\n",
      "/Library/Python/2.7/site-packages/sklearn/utils/__init__.py:93: DeprecationWarning: Function normalize is deprecated; WARNING: The HMM module and its functions will be removed in 0.17 as it no longer falls within the project's scope and API. It has been moved to a separate repository: https://github.com/hmmlearn/hmmlearn\n",
      "  warnings.warn(msg, category=DeprecationWarning)\n",
      "/Library/Python/2.7/site-packages/sklearn/utils/__init__.py:93: DeprecationWarning: Function normalize is deprecated; WARNING: The HMM module and its functions will be removed in 0.17 as it no longer falls within the project's scope and API. It has been moved to a separate repository: https://github.com/hmmlearn/hmmlearn\n",
      "  warnings.warn(msg, category=DeprecationWarning)\n",
      "/Library/Python/2.7/site-packages/sklearn/utils/__init__.py:93: DeprecationWarning: Function normalize is deprecated; WARNING: The HMM module and its functions will be removed in 0.17 as it no longer falls within the project's scope and API. It has been moved to a separate repository: https://github.com/hmmlearn/hmmlearn\n",
      "  warnings.warn(msg, category=DeprecationWarning)\n",
      "/Library/Python/2.7/site-packages/sklearn/utils/__init__.py:93: DeprecationWarning: Function normalize is deprecated; WARNING: The HMM module and its functions will be removed in 0.17 as it no longer falls within the project's scope and API. It has been moved to a separate repository: https://github.com/hmmlearn/hmmlearn\n",
      "  warnings.warn(msg, category=DeprecationWarning)\n",
      "/Library/Python/2.7/site-packages/sklearn/utils/__init__.py:93: DeprecationWarning: Function normalize is deprecated; WARNING: The HMM module and its functions will be removed in 0.17 as it no longer falls within the project's scope and API. It has been moved to a separate repository: https://github.com/hmmlearn/hmmlearn\n",
      "  warnings.warn(msg, category=DeprecationWarning)\n",
      "/Library/Python/2.7/site-packages/sklearn/utils/__init__.py:93: DeprecationWarning: Function normalize is deprecated; WARNING: The HMM module and its functions will be removed in 0.17 as it no longer falls within the project's scope and API. It has been moved to a separate repository: https://github.com/hmmlearn/hmmlearn\n",
      "  warnings.warn(msg, category=DeprecationWarning)\n",
      "/Library/Python/2.7/site-packages/sklearn/utils/__init__.py:93: DeprecationWarning: Function normalize is deprecated; WARNING: The HMM module and its functions will be removed in 0.17 as it no longer falls within the project's scope and API. It has been moved to a separate repository: https://github.com/hmmlearn/hmmlearn\n",
      "  warnings.warn(msg, category=DeprecationWarning)\n",
      "/Library/Python/2.7/site-packages/sklearn/utils/__init__.py:93: DeprecationWarning: Function normalize is deprecated; WARNING: The HMM module and its functions will be removed in 0.17 as it no longer falls within the project's scope and API. It has been moved to a separate repository: https://github.com/hmmlearn/hmmlearn\n",
      "  warnings.warn(msg, category=DeprecationWarning)\n",
      "/Library/Python/2.7/site-packages/sklearn/utils/__init__.py:93: DeprecationWarning: Function normalize is deprecated; WARNING: The HMM module and its functions will be removed in 0.17 as it no longer falls within the project's scope and API. It has been moved to a separate repository: https://github.com/hmmlearn/hmmlearn\n",
      "  warnings.warn(msg, category=DeprecationWarning)\n",
      "/Library/Python/2.7/site-packages/sklearn/utils/__init__.py:93: DeprecationWarning: Function normalize is deprecated; WARNING: The HMM module and its functions will be removed in 0.17 as it no longer falls within the project's scope and API. It has been moved to a separate repository: https://github.com/hmmlearn/hmmlearn\n",
      "  warnings.warn(msg, category=DeprecationWarning)\n",
      "/Library/Python/2.7/site-packages/sklearn/utils/__init__.py:93: DeprecationWarning: Function normalize is deprecated; WARNING: The HMM module and its functions will be removed in 0.17 as it no longer falls within the project's scope and API. It has been moved to a separate repository: https://github.com/hmmlearn/hmmlearn\n",
      "  warnings.warn(msg, category=DeprecationWarning)\n",
      "/Library/Python/2.7/site-packages/sklearn/utils/__init__.py:93: DeprecationWarning: Function normalize is deprecated; WARNING: The HMM module and its functions will be removed in 0.17 as it no longer falls within the project's scope and API. It has been moved to a separate repository: https://github.com/hmmlearn/hmmlearn\n",
      "  warnings.warn(msg, category=DeprecationWarning)\n",
      "/Library/Python/2.7/site-packages/sklearn/utils/__init__.py:75: DeprecationWarning: Class _BaseHMM is deprecated; WARNING: The HMM module and its function will be removed in 0.17as it no longer falls within the project's scope and API. It has been moved to a separate repository: https://github.com/hmmlearn/hmmlearn\n",
      "  warnings.warn(msg, category=DeprecationWarning)\n",
      "/Library/Python/2.7/site-packages/sklearn/utils/__init__.py:93: DeprecationWarning: Function normalize is deprecated; WARNING: The HMM module and its functions will be removed in 0.17 as it no longer falls within the project's scope and API. It has been moved to a separate repository: https://github.com/hmmlearn/hmmlearn\n",
      "  warnings.warn(msg, category=DeprecationWarning)\n",
      "/Library/Python/2.7/site-packages/sklearn/utils/__init__.py:93: DeprecationWarning: Function normalize is deprecated; WARNING: The HMM module and its functions will be removed in 0.17 as it no longer falls within the project's scope and API. It has been moved to a separate repository: https://github.com/hmmlearn/hmmlearn\n",
      "  warnings.warn(msg, category=DeprecationWarning)\n",
      "/Library/Python/2.7/site-packages/sklearn/utils/__init__.py:93: DeprecationWarning: Function normalize is deprecated; WARNING: The HMM module and its functions will be removed in 0.17 as it no longer falls within the project's scope and API. It has been moved to a separate repository: https://github.com/hmmlearn/hmmlearn\n",
      "  warnings.warn(msg, category=DeprecationWarning)\n",
      "/Library/Python/2.7/site-packages/sklearn/utils/__init__.py:93: DeprecationWarning: Function normalize is deprecated; WARNING: The HMM module and its functions will be removed in 0.17 as it no longer falls within the project's scope and API. It has been moved to a separate repository: https://github.com/hmmlearn/hmmlearn\n",
      "  warnings.warn(msg, category=DeprecationWarning)\n",
      "/Library/Python/2.7/site-packages/sklearn/utils/__init__.py:93: DeprecationWarning: Function normalize is deprecated; WARNING: The HMM module and its functions will be removed in 0.17 as it no longer falls within the project's scope and API. It has been moved to a separate repository: https://github.com/hmmlearn/hmmlearn\n",
      "  warnings.warn(msg, category=DeprecationWarning)\n",
      "/Library/Python/2.7/site-packages/sklearn/utils/__init__.py:93: DeprecationWarning: Function normalize is deprecated; WARNING: The HMM module and its functions will be removed in 0.17 as it no longer falls within the project's scope and API. It has been moved to a separate repository: https://github.com/hmmlearn/hmmlearn\n",
      "  warnings.warn(msg, category=DeprecationWarning)\n",
      "/Library/Python/2.7/site-packages/sklearn/utils/__init__.py:93: DeprecationWarning: Function normalize is deprecated; WARNING: The HMM module and its functions will be removed in 0.17 as it no longer falls within the project's scope and API. It has been moved to a separate repository: https://github.com/hmmlearn/hmmlearn\n",
      "  warnings.warn(msg, category=DeprecationWarning)\n",
      "/Library/Python/2.7/site-packages/sklearn/utils/__init__.py:93: DeprecationWarning: Function normalize is deprecated; WARNING: The HMM module and its functions will be removed in 0.17 as it no longer falls within the project's scope and API. It has been moved to a separate repository: https://github.com/hmmlearn/hmmlearn\n",
      "  warnings.warn(msg, category=DeprecationWarning)\n",
      "/Library/Python/2.7/site-packages/sklearn/utils/__init__.py:93: DeprecationWarning: Function normalize is deprecated; WARNING: The HMM module and its functions will be removed in 0.17 as it no longer falls within the project's scope and API. It has been moved to a separate repository: https://github.com/hmmlearn/hmmlearn\n",
      "  warnings.warn(msg, category=DeprecationWarning)\n",
      "/Library/Python/2.7/site-packages/sklearn/utils/__init__.py:93: DeprecationWarning: Function normalize is deprecated; WARNING: The HMM module and its functions will be removed in 0.17 as it no longer falls within the project's scope and API. It has been moved to a separate repository: https://github.com/hmmlearn/hmmlearn\n",
      "  warnings.warn(msg, category=DeprecationWarning)\n",
      "/Library/Python/2.7/site-packages/sklearn/utils/__init__.py:93: DeprecationWarning: Function normalize is deprecated; WARNING: The HMM module and its functions will be removed in 0.17 as it no longer falls within the project's scope and API. It has been moved to a separate repository: https://github.com/hmmlearn/hmmlearn\n",
      "  warnings.warn(msg, category=DeprecationWarning)\n",
      "/Library/Python/2.7/site-packages/sklearn/utils/__init__.py:93: DeprecationWarning: Function normalize is deprecated; WARNING: The HMM module and its functions will be removed in 0.17 as it no longer falls within the project's scope and API. It has been moved to a separate repository: https://github.com/hmmlearn/hmmlearn\n",
      "  warnings.warn(msg, category=DeprecationWarning)\n",
      "/Library/Python/2.7/site-packages/sklearn/utils/__init__.py:93: DeprecationWarning: Function normalize is deprecated; WARNING: The HMM module and its functions will be removed in 0.17 as it no longer falls within the project's scope and API. It has been moved to a separate repository: https://github.com/hmmlearn/hmmlearn\n",
      "  warnings.warn(msg, category=DeprecationWarning)\n",
      "/Library/Python/2.7/site-packages/sklearn/utils/__init__.py:93: DeprecationWarning: Function normalize is deprecated; WARNING: The HMM module and its functions will be removed in 0.17 as it no longer falls within the project's scope and API. It has been moved to a separate repository: https://github.com/hmmlearn/hmmlearn\n",
      "  warnings.warn(msg, category=DeprecationWarning)\n",
      "/Library/Python/2.7/site-packages/sklearn/utils/__init__.py:93: DeprecationWarning: Function normalize is deprecated; WARNING: The HMM module and its functions will be removed in 0.17 as it no longer falls within the project's scope and API. It has been moved to a separate repository: https://github.com/hmmlearn/hmmlearn\n",
      "  warnings.warn(msg, category=DeprecationWarning)\n",
      "/Library/Python/2.7/site-packages/sklearn/utils/__init__.py:93: DeprecationWarning: Function normalize is deprecated; WARNING: The HMM module and its functions will be removed in 0.17 as it no longer falls within the project's scope and API. It has been moved to a separate repository: https://github.com/hmmlearn/hmmlearn\n",
      "  warnings.warn(msg, category=DeprecationWarning)\n",
      "/Library/Python/2.7/site-packages/sklearn/utils/__init__.py:93: DeprecationWarning: Function normalize is deprecated; WARNING: The HMM module and its functions will be removed in 0.17 as it no longer falls within the project's scope and API. It has been moved to a separate repository: https://github.com/hmmlearn/hmmlearn\n",
      "  warnings.warn(msg, category=DeprecationWarning)\n",
      "/Library/Python/2.7/site-packages/sklearn/utils/__init__.py:93: DeprecationWarning: Function normalize is deprecated; WARNING: The HMM module and its functions will be removed in 0.17 as it no longer falls within the project's scope and API. It has been moved to a separate repository: https://github.com/hmmlearn/hmmlearn\n",
      "  warnings.warn(msg, category=DeprecationWarning)\n",
      "/Library/Python/2.7/site-packages/sklearn/utils/__init__.py:93: DeprecationWarning: Function normalize is deprecated; WARNING: The HMM module and its functions will be removed in 0.17 as it no longer falls within the project's scope and API. It has been moved to a separate repository: https://github.com/hmmlearn/hmmlearn\n",
      "  warnings.warn(msg, category=DeprecationWarning)\n",
      "/Library/Python/2.7/site-packages/sklearn/utils/__init__.py:93: DeprecationWarning: Function normalize is deprecated; WARNING: The HMM module and its functions will be removed in 0.17 as it no longer falls within the project's scope and API. It has been moved to a separate repository: https://github.com/hmmlearn/hmmlearn\n",
      "  warnings.warn(msg, category=DeprecationWarning)\n",
      "/Library/Python/2.7/site-packages/sklearn/utils/__init__.py:75: DeprecationWarning: Class _BaseHMM is deprecated; WARNING: The HMM module and its function will be removed in 0.17as it no longer falls within the project's scope and API. It has been moved to a separate repository: https://github.com/hmmlearn/hmmlearn\n",
      "  warnings.warn(msg, category=DeprecationWarning)\n",
      "/Library/Python/2.7/site-packages/sklearn/utils/__init__.py:93: DeprecationWarning: Function normalize is deprecated; WARNING: The HMM module and its functions will be removed in 0.17 as it no longer falls within the project's scope and API. It has been moved to a separate repository: https://github.com/hmmlearn/hmmlearn\n",
      "  warnings.warn(msg, category=DeprecationWarning)\n",
      "/Library/Python/2.7/site-packages/sklearn/utils/__init__.py:93: DeprecationWarning: Function normalize is deprecated; WARNING: The HMM module and its functions will be removed in 0.17 as it no longer falls within the project's scope and API. It has been moved to a separate repository: https://github.com/hmmlearn/hmmlearn\n",
      "  warnings.warn(msg, category=DeprecationWarning)\n",
      "/Library/Python/2.7/site-packages/sklearn/utils/__init__.py:93: DeprecationWarning: Function normalize is deprecated; WARNING: The HMM module and its functions will be removed in 0.17 as it no longer falls within the project's scope and API. It has been moved to a separate repository: https://github.com/hmmlearn/hmmlearn\n",
      "  warnings.warn(msg, category=DeprecationWarning)\n",
      "/Library/Python/2.7/site-packages/sklearn/utils/__init__.py:93: DeprecationWarning: Function normalize is deprecated; WARNING: The HMM module and its functions will be removed in 0.17 as it no longer falls within the project's scope and API. It has been moved to a separate repository: https://github.com/hmmlearn/hmmlearn\n",
      "  warnings.warn(msg, category=DeprecationWarning)\n",
      "/Library/Python/2.7/site-packages/sklearn/utils/__init__.py:93: DeprecationWarning: Function normalize is deprecated; WARNING: The HMM module and its functions will be removed in 0.17 as it no longer falls within the project's scope and API. It has been moved to a separate repository: https://github.com/hmmlearn/hmmlearn\n",
      "  warnings.warn(msg, category=DeprecationWarning)\n",
      "/Library/Python/2.7/site-packages/sklearn/utils/__init__.py:93: DeprecationWarning: Function normalize is deprecated; WARNING: The HMM module and its functions will be removed in 0.17 as it no longer falls within the project's scope and API. It has been moved to a separate repository: https://github.com/hmmlearn/hmmlearn\n",
      "  warnings.warn(msg, category=DeprecationWarning)\n",
      "/Library/Python/2.7/site-packages/sklearn/utils/__init__.py:93: DeprecationWarning: Function normalize is deprecated; WARNING: The HMM module and its functions will be removed in 0.17 as it no longer falls within the project's scope and API. It has been moved to a separate repository: https://github.com/hmmlearn/hmmlearn\n",
      "  warnings.warn(msg, category=DeprecationWarning)\n",
      "/Library/Python/2.7/site-packages/sklearn/utils/__init__.py:93: DeprecationWarning: Function normalize is deprecated; WARNING: The HMM module and its functions will be removed in 0.17 as it no longer falls within the project's scope and API. It has been moved to a separate repository: https://github.com/hmmlearn/hmmlearn\n",
      "  warnings.warn(msg, category=DeprecationWarning)\n",
      "/Library/Python/2.7/site-packages/sklearn/utils/__init__.py:93: DeprecationWarning: Function normalize is deprecated; WARNING: The HMM module and its functions will be removed in 0.17 as it no longer falls within the project's scope and API. It has been moved to a separate repository: https://github.com/hmmlearn/hmmlearn\n",
      "  warnings.warn(msg, category=DeprecationWarning)\n",
      "/Library/Python/2.7/site-packages/sklearn/utils/__init__.py:93: DeprecationWarning: Function normalize is deprecated; WARNING: The HMM module and its functions will be removed in 0.17 as it no longer falls within the project's scope and API. It has been moved to a separate repository: https://github.com/hmmlearn/hmmlearn\n",
      "  warnings.warn(msg, category=DeprecationWarning)\n",
      "/Library/Python/2.7/site-packages/sklearn/utils/__init__.py:93: DeprecationWarning: Function normalize is deprecated; WARNING: The HMM module and its functions will be removed in 0.17 as it no longer falls within the project's scope and API. It has been moved to a separate repository: https://github.com/hmmlearn/hmmlearn\n",
      "  warnings.warn(msg, category=DeprecationWarning)\n",
      "/Library/Python/2.7/site-packages/sklearn/utils/__init__.py:93: DeprecationWarning: Function normalize is deprecated; WARNING: The HMM module and its functions will be removed in 0.17 as it no longer falls within the project's scope and API. It has been moved to a separate repository: https://github.com/hmmlearn/hmmlearn\n",
      "  warnings.warn(msg, category=DeprecationWarning)\n",
      "/Library/Python/2.7/site-packages/sklearn/utils/__init__.py:93: DeprecationWarning: Function normalize is deprecated; WARNING: The HMM module and its functions will be removed in 0.17 as it no longer falls within the project's scope and API. It has been moved to a separate repository: https://github.com/hmmlearn/hmmlearn\n",
      "  warnings.warn(msg, category=DeprecationWarning)\n",
      "/Library/Python/2.7/site-packages/sklearn/utils/__init__.py:93: DeprecationWarning: Function normalize is deprecated; WARNING: The HMM module and its functions will be removed in 0.17 as it no longer falls within the project's scope and API. It has been moved to a separate repository: https://github.com/hmmlearn/hmmlearn\n",
      "  warnings.warn(msg, category=DeprecationWarning)\n",
      "/Library/Python/2.7/site-packages/sklearn/utils/__init__.py:93: DeprecationWarning: Function normalize is deprecated; WARNING: The HMM module and its functions will be removed in 0.17 as it no longer falls within the project's scope and API. It has been moved to a separate repository: https://github.com/hmmlearn/hmmlearn\n",
      "  warnings.warn(msg, category=DeprecationWarning)\n",
      "/Library/Python/2.7/site-packages/sklearn/utils/__init__.py:93: DeprecationWarning: Function normalize is deprecated; WARNING: The HMM module and its functions will be removed in 0.17 as it no longer falls within the project's scope and API. It has been moved to a separate repository: https://github.com/hmmlearn/hmmlearn\n",
      "  warnings.warn(msg, category=DeprecationWarning)\n",
      "/Library/Python/2.7/site-packages/sklearn/utils/__init__.py:93: DeprecationWarning: Function normalize is deprecated; WARNING: The HMM module and its functions will be removed in 0.17 as it no longer falls within the project's scope and API. It has been moved to a separate repository: https://github.com/hmmlearn/hmmlearn\n",
      "  warnings.warn(msg, category=DeprecationWarning)\n",
      "/Library/Python/2.7/site-packages/sklearn/utils/__init__.py:93: DeprecationWarning: Function normalize is deprecated; WARNING: The HMM module and its functions will be removed in 0.17 as it no longer falls within the project's scope and API. It has been moved to a separate repository: https://github.com/hmmlearn/hmmlearn\n",
      "  warnings.warn(msg, category=DeprecationWarning)\n",
      "/Library/Python/2.7/site-packages/sklearn/utils/__init__.py:93: DeprecationWarning: Function normalize is deprecated; WARNING: The HMM module and its functions will be removed in 0.17 as it no longer falls within the project's scope and API. It has been moved to a separate repository: https://github.com/hmmlearn/hmmlearn\n",
      "  warnings.warn(msg, category=DeprecationWarning)\n",
      "/Library/Python/2.7/site-packages/sklearn/utils/__init__.py:93: DeprecationWarning: Function normalize is deprecated; WARNING: The HMM module and its functions will be removed in 0.17 as it no longer falls within the project's scope and API. It has been moved to a separate repository: https://github.com/hmmlearn/hmmlearn\n",
      "  warnings.warn(msg, category=DeprecationWarning)\n",
      "/Library/Python/2.7/site-packages/sklearn/utils/__init__.py:75: DeprecationWarning: Class _BaseHMM is deprecated; WARNING: The HMM module and its function will be removed in 0.17as it no longer falls within the project's scope and API. It has been moved to a separate repository: https://github.com/hmmlearn/hmmlearn\n",
      "  warnings.warn(msg, category=DeprecationWarning)\n",
      "/Library/Python/2.7/site-packages/sklearn/utils/__init__.py:93: DeprecationWarning: Function normalize is deprecated; WARNING: The HMM module and its functions will be removed in 0.17 as it no longer falls within the project's scope and API. It has been moved to a separate repository: https://github.com/hmmlearn/hmmlearn\n",
      "  warnings.warn(msg, category=DeprecationWarning)\n",
      "/Library/Python/2.7/site-packages/sklearn/utils/__init__.py:93: DeprecationWarning: Function normalize is deprecated; WARNING: The HMM module and its functions will be removed in 0.17 as it no longer falls within the project's scope and API. It has been moved to a separate repository: https://github.com/hmmlearn/hmmlearn\n",
      "  warnings.warn(msg, category=DeprecationWarning)\n",
      "/Library/Python/2.7/site-packages/sklearn/utils/__init__.py:93: DeprecationWarning: Function normalize is deprecated; WARNING: The HMM module and its functions will be removed in 0.17 as it no longer falls within the project's scope and API. It has been moved to a separate repository: https://github.com/hmmlearn/hmmlearn\n",
      "  warnings.warn(msg, category=DeprecationWarning)\n",
      "/Library/Python/2.7/site-packages/sklearn/utils/__init__.py:93: DeprecationWarning: Function normalize is deprecated; WARNING: The HMM module and its functions will be removed in 0.17 as it no longer falls within the project's scope and API. It has been moved to a separate repository: https://github.com/hmmlearn/hmmlearn\n",
      "  warnings.warn(msg, category=DeprecationWarning)\n",
      "/Library/Python/2.7/site-packages/sklearn/utils/__init__.py:93: DeprecationWarning: Function normalize is deprecated; WARNING: The HMM module and its functions will be removed in 0.17 as it no longer falls within the project's scope and API. It has been moved to a separate repository: https://github.com/hmmlearn/hmmlearn\n",
      "  warnings.warn(msg, category=DeprecationWarning)\n",
      "/Library/Python/2.7/site-packages/sklearn/utils/__init__.py:93: DeprecationWarning: Function normalize is deprecated; WARNING: The HMM module and its functions will be removed in 0.17 as it no longer falls within the project's scope and API. It has been moved to a separate repository: https://github.com/hmmlearn/hmmlearn\n",
      "  warnings.warn(msg, category=DeprecationWarning)\n",
      "/Library/Python/2.7/site-packages/sklearn/utils/__init__.py:93: DeprecationWarning: Function normalize is deprecated; WARNING: The HMM module and its functions will be removed in 0.17 as it no longer falls within the project's scope and API. It has been moved to a separate repository: https://github.com/hmmlearn/hmmlearn\n",
      "  warnings.warn(msg, category=DeprecationWarning)\n",
      "/Library/Python/2.7/site-packages/sklearn/utils/__init__.py:93: DeprecationWarning: Function normalize is deprecated; WARNING: The HMM module and its functions will be removed in 0.17 as it no longer falls within the project's scope and API. It has been moved to a separate repository: https://github.com/hmmlearn/hmmlearn\n",
      "  warnings.warn(msg, category=DeprecationWarning)\n",
      "/Library/Python/2.7/site-packages/sklearn/utils/__init__.py:93: DeprecationWarning: Function normalize is deprecated; WARNING: The HMM module and its functions will be removed in 0.17 as it no longer falls within the project's scope and API. It has been moved to a separate repository: https://github.com/hmmlearn/hmmlearn\n",
      "  warnings.warn(msg, category=DeprecationWarning)\n",
      "/Library/Python/2.7/site-packages/sklearn/utils/__init__.py:93: DeprecationWarning: Function normalize is deprecated; WARNING: The HMM module and its functions will be removed in 0.17 as it no longer falls within the project's scope and API. It has been moved to a separate repository: https://github.com/hmmlearn/hmmlearn\n",
      "  warnings.warn(msg, category=DeprecationWarning)\n",
      "/Library/Python/2.7/site-packages/sklearn/utils/__init__.py:93: DeprecationWarning: Function normalize is deprecated; WARNING: The HMM module and its functions will be removed in 0.17 as it no longer falls within the project's scope and API. It has been moved to a separate repository: https://github.com/hmmlearn/hmmlearn\n",
      "  warnings.warn(msg, category=DeprecationWarning)\n",
      "/Library/Python/2.7/site-packages/sklearn/utils/__init__.py:93: DeprecationWarning: Function normalize is deprecated; WARNING: The HMM module and its functions will be removed in 0.17 as it no longer falls within the project's scope and API. It has been moved to a separate repository: https://github.com/hmmlearn/hmmlearn\n",
      "  warnings.warn(msg, category=DeprecationWarning)\n",
      "/Library/Python/2.7/site-packages/sklearn/utils/__init__.py:93: DeprecationWarning: Function normalize is deprecated; WARNING: The HMM module and its functions will be removed in 0.17 as it no longer falls within the project's scope and API. It has been moved to a separate repository: https://github.com/hmmlearn/hmmlearn\n",
      "  warnings.warn(msg, category=DeprecationWarning)\n",
      "/Library/Python/2.7/site-packages/sklearn/utils/__init__.py:93: DeprecationWarning: Function normalize is deprecated; WARNING: The HMM module and its functions will be removed in 0.17 as it no longer falls within the project's scope and API. It has been moved to a separate repository: https://github.com/hmmlearn/hmmlearn\n",
      "  warnings.warn(msg, category=DeprecationWarning)\n",
      "/Library/Python/2.7/site-packages/sklearn/utils/__init__.py:93: DeprecationWarning: Function normalize is deprecated; WARNING: The HMM module and its functions will be removed in 0.17 as it no longer falls within the project's scope and API. It has been moved to a separate repository: https://github.com/hmmlearn/hmmlearn\n",
      "  warnings.warn(msg, category=DeprecationWarning)\n",
      "/Library/Python/2.7/site-packages/sklearn/utils/__init__.py:93: DeprecationWarning: Function normalize is deprecated; WARNING: The HMM module and its functions will be removed in 0.17 as it no longer falls within the project's scope and API. It has been moved to a separate repository: https://github.com/hmmlearn/hmmlearn\n",
      "  warnings.warn(msg, category=DeprecationWarning)\n",
      "/Library/Python/2.7/site-packages/sklearn/utils/__init__.py:93: DeprecationWarning: Function normalize is deprecated; WARNING: The HMM module and its functions will be removed in 0.17 as it no longer falls within the project's scope and API. It has been moved to a separate repository: https://github.com/hmmlearn/hmmlearn\n",
      "  warnings.warn(msg, category=DeprecationWarning)\n",
      "/Library/Python/2.7/site-packages/sklearn/utils/__init__.py:93: DeprecationWarning: Function normalize is deprecated; WARNING: The HMM module and its functions will be removed in 0.17 as it no longer falls within the project's scope and API. It has been moved to a separate repository: https://github.com/hmmlearn/hmmlearn\n",
      "  warnings.warn(msg, category=DeprecationWarning)\n",
      "/Library/Python/2.7/site-packages/sklearn/utils/__init__.py:93: DeprecationWarning: Function normalize is deprecated; WARNING: The HMM module and its functions will be removed in 0.17 as it no longer falls within the project's scope and API. It has been moved to a separate repository: https://github.com/hmmlearn/hmmlearn\n",
      "  warnings.warn(msg, category=DeprecationWarning)\n",
      "/Library/Python/2.7/site-packages/sklearn/utils/__init__.py:93: DeprecationWarning: Function normalize is deprecated; WARNING: The HMM module and its functions will be removed in 0.17 as it no longer falls within the project's scope and API. It has been moved to a separate repository: https://github.com/hmmlearn/hmmlearn\n",
      "  warnings.warn(msg, category=DeprecationWarning)\n",
      "/Library/Python/2.7/site-packages/sklearn/utils/__init__.py:75: DeprecationWarning: Class _BaseHMM is deprecated; WARNING: The HMM module and its function will be removed in 0.17as it no longer falls within the project's scope and API. It has been moved to a separate repository: https://github.com/hmmlearn/hmmlearn\n",
      "  warnings.warn(msg, category=DeprecationWarning)\n",
      "/Library/Python/2.7/site-packages/sklearn/utils/__init__.py:93: DeprecationWarning: Function normalize is deprecated; WARNING: The HMM module and its functions will be removed in 0.17 as it no longer falls within the project's scope and API. It has been moved to a separate repository: https://github.com/hmmlearn/hmmlearn\n",
      "  warnings.warn(msg, category=DeprecationWarning)\n",
      "/Library/Python/2.7/site-packages/sklearn/utils/__init__.py:93: DeprecationWarning: Function normalize is deprecated; WARNING: The HMM module and its functions will be removed in 0.17 as it no longer falls within the project's scope and API. It has been moved to a separate repository: https://github.com/hmmlearn/hmmlearn\n",
      "  warnings.warn(msg, category=DeprecationWarning)\n",
      "/Library/Python/2.7/site-packages/sklearn/utils/__init__.py:93: DeprecationWarning: Function normalize is deprecated; WARNING: The HMM module and its functions will be removed in 0.17 as it no longer falls within the project's scope and API. It has been moved to a separate repository: https://github.com/hmmlearn/hmmlearn\n",
      "  warnings.warn(msg, category=DeprecationWarning)\n",
      "/Library/Python/2.7/site-packages/sklearn/utils/__init__.py:93: DeprecationWarning: Function normalize is deprecated; WARNING: The HMM module and its functions will be removed in 0.17 as it no longer falls within the project's scope and API. It has been moved to a separate repository: https://github.com/hmmlearn/hmmlearn\n",
      "  warnings.warn(msg, category=DeprecationWarning)\n",
      "/Library/Python/2.7/site-packages/sklearn/utils/__init__.py:93: DeprecationWarning: Function normalize is deprecated; WARNING: The HMM module and its functions will be removed in 0.17 as it no longer falls within the project's scope and API. It has been moved to a separate repository: https://github.com/hmmlearn/hmmlearn\n",
      "  warnings.warn(msg, category=DeprecationWarning)\n",
      "/Library/Python/2.7/site-packages/sklearn/utils/__init__.py:93: DeprecationWarning: Function normalize is deprecated; WARNING: The HMM module and its functions will be removed in 0.17 as it no longer falls within the project's scope and API. It has been moved to a separate repository: https://github.com/hmmlearn/hmmlearn\n",
      "  warnings.warn(msg, category=DeprecationWarning)\n",
      "/Library/Python/2.7/site-packages/sklearn/utils/__init__.py:93: DeprecationWarning: Function normalize is deprecated; WARNING: The HMM module and its functions will be removed in 0.17 as it no longer falls within the project's scope and API. It has been moved to a separate repository: https://github.com/hmmlearn/hmmlearn\n",
      "  warnings.warn(msg, category=DeprecationWarning)\n",
      "/Library/Python/2.7/site-packages/sklearn/utils/__init__.py:93: DeprecationWarning: Function normalize is deprecated; WARNING: The HMM module and its functions will be removed in 0.17 as it no longer falls within the project's scope and API. It has been moved to a separate repository: https://github.com/hmmlearn/hmmlearn\n",
      "  warnings.warn(msg, category=DeprecationWarning)\n",
      "/Library/Python/2.7/site-packages/sklearn/utils/__init__.py:93: DeprecationWarning: Function normalize is deprecated; WARNING: The HMM module and its functions will be removed in 0.17 as it no longer falls within the project's scope and API. It has been moved to a separate repository: https://github.com/hmmlearn/hmmlearn\n",
      "  warnings.warn(msg, category=DeprecationWarning)\n",
      "/Library/Python/2.7/site-packages/sklearn/utils/__init__.py:93: DeprecationWarning: Function normalize is deprecated; WARNING: The HMM module and its functions will be removed in 0.17 as it no longer falls within the project's scope and API. It has been moved to a separate repository: https://github.com/hmmlearn/hmmlearn\n",
      "  warnings.warn(msg, category=DeprecationWarning)\n",
      "/Library/Python/2.7/site-packages/sklearn/utils/__init__.py:93: DeprecationWarning: Function normalize is deprecated; WARNING: The HMM module and its functions will be removed in 0.17 as it no longer falls within the project's scope and API. It has been moved to a separate repository: https://github.com/hmmlearn/hmmlearn\n",
      "  warnings.warn(msg, category=DeprecationWarning)\n",
      "/Library/Python/2.7/site-packages/sklearn/utils/__init__.py:93: DeprecationWarning: Function normalize is deprecated; WARNING: The HMM module and its functions will be removed in 0.17 as it no longer falls within the project's scope and API. It has been moved to a separate repository: https://github.com/hmmlearn/hmmlearn\n",
      "  warnings.warn(msg, category=DeprecationWarning)\n",
      "/Library/Python/2.7/site-packages/sklearn/utils/__init__.py:93: DeprecationWarning: Function normalize is deprecated; WARNING: The HMM module and its functions will be removed in 0.17 as it no longer falls within the project's scope and API. It has been moved to a separate repository: https://github.com/hmmlearn/hmmlearn\n",
      "  warnings.warn(msg, category=DeprecationWarning)\n",
      "/Library/Python/2.7/site-packages/sklearn/utils/__init__.py:93: DeprecationWarning: Function normalize is deprecated; WARNING: The HMM module and its functions will be removed in 0.17 as it no longer falls within the project's scope and API. It has been moved to a separate repository: https://github.com/hmmlearn/hmmlearn\n",
      "  warnings.warn(msg, category=DeprecationWarning)\n",
      "/Library/Python/2.7/site-packages/sklearn/utils/__init__.py:93: DeprecationWarning: Function normalize is deprecated; WARNING: The HMM module and its functions will be removed in 0.17 as it no longer falls within the project's scope and API. It has been moved to a separate repository: https://github.com/hmmlearn/hmmlearn\n",
      "  warnings.warn(msg, category=DeprecationWarning)\n",
      "/Library/Python/2.7/site-packages/sklearn/utils/__init__.py:93: DeprecationWarning: Function normalize is deprecated; WARNING: The HMM module and its functions will be removed in 0.17 as it no longer falls within the project's scope and API. It has been moved to a separate repository: https://github.com/hmmlearn/hmmlearn\n",
      "  warnings.warn(msg, category=DeprecationWarning)\n",
      "/Library/Python/2.7/site-packages/sklearn/utils/__init__.py:93: DeprecationWarning: Function normalize is deprecated; WARNING: The HMM module and its functions will be removed in 0.17 as it no longer falls within the project's scope and API. It has been moved to a separate repository: https://github.com/hmmlearn/hmmlearn\n",
      "  warnings.warn(msg, category=DeprecationWarning)\n",
      "/Library/Python/2.7/site-packages/sklearn/utils/__init__.py:93: DeprecationWarning: Function normalize is deprecated; WARNING: The HMM module and its functions will be removed in 0.17 as it no longer falls within the project's scope and API. It has been moved to a separate repository: https://github.com/hmmlearn/hmmlearn\n",
      "  warnings.warn(msg, category=DeprecationWarning)\n",
      "/Library/Python/2.7/site-packages/sklearn/utils/__init__.py:93: DeprecationWarning: Function normalize is deprecated; WARNING: The HMM module and its functions will be removed in 0.17 as it no longer falls within the project's scope and API. It has been moved to a separate repository: https://github.com/hmmlearn/hmmlearn\n",
      "  warnings.warn(msg, category=DeprecationWarning)\n",
      "/Library/Python/2.7/site-packages/sklearn/utils/__init__.py:93: DeprecationWarning: Function normalize is deprecated; WARNING: The HMM module and its functions will be removed in 0.17 as it no longer falls within the project's scope and API. It has been moved to a separate repository: https://github.com/hmmlearn/hmmlearn\n",
      "  warnings.warn(msg, category=DeprecationWarning)\n"
     ]
    }
   ],
   "source": [
    "models = {}\n",
    "for word in range(7):\n",
    "    models[word] = hmm.GaussianHMM(6, \"full\")\n",
    "    models[word].fit(np.array(_label_data[word]))\n",
    "# print np.array(_label_data[0]).shape\n",
    "\n",
    "# training_data = []\n",
    "# for ex in _label_data[0]:\n",
    "#     print np.array(ex).flatten().shape\n",
    "#     training_data.append(np.array(ex).flatten())\n",
    "\n",
    "# print np.array(training_data).shape\n",
    "\n",
    "# model2.fit(np.array(training_data)[0])"
   ]
  },
  {
   "cell_type": "code",
   "execution_count": 71,
   "metadata": {
    "collapsed": false
   },
   "outputs": [
    {
     "data": {
      "text/plain": [
       "(array([  2,   3,  15,  27,  45, 121, 180, 171,  82,  14]),\n",
       " array([ 1079.18171173,  1526.09429566,  1973.00687959,  2419.91946352,\n",
       "         2866.83204745,  3313.74463138,  3760.65721531,  4207.56979924,\n",
       "         4654.48238316,  5101.39496709,  5548.30755102]),\n",
       " <a list of 10 Patch objects>)"
      ]
     },
     "execution_count": 71,
     "metadata": {},
     "output_type": "execute_result"
    },
    {
     "data": {
      "image/png": "[encoded data removed]",
      "text/plain": [
       "<matplotlib.figure.Figure at 0x11512b150>"
      ]
     },
     "metadata": {},
     "output_type": "display_data"
    }
   ],
   "source": [
    "scores = []\n",
    "for ex in _label_data[0]:\n",
    "    scores.append(model2.score(ex))\n",
    "plt.hist(scores)"
   ]
  },
  {
   "cell_type": "code",
   "execution_count": 73,
   "metadata": {
    "collapsed": false
   },
   "outputs": [
    {
     "data": {
      "text/plain": [
       "(array([  5,   3,  10,  20,  69, 128, 155, 183,  71,  16]),\n",
       " array([ -904.80172368,  -401.65970018,   101.48232332,   604.62434682,\n",
       "         1107.76637031,  1610.90839381,  2114.05041731,  2617.19244081,\n",
       "         3120.33446431,  3623.47648781,  4126.6185113 ]),\n",
       " <a list of 10 Patch objects>)"
      ]
     },
     "execution_count": 73,
     "metadata": {},
     "output_type": "execute_result"
    },
    {
     "data": {
      "image/png": "[encoded data removed]",
      "text/plain": [
       "<matplotlib.figure.Figure at 0x115120e10>"
      ]
     },
     "metadata": {},
     "output_type": "display_data"
    }
   ],
   "source": [
    "scores = []\n",
    "for ex in _label_data[4]:\n",
    "    scores.append(model2.score(ex))\n",
    "plt.hist(scores)"
   ]
  },
  {
   "cell_type": "code",
   "execution_count": null,
   "metadata": {
    "collapsed": false
   },
   "outputs": [],
   "source": []
  },
  {
   "cell_type": "code",
   "execution_count": 91,
   "metadata": {
    "collapsed": false
   },
   "outputs": [
    {
     "data": {
      "text/plain": [
       "(array([ 1,  2,  1,  3,  4,  7, 13, 16, 17, 15, 30, 25, 45, 41, 41, 36, 36,\n",
       "        49, 53, 43, 47, 29, 23, 13, 17,  6,  9, 11,  6,  5,  4,  3,  1,  3,\n",
       "         1,  0,  1,  0,  0,  0,  0,  0,  0,  0,  0,  0,  1,  0,  1,  1]),\n",
       " array([-64.82423088, -61.79812986, -58.77202883, -55.74592781,\n",
       "        -52.71982679, -49.69372576, -46.66762474, -43.64152372,\n",
       "        -40.61542269, -37.58932167, -34.56322064, -31.53711962,\n",
       "        -28.5110186 , -25.48491757, -22.45881655, -19.43271553,\n",
       "        -16.4066145 , -13.38051348, -10.35441246,  -7.32831143,\n",
       "         -4.30221041,  -1.27610939,   1.74999164,   4.77609266,\n",
       "          7.80219368,  10.82829471,  13.85439573,  16.88049675,\n",
       "         19.90659778,  22.9326988 ,  25.95879983,  28.98490085,\n",
       "         32.01100187,  35.0371029 ,  38.06320392,  41.08930494,\n",
       "         44.11540597,  47.14150699,  50.16760801,  53.19370904,\n",
       "         56.21981006,  59.24591108,  62.27201211,  65.29811313,\n",
       "         68.32421415,  71.35031518,  74.3764162 ,  77.40251723,\n",
       "         80.42861825,  83.45471927,  86.4808203 ]),\n",
       " <a list of 50 Patch objects>)"
      ]
     },
     "execution_count": 91,
     "metadata": {},
     "output_type": "execute_result"
    },
    {
     "data": {
      "image/png": "[encoded data removed]",
      "text/plain": [
       "<matplotlib.figure.Figure at 0x110e95b10>"
      ]
     },
     "metadata": {},
     "output_type": "display_data"
    }
   ],
   "source": [
    "scores_1 = []\n",
    "for ex in _label_data[0]:\n",
    "    scores_1.append(models[0].score(ex) - models[1].score(ex))\n",
    "plt.hist(scores_1, bins=50)"
   ]
  },
  {
   "cell_type": "code",
   "execution_count": 93,
   "metadata": {
    "collapsed": false
   },
   "outputs": [
    {
     "name": "stdout",
     "output_type": "stream",
     "text": [
      "1540\n"
     ]
    }
   ],
   "source": [
    "test_vectors_windows = []\n",
    "with open('competition_2/test.data', 'r') as test_data:\n",
    "    for i, line in enumerate(test_data):\n",
    "        obs_vec = []\n",
    "        coeffs = line.split(',')\n",
    "        for k in xrange(0, len(coeffs), NUM_COEFFS):\n",
    "            obs_vec.append(np.array([float(num) for num in coeffs[k:k+13]]))\n",
    "        \n",
    "        test_vectors_windows.append(obs_vec)\n",
    "#         test_vectors_windows.append([float(val) for val in coeffs])\n",
    "\n",
    "print len(test_vectors_windows)"
   ]
  },
  {
   "cell_type": "code",
   "execution_count": 95,
   "metadata": {
    "collapsed": false
   },
   "outputs": [
    {
     "name": "stdout",
     "output_type": "stream",
     "text": [
      "[1, 1, 1, 1, 1, 1, 1, 1, 1, 1, 1, 1, 1, 1, 1, 6, 1, 1, 1, 1, 1, 2, 1, 1, 1, 1, 1, 1, 1, 1, 1, 1, 1, 1, 1, 1, 1, 1, 1, 1, 1, 1, 1, 1, 1, 1, 5, 1, 1, 6, 1, 1, 1, 1, 1, 1, 1, 1, 1, 1, 1, 1, 1, 1, 1, 1, 1, 1, 1, 1, 1, 1, 1, 1, 1, 1, 1, 1, 1, 1, 1, 1, 1, 1, 1, 1, 1, 1, 5, 1, 1, 1, 1, 1, 1, 1, 1, 1, 1, 1, 1, 1, 3, 1, 1, 1, 1, 1, 1, 1, 1, 1, 1, 1, 5, 1, 1, 6, 1, 1, 1, 1, 1, 1, 1, 1, 1, 1, 2, 1, 6, 1, 1, 1, 1, 1, 1, 1, 1, 1, 1, 1, 1, 1, 1, 1, 1, 2, 1, 1, 1, 1, 1, 1, 1, 1, 1, 1, 1, 1, 1, 1, 1, 1, 1, 1, 1, 6, 1, 1, 1, 1, 1, 1, 1, 1, 1, 1, 1, 5, 1, 1, 1, 1, 1, 1, 1, 1, 1, 1, 1, 1, 6, 1, 1, 1, 1, 1, 1, 2, 1, 1, 1, 1, 1, 1, 1, 1, 1, 1, 1, 1, 1, 1, 1, 1, 1, 1, 1, 1, 1, 1, 1, 1, 1, 1, 1, 1, 1, 1, 1, 0, 1, 1, 1, 1, 1, 1, 1, 1, 1, 5, 1, 1, 1, 1, 1, 2, 1, 1, 1, 1, 1, 6, 1, 1, 1, 1, 1, 6, 1, 1, 1, 1, 1, 1, 1, 1, 1, 1, 1, 1, 1, 6, 5, 1, 1, 1, 1, 1, 1, 1, 1, 1, 1, 1, 1, 1, 1, 1, 1, 5, 1, 1, 6, 1, 1, 1, 1, 1, 1, 1, 1, 1, 1, 6, 1, 1, 1, 1, 1, 2, 1, 1, 1, 1, 1, 1, 1, 1, 1, 6, 1, 1, 1, 1, 1, 2, 1, 2, 1, 1, 1, 1, 1, 1, 1, 1, 1, 1, 1, 1, 2, 1, 1, 1, 1, 1, 1, 1, 1, 1, 1, 1, 1, 1, 1, 1, 1, 1, 1, 1, 1, 1, 1, 1, 5, 1, 1, 1, 1, 1, 1, 1, 1, 1, 1, 6, 1, 1, 1, 1, 5, 1, 1, 1, 1, 1, 1, 5, 1, 1, 1, 1, 1, 1, 1, 1, 1, 1, 1, 1, 1, 1, 1, 1, 1, 1, 1, 1, 1, 1, 1, 1, 1, 1, 1, 1, 1, 1, 1, 1, 1, 1, 1, 1, 1, 1, 1, 1, 1, 1, 1, 1, 1, 1, 1, 2, 2, 1, 1, 1, 1, 1, 1, 1, 1, 1, 1, 1, 6, 1, 1, 1, 1, 1, 6, 1, 1, 1, 1, 1, 1, 1, 1, 1, 1, 1, 1, 6, 5, 6, 1, 1, 1, 1, 1, 1, 1, 1, 1, 1, 1, 1, 1, 1, 1, 6, 1, 1, 6, 1, 1, 1, 1, 1, 1, 1, 1, 1, 1, 1, 1, 1, 1, 1, 1, 1, 1, 1, 1, 1, 1, 1, 1, 1, 6, 1, 1, 1, 1, 1, 1, 1, 1, 1, 1, 1, 1, 1, 1, 1, 1, 1, 1, 1, 1, 1, 1, 1, 1, 1, 1, 1, 1, 1, 1, 5, 1, 1, 1, 1, 1, 1, 1, 1, 1, 1, 1, 1, 1, 1, 1, 1, 1, 1, 1, 2, 1, 1, 5, 1, 1, 2, 1, 1, 1, 1, 1, 1, 1, 1, 1, 1, 1, 1, 1, 1, 1, 1, 1, 1, 1, 1, 1, 1, 1, 1, 1, 1, 1, 1, 1, 1, 1, 1, 1, 1, 1, 6, 1, 0, 1, 5, 1, 1, 1, 1, 1, 1, 2, 1, 1, 1, 1, 1, 1, 1, 1, 1, 1, 1, 1, 1, 1, 1, 1, 1, 1, 5, 1, 6, 1, 1, 1, 1, 1, 1, 1, 1, 1, 1, 1, 1, 1, 1, 1, 1, 1, 1]\n"
     ]
    }
   ],
   "source": [
    "hmm_preds = []\n",
    "for i, test in enumerate(_label_data[1]):\n",
    "    max_score = 0\n",
    "    best_pred = None\n",
    "    for word in range(7):\n",
    "        test_score = models[word].score(test)\n",
    "        if best_pred == None or test_score > max_score:\n",
    "            max_score = test_score\n",
    "            best_pred = word\n",
    "    hmm_preds.append(best_pred)\n",
    "            \n",
    "print hmm_preds"
   ]
  },
  {
   "cell_type": "code",
   "execution_count": null,
   "metadata": {
    "collapsed": true
   },
   "outputs": [],
   "source": []
  }
 ],
 "metadata": {
  "kernelspec": {
   "display_name": "Python 2",
   "language": "python",
   "name": "python2"
  },
  "language_info": {
   "codemirror_mode": {
    "name": "ipython",
    "version": 2
   },
   "file_extension": ".py",
   "mimetype": "text/x-python",
   "name": "python",
   "nbconvert_exporter": "python",
   "pygments_lexer": "ipython2",
   "version": "2.7.5"
  }
 },
 "nbformat": 4,
 "nbformat_minor": 0
}
