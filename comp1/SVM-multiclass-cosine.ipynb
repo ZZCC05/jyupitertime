{
 "cells": [
  {
   "cell_type": "code",
   "execution_count": 191,
   "metadata": {
    "collapsed": true
   },
   "outputs": [],
   "source": [
    "import collections\n",
    "import heapq\n",
    "import matplotlib.pyplot as plt\n",
    "import numpy as np\n",
    "import os, time, json\n",
    "\n",
    "import itertools, sys, math, time\n",
    "from scipy.spatial import distance as dist\n",
    "from numpy import linalg\n",
    "\n",
    "from matplotlib import offsetbox\n",
    "from scipy.sparse import csr_matrix\n",
    "from sklearn import cluster, datasets, decomposition, ensemble, lda, manifold, random_projection\n",
    "from sklearn.decomposition import TruncatedSVD\n",
    "\n",
    "from sklearn import svm, grid_search\n",
    "from sklearn.decomposition import PCA, SparsePCA\n",
    "from scipy import sparse as sp\n",
    "\n",
    "from sklearn import cluster\n",
    "\n",
    "%matplotlib inline"
   ]
  },
  {
   "cell_type": "code",
   "execution_count": 2,
   "metadata": {
    "collapsed": true
   },
   "outputs": [],
   "source": [
    "def sparse_where(sparse_matrix, num):\n",
    "    \"\"\"\n",
    "    np.where() for a sparse matrix. Returns a set of indices.\n",
    "    \"\"\"\n",
    "    return set(np.where(sparse_matrix[num,:].toarray())[1].tolist())\n",
    "\n",
    "def sparse_vals(row):\n",
    "    return row[np.where(row.toarray())[0]]\n"
   ]
  },
  {
   "cell_type": "code",
   "execution_count": 3,
   "metadata": {
    "collapsed": true
   },
   "outputs": [],
   "source": [
    "# Skip parts that take a long time.\n",
    "SKIP_LONG_PARTS = True\n",
    "\n",
    "# Create a dense representation of the data.\n",
    "CREATE_DENSE_ARRAY = False\n",
    "\n",
    "NUM_SPEECHES = 2740\n",
    "\n",
    "NUM_DEBATES = 38"
   ]
  },
  {
   "cell_type": "code",
   "execution_count": 4,
   "metadata": {
    "collapsed": false
   },
   "outputs": [
    {
     "name": "stdout",
     "output_type": "stream",
     "text": [
      "Reading data.\n",
      "0.0 %\n",
      "18.2481751825 %\n",
      "36.496350365 %\n",
      "54.7445255474 %\n",
      "72.9927007299 %\n",
      "91.2408759124 %\n",
      "99.9635036496 %\n",
      "Done reading data.\n",
      "(2740, 50000)\n"
     ]
    }
   ],
   "source": [
    "WORD_INDEX = 0\n",
    "WORD_FREQ = 1\n",
    "\n",
    "# Used for building the sparse data matrix.\n",
    "sparse_indptr = [0]\n",
    "sparse_indices = []\n",
    "sparse_data = []\n",
    "vocabulary = {}\n",
    "\n",
    "inverted_index = collections.defaultdict(set)\n",
    "\n",
    "dense_data = None\n",
    "\n",
    "print 'Reading data.'\n",
    "for line_num, line in enumerate(open('speech_vectors.csv')):\n",
    "    new_row = [(idx,float(freq)) for idx, freq in enumerate(line.strip().split(',')) if float(freq) > 0.0]\n",
    "    for i,f in new_row:\n",
    "        sparse_indices.append(i)\n",
    "        sparse_data.append(f)\n",
    "        inverted_index[i].add(line_num)\n",
    "    sparse_indptr.append(len(sparse_indices))\n",
    "    \n",
    "    if line_num % 500 == 0:\n",
    "        print 100.0 * line_num / 2740, '%'\n",
    "print 100.0 * line_num / 2740, '%'\n",
    "\n",
    "sparse_data = csr_matrix((sparse_data, sparse_indices, sparse_indptr), dtype=float)\n",
    "print 'Done reading data.'\n",
    "\n",
    "print sparse_data.shape"
   ]
  },
  {
   "cell_type": "code",
   "execution_count": 5,
   "metadata": {
    "collapsed": false
   },
   "outputs": [
    {
     "name": "stdout",
     "output_type": "stream",
     "text": [
      "2740\n"
     ]
    }
   ],
   "source": [
    "speech_graph = []\n",
    "for line in open('speech_graph.csv'):\n",
    "    speech_graph.append( [float(i) for i in line.strip().split(',')] )\n",
    "    \n",
    "print len(speech_graph)\n",
    "sparse_speech_graph = csr_matrix(speech_graph)\n"
   ]
  },
  {
   "cell_type": "markdown",
   "metadata": {},
   "source": [
    "##Random Projection"
   ]
  },
  {
   "cell_type": "code",
   "execution_count": 61,
   "metadata": {
    "collapsed": false
   },
   "outputs": [
    {
     "name": "stdout",
     "output_type": "stream",
     "text": [
      "done\n"
     ]
    }
   ],
   "source": [
    "# run PCA on data\n",
    "# truncated_svd = TruncatedSVD(n_components=20)\n",
    "# feature_vectors = truncated_svd.fit_transform(sparse_data[:, :25000])\n",
    "\n",
    "feature_vectors = sparse_data[:, 25000:].toarray()\n",
    "\n",
    "# Sparse random project to reduce dimensionality\n",
    "\n",
    "# transformer = random_projection.SparseRandomProjection(n_components=200)\n",
    "# transformer = random_projection.GaussianRandomProjection(n_components=1000)\n",
    "\n",
    "# feature_vectors = transformer.fit_transform(sparse_data[:, :25000])\n",
    "# print feature_vectors.shape\n",
    "\n",
    "sims = np.zeros((2740, 2740))\n",
    "print 'done'"
   ]
  },
  {
   "cell_type": "markdown",
   "metadata": {},
   "source": [
    "## Cosine Sim Matrix"
   ]
  },
  {
   "cell_type": "code",
   "execution_count": 67,
   "metadata": {
    "collapsed": false
   },
   "outputs": [
    {
     "name": "stdout",
     "output_type": "stream",
     "text": [
      "2730[[ 1.          0.57268869  0.30141198 ...,  0.52461816  0.46559629\n",
      "   0.31026729]\n",
      " [ 0.57268869  1.          0.31102184 ...,  0.55991941  0.45131427\n",
      "   0.31791433]\n",
      " [ 0.30141198  0.31102184  1.         ...,  0.24528366  0.30099105\n",
      "   0.45037735]\n",
      " ..., \n",
      " [ 0.52461816  0.55991941  0.24528366 ...,  1.          0.52608767\n",
      "   0.24331412]\n",
      " [ 0.46559629  0.45131427  0.30099105 ...,  0.52608767  1.          0.33531054]\n",
      " [ 0.31026729  0.31791433  0.45037735 ...,  0.24331412  0.33531054  1.        ]]\n",
      "done\n"
     ]
    }
   ],
   "source": [
    "def cosine_sim_sparse(s1, s2):\n",
    "#     print 'norm1' + str(linalg.norm(s1.toarray())) + ' norm2: ' + str(linalg.norm(s2.toarray()))\n",
    "#     print 'norms ' + str(math.sqrt(s1.dot(s1.T).sum()) * math.sqrt(s2.dot(s2.T).sum()))\n",
    "#     print 's1 ' + str(set(s1.indices).inter/section(set(s2.indices)))\n",
    "#     print s1.dot(s2.T)/(math.sqrt(s1.dot(s1.T).sum()) * math.sqrt(s2.dot(s2.T).sum()))\n",
    "    dot = s1.dot(s2.T)\n",
    "    norm = (math.sqrt(s1.dot(s1.T).sum()) * math.sqrt(s2.dot(s2.T).sum()))\n",
    "    if norm == 0:\n",
    "        return 0\n",
    "    return (dot/norm)\n",
    "\n",
    "start = time.time()\n",
    "for i in range(0, 2740):\n",
    "    s1 = feature_vectors[i]\n",
    "    if i % 10 == 0:\n",
    "        sys.stdout.write('\\r')\n",
    "        sys.stdout.write(\"%d\" % (i))\n",
    "        sys.stdout.flush()\n",
    "    \n",
    "    for j in range(i, 2740):\n",
    "        s2 = feature_vectors[j]\n",
    "        sim = cosine_sim_sparse(s1, s2)\n",
    "#         if j % 200 == 0:\n",
    "#             sys.stdout.write('\\r')\n",
    "#             sys.stdout.write(\"%d %d %s \" % (i, j, ' time left: ' + str(1.5*(37538-(i+1)*j/200)/60 )))\n",
    "#             sys.stdout.write(\"sim: %s\" % sim )\n",
    "#             sys.stdout.flush()\n",
    "        sims[i][j] = sim\n",
    "        sims[j][i] = sim\n",
    "\n",
    "# np.savetxt('files/sims_matrix.txt', sims)\n",
    "all_sims = sims.flatten()\n",
    "print '# sims: ' + str(len(all_sims))\n",
    "plt.hist(all_sims, bins=25)\n",
    "\n",
    "print 'done'"
   ]
  },
  {
   "cell_type": "markdown",
   "metadata": {},
   "source": [
    "## TF-IDF and Stopping"
   ]
  },
  {
   "cell_type": "code",
   "execution_count": 186,
   "metadata": {
    "collapsed": false
   },
   "outputs": [
    {
     "name": "stdout",
     "output_type": "stream",
     "text": [
      "row 2739"
     ]
    }
   ],
   "source": [
    "avg_word_freqs = {}\n",
    "for row in range(2740):\n",
    "    sys.stdout.write('\\rrow %d' % row)\n",
    "    sys.stdout.flush()\n",
    "    for word, freq in enumerate(sparse_data[row].toarray()[0]):\n",
    "        if freq == 0: continue\n",
    "        if word not in avg_word_freqs:\n",
    "            avg_word_freqs[word] = 0\n",
    "        avg_word_freqs[word] += freq\n",
    "\n",
    "for word in avg_word_freqs.keys():\n",
    "    avg_word_freqs[word] /= 2740.0\n"
   ]
  },
  {
   "cell_type": "code",
   "execution_count": 185,
   "metadata": {
    "collapsed": false
   },
   "outputs": [
    {
     "data": {
      "text/plain": [
       "(array([49619,   211,    35,    37,    11,     7,    10,    14,     4,\n",
       "            0,    11,     3,     0,     0,     3,     5,     1,     2,\n",
       "            5,     0,     5,     0,     0,     2,     2,     0,     1,\n",
       "            0,     0,     0,     0,     0,     0,     0,     0,     0,\n",
       "            0,     0,     0,     0,     0,     2,     1,     3,     3,\n",
       "            0,     1,     0,     1,     1]),\n",
       " array([ 0.        ,  0.00032268,  0.00064536,  0.00096804,  0.00129072,\n",
       "         0.0016134 ,  0.00193608,  0.00225876,  0.00258144,  0.00290412,\n",
       "         0.0032268 ,  0.00354949,  0.00387217,  0.00419485,  0.00451753,\n",
       "         0.00484021,  0.00516289,  0.00548557,  0.00580825,  0.00613093,\n",
       "         0.00645361,  0.00677629,  0.00709897,  0.00742165,  0.00774433,\n",
       "         0.00806701,  0.00838969,  0.00871237,  0.00903505,  0.00935773,\n",
       "         0.00968041,  0.01000309,  0.01032578,  0.01064846,  0.01097114,\n",
       "         0.01129382,  0.0116165 ,  0.01193918,  0.01226186,  0.01258454,\n",
       "         0.01290722,  0.0132299 ,  0.01355258,  0.01387526,  0.01419794,\n",
       "         0.01452062,  0.0148433 ,  0.01516598,  0.01548866,  0.01581134,\n",
       "         0.01613402]),\n",
       " <a list of 50 Patch objects>)"
      ]
     },
     "execution_count": 185,
     "metadata": {},
     "output_type": "execute_result"
    },
    {
     "data": {
      "image/png": "[encoded data removed]",
      "text/plain": [
       "<matplotlib.figure.Figure at 0x11e2d3b90>"
      ]
     },
     "metadata": {},
     "output_type": "display_data"
    }
   ],
   "source": [
    "plt.hist(avg_word_freqs.values(), bins=50)"
   ]
  },
  {
   "cell_type": "markdown",
   "metadata": {},
   "source": [
    "##Create SVM training set"
   ]
  },
  {
   "cell_type": "code",
   "execution_count": 164,
   "metadata": {
    "collapsed": false
   },
   "outputs": [
    {
     "name": "stdout",
     "output_type": "stream",
     "text": [
      "37# similar speeches: 29136\n",
      "# labels: 2114\n"
     ]
    },
    {
     "data": {
      "text/plain": [
       "(array([ 22,  20,   3,  46,   3,   1,  61,  18,  48, 125,  21,   7,   1,\n",
       "          6,  14, 174, 112,   1, 546,  62,  49,  21,  18,   1,   3, 211,\n",
       "         23,   2,   1,  10, 350,  50,   9,   5,  11,   8,  21,  30]),\n",
       " array([  0.        ,   0.97368421,   1.94736842,   2.92105263,\n",
       "          3.89473684,   4.86842105,   5.84210526,   6.81578947,\n",
       "          7.78947368,   8.76315789,   9.73684211,  10.71052632,\n",
       "         11.68421053,  12.65789474,  13.63157895,  14.60526316,\n",
       "         15.57894737,  16.55263158,  17.52631579,  18.5       ,\n",
       "         19.47368421,  20.44736842,  21.42105263,  22.39473684,\n",
       "         23.36842105,  24.34210526,  25.31578947,  26.28947368,\n",
       "         27.26315789,  28.23684211,  29.21052632,  30.18421053,\n",
       "         31.15789474,  32.13157895,  33.10526316,  34.07894737,\n",
       "         35.05263158,  36.02631579,  37.        ]),\n",
       " <a list of 38 Patch objects>)"
      ]
     },
     "execution_count": 164,
     "metadata": {},
     "output_type": "execute_result"
    },
    {
     "data": {
      "image/png": "[encoded data removed]",
      "text/plain": [
       "<matplotlib.figure.Figure at 0x11dc4ff10>"
      ]
     },
     "metadata": {},
     "output_type": "display_data"
    }
   ],
   "source": [
    "original_cluster_labels = []\n",
    "cluster_labels = {}\n",
    "\n",
    "# populate cluster labels with initial given\n",
    "with open('files/hint.csv', 'r') as labels_file:\n",
    "    for line in labels_file:\n",
    "        vals = line.split(',')\n",
    "        row = int(vals[0])\n",
    "        label = int(vals[1].strip())\n",
    "        original_cluster_labels.append( (row, label) )\n",
    "        cluster_labels[row] = (label, 1)\n",
    "\n",
    "# propogate labels with similar rows based on cosine similarity\n",
    "sim_count = 0\n",
    "for row, label in original_cluster_labels:\n",
    "#     row_sims = sorted(sims[row], reverse=True)\n",
    "    sys.stdout.write('\\r%d' % label)\n",
    "    sys.stdout.flush()\n",
    "    for i, sim in enumerate(sims[row]):\n",
    "        if i == row: continue\n",
    "        if sim > 0.6:\n",
    "            sim_count += 1\n",
    "            if i not in cluster_labels:\n",
    "                cluster_labels[i] = (label, sim)\n",
    "            else:\n",
    "                _, old_sim = cluster_labels[i]\n",
    "                if sim > old_sim:\n",
    "                    cluster_labels[i] = (label, sim)\n",
    "\n",
    "print '# similar speeches: ' + str(sim_count)\n",
    "print '# labels: ' + str(len(cluster_labels))\n",
    "# print zip(*cluster_labels)[1]\n",
    "label_freqs = list(zip(*cluster_labels.values())[0])\n",
    "label_freqs.sort()\n",
    "\n",
    "# print label_freqs\n",
    "# print [(key, len(list(group))) for key, group in itertools.groupby(label_freqs)]\n",
    "\n",
    "plt.hist(label_freqs, bins=38)\n"
   ]
  },
  {
   "cell_type": "code",
   "execution_count": 144,
   "metadata": {
    "collapsed": false
   },
   "outputs": [],
   "source": [
    "# plt.hist(sims[5], bins=25)"
   ]
  },
  {
   "cell_type": "markdown",
   "metadata": {},
   "source": [
    "## SVM Multiclass"
   ]
  },
  {
   "cell_type": "code",
   "execution_count": 165,
   "metadata": {
    "collapsed": false
   },
   "outputs": [
    {
     "name": "stdout",
     "output_type": "stream",
     "text": [
      "(2114, 25000) (2114,)\n",
      "LinearSVC(C=1.0, class_weight=None, dual=True, fit_intercept=True,\n",
      "     intercept_scaling=1, loss='l2', multi_class='ovr', penalty='l2',\n",
      "     random_state=None, tol=0.0001, verbose=0)\n"
     ]
    }
   ],
   "source": [
    "# construct SVM training input\n",
    "X = []\n",
    "Y = []\n",
    "for row, (label, sim) in cluster_labels.iteritems():\n",
    "    X += [feature_vectors[row]]\n",
    "    Y += [label]\n",
    "X = np.array(X)\n",
    "Y = np.array(Y)\n",
    "print X.shape, Y.shape\n",
    "# plt.hist(Y, bins=25)\n",
    "\n",
    "# train SVM, searching over paramaters\n",
    "parameters = {'kernel':('linear', 'rbf'), 'C':np.arange(1, 10, 0.5)}\n",
    "svr = svm.SVC()\n",
    "clf = grid_search.GridSearchCV(svr, parameters)\n",
    "\n",
    "lin_clf = svm.LinearSVC()\n",
    "print lin_clf.fit(X, Y)"
   ]
  },
  {
   "cell_type": "code",
   "execution_count": 166,
   "metadata": {
    "collapsed": false
   },
   "outputs": [
    {
     "name": "stdout",
     "output_type": "stream",
     "text": [
      "[18 18  6 ..., 18 18 32]\n"
     ]
    },
    {
     "data": {
      "text/plain": [
       "(array([  44,    0,  135,    0,    0,    0,    0,    0,    0,  202,    0,\n",
       "        1961,    3,    0,   17,    0,   84,   13,    0,    0,  254,    7,\n",
       "           0,    0,   20]),\n",
       " array([  3.  ,   4.32,   5.64,   6.96,   8.28,   9.6 ,  10.92,  12.24,\n",
       "         13.56,  14.88,  16.2 ,  17.52,  18.84,  20.16,  21.48,  22.8 ,\n",
       "         24.12,  25.44,  26.76,  28.08,  29.4 ,  30.72,  32.04,  33.36,\n",
       "         34.68,  36.  ]),\n",
       " <a list of 25 Patch objects>)"
      ]
     },
     "execution_count": 166,
     "metadata": {},
     "output_type": "execute_result"
    },
    {
     "data": {
      "image/png": "[encoded data removed]",
      "text/plain": [
       "<matplotlib.figure.Figure at 0x11d507050>"
      ]
     },
     "metadata": {},
     "output_type": "display_data"
    }
   ],
   "source": [
    "predictions = lin_clf.predict(feature_vectors)\n",
    "print predictions\n",
    "plt.hist(predictions, bins=25)"
   ]
  },
  {
   "cell_type": "code",
   "execution_count": 195,
   "metadata": {
    "collapsed": false
   },
   "outputs": [
    {
     "name": "stdout",
     "output_type": "stream",
     "text": [
      "done\n"
     ]
    }
   ],
   "source": [
    "rows_over_365 = np.array(json.loads(open('files/rows_over_365.json', 'r').read()))\n",
    "print 'done'"
   ]
  },
  {
   "cell_type": "code",
   "execution_count": 207,
   "metadata": {
    "collapsed": false
   },
   "outputs": [
    {
     "name": "stdout",
     "output_type": "stream",
     "text": [
      "(922, 922)\n"
     ]
    },
    {
     "data": {
      "text/plain": [
       "(array([283,   0,   0,   0,   0,   0,   0,   0,   0,   0,   0,   0,   0,\n",
       "          0,   0,   0,   0,   0,   0, 296,   0,   0,   0,   0,   0,   0,\n",
       "          0,   0,   0,   0,   0,   0,   0,   0,   0,   0,   0, 343]),\n",
       " array([ 0.        ,  0.05263158,  0.10526316,  0.15789474,  0.21052632,\n",
       "         0.26315789,  0.31578947,  0.36842105,  0.42105263,  0.47368421,\n",
       "         0.52631579,  0.57894737,  0.63157895,  0.68421053,  0.73684211,\n",
       "         0.78947368,  0.84210526,  0.89473684,  0.94736842,  1.        ,\n",
       "         1.05263158,  1.10526316,  1.15789474,  1.21052632,  1.26315789,\n",
       "         1.31578947,  1.36842105,  1.42105263,  1.47368421,  1.52631579,\n",
       "         1.57894737,  1.63157895,  1.68421053,  1.73684211,  1.78947368,\n",
       "         1.84210526,  1.89473684,  1.94736842,  2.        ]),\n",
       " <a list of 38 Patch objects>)"
      ]
     },
     "execution_count": 207,
     "metadata": {},
     "output_type": "execute_result"
    },
    {
     "data": {
      "image/png": "[encoded data removed]",
      "text/plain": [
       "<matplotlib.figure.Figure at 0x11ea45890>"
      ]
     },
     "metadata": {},
     "output_type": "display_data"
    }
   ],
   "source": [
    "# spectral = SpectralClustering(n_clusters=4)\n",
    "\n",
    "vectors_big_clusters = np.array(speech_graph)[rows_over_365]\n",
    "vectors_big_clusters = vectors_big_clusters[:, rows_over_365]\n",
    "\n",
    "print vectors_big_clusters.shape\n",
    "spectral_labels = cluster.spectral_clustering(vectors_big_clusters, n_clusters=3)\n",
    "plt.hist(spectral_labels, bins=38)"
   ]
  },
  {
   "cell_type": "code",
   "execution_count": null,
   "metadata": {
    "collapsed": true
   },
   "outputs": [],
   "source": []
  }
 ],
 "metadata": {
  "kernelspec": {
   "display_name": "Python 2",
   "language": "python",
   "name": "python2"
  },
  "language_info": {
   "codemirror_mode": {
    "name": "ipython",
    "version": 2
   },
   "file_extension": ".py",
   "mimetype": "text/x-python",
   "name": "python",
   "nbconvert_exporter": "python",
   "pygments_lexer": "ipython2",
   "version": "2.7.5"
  }
 },
 "nbformat": 4,
 "nbformat_minor": 0
}
