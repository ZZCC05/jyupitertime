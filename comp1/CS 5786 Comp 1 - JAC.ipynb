{
 "cells": [
  {
   "cell_type": "markdown",
   "metadata": {},
   "source": [
    "## Ideas\n",
    "\n",
    "* MDS the Kmeans on speech graph\n",
    "* Try other maninfold algos\n",
    "* Try the clustering algo from ML last semester\n",
    "\n",
    "http://scikit-learn.org/stable/modules/manifold.html\n",
    "\n",
    "http://scikit-learn.org/stable/auto_examples/text/document_clustering.html#example-text-document-clustering-py\n",
    "\n",
    "http://scikit-learn.org/stable/modules/generated/sklearn.manifold.TSNE.html#sklearn.manifold.TSNE\n",
    "\n",
    "http://scikit-learn.org/stable/auto_examples/manifold/plot_lle_digits.html\n",
    "\n",
    "======\n",
    "\n",
    "Ideas for 38 clusters\n",
    "\n",
    "* Calculate noise probability in speech graph\n",
    "* Spectral clusting on inverse, the break down clusters\n",
    "* Add links to speech graph, use Laplacian, then break down clusters by projecting to debate-words subspace\n",
    "* LDA using only the 25000 words\n",
    "* Instead of breaking down clusters by projecting, use LDA on the smaller clusters"
   ]
  },
  {
   "cell_type": "markdown",
   "metadata": {},
   "source": [
    "## Imports"
   ]
  },
  {
   "cell_type": "code",
   "execution_count": 1,
   "metadata": {
    "collapsed": false
   },
   "outputs": [],
   "source": [
    "import collections\n",
    "import gensim\n",
    "import heapq\n",
    "import json\n",
    "import matplotlib.pyplot as plt\n",
    "import numpy as np\n",
    "import os\n",
    "import time\n",
    "\n",
    "from matplotlib import offsetbox\n",
    "from scipy.sparse import csr_matrix\n",
    "from sklearn import cluster, datasets, decomposition, ensemble, lda, manifold, random_projection\n",
    "from sklearn.decomposition import TruncatedSVD\n",
    "\n",
    "%matplotlib inline\n"
   ]
  },
  {
   "cell_type": "markdown",
   "metadata": {},
   "source": [
    "To start you off, you are told that points (rows, where the first row is number 0) 2, 13, 18, 24 are examples of speeches that belong to category “Against\" (=label 0) and speeches 1, 3, 27, 177 are examples of speeches that belong to the “For”(=label 1) category"
   ]
  },
  {
   "cell_type": "code",
   "execution_count": 60,
   "metadata": {
    "collapsed": true
   },
   "outputs": [],
   "source": [
    "LABELS_AGAINST = set([2, 13, 18, 24])\n",
    "LABELS_FOR = set([1, 3, 27, 177])\n",
    "\n",
    "ORIG_LABELS = set([2, 13, 18, 24, 1, 3, 27, 177])"
   ]
  },
  {
   "cell_type": "code",
   "execution_count": 3,
   "metadata": {
    "collapsed": true
   },
   "outputs": [],
   "source": [
    "# Skip parts that take a long time.\n",
    "SKIP_LONG_PARTS = True\n",
    "\n",
    "# Create a dense representation of the data.\n",
    "CREATE_DENSE_ARRAY = False\n",
    "\n",
    "NUM_SPEECHES = 2740\n",
    "\n",
    "NUM_DEBATES = 38"
   ]
  },
  {
   "cell_type": "code",
   "execution_count": 115,
   "metadata": {
    "collapsed": true
   },
   "outputs": [],
   "source": [
    "def write_evaluation(tuples, filename):\n",
    "    f = open(filename, 'w+')\n",
    "    f.write('Id,Prediction\\n')\n",
    "    for t in tuples:\n",
    "        f.write(str(t[0]) + ',' + str(t[1]) + '\\n')"
   ]
  },
  {
   "cell_type": "markdown",
   "metadata": {},
   "source": [
    "## Import data"
   ]
  },
  {
   "cell_type": "code",
   "execution_count": 4,
   "metadata": {
    "collapsed": false
   },
   "outputs": [],
   "source": [
    "def load_sparse_data(filename, num_lines):\n",
    "    \"\"\"\n",
    "    Function to load sparse data.\n",
    "    \"\"\"\n",
    "    inverted_index = collections.defaultdict(set)\n",
    "    \n",
    "    sparse_indptr = [0]\n",
    "    sparse_indices = []\n",
    "    sparse_data = []\n",
    "    vocabulary = {}\n",
    "\n",
    "    print 'Reading data.'\n",
    "    for line_num, line in enumerate(open(filename)):\n",
    "        new_row = [(idx,float(prob)) for idx, prob in enumerate(line.strip().split(',')) if float(prob) > 0.0]\n",
    "        for i,p in new_row:\n",
    "            sparse_indices.append(i)\n",
    "            sparse_data.append(p)\n",
    "            inverted_index[i].add(line_num)\n",
    "        sparse_indptr.append(len(sparse_indices))\n",
    "\n",
    "        if line_num % 150 == 0:\n",
    "            print 100.0 * line_num / num_lines, '%'\n",
    "    print 100.0 * line_num / num_lines, '%'\n",
    "    print 'Done reading data.'\n",
    "\n",
    "    sparse_matrix = csr_matrix((sparse_data, sparse_indices, sparse_indptr), dtype=float)\n",
    "    return sparse_matrix, inverted_index"
   ]
  },
  {
   "cell_type": "code",
   "execution_count": 47,
   "metadata": {
    "collapsed": true
   },
   "outputs": [],
   "source": [
    "def sparse_where(sparse_matrix, num):\n",
    "    \"\"\"\n",
    "    np.where() for a sparse matrix. Returns a set of indices.\n",
    "    \"\"\"\n",
    "    return set(np.where(sparse_matrix[num,:].toarray())[1].tolist())"
   ]
  },
  {
   "cell_type": "markdown",
   "metadata": {},
   "source": [
    "### Load Speech Vectors"
   ]
  },
  {
   "cell_type": "code",
   "execution_count": 6,
   "metadata": {
    "collapsed": false
   },
   "outputs": [
    {
     "name": "stdout",
     "output_type": "stream",
     "text": [
      "Reading data.\n",
      "0.0 %\n",
      "5.47445255474 %\n",
      "10.9489051095 %\n",
      "16.4233576642 %\n",
      "21.897810219 %\n",
      "27.3722627737 %\n",
      "32.8467153285 %\n",
      "38.3211678832 %\n",
      "43.795620438 %\n",
      "49.2700729927 %\n",
      "54.7445255474 %\n",
      "60.2189781022 %\n",
      "65.6934306569 %\n",
      "71.1678832117 %\n",
      "76.6423357664 %\n",
      "82.1167883212 %\n",
      "87.5912408759 %\n",
      "93.0656934307 %\n",
      "98.5401459854 %\n",
      "99.9635036496 %\n",
      "Done reading data.\n",
      "(2740, 50000)\n"
     ]
    }
   ],
   "source": [
    "sparse_data, inverted_index = load_sparse_data('speech_vectors.csv', NUM_SPEECHES)\n",
    "print sparse_data.shape"
   ]
  },
  {
   "cell_type": "markdown",
   "metadata": {},
   "source": [
    "#### Load Speech Graph"
   ]
  },
  {
   "cell_type": "code",
   "execution_count": 7,
   "metadata": {
    "collapsed": false
   },
   "outputs": [
    {
     "name": "stdout",
     "output_type": "stream",
     "text": [
      "Reading data.\n",
      "0.0 %\n",
      "5.47445255474 %\n",
      "10.9489051095 %\n",
      "16.4233576642 %\n",
      "21.897810219 %\n",
      "27.3722627737 %\n",
      "32.8467153285 %\n",
      "38.3211678832 %\n",
      "43.795620438 %\n",
      "49.2700729927 %\n",
      "54.7445255474 %\n",
      "60.2189781022 %\n",
      "65.6934306569 %\n",
      "71.1678832117 %\n",
      "76.6423357664 %\n",
      "82.1167883212 %\n",
      "87.5912408759 %\n",
      "93.0656934307 %\n",
      "98.5401459854 %\n",
      "99.9635036496 %\n",
      "Done reading data.\n",
      "(2740, 2740)\n"
     ]
    }
   ],
   "source": [
    "speech_graph, inverted_graph = load_sparse_data('speech_graph.csv', NUM_SPEECHES)\n",
    "print speech_graph.shape"
   ]
  },
  {
   "cell_type": "code",
   "execution_count": 113,
   "metadata": {
    "collapsed": false
   },
   "outputs": [
    {
     "name": "stdout",
     "output_type": "stream",
     "text": [
      "0.0 %\n",
      "7.29927007299 %\n",
      "14.598540146 %\n",
      "21.897810219 %\n",
      "29.197080292 %\n",
      "36.496350365 %\n",
      "43.795620438 %\n",
      "51.0948905109 %\n",
      "58.3941605839 %\n",
      "65.6934306569 %\n",
      "72.9927007299 %\n",
      "80.2919708029 %\n",
      "87.5912408759 %\n",
      "94.8905109489 %\n",
      "99.9635036496 %\n"
     ]
    }
   ],
   "source": [
    "\"\"\"\n",
    "Assert that the sparse matrix is in the correct format.\n",
    "\"\"\"\n",
    "for line_num, line in enumerate(open('speech_vectors.csv')):\n",
    "    new_row = set([idx for idx, freq in enumerate(line.strip().split(',')) if float(freq) > 0.0])\n",
    "    assert len(new_row.difference(sparse_where(sparse_data, line_num))) == 0\n",
    "    \n",
    "    if line_num % 200 == 0:\n",
    "        print 100.0 * line_num / NUM_SPEECHES, '%'\n",
    "print 100.0 * line_num / NUM_SPEECHES, '%'\n",
    "print 'Done'"
   ]
  },
  {
   "cell_type": "code",
   "execution_count": 16,
   "metadata": {
    "collapsed": false
   },
   "outputs": [
    {
     "name": "stdout",
     "output_type": "stream",
     "text": [
      "2740 557\n",
      "(2740L,)\n",
      "(array([  0,   0,   1, ..., 555, 556, 556], dtype=int64), array([0, 1, 0, ..., 1, 0, 1], dtype=int64))\n"
     ]
    },
    {
     "ename": "IndexError",
     "evalue": "too many indices for array",
     "output_type": "error",
     "traceback": [
      "\u001b[1;31m---------------------------------------------------------------------------\u001b[0m",
      "\u001b[1;31mIndexError\u001b[0m                                Traceback (most recent call last)",
      "\u001b[1;32m<ipython-input-16-e383fba03fd0>\u001b[0m in \u001b[0;36m<module>\u001b[1;34m()\u001b[0m\n\u001b[0;32m      8\u001b[0m         \u001b[0msparse_row_set\u001b[0m \u001b[1;33m=\u001b[0m \u001b[0mset\u001b[0m\u001b[1;33m(\u001b[0m\u001b[0mnp\u001b[0m\u001b[1;33m.\u001b[0m\u001b[0mwhere\u001b[0m\u001b[1;33m(\u001b[0m\u001b[0msparse_data\u001b[0m\u001b[1;33m[\u001b[0m\u001b[0mi\u001b[0m\u001b[1;33m,\u001b[0m\u001b[1;33m:\u001b[0m\u001b[1;33m]\u001b[0m\u001b[1;33m.\u001b[0m\u001b[0mtoarray\u001b[0m\u001b[1;33m(\u001b[0m\u001b[1;33m)\u001b[0m\u001b[1;33m)\u001b[0m\u001b[1;33m[\u001b[0m\u001b[1;36m1\u001b[0m\u001b[1;33m]\u001b[0m\u001b[1;33m.\u001b[0m\u001b[0mtolist\u001b[0m\u001b[1;33m(\u001b[0m\u001b[1;33m)\u001b[0m\u001b[1;33m)\u001b[0m\u001b[1;33m\u001b[0m\u001b[0m\n\u001b[0;32m      9\u001b[0m         \u001b[1;32mprint\u001b[0m \u001b[0mnp\u001b[0m\u001b[1;33m.\u001b[0m\u001b[0mwhere\u001b[0m\u001b[1;33m(\u001b[0m\u001b[0mdense_data\u001b[0m\u001b[1;33m[\u001b[0m\u001b[0mi\u001b[0m\u001b[1;33m]\u001b[0m\u001b[1;33m)\u001b[0m\u001b[1;33m\u001b[0m\u001b[0m\n\u001b[1;32m---> 10\u001b[1;33m         \u001b[0mdense_row_set\u001b[0m \u001b[1;33m=\u001b[0m \u001b[0mset\u001b[0m\u001b[1;33m(\u001b[0m\u001b[0mnp\u001b[0m\u001b[1;33m.\u001b[0m\u001b[0mwhere\u001b[0m\u001b[1;33m(\u001b[0m\u001b[0mdense_data\u001b[0m\u001b[1;33m[\u001b[0m\u001b[0mi\u001b[0m\u001b[1;33m,\u001b[0m\u001b[1;33m:\u001b[0m\u001b[1;33m]\u001b[0m\u001b[1;33m)\u001b[0m\u001b[1;33m[\u001b[0m\u001b[1;36m0\u001b[0m\u001b[1;33m]\u001b[0m\u001b[1;33m.\u001b[0m\u001b[0mtolist\u001b[0m\u001b[1;33m(\u001b[0m\u001b[1;33m)\u001b[0m\u001b[1;33m)\u001b[0m\u001b[1;33m\u001b[0m\u001b[0m\n\u001b[0m\u001b[0;32m     11\u001b[0m \u001b[1;33m\u001b[0m\u001b[0m\n\u001b[0;32m     12\u001b[0m         \u001b[1;32massert\u001b[0m \u001b[0msparse_row_set\u001b[0m \u001b[1;33m==\u001b[0m \u001b[0mdense_row_set\u001b[0m\u001b[1;33m\u001b[0m\u001b[0m\n",
      "\u001b[1;31mIndexError\u001b[0m: too many indices for array"
     ]
    }
   ],
   "source": [
    "print len(dense_data), len(dense_data[0])\n",
    "\n",
    "# In case you need a dense data representation.\n",
    "if CREATE_DENSE_ARRAY:\n",
    "    dense_data = sparse_data.toarray()\n",
    "    print dense_data.shape\n",
    "    for i in range(dense_data.shape[0]):\n",
    "        sparse_row_set = set(np.where(sparse_data[i,:].toarray())[1].tolist())\n",
    "        dense_row_set = set(np.where(dense_data[i,:])[0].tolist())\n",
    "        \n",
    "        assert sparse_row_set == dense_row_set"
   ]
  },
  {
   "cell_type": "markdown",
   "metadata": {},
   "source": [
    "#### A look at the inverted index."
   ]
  },
  {
   "cell_type": "code",
   "execution_count": 4,
   "metadata": {
    "collapsed": true
   },
   "outputs": [],
   "source": [
    "word_dfs = [len(inverted_index[k]) for k in inverted_index]"
   ]
  },
  {
   "cell_type": "code",
   "execution_count": 61,
   "metadata": {
    "collapsed": false
   },
   "outputs": [
    {
     "data": {
      "text/plain": [
       "<matplotlib.text.Text at 0x32bfb7b8>"
      ]
     },
     "execution_count": 61,
     "metadata": {},
     "output_type": "execute_result"
    },
    {
     "data": {
      "image/png": "[encoded data removed]",
      "text/plain": [
       "<matplotlib.figure.Figure at 0x36a5eeb8>"
      ]
     },
     "metadata": {},
     "output_type": "display_data"
    }
   ],
   "source": [
    "plt.hist(word_dfs, bins=25)\n",
    "plt.title('DF for corpus')"
   ]
  },
  {
   "cell_type": "code",
   "execution_count": 12,
   "metadata": {
    "collapsed": false
   },
   "outputs": [
    {
     "name": "stdout",
     "output_type": "stream",
     "text": [
      "12017\n"
     ]
    },
    {
     "data": {
      "text/plain": [
       "<matplotlib.text.Text at 0x25fe30f0>"
      ]
     },
     "execution_count": 12,
     "metadata": {},
     "output_type": "execute_result"
    },
    {
     "data": {
      "image/png": "[encoded data removed]",
      "text/plain": [
       "<matplotlib.figure.Figure at 0x2596ba20>"
      ]
     },
     "metadata": {},
     "output_type": "display_data"
    }
   ],
   "source": [
    "threshed_dfs = [df for df in word_dfs if 5 < df < 30]\n",
    "print len(threshed_dfs)\n",
    "plt.hist(threshed_dfs)\n",
    "plt.title('Thresholded DF for corpus')"
   ]
  },
  {
   "cell_type": "code",
   "execution_count": 65,
   "metadata": {
    "collapsed": false
   },
   "outputs": [
    {
     "data": {
      "text/plain": [
       "<matplotlib.text.Text at 0x336be668>"
      ]
     },
     "execution_count": 65,
     "metadata": {},
     "output_type": "execute_result"
    },
    {
     "data": {
      "image/png": "[encoded data removed]",
      "text/plain": [
       "<matplotlib.figure.Figure at 0x32ceb710>"
      ]
     },
     "metadata": {},
     "output_type": "display_data"
    }
   ],
   "source": [
    "threshed_dfs = [df for df in word_dfs if df < 72]\n",
    "plt.hist(threshed_dfs, bins=40)\n",
    "plt.title('Thresholded DF for corpus')"
   ]
  },
  {
   "cell_type": "code",
   "execution_count": 68,
   "metadata": {
    "collapsed": false
   },
   "outputs": [
    {
     "name": "stdout",
     "output_type": "stream",
     "text": [
      "16803\n",
      "3 3 4\n"
     ]
    },
    {
     "data": {
      "text/plain": [
       "<matplotlib.text.Text at 0x33f64dd8>"
      ]
     },
     "execution_count": 68,
     "metadata": {},
     "output_type": "execute_result"
    },
    {
     "data": {
      "image/png": "[encoded data removed]",
      "text/plain": [
       "<matplotlib.figure.Figure at 0x32faec50>"
      ]
     },
     "metadata": {},
     "output_type": "display_data"
    }
   ],
   "source": [
    "print word_dfs.count(1)\n",
    "print word_dfs.count(285), word_dfs.count(296), word_dfs.count(329)\n",
    "extreme_threshed_dfs = [df for df in word_dfs if 1 < df < 25]\n",
    "plt.hist(extreme_threshed_dfs, bins=20)\n",
    "plt.title('Extremely thresholded DF for corpus')"
   ]
  },
  {
   "cell_type": "code",
   "execution_count": 62,
   "metadata": {
    "collapsed": false
   },
   "outputs": [
    {
     "data": {
      "text/plain": [
       "<matplotlib.text.Text at 0x32e1df98>"
      ]
     },
     "execution_count": 62,
     "metadata": {},
     "output_type": "execute_result"
    },
    {
     "data": {
      "image/png": "[encoded data removed]",
      "text/plain": [
       "<matplotlib.figure.Figure at 0x32d07f60>"
      ]
     },
     "metadata": {},
     "output_type": "display_data"
    }
   ],
   "source": [
    "upper_dfs = [df for df in word_dfs if df > 200]\n",
    "plt.hist(upper_dfs, bins=20)\n",
    "plt.title('Upper threshold DF for corpus')"
   ]
  },
  {
   "cell_type": "code",
   "execution_count": 63,
   "metadata": {
    "collapsed": false
   },
   "outputs": [
    {
     "data": {
      "text/plain": [
       "<matplotlib.text.Text at 0x331d4080>"
      ]
     },
     "execution_count": 63,
     "metadata": {},
     "output_type": "execute_result"
    },
    {
     "data": {
      "image/png": "[encoded data removed]",
      "text/plain": [
       "<matplotlib.figure.Figure at 0x27cf10f0>"
      ]
     },
     "metadata": {},
     "output_type": "display_data"
    }
   ],
   "source": [
    "smaller_upper_dfs = [df for df in word_dfs if 1000 > df > 200]\n",
    "plt.hist(smaller_upper_dfs, bins=20)\n",
    "plt.title('Smaller Upper threshold DF for corpus')"
   ]
  },
  {
   "cell_type": "code",
   "execution_count": 71,
   "metadata": {
    "collapsed": false
   },
   "outputs": [
    {
     "data": {
      "text/plain": [
       "<matplotlib.text.Text at 0x3489e3c8>"
      ]
     },
     "execution_count": 71,
     "metadata": {},
     "output_type": "execute_result"
    },
    {
     "data": {
      "image/png": "[encoded data removed]",
      "text/plain": [
       "<matplotlib.figure.Figure at 0x340bb128>"
      ]
     },
     "metadata": {},
     "output_type": "display_data"
    }
   ],
   "source": [
    "plt.hist([df for df in word_dfs if 300 >= df >= 200], bins=50)\n",
    "plt.title('300 >= df >= 200')"
   ]
  },
  {
   "cell_type": "code",
   "execution_count": 72,
   "metadata": {
    "collapsed": false
   },
   "outputs": [
    {
     "data": {
      "text/plain": [
       "<matplotlib.text.Text at 0x34b935c0>"
      ]
     },
     "execution_count": 72,
     "metadata": {},
     "output_type": "execute_result"
    },
    {
     "data": {
      "image/png": "[encoded data removed]",
      "text/plain": [
       "<matplotlib.figure.Figure at 0x34951c18>"
      ]
     },
     "metadata": {},
     "output_type": "display_data"
    }
   ],
   "source": [
    "plt.hist([df for df in word_dfs if 400 >= df >= 300], bins=50)\n",
    "plt.title('400 >= df >= 300')"
   ]
  },
  {
   "cell_type": "markdown",
   "metadata": {},
   "source": [
    "## Are there two docs that share a lot of words?"
   ]
  },
  {
   "cell_type": "code",
   "execution_count": 6,
   "metadata": {
    "collapsed": false
   },
   "outputs": [
    {
     "name": "stdout",
     "output_type": "stream",
     "text": [
      "2261\n"
     ]
    }
   ],
   "source": [
    "two_docs_counter = collections.defaultdict(int)\n",
    "\n",
    "for k in inverted_index:\n",
    "    v = inverted_index[k]\n",
    "    if len(v) == 2:\n",
    "        two_docs_counter[str(sorted(v))] += 1\n",
    "        \n",
    "print len(two_docs_counter)"
   ]
  },
  {
   "cell_type": "code",
   "execution_count": 7,
   "metadata": {
    "collapsed": false
   },
   "outputs": [
    {
     "name": "stdout",
     "output_type": "stream",
     "text": [
      "[38, 18, 18, 13, 12, 11, 8, 8, 8, 8]\n"
     ]
    },
    {
     "data": {
      "text/plain": [
       "(array([  1.37900000e+03,   1.70000000e+01,   2.00000000e+00,\n",
       "          1.00000000e+00,   2.00000000e+00,   0.00000000e+00,\n",
       "          0.00000000e+00,   0.00000000e+00,   0.00000000e+00,\n",
       "          1.00000000e+00]),\n",
       " array([  2. ,   5.6,   9.2,  12.8,  16.4,  20. ,  23.6,  27.2,  30.8,\n",
       "         34.4,  38. ]),\n",
       " <a list of 10 Patch objects>)"
      ]
     },
     "execution_count": 7,
     "metadata": {},
     "output_type": "execute_result"
    },
    {
     "data": {
      "image/png": "[encoded data removed]",
      "text/plain": [
       "<matplotlib.figure.Figure at 0x1a8709b0>"
      ]
     },
     "metadata": {},
     "output_type": "display_data"
    }
   ],
   "source": [
    "two_docs_counter_values = two_docs_counter.values()\n",
    "two_docs_counter_values = [v for v in two_docs_counter_values if v > 1]\n",
    "two_docs_counter_values.sort(reverse=True)\n",
    "\n",
    "print two_docs_counter_values[0:10]\n",
    "\n",
    "plt.hist(two_docs_counter_values)"
   ]
  },
  {
   "cell_type": "code",
   "execution_count": 10,
   "metadata": {
    "collapsed": false
   },
   "outputs": [
    {
     "name": "stdout",
     "output_type": "stream",
     "text": [
      "[230, 561] 2\n",
      "[646, 668] 7\n",
      "[145, 249] 3\n",
      "[227, 228] 2\n",
      "[1006, 2254] 3\n",
      "[827, 870] 4\n",
      "[1959, 2111] 2\n",
      "[270, 804] 3\n",
      "[510, 2675] 3\n",
      "[272, 590] 4\n",
      "[1618, 2441] 2\n",
      "[855, 1665] 4\n",
      "[20, 1360] 4\n",
      "[359, 1645] 4\n",
      "[2134, 2276] 2\n",
      "[236, 808] 2\n",
      "[1131, 2158] 2\n",
      "[122, 1930] 3\n",
      "[1617, 2270] 3\n",
      "[576, 2576] 2\n",
      "[233, 2723] 2\n",
      "[1549, 2333] 3\n",
      "[1654, 1860] 2\n",
      "[1724, 2065] 8\n",
      "[1487, 1762] 2\n",
      "[1097, 1772] 2\n",
      "[668, 2425] 3\n",
      "[653, 1076] 2\n",
      "[1839, 2517] 2\n",
      "[20, 1956] 4\n",
      "[458, 1392] 3\n",
      "[269, 2453] 6\n",
      "[20, 1735] 3\n",
      "[387, 941] 3\n",
      "[1871, 2060] 4\n",
      "[1173, 1818] 3\n",
      "[429, 2388] 2\n",
      "[2383, 2701] 3\n",
      "[70, 2235] 2\n",
      "[897, 1647] 2\n",
      "[646, 1537] 7\n",
      "[20, 730] 2\n",
      "[464, 1169] 3\n",
      "[1312, 2056] 2\n",
      "[940, 2282] 2\n",
      "[951, 2403] 2\n",
      "[862, 1577] 2\n",
      "[351, 1024] 3\n",
      "[668, 1864] 2\n",
      "[1482, 2349] 4\n",
      "[668, 1794] 2\n",
      "[204, 2217] 2\n",
      "[3, 259] 2\n",
      "[1916, 2707] 2\n",
      "[1510, 1617] 3\n",
      "[233, 2515] 3\n",
      "[339, 1905] 2\n",
      "[90, 967] 2\n",
      "[1935, 2681] 2\n",
      "[650, 963] 3\n",
      "[1857, 2317] 2\n",
      "[1410, 1606] 2\n",
      "[2308, 2659] 2\n",
      "[212, 972] 2\n",
      "[161, 2425] 2\n",
      "[807, 1419] 2\n",
      "[1622, 2428] 2\n",
      "[2109, 2556] 2\n",
      "[1392, 1515] 3\n",
      "[716, 1836] 2\n",
      "[145, 238] 4\n",
      "[1085, 1839] 2\n",
      "[2065, 2288] 3\n",
      "[377, 519] 2\n",
      "[988, 2710] 2\n",
      "[310, 1392] 2\n",
      "[1662, 2645] 2\n",
      "[1217, 2028] 2\n",
      "[387, 388] 3\n",
      "[1753, 2292] 4\n",
      "[286, 1151] 2\n",
      "[1105, 2659] 2\n",
      "[1031, 2349] 3\n",
      "[1026, 1886] 2\n",
      "[275, 851] 2\n",
      "[20, 1316] 2\n",
      "[951, 2473] 4\n",
      "[561, 675] 2\n",
      "[126, 2353] 3\n",
      "[442, 623] 2\n",
      "[2034, 2217] 3\n",
      "[1033, 1937] 3\n",
      "[1288, 2710] 2\n",
      "[72, 411] 2\n",
      "[391, 1753] 4\n",
      "[761, 1856] 2\n",
      "[1031, 1623] 3\n",
      "[1167, 2056] 4\n",
      "[205, 870] 4\n",
      "[1549, 2147] 2\n",
      "[269, 1962] 12\n",
      "[752, 2500] 4\n",
      "[1026, 1277] 4\n",
      "[2317, 2715] 2\n",
      "[509, 1837] 2\n",
      "[884, 1335] 2\n",
      "[2360, 2528] 2\n",
      "[1280, 1937] 3\n",
      "[1704, 2405] 3\n",
      "[561, 1555] 2\n",
      "[396, 1269] 2\n",
      "[1846, 2529] 3\n",
      "[1148, 2675] 2\n",
      "[561, 2332] 2\n",
      "[17, 351] 2\n",
      "[1122, 2041] 2\n",
      "[64, 2652] 3\n",
      "[949, 1049] 2\n",
      "[1634, 2254] 2\n",
      "[551, 1354] 3\n",
      "[800, 1318] 3\n",
      "[624, 646] 2\n",
      "[659, 1299] 2\n",
      "[1030, 1523] 3\n",
      "[238, 973] 2\n",
      "[328, 1246] 2\n",
      "[691, 2265] 2\n",
      "[2432, 2500] 5\n",
      "[646, 1059] 2\n",
      "[242, 668] 2\n",
      "[1456, 1577] 4\n",
      "[44, 496] 2\n",
      "[757, 2243] 4\n",
      "[1831, 2178] 3\n",
      "[941, 2034] 3\n",
      "[86, 1009] 2\n",
      "[1279, 1916] 2\n",
      "[778, 2076] 3\n",
      "[1046, 2735] 3\n",
      "[1112, 2198] 2\n",
      "[229, 721] 2\n",
      "[181, 2431] 2\n",
      "[1841, 2612] 2\n",
      "[1988, 2276] 2\n",
      "[305, 2028] 4\n",
      "[1876, 1974] 3\n",
      "[1649, 2357] 2\n",
      "[672, 1043] 2\n",
      "[739, 924] 2\n",
      "[161, 460] 3\n",
      "[1622, 2191] 2\n",
      "[646, 1091] 2\n",
      "[1871, 2085] 2\n",
      "[1178, 1839] 2\n",
      "[1464, 2019] 2\n",
      "[1206, 1836] 5\n",
      "[512, 1232] 2\n",
      "[226, 586] 2\n",
      "[519, 1015] 2\n",
      "[161, 1849] 3\n",
      "[318, 673] 3\n",
      "[16, 1786] 2\n",
      "[377, 1182] 2\n",
      "[1091, 1456] 2\n",
      "[2504, 2657] 2\n",
      "[1622, 1646] 3\n",
      "[1455, 1474] 4\n",
      "[1112, 1490] 2\n",
      "[1105, 2388] 2\n",
      "[484, 1299] 2\n",
      "[1413, 2627] 2\n",
      "[1005, 2273] 2\n",
      "[28, 2120] 2\n",
      "[873, 1669] 3\n",
      "[1541, 2627] 2\n",
      "[1299, 1969] 2\n",
      "[1246, 2336] 2\n",
      "[923, 1202] 2\n",
      "[310, 2612] 2\n",
      "[191, 594] 2\n",
      "[2041, 2243] 2\n",
      "[1164, 2056] 2\n",
      "[228, 1990] 3\n",
      "[1746, 2339] 3\n",
      "[1162, 1436] 2\n",
      "[800, 973] 2\n",
      "[668, 1026] 2\n",
      "[1374, 1637] 3\n",
      "[674, 1841] 2\n",
      "[693, 981] 2\n",
      "[1622, 2724] 3\n",
      "[1284, 1392] 3\n",
      "[1961, 2136] 2\n",
      "[124, 337] 3\n",
      "[1455, 1992] 2\n",
      "[280, 1184] 2\n",
      "[137, 949] 2\n",
      "[964, 1026] 3\n",
      "[1009, 2702] 2\n",
      "[541, 891] 2\n",
      "[256, 1408] 2\n",
      "[458, 519] 2\n",
      "[449, 2575] 2\n",
      "[1956, 2029] 2\n",
      "[165, 1857] 2\n",
      "[351, 1995] 2\n",
      "[305, 1428] 3\n",
      "[1618, 2499] 2\n",
      "[1362, 1436] 2\n",
      "[1348, 2542] 4\n",
      "[761, 2675] 2\n",
      "[428, 2305] 2\n",
      "[240, 2715] 2\n",
      "[1634, 1911] 3\n",
      "[1419, 2580] 2\n",
      "[996, 1409] 2\n",
      "[229, 1722] 3\n",
      "[1461, 2229] 2\n",
      "[830, 2286] 2\n",
      "[235, 1049] 2\n",
      "[1735, 2198] 4\n",
      "[1615, 1905] 2\n",
      "[1681, 1724] 2\n",
      "[2276, 2694] 2\n",
      "[634, 2080] 2\n",
      "[20, 1554] 2\n",
      "[668, 1581] 2\n",
      "[1457, 2155] 2\n",
      "[46, 1544] 2\n",
      "[237, 1112] 2\n",
      "[1827, 2602] 3\n",
      "[608, 686] 3\n",
      "[226, 2484] 2\n",
      "[552, 2436] 2\n",
      "[402, 2528] 2\n",
      "[1262, 2196] 2\n",
      "[242, 2227] 2\n",
      "[224, 238] 2\n",
      "[1011, 1216] 3\n",
      "[672, 2502] 2\n",
      "[327, 2701] 2\n",
      "[646, 2640] 3\n",
      "[1567, 1786] 2\n",
      "[669, 1362] 2\n",
      "[74, 692] 2\n",
      "[1151, 1172] 2\n",
      "[156, 716] 2\n",
      "[819, 1327] 2\n",
      "[226, 1461] 2\n",
      "[669, 1382] 4\n",
      "[1568, 2536] 2\n",
      "[261, 2296] 2\n",
      "[679, 1076] 2\n",
      "[905, 940] 2\n",
      "[1156, 2556] 3\n",
      "[484, 915] 2\n",
      "[489, 2151] 2\n",
      "[646, 1105] 4\n",
      "[4, 2718] 2\n",
      "[1288, 1392] 2\n",
      "[559, 2532] 2\n",
      "[1549, 2107] 2\n",
      "[283, 327] 3\n",
      "[301, 484] 2\n",
      "[1712, 2163] 3\n",
      "[2149, 2320] 4\n",
      "[211, 1782] 3\n",
      "[1392, 1925] 2\n",
      "[730, 1977] 3\n",
      "[412, 824] 2\n",
      "[814, 1597] 3\n",
      "[1711, 2461] 2\n",
      "[2025, 2641] 2\n",
      "[1874, 1943] 2\n",
      "[636, 1901] 2\n",
      "[508, 1498] 2\n",
      "[1342, 2694] 3\n",
      "[60, 995] 2\n",
      "[229, 464] 2\n",
      "[60, 1656] 2\n",
      "[213, 1723] 2\n",
      "[128, 2317] 3\n",
      "[2085, 2247] 2\n",
      "[292, 2641] 3\n",
      "[309, 807] 3\n",
      "[301, 1577] 2\n",
      "[951, 2265] 3\n",
      "[959, 1735] 2\n",
      "[2442, 2557] 2\n",
      "[506, 1972] 2\n",
      "[184, 391] 3\n",
      "[20, 551] 2\n",
      "[1240, 2655] 2\n",
      "[1622, 1813] 2\n",
      "[183, 2554] 3\n",
      "[1413, 2198] 2\n",
      "[1033, 1149] 3\n",
      "[285, 684] 3\n",
      "[739, 1026] 2\n",
      "[1031, 1727] 2\n",
      "[28, 749] 2\n",
      "[552, 1537] 2\n",
      "[402, 880] 2\n",
      "[118, 743] 2\n",
      "[2276, 2562] 2\n",
      "[1392, 2265] 2\n",
      "[842, 2328] 2\n",
      "[1347, 1618] 2\n",
      "[1284, 2027] 2\n",
      "[28, 756] 2\n",
      "[36, 715] 4\n",
      "[806, 2308] 2\n",
      "[204, 1375] 2\n",
      "[2500, 2517] 2\n",
      "[78, 2029] 3\n",
      "[182, 666] 2\n",
      "[1579, 2642] 6\n",
      "[922, 1392] 2\n",
      "[653, 1031] 2\n",
      "[131, 2627] 2\n",
      "[417, 1280] 2\n",
      "[339, 2247] 7\n",
      "[954, 1662] 2\n",
      "[4, 2149] 2\n",
      "[1799, 2561] 2\n",
      "[259, 391] 2\n",
      "[2149, 2288] 2\n",
      "[377, 815] 2\n",
      "[2025, 2286] 2\n",
      "[1033, 2085] 2\n",
      "[359, 1549] 3\n",
      "[76, 1392] 2\n",
      "[1466, 1936] 5\n",
      "[496, 861] 2\n",
      "[743, 1549] 2\n",
      "[574, 1105] 4\n",
      "[1711, 2627] 3\n",
      "[1354, 2724] 2\n",
      "[1583, 2524] 2\n",
      "[1945, 2163] 3\n",
      "[752, 2277] 2\n",
      "[450, 803] 3\n",
      "[597, 1319] 2\n",
      "[950, 1625] 2\n",
      "[102, 1568] 3\n",
      "[531, 2228] 3\n",
      "[2612, 2631] 2\n",
      "[814, 1605] 2\n",
      "[1, 213] 5\n",
      "[128, 2575] 2\n",
      "[595, 634] 2\n",
      "[1013, 2631] 2\n",
      "[2449, 2515] 2\n",
      "[780, 2007] 2\n",
      "[496, 923] 2\n",
      "[364, 1264] 2\n",
      "[272, 2499] 2\n",
      "[2037, 2575] 2\n",
      "[43, 2452] 3\n",
      "[1300, 2735] 4\n",
      "[351, 1937] 2\n",
      "[1461, 2019] 2\n",
      "[827, 1864] 4\n",
      "[17, 774] 3\n",
      "[2138, 2561] 2\n",
      "[488, 802] 2\n",
      "[1735, 2646] 2\n",
      "[668, 1591] 3\n",
      "[20, 2384] 2\n",
      "[70, 2517] 2\n",
      "[951, 1373] 2\n",
      "[238, 940] 2\n",
      "[1739, 1775] 2\n",
      "[1122, 1253] 3\n",
      "[1007, 1637] 4\n",
      "[384, 736] 3\n",
      "[756, 2028] 2\n",
      "[224, 2627] 3\n",
      "[1553, 2736] 3\n",
      "[70, 1662] 3\n",
      "[1482, 1931] 2\n",
      "[506, 586] 2\n",
      "[1971, 2155] 2\n",
      "[249, 1305] 2\n",
      "[102, 2539] 2\n",
      "[2220, 2257] 3\n",
      "[452, 861] 2\n",
      "[801, 1649] 2\n",
      "[668, 951] 3\n",
      "[1007, 1722] 3\n",
      "[1936, 2529] 3\n",
      "[1637, 1827] 5\n",
      "[16, 1568] 2\n",
      "[310, 2296] 2\n",
      "[1280, 2513] 2\n",
      "[1649, 2335] 2\n",
      "[1392, 1968] 4\n",
      "[77, 2554] 2\n",
      "[229, 1858] 2\n",
      "[351, 392] 2\n",
      "[846, 1927] 2\n",
      "[4, 2503] 2\n",
      "[531, 1577] 2\n",
      "[2215, 2632] 2\n",
      "[277, 1564] 2\n",
      "[752, 2710] 2\n",
      "[411, 874] 3\n",
      "[70, 1161] 2\n",
      "[602, 757] 2\n",
      "[464, 1446] 2\n",
      "[488, 2354] 2\n",
      "[663, 1773] 3\n",
      "[892, 1911] 2\n",
      "[1, 576] 4\n",
      "[235, 2032] 2\n",
      "[1015, 2272] 2\n",
      "[187, 1891] 2\n",
      "[637, 1841] 3\n",
      "[128, 1606] 2\n",
      "[497, 1511] 2\n",
      "[254, 1194] 4\n",
      "[296, 1149] 3\n",
      "[842, 2711] 2\n",
      "[20, 1348] 3\n",
      "[16, 2080] 2\n",
      "[318, 494] 4\n",
      "[425, 1461] 8\n",
      "[957, 2631] 3\n",
      "[1487, 2308] 2\n",
      "[815, 1517] 3\n",
      "[384, 1445] 4\n",
      "[1252, 2419] 2\n",
      "[331, 2212] 2\n",
      "[663, 1158] 2\n",
      "[6, 2594] 18\n",
      "[902, 1392] 2\n",
      "[79, 2130] 2\n",
      "[156, 967] 2\n",
      "[60, 957] 2\n",
      "[616, 1968] 2\n",
      "[360, 2442] 2\n",
      "[1977, 2217] 2\n",
      "[646, 1316] 2\n",
      "[595, 890] 3\n",
      "[64, 1291] 2\n",
      "[2168, 2193] 2\n",
      "[951, 1972] 2\n",
      "[2394, 2601] 2\n",
      "[259, 1407] 2\n",
      "[329, 2247] 2\n",
      "[255, 1584] 2\n",
      "[452, 2696] 3\n",
      "[2196, 2207] 3\n",
      "[361, 485] 3\n",
      "[201, 1700] 2\n",
      "[817, 1263] 2\n",
      "[861, 1464] 3\n",
      "[1038, 1541] 2\n",
      "[259, 1971] 8\n",
      "[1468, 2151] 4\n",
      "[1206, 2192] 3\n",
      "[28, 2473] 2\n",
      "[1849, 2056] 2\n",
      "[551, 2601] 2\n",
      "[1151, 2039] 2\n",
      "[312, 967] 2\n",
      "[1373, 2127] 2\n",
      "[115, 1446] 4\n",
      "[292, 1875] 3\n",
      "[1392, 2731] 2\n",
      "[564, 650] 2\n",
      "[1510, 1692] 2\n",
      "[1188, 2095] 2\n",
      "[1354, 2200] 3\n",
      "[534, 1207] 2\n",
      "[801, 1864] 2\n",
      "[254, 1712] 2\n",
      "[497, 1493] 3\n",
      "[1343, 2292] 2\n",
      "[1721, 2431] 2\n",
      "[899, 1496] 2\n",
      "[242, 663] 2\n",
      "[1753, 2384] 2\n",
      "[432, 957] 2\n",
      "[988, 1449] 2\n",
      "[1392, 1488] 2\n",
      "[924, 2671] 4\n",
      "[1549, 2473] 2\n",
      "[161, 1347] 2\n",
      "[1475, 2112] 2\n",
      "[1121, 2297] 2\n",
      "[45, 1488] 2\n",
      "[183, 1413] 2\n",
      "[1456, 1567] 2\n",
      "[108, 2529] 2\n",
      "[1162, 2553] 2\n",
      "[634, 2513] 2\n",
      "[1468, 2248] 3\n",
      "[87, 2035] 3\n",
      "[1617, 1937] 3\n",
      "[761, 1456] 2\n",
      "[396, 1392] 2\n",
      "[28, 561] 3\n",
      "[646, 1230] 2\n",
      "[1194, 1539] 3\n",
      "[742, 2019] 2\n",
      "[667, 1419] 3\n",
      "[382, 1419] 3\n",
      "[1727, 2297] 2\n",
      "[471, 1277] 3\n",
      "[286, 2702] 3\n",
      "[659, 1227] 2\n",
      "[863, 1532] 2\n",
      "[646, 769] 3\n",
      "[310, 1931] 2\n",
      "[2025, 2405] 2\n",
      "[1667, 1901] 2\n",
      "[1954, 2155] 2\n",
      "[2065, 2627] 2\n",
      "[761, 1403] 2\n",
      "[489, 1586] 2\n",
      "[1182, 1770] 2\n",
      "[449, 1577] 6\n",
      "[512, 1112] 2\n",
      "[1553, 1864] 4\n",
      "[91, 510] 7\n",
      "[1129, 1269] 3\n",
      "[778, 2185] 2\n",
      "[1415, 2449] 3\n",
      "[1113, 2325] 2\n",
      "[720, 2328] 2\n",
      "[1288, 2662] 3\n",
      "[265, 1182] 2\n",
      "[1661, 2376] 2\n",
      "[1269, 2403] 2\n",
      "[1158, 1711] 3\n",
      "[386, 2702] 3\n",
      "[1076, 1354] 3\n",
      "[911, 1119] 2\n",
      "[1, 2428] 3\n",
      "[1477, 2499] 3\n",
      "[132, 875] 2\n",
      "[475, 1407] 2\n",
      "[309, 525] 2\n",
      "[1339, 1392] 3\n",
      "[270, 1011] 2\n",
      "[1875, 1886] 2\n",
      "[1392, 1734] 3\n",
      "[820, 1135] 2\n",
      "[441, 634] 4\n",
      "[102, 1661] 2\n",
      "[672, 987] 2\n",
      "[1772, 2287] 3\n",
      "[429, 2216] 4\n",
      "[1358, 2396] 2\n",
      "[391, 862] 2\n",
      "[603, 2289] 2\n",
      "[1280, 2089] 2\n",
      "[554, 615] 2\n",
      "[1886, 2080] 2\n",
      "[101, 2276] 2\n",
      "[2056, 2653] 2\n",
      "[800, 2534] 3\n",
      "[1282, 2139] 2\n",
      "[408, 827] 2\n",
      "[387, 2557] 2\n",
      "[36, 2217] 4\n",
      "[234, 442] 2\n",
      "[70, 2216] 5\n",
      "[1911, 2095] 2\n",
      "[474, 1436] 3\n",
      "[431, 993] 3\n",
      "[923, 1277] 4\n",
      "[1625, 1667] 2\n",
      "[4, 1392] 2\n",
      "[79, 2376] 2\n",
      "[697, 1456] 4\n",
      "[582, 1697] 2\n",
      "[1135, 1753] 2\n",
      "[2689, 2734] 2\n",
      "[1082, 1470] 2\n",
      "[271, 1637] 4\n",
      "[228, 2684] 3\n",
      "[409, 1589] 2\n",
      "[519, 1555] 2\n",
      "[1850, 2127] 2\n",
      "[632, 800] 3\n",
      "[1734, 2025] 4\n",
      "[1710, 2453] 3\n",
      "[1392, 1975] 2\n",
      "[1122, 2330] 2\n",
      "[360, 922] 2\n",
      "[265, 2308] 2\n",
      "[240, 2408] 3\n",
      "[1277, 2484] 2\n",
      "[504, 2200] 2\n",
      "[240, 2034] 2\n",
      "[161, 2001] 3\n",
      "[752, 2066] 2\n",
      "[38, 463] 5\n",
      "[1025, 1546] 2\n",
      "[460, 1105] 2\n",
      "[2011, 2659] 2\n",
      "[729, 1911] 3\n",
      "[452, 2197] 3\n",
      "[1085, 2575] 3\n",
      "[1743, 2405] 2\n",
      "[536, 2632] 2\n",
      "[579, 913] 3\n",
      "[74, 637] 3\n",
      "[672, 2319] 3\n",
      "[1430, 2027] 2\n",
      "[458, 2694] 2\n",
      "[1941, 2325] 2\n",
      "[6, 1956] 2\n",
      "[2633, 2681] 2\n",
      "[544, 2580] 2\n",
      "[2522, 2533] 2\n",
      "[421, 2660] 2\n",
      "[331, 2442] 4\n",
      "[316, 1836] 2\n",
      "[316, 668] 2\n",
      "[2216, 2482] 2\n",
      "[1094, 1617] 2\n",
      "[1115, 2257] 2\n",
      "[856, 2662] 3\n",
      "[402, 802] 2\n",
      "[816, 1210] 2\n",
      "[646, 2727] 2\n",
      "[489, 1360] 2\n",
      "[1277, 2178] 2\n",
      "[646, 873] 4\n",
      "[36, 2237] 2\n",
      "[979, 2233] 2\n",
      "[1212, 2111] 2\n",
      "[339, 2173] 3\n",
      "[1286, 2356] 5\n",
      "[2040, 2091] 2\n",
      "[1054, 1196] 2\n",
      "[1734, 1753] 2\n",
      "[1637, 2276] 38\n",
      "[991, 2481] 2\n",
      "[441, 2335] 2\n",
      "[1049, 2330] 2\n",
      "[697, 987] 2\n",
      "[668, 2287] 2\n",
      "[1483, 1753] 2\n",
      "[1537, 2082] 2\n",
      "[118, 1342] 2\n",
      "[668, 1184] 4\n",
      "[1105, 1622] 3\n",
      "[1568, 1723] 3\n",
      "[1263, 1487] 2\n",
      "[156, 2292] 3\n",
      "[957, 1704] 2\n",
      "[489, 2195] 2\n",
      "[351, 1017] 2\n",
      "[1960, 2242] 2\n",
      "[292, 1877] 2\n",
      "[20, 988] 2\n",
      "[1943, 2233] 2\n",
      "[1705, 2025] 4\n",
      "[1429, 2573] 2\n",
      "[373, 1319] 2\n",
      "[1397, 2125] 2\n",
      "[646, 1622] 3\n",
      "[752, 951] 2\n",
      "[736, 1911] 3\n",
      "[1419, 2652] 3\n",
      "[236, 2243] 3\n",
      "[246, 2032] 2\n",
      "[1168, 2722] 3\n",
      "[1367, 2240] 3\n",
      "[441, 2607] 2\n",
      "[1007, 1542] 3\n",
      "[1412, 1541] 3\n",
      "[697, 1597] 2\n",
      "[745, 2225] 2\n",
      "[1052, 2287] 6\n",
      "[964, 1367] 5\n",
      "[1141, 2028] 4\n",
      "[234, 1007] 2\n",
      "[949, 1864] 2\n",
      "[1170, 2473] 3\n",
      "[823, 851] 3\n",
      "[327, 2280] 3\n",
      "[1135, 2610] 2\n",
      "[1392, 1419] 3\n",
      "[506, 2600] 3\n",
      "[2401, 2612] 2\n",
      "[226, 855] 2\n",
      "[1634, 2168] 3\n",
      "[22, 1161] 2\n",
      "[2360, 2627] 2\n",
      "[787, 1999] 2\n",
      "[195, 2127] 2\n",
      "[1375, 1977] 3\n",
      "[679, 1377] 3\n",
      "[1599, 2317] 2\n",
      "[449, 1162] 2\n",
      "[2033, 2328] 3\n",
      "[2056, 2555] 2\n",
      "[1033, 1342] 2\n",
      "[897, 2056] 2\n",
      "[74, 1956] 3\n",
      "[71, 309] 3\n",
      "[1637, 2389] 2\n",
      "[1026, 2151] 3\n",
      "[929, 2675] 2\n",
      "[1886, 2025] 2\n",
      "[1026, 2631] 3\n",
      "[1194, 1217] 4\n",
      "[1470, 1967] 3\n",
      "[1488, 1800] 2\n",
      "[597, 987] 2\n",
      "[993, 1774] 3\n",
      "[1033, 1537] 2\n",
      "[2043, 2310] 2\n",
      "[1246, 2257] 2\n",
      "[464, 1392] 2\n",
      "[1063, 1200] 13\n",
      "[1009, 1577] 3\n",
      "[519, 1656] 2\n",
      "[874, 2178] 2\n",
      "[1959, 2198] 2\n",
      "[2107, 2517] 4\n",
      "[796, 2664] 2\n",
      "[895, 1645] 2\n",
      "[964, 1176] 2\n",
      "[474, 2466] 4\n",
      "[2072, 2548] 2\n",
      "[1577, 2653] 2\n",
      "[802, 1299] 2\n",
      "[634, 2332] 2\n",
      "[1645, 1871] 2\n",
      "[697, 949] 2\n",
      "[1299, 1753] 2\n",
      "[2104, 2325] 3\n",
      "[1735, 1918] 3\n",
      "[265, 787] 2\n",
      "[1019, 1110] 2\n",
      "[213, 2011] 3\n",
      "[135, 2292] 2\n",
      "[1004, 2499] 4\n",
      "[254, 1551] 3\n",
      "[97, 1251] 4\n",
      "[310, 1901] 2\n",
      "[1701, 2532] 2\n",
      "[1033, 1618] 2\n",
      "[378, 2278] 2\n",
      "[2473, 2483] 4\n",
      "[1164, 2557] 2\n",
      "[800, 1392] 2\n",
      "[128, 2484] 3\n",
      "[1860, 2349] 2\n",
      "[518, 906] 2\n",
      "[923, 2575] 2\n",
      "[1041, 1354] 4\n",
      "[1091, 1155] 2\n",
      "[432, 2734] 2\n",
      "[603, 1015] 2\n",
      "[2107, 2385] 4\n",
      "[387, 1482] 3\n",
      "[531, 603] 3\n",
      "[121, 1232] 3\n",
      "[1123, 2230] 2\n",
      "[434, 1280] 3\n",
      "[280, 2027] 8\n",
      "[1330, 2428] 2\n",
      "[908, 1841] 2\n",
      "[305, 679] 2\n",
      "[102, 2292] 2\n",
      "[387, 1277] 3\n",
      "[2149, 2349] 3\n",
      "[242, 2072] 2\n",
      "[1596, 2548] 2\n",
      "[582, 1218] 2\n",
      "[1004, 1463] 2\n",
      "[531, 1086] 2\n",
      "[1995, 2675] 3\n",
      "[70, 2532] 2\n",
      "[929, 1799] 3\n",
      "[507, 1238] 4\n",
      "[275, 1577] 2\n",
      "[2575, 2687] 4\n",
      "[1705, 1706] 2\n",
      "[1769, 1905] 3\n",
      "[37, 1392] 2\n",
      "[891, 1488] 2\n",
      "[1577, 1799] 2\n",
      "[646, 1168] 4\n",
      "[1277, 2248] 2\n",
      "[880, 1589] 2\n",
      "[646, 2136] 3\n",
      "[20, 1264] 2\n",
      "[108, 1787] 3\n",
      "[1275, 1299] 3\n",
      "[233, 2612] 2\n",
      "[387, 1966] 2\n",
      "[1501, 2428] 3\n",
      "[2001, 2711] 2\n",
      "[426, 2285] 2\n",
      "[991, 1425] 2\n",
      "[271, 1229] 2\n",
      "[867, 1091] 2\n",
      "[254, 269] 2\n",
      "[216, 2441] 2\n",
      "[312, 716] 4\n",
      "[1622, 2205] 2\n",
      "[1206, 1704] 2\n",
      "[765, 2591] 3\n",
      "[20, 1521] 2\n",
      "[861, 1207] 4\n",
      "[1723, 1863] 2\n",
      "[1369, 2194] 2\n",
      "[1045, 1105] 2\n",
      "[2580, 2701] 2\n",
      "[327, 895] 4\n",
      "[830, 2094] 3\n",
      "[371, 489] 4\n",
      "[1031, 1392] 4\n",
      "[254, 1856] 2\n",
      "[761, 1768] 2\n",
      "[482, 1922] 2\n",
      "[1832, 2679] 8\n",
      "[1342, 2701] 2\n",
      "[668, 1665] 2\n",
      "[1724, 2252] 2\n",
      "[135, 1959] 2\n",
      "[2034, 2191] 2\n",
      "[1216, 2187] 2\n",
      "[229, 1715] 2\n",
      "[715, 1916] 3\n",
      "[1164, 2273] 2\n",
      "[1677, 1809] 2\n",
      "[831, 1112] 2\n",
      "[1126, 1901] 3\n",
      "[90, 1286] 2\n",
      "[668, 1513] 2\n",
      "[270, 2056] 4\n",
      "[403, 672] 4\n",
      "[964, 1392] 2\n",
      "[1540, 2522] 2\n",
      "[20, 784] 2\n",
      "[128, 890] 3\n",
      "[1344, 1513] 2\n",
      "[668, 1823] 2\n",
      "[206, 626] 3\n",
      "[747, 973] 2\n",
      "[107, 1005] 4\n",
      "[211, 1537] 2\n",
      "[820, 923] 2\n",
      "[70, 2057] 2\n",
      "[399, 2567] 2\n",
      "[1168, 2675] 2\n",
      "[443, 1510] 4\n",
      "[368, 2047] 2\n",
      "[666, 1344] 5\n",
      "[636, 2056] 2\n",
      "[2035, 2327] 2\n",
      "[1753, 2317] 5\n",
      "[31, 874] 3\n",
      "[377, 1417] 2\n",
      "[2171, 2475] 3\n",
      "[646, 1753] 2\n",
      "[1864, 2139] 2\n",
      "[477, 1645] 3\n",
      "[1362, 2332] 2\n",
      "[652, 2027] 4\n",
      "[1543, 1941] 2\n",
      "[35, 1085] 2\n",
      "[233, 1488] 3\n",
      "[929, 1415] 2\n",
      "[4, 2437] 2\n",
      "[391, 2027] 4\n",
      "[896, 1577] 2\n",
      "[1246, 1482] 4\n",
      "[1347, 1734] 2\n",
      "[312, 2356] 2\n",
      "[360, 1977] 2\n",
      "[900, 999] 2\n",
      "[355, 646] 2\n",
      "[328, 391] 2\n",
      "[256, 2052] 2\n",
      "[1113, 1277] 2\n",
      "[262, 2198] 3\n",
      "[1637, 2473] 2\n",
      "[1026, 1206] 2\n",
      "[489, 1367] 2\n",
      "[817, 2715] 2\n",
      "[2432, 2606] 4\n",
      "[259, 2438] 4\n",
      "[59, 1096] 2\n",
      "[4, 2542] 2\n",
      "[1006, 1299] 2\n",
      "[748, 2262] 4\n",
      "[1539, 1871] 2\n",
      "[519, 2473] 2\n",
      "[382, 964] 2\n",
      "[374, 1274] 2\n",
      "[905, 1392] 3\n",
      "[379, 891] 3\n",
      "[2529, 2707] 2\n",
      "[276, 316] 2\n",
      "[634, 680] 3\n",
      "[700, 1645] 2\n",
      "[20, 237] 4\n",
      "[1131, 2302] 3\n",
      "[742, 1194] 2\n",
      "[660, 743] 2\n",
      "[1143, 2714] 3\n",
      "[1392, 1772] 3\n",
      "[2058, 2627] 3\n",
      "[602, 618] 2\n",
      "[17, 1202] 2\n",
      "[2263, 2323] 3\n",
      "[387, 861] 2\n",
      "[531, 2632] 2\n",
      "[496, 1781] 2\n",
      "[1253, 2627] 3\n",
      "[630, 1700] 2\n",
      "[881, 2442] 2\n",
      "[1977, 2027] 3\n",
      "[1634, 1712] 2\n",
      "[424, 631] 2\n",
      "[1487, 1724] 3\n",
      "[20, 246] 3\n",
      "[697, 2594] 2\n",
      "[504, 2660] 2\n",
      "[600, 862] 2\n",
      "[580, 2423] 2\n",
      "[1213, 2032] 2\n",
      "[610, 911] 2\n",
      "[156, 1343] 2\n",
      "[269, 1629] 3\n",
      "[2056, 2298] 2\n",
      "[1931, 2242] 3\n",
      "[1264, 2028] 2\n",
      "[1236, 1728] 3\n",
      "[272, 1105] 2\n",
      "[254, 2384] 3\n",
      "[328, 1507] 3\n",
      "[259, 326] 2\n",
      "[774, 1562] 2\n",
      "[271, 387] 2\n",
      "[1388, 1618] 2\n",
      "[825, 919] 2\n",
      "[256, 1800] 2\n",
      "[89, 275] 3\n",
      "[1220, 2292] 2\n",
      "[188, 2254] 2\n",
      "[259, 672] 3\n",
      "[1430, 2094] 2\n",
      "[1794, 2673] 4\n",
      "[1173, 1562] 2\n",
      "[1269, 1734] 2\n",
      "[20, 1455] 3\n",
      "[492, 2043] 2\n",
      "[761, 2349] 3\n",
      "[590, 1498] 2\n",
      "[102, 2130] 2\n",
      "[449, 2736] 2\n",
      "[1150, 2375] 2\n",
      "[1318, 1657] 2\n",
      "[992, 1413] 2\n",
      "[152, 1735] 2\n",
      "[71, 2169] 2\n",
      "[1541, 1856] 3\n",
      "[1456, 2149] 2\n",
      "[967, 2356] 2\n",
      "[1420, 2525] 5\n",
      "[94, 860] 2\n",
      "[814, 1461] 2\n",
      "[756, 1026] 2\n",
      "[668, 1280] 2\n",
      "[1419, 1925] 2\n",
      "[943, 2021] 3\n",
      "[874, 1510] 4\n",
      "[1206, 1343] 2\n",
      "[1243, 2615] 2\n",
      "[1277, 1834] 2\n",
      "[382, 1837] 2\n",
      "[1017, 2675] 2\n",
      "[637, 1348] 2\n",
      "[1011, 1191] 3\n",
      "[20, 128] 5\n",
      "[674, 1045] 2\n",
      "[2083, 2506] 5\n",
      "[875, 1059] 2\n",
      "[1585, 2219] 4\n",
      "[489, 2592] 2\n",
      "[1316, 2185] 3\n",
      "[668, 2659] 2\n",
      "[259, 1629] 3\n",
      "[1825, 2407] 2\n",
      "[1180, 1354] 3\n",
      "[79, 1993] 2\n",
      "[20, 672] 5\n",
      "[861, 1490] 2\n",
      "[1007, 2344] 3\n",
      "[254, 391] 3\n",
      "[861, 1662] 2\n",
      "[285, 2077] 2\n",
      "[0, 2449] 2\n",
      "[1969, 2617] 2\n",
      "[1119, 1813] 2\n",
      "[77, 594] 2\n",
      "[697, 1510] 2\n",
      "[1759, 2198] 2\n",
      "[279, 1606] 2\n",
      "[391, 1829] 2\n",
      "[108, 669] 5\n",
      "[377, 2641] 2\n",
      "[211, 2192] 2\n",
      "[1190, 1584] 3\n",
      "[1155, 2265] 2\n",
      "[254, 2198] 2\n",
      "[1361, 1446] 2\n",
      "[1305, 1412] 2\n",
      "[1468, 2333] 3\n",
      "[254, 2714] 2\n",
      "[247, 2710] 2\n",
      "[37, 1568] 4\n",
      "[1392, 2297] 2\n",
      "[951, 1482] 3\n",
      "[1591, 2254] 2\n",
      "[114, 2591] 2\n",
      "[89, 1286] 2\n",
      "[1823, 2278] 2\n",
      "[820, 1274] 3\n",
      "[452, 1905] 3\n",
      "[2684, 2698] 2\n",
      "[482, 1557] 2\n",
      "[394, 2702] 2\n",
      "[881, 2297] 3\n",
      "[387, 2108] 2\n",
      "[1867, 2396] 3\n",
      "[488, 1457] 2\n",
      "[650, 2356] 2\n",
      "[541, 955] 2\n",
      "[655, 2715] 2\n",
      "[623, 1977] 3\n",
      "[1220, 2353] 3\n",
      "[954, 1821] 4\n",
      "[284, 2205] 2\n",
      "[887, 1369] 2\n",
      "[1031, 2217] 2\n",
      "[1377, 2631] 2\n",
      "[1052, 2495] 2\n",
      "[429, 1911] 2\n",
      "[1054, 1236] 2\n",
      "[860, 1483] 3\n",
      "[820, 1411] 2\n",
      "[1040, 2083] 2\n",
      "[1138, 2091] 2\n",
      "[1613, 1625] 3\n",
      "[1000, 1392] 3\n",
      "[2152, 2363] 2\n",
      "[836, 2640] 3\n",
      "[1683, 2052] 2\n",
      "[1091, 1539] 2\n",
      "[1522, 2053] 2\n",
      "[1004, 2594] 2\n",
      "[661, 2278] 2\n",
      "[254, 1654] 4\n",
      "[1498, 2215] 2\n",
      "[21, 1820] 2\n",
      "[1541, 2369] 3\n",
      "[895, 2430] 3\n",
      "[800, 1523] 2\n",
      "[1090, 1382] 2\n",
      "[672, 2047] 2\n",
      "[531, 668] 2\n",
      "[2453, 2701] 2\n",
      "[574, 590] 2\n",
      "[240, 1392] 2\n",
      "[149, 610] 3\n",
      "[1168, 2163] 2\n",
      "[384, 396] 3\n",
      "[2085, 2298] 3\n",
      "[147, 1354] 3\n",
      "[22, 391] 2\n",
      "[504, 2724] 2\n",
      "[121, 2326] 3\n",
      "[1011, 2308] 2\n",
      "[663, 1091] 3\n",
      "[859, 1863] 2\n",
      "[606, 2390] 2\n",
      "[1280, 2432] 2\n",
      "[663, 1240] 2\n",
      "[943, 2084] 2\n",
      "[752, 1071] 2\n",
      "[226, 1855] 5\n",
      "[1377, 1458] 3\n",
      "[1367, 2627] 2\n",
      "[1487, 1645] 3\n",
      "[252, 1350] 4\n",
      "[213, 2627] 3\n",
      "[413, 2234] 2\n",
      "[1695, 2168] 2\n",
      "[183, 666] 2\n",
      "[1196, 1763] 2\n",
      "[20, 602] 3\n",
      "[1900, 2039] 2\n",
      "[720, 2322] 2\n",
      "[206, 1127] 2\n",
      "[1968, 2147] 3\n",
      "[1007, 2660] 3\n",
      "[391, 659] 2\n",
      "[20, 2503] 2\n",
      "[312, 1455] 2\n",
      "[1886, 1975] 6\n",
      "[391, 1392] 5\n",
      "[1026, 1568] 3\n",
      "[8, 1836] 4\n",
      "[802, 1456] 2\n",
      "[663, 1375] 3\n",
      "[1650, 2032] 2\n",
      "[669, 1156] 4\n",
      "[1190, 1483] 3\n",
      "[1392, 2149] 2\n",
      "[553, 1770] 2\n",
      "[1829, 2230] 2\n",
      "[102, 2594] 2\n",
      "[114, 476] 3\n",
      "[1815, 2019] 2\n",
      "[1384, 2701] 4\n",
      "[1474, 2709] 2\n",
      "[471, 929] 2\n",
      "[1164, 2483] 18\n",
      "[1858, 2176] 2\n",
      "[734, 2452] 2\n",
      "[1829, 2278] 3\n",
      "[444, 954] 2\n",
      "[2276, 2600] 4\n",
      "[2466, 2736] 2\n",
      "[1375, 2673] 2\n",
      "[672, 1654] 4\n",
      "[2276, 2292] 2\n",
      "[1503, 2173] 2\n",
      "[610, 2167] 2\n",
      "[1453, 2393] 2\n",
      "[521, 2247] 3\n",
      "[71, 2437] 4\n",
      "[2052, 2163] 3\n",
      "[2247, 2548] 4\n",
      "[49, 1392] 2\n",
      "[1911, 2280] 2\n",
      "[1168, 2641] 2\n",
      "[1298, 1977] 2\n",
      "[1, 1634] 4\n",
      "[1277, 1419] 2\n",
      "[1299, 2027] 6\n",
      "[1392, 2573] 3\n",
      "[89, 1959] 2\n",
      "[540, 1645] 3\n",
      "[761, 2089] 3\n",
      "[559, 614] 2\n",
      "[288, 2155] 2\n",
      "[1639, 2580] 2\n",
      "[531, 1773] 3\n",
      "[135, 288] 2\n",
      "[8, 1900] 2\n",
      "[1782, 2511] 2\n",
      "[680, 1196] 3\n",
      "[474, 2361] 3\n",
      "[248, 1392] 4\n",
      "[1415, 1845] 3\n",
      "[660, 1956] 5\n",
      "[606, 1831] 2\n",
      "[1108, 1977] 3\n",
      "[282, 1009] 2\n",
      "[115, 955] 2\n",
      "[280, 1299] 2\n",
      "[1015, 2681] 2\n",
      "[2573, 2731] 3\n",
      "[872, 1831] 3\n",
      "[1053, 1864] 3\n",
      "[995, 1276] 3\n",
      "[254, 967] 3\n",
      "[1196, 1905] 3\n",
      "[97, 2060] 2\n",
      "[672, 2627] 2\n",
      "[951, 1392] 3\n",
      "[1135, 2423] 2\n",
      "[1227, 1977] 3\n",
      "[1916, 2600] 2\n",
      "[1214, 2156] 2\n",
      "[716, 1515] 2\n",
      "[1135, 1392] 2\n",
      "[226, 1004] 2\n",
      "[521, 2163] 2\n",
      "[1195, 1705] 4\n",
      "[453, 1169] 2\n",
      "[1274, 1665] 2\n",
      "[1026, 1746] 4\n",
      "[128, 2529] 2\n",
      "[1778, 2529] 2\n",
      "[820, 2556] 2\n",
      "[1925, 2403] 3\n",
      "[305, 1743] 2\n",
      "[946, 2027] 3\n",
      "[233, 396] 3\n",
      "[184, 464] 4\n",
      "[484, 1425] 2\n",
      "[1856, 2349] 2\n",
      "[2361, 2497] 4\n",
      "[672, 2667] 3\n",
      "[2028, 2286] 2\n",
      "[265, 1496] 4\n",
      "[235, 1782] 2\n",
      "[288, 1425] 3\n",
      "[2196, 2542] 2\n",
      "[1625, 1696] 3\n",
      "[102, 891] 4\n",
      "[506, 1788] 2\n",
      "[204, 964] 2\n",
      "[1661, 2044] 2\n",
      "[511, 908] 2\n",
      "[1420, 1444] 3\n",
      "[1564, 2356] 2\n",
      "[513, 646] 2\n",
      "[604, 1085] 2\n",
      "[1054, 2178] 2\n",
      "[305, 519] 6\n",
      "[351, 2134] 2\n",
      "[452, 2710] 2\n",
      "[923, 2671] 2\n",
      "[428, 2731] 4\n",
      "[1606, 2396] 2\n",
      "[64, 1937] 2\n",
      "[2325, 2580] 2\n",
      "[2016, 2178] 2\n",
      "[753, 1995] 3\n",
      "[2323, 2573] 2\n",
      "[259, 282] 2\n",
      "[892, 1955] 2\n",
      "[769, 2085] 2\n",
      "[21, 2529] 2\n",
      "[508, 1753] 2\n",
      "[800, 1604] 3\n",
      "[1113, 1510] 2\n",
      "[188, 2260] 2\n",
      "[265, 2513] 2\n",
      "[70, 2711] 2\n",
      "[1097, 1200] 2\n",
      "[1009, 1567] 4\n",
      "[668, 2330] 3\n",
      "[808, 1176] 2\n",
      "[2196, 2573] 2\n",
      "[20, 1972] 2\n",
      "[1052, 2437] 2\n",
      "[21, 1232] 3\n",
      "[662, 2606] 2\n",
      "[820, 1947] 2\n",
      "[817, 2694] 3\n",
      "[128, 923] 2\n",
      "[1688, 2091] 4\n",
      "[2029, 2240] 2\n",
      "[700, 2040] 2\n",
      "[1284, 2292] 2\n",
      "[458, 2376] 2\n",
      "[929, 2416] 2\n",
      "[20, 819] 2\n",
      "[800, 2174] 2\n",
      "[790, 1026] 3\n",
      "[761, 1232] 2\n",
      "[1846, 2466] 2\n",
      "[2534, 2715] 3\n",
      "[1194, 1367] 3\n",
      "[1267, 1585] 2\n",
      "[1992, 2285] 2\n",
      "[915, 2028] 4\n",
      "[2435, 2499] 2\n",
      "[1551, 1770] 2\n",
      "[982, 1050] 5\n",
      "[126, 316] 2\n",
      "[79, 2360] 2\n",
      "[79, 1460] 2\n",
      "[1510, 2653] 3\n",
      "[373, 840] 2\n",
      "[761, 1510] 2\n",
      "[1948, 2702] 4\n",
      "[1071, 1719] 2\n",
      "[586, 773] 2\n",
      "[8, 269] 2\n",
      "[236, 923] 3\n",
      "[1858, 2254] 2\n",
      "[79, 756] 7\n",
      "[64, 1588] 2\n",
      "[1546, 2196] 3\n",
      "[668, 2725] 3\n",
      "[20, 402] 2\n",
      "[316, 477] 2\n",
      "[28, 895] 2\n",
      "[79, 1110] 2\n",
      "[1392, 2662] 2\n",
      "[573, 813] 2\n",
      "[1233, 2724] 2\n",
      "[458, 2466] 3\n",
      "[2385, 2462] 2\n",
      "[362, 2085] 2\n",
      "[389, 1413] 2\n",
      "[1275, 1753] 2\n",
      "[646, 1886] 2\n",
      "[525, 964] 2\n",
      "[1108, 1461] 3\n",
      "[999, 1864] 2\n",
      "[508, 1589] 2\n",
      "[720, 2432] 2\n",
      "[1269, 1901] 2\n",
      "[377, 940] 2\n",
      "[1278, 1489] 2\n",
      "[660, 1017] 2\n",
      "[87, 1298] 3\n",
      "[736, 2437] 2\n",
      "[452, 1456] 2\n",
      "[899, 1584] 2\n",
      "[1397, 2215] 3\n",
      "[270, 574] 2\n",
      "[1468, 2296] 2\n",
      "[1173, 2709] 2\n",
      "[153, 1645] 2\n",
      "[1751, 2506] 2\n",
      "[1577, 2675] 2\n",
      "[462, 2449] 3\n",
      "[1373, 2151] 2\n",
      "[2056, 2149] 2\n",
      "[457, 2316] 3\n",
      "[1229, 1264] 2\n",
      "[230, 1419] 2\n",
      "[334, 414] 3\n",
      "[453, 2072] 2\n",
      "[1374, 1712] 2\n",
      "[631, 663] 2\n",
      "[453, 1031] 2\n",
      "[259, 389] 2\n",
      "[1876, 1901] 2\n",
      "[597, 1382] 2\n",
      "[1657, 1765] 2\n",
      "[327, 2528] 2\n",
      "[379, 1543] 2\n",
      "[672, 1645] 2\n",
      "[646, 1006] 2\n",
      "[1277, 2710] 3\n",
      "[310, 2723] 3\n",
      "[923, 1722] 2\n",
      "[1864, 2095] 4\n",
      "[668, 2320] 3\n",
      "[1501, 1753] 2\n",
      "[89, 2191] 2\n",
      "[1242, 1464] 2\n",
      "[259, 2284] 3\n",
      "[1464, 1916] 2\n",
      "[184, 2631] 4\n",
      "[561, 957] 3\n",
      "[182, 1392] 2\n",
      "[1420, 1724] 2\n",
      "[1773, 2627] 3\n",
      "[651, 1009] 3\n",
      "[2349, 2489] 2\n",
      "[1202, 1772] 2\n",
      "[2025, 2376] 3\n",
      "[1113, 1659] 2\n",
      "[79, 1661] 3\n",
      "[820, 2067] 2\n",
      "[1622, 2046] 2\n",
      "[744, 1236] 2\n",
      "[38, 1091] 2\n",
      "[883, 1564] 2\n",
      "[254, 1277] 4\n",
      "[2033, 2130] 2\n",
      "[1772, 2278] 2\n",
      "[1456, 2198] 4\n",
      "[824, 1905] 3\n",
      "[1004, 2027] 2\n",
      "[504, 1857] 2\n",
      "[796, 1759] 3\n",
      "[22, 43] 2\n",
      "[520, 920] 2\n",
      "[1216, 2724] 2\n",
      "[275, 943] 2\n",
      "[441, 2519] 2\n",
      "[327, 2138] 2\n",
      "[102, 385] 2\n",
      "[996, 2056] 2\n",
      "[132, 2662] 2\n",
      "[1274, 2049] 2\n",
      "[20, 2185] 3\n",
      "[402, 1392] 2\n",
      "[757, 2473] 4\n",
      "[1112, 1581] 2\n",
      "[624, 1469] 3\n",
      "[1348, 2109] 2\n",
      "[213, 386] 2\n",
      "[387, 2045] 2\n",
      "[1277, 1392] 11\n",
      "[1420, 1753] 4\n",
      "[1009, 1382] 2\n",
      "[208, 1444] 3\n",
      "[668, 2130] 2\n",
      "[1412, 1869] 2\n",
      "1402\n"
     ]
    }
   ],
   "source": [
    "counter = 0\n",
    "for k in two_docs_counter:\n",
    "    if two_docs_counter[k] > 1:\n",
    "        counter += 1\n",
    "        print k, two_docs_counter[k]\n",
    "        \n",
    "print counter"
   ]
  },
  {
   "cell_type": "code",
   "execution_count": 6,
   "metadata": {
    "collapsed": true
   },
   "outputs": [],
   "source": [
    "def jaccard(a,b):\n",
    "    if len(a.union(b)) == 0: return 0\n",
    "    \n",
    "    numerator = a.intersection(b)\n",
    "    denominator = a.union(b)\n",
    "    \n",
    "    numerator = sum([1.0 / len(inverted_index[i]) for i in numerator])\n",
    "    denominator = sum([1.0 / len(inverted_index[i]) for i in denominator])\n",
    "    return 1.0 * numerator / denominator"
   ]
  },
  {
   "cell_type": "code",
   "execution_count": 12,
   "metadata": {
    "collapsed": false
   },
   "outputs": [
    {
     "name": "stdout",
     "output_type": "stream",
     "text": [
      "0.105336925479\n",
      "0.00442184886533\n",
      "0.00461829250427\n",
      "2276 0.105336925479\n"
     ]
    }
   ],
   "source": [
    "first_index = 1637\n",
    "second_index = 2276\n",
    "\n",
    "a = set(np.where(sparse_data[first_index,:].toarray())[1].tolist())\n",
    "b = set(np.where(sparse_data[second_index,:].toarray())[1].tolist())\n",
    "\n",
    "c = set(np.where(sparse_data[0,:].toarray())[1].tolist())\n",
    "\n",
    "print jaccard(a,b)\n",
    "print jaccard(a,c)\n",
    "print jaccard(c,b)\n",
    "\n",
    "max_jaccard = 0.0\n",
    "closest_neighbor = -1\n",
    "for row in range(NUM_SPEECHES):\n",
    "    if row == first_index:\n",
    "        continue\n",
    "    j_sim = jaccard(a, set(np.where(sparse_data[row,:].toarray())[1].tolist()))\n",
    "    \n",
    "    if j_sim > max_jaccard:\n",
    "        max_jaccard = j_sim\n",
    "        closest_neighbor = row\n",
    "        \n",
    "print closest_neighbor, max_jaccard"
   ]
  },
  {
   "cell_type": "markdown",
   "metadata": {},
   "source": [
    "#### Heapq test"
   ]
  },
  {
   "cell_type": "code",
   "execution_count": 46,
   "metadata": {
    "collapsed": false
   },
   "outputs": [
    {
     "name": "stdout",
     "output_type": "stream",
     "text": [
      "(1, 'write spec')\n",
      "(3, 'create tests')\n",
      "(5, 'write code')\n",
      "(7, 'release product')\n"
     ]
    }
   ],
   "source": [
    "h = []\n",
    "heapq.heappush(h, (5, 'write code'))\n",
    "heapq.heappush(h, (7, 'release product'))\n",
    "heapq.heappush(h, (1, 'write spec'))\n",
    "heapq.heappush(h, (3, 'create tests'))\n",
    "while len(h) > 0:\n",
    "    print heapq.heappop(h)"
   ]
  },
  {
   "cell_type": "code",
   "execution_count": 48,
   "metadata": {
    "collapsed": false
   },
   "outputs": [
    {
     "name": "stdout",
     "output_type": "stream",
     "text": [
      "3\n",
      "[1, 2, 4, 5]\n",
      "set([1, 2, 3])\n",
      "set([1, 2])\n",
      "[1, 2, 4, 5] [1, 2, 4, 5]\n",
      "[1, 2, 4] [1, 2, 4]\n",
      "[[1, 2], [3, 4, 2]]\n",
      "False\n",
      "True\n"
     ]
    }
   ],
   "source": [
    "a = [1,2,3,4,5]\n",
    "b = a.pop(2)\n",
    "print b\n",
    "print a\n",
    "\n",
    "s = set()\n",
    "s.add(1)\n",
    "s.add(2)\n",
    "s.add(3)\n",
    "print s\n",
    "s.remove(3)\n",
    "print s\n",
    "\n",
    "b = a\n",
    "print a,b\n",
    "b.pop()\n",
    "print a,b\n",
    "\n",
    "a = [[1,2], [3,4]]\n",
    "a[1].append(2)\n",
    "print a\n",
    "\n",
    "print np.isclose(0.0, 1.0/25000)\n",
    "print 0.0 != 1.0/25000"
   ]
  },
  {
   "cell_type": "markdown",
   "metadata": {},
   "source": [
    "#### Jaccard and heapq"
   ]
  },
  {
   "cell_type": "code",
   "execution_count": 41,
   "metadata": {
    "collapsed": false
   },
   "outputs": [
    {
     "name": "stdout",
     "output_type": "stream",
     "text": [
      "2740\n",
      "[2, 3, 4]\n"
     ]
    },
    {
     "data": {
      "text/plain": [
       "750"
      ]
     },
     "execution_count": 41,
     "metadata": {},
     "output_type": "execute_result"
    }
   ],
   "source": [
    "print NUM_SPEECHES\n",
    "\n",
    "print range(2, 5)\n",
    "\n",
    "len(set(np.where(dense_data[1,:])[0].tolist()))"
   ]
  },
  {
   "cell_type": "code",
   "execution_count": 7,
   "metadata": {
    "collapsed": false
   },
   "outputs": [
    {
     "name": "stdout",
     "output_type": "stream",
     "text": [
      "Creating jaccard_heap\n",
      "0.0 %\n",
      "2.73722627737 %\n",
      "5.47445255474 %\n",
      "8.21167883212 %\n",
      "10.9489051095 %\n",
      "13.6861313869 %\n",
      "16.4233576642 %\n",
      "19.1605839416 %\n",
      "21.897810219 %\n",
      "24.6350364964 %\n",
      "27.3722627737 %\n",
      "30.1094890511 %\n",
      "32.8467153285 %\n",
      "35.5839416058 %\n",
      "38.3211678832 %\n",
      "41.0583941606 %\n",
      "43.795620438 %\n",
      "46.5328467153 %\n",
      "49.2700729927 %\n",
      "52.0072992701 %\n",
      "54.7445255474 %\n",
      "57.4817518248 %\n",
      "60.2189781022 %\n",
      "62.9562043796 %\n",
      "65.6934306569 %\n",
      "68.4306569343 %\n",
      "71.1678832117 %\n",
      "73.9051094891 %\n",
      "76.6423357664 %\n",
      "79.3795620438 %\n",
      "82.1167883212 %\n",
      "84.8540145985 %\n",
      "87.5912408759 %\n",
      "90.3284671533 %\n",
      "93.0656934307 %\n",
      "95.802919708 %\n",
      "98.5401459854 %\n",
      "Time: 1850.82299995\n",
      "Heap size: 3752430\n",
      "2740\n",
      "Calculating clusters.\n",
      "Time: 1.30700016022\n"
     ]
    }
   ],
   "source": [
    "if dense_data:\n",
    "    threshold_columns = [col for col in inverted_index if 330 > len(inverted_index[col]) > 1]\n",
    "    dense_data = dense_data[:,threshold_columns]\n",
    "\n",
    "# For sparse matrix\n",
    "row_sets = [set(np.where(sparse_data[i,:].toarray())[1].tolist()) for i in range(NUM_SPEECHES)]\n",
    "# For dense matrix\n",
    "#row_sets = [set(np.where(dense_data[i,:])[0].tolist()) for i in range(NUM_SPEECHES)]\n",
    "\n",
    "jaccard_heap = []\n",
    "\n",
    "print 'Creating jaccard_heap'\n",
    "t0 = time()\n",
    "for row1 in range(NUM_SPEECHES):\n",
    "    if row1 % 75 == 0: print 100.0 * row1 / NUM_SPEECHES, '%'\n",
    "    for row2 in range(row1+1, NUM_SPEECHES):\n",
    "        heapq.heappush(jaccard_heap, (-jaccard(row_sets[row1], row_sets[row2]), (row1, row2)) )\n",
    "print 'Time:', time() - t0\n",
    "        \n",
    "print 'Heap size:', len(jaccard_heap)\n",
    "cluster_tracker = {}\n",
    "unlabeled = set(range(NUM_SPEECHES))\n",
    "print len(unlabeled)\n",
    "clusters = []\n",
    "\n",
    "print 'Calculating clusters.'\n",
    "t0 = time()\n",
    "\n",
    "iteration = 0\n",
    "\n",
    "while len(unlabeled) + len(clusters) != NUM_DEBATES:\n",
    "    next_tuple = heapq.heappop(jaccard_heap)\n",
    "    row1 = next_tuple[1][0]\n",
    "    row2 = next_tuple[1][1]\n",
    "    \n",
    "    # Both are unlabeled.\n",
    "    if row1 in unlabeled and row2 in unlabeled:\n",
    "        cluster_tracker[row1] = len(clusters)\n",
    "        cluster_tracker[row2] = len(clusters)\n",
    "        clusters.append( [row1, row2] )\n",
    "        unlabeled.remove(row1)\n",
    "        unlabeled.remove(row2)\n",
    "    # row1 is not labeled\n",
    "    elif row1 in unlabeled:\n",
    "        row2_index = cluster_tracker[row2]\n",
    "        clusters[row2_index].append(row1)\n",
    "        cluster_tracker[row1] = row2_index\n",
    "        unlabeled.remove(row1)\n",
    "    # row2 is not labeled\n",
    "    elif row2 in unlabeled:\n",
    "        row1_index = cluster_tracker[row1]\n",
    "        clusters[row1_index].append(row2)\n",
    "        cluster_tracker[row2] = row1_index\n",
    "        unlabeled.remove(row2)\n",
    "    # Both are already labeled, but in different clustesr.\n",
    "    elif cluster_tracker[row1] != cluster_tracker[row2]:\n",
    "        row1_index = cluster_tracker[row1]\n",
    "        old_row2_index = cluster_tracker[row2]\n",
    "        # Merge row2's cluster into row1's cluster.\n",
    "        row2_cluster = clusters[old_row2_index]\n",
    "        clusters[row1_index].extend(row2_cluster)\n",
    "        clusters.pop(old_row2_index)\n",
    "        \n",
    "        # Update indices > row2\n",
    "        for index in cluster_tracker:\n",
    "            if cluster_tracker[index] > old_row2_index:\n",
    "                cluster_tracker[index] -= 1\n",
    "        # Update row2's cluster indices.\n",
    "        row1_index = cluster_tracker[row1]\n",
    "        for index in row2_cluster:\n",
    "            cluster_tracker[index] = row1_index\n",
    "    # Else both are in the same cluster already.\n",
    "    \n",
    "    iteration += 1\n",
    "    #if iteration % 1000 == 0: print iteration\n",
    "                \n",
    "print 'Time:', time() - t0"
   ]
  },
  {
   "cell_type": "code",
   "execution_count": 8,
   "metadata": {
    "collapsed": false
   },
   "outputs": [
    {
     "name": "stdout",
     "output_type": "stream",
     "text": [
      "Number of points in a labeled cluster 2705\n",
      "Number of unlabeled points 35\n",
      "# of clusters 2740\n",
      "3653845\n",
      "2740\n",
      "=====\n",
      "[2, 2, 2701]\n",
      "2705\n",
      "=====\n",
      "====\n",
      "[0, 1, 2, 3, 4, 5, 6, 7, 8, 9, 10, 11, 12, 13, 14, 15, 16, 17, 18, 19]\n"
     ]
    }
   ],
   "source": [
    "print 'Number of points in a labeled cluster', len(cluster_tracker)\n",
    "print 'Number of unlabeled points', len(unlabeled)\n",
    "print '# of clusters', len(cluster_tracker) + len(unlabeled)\n",
    "print len(jaccard_heap)\n",
    "print len(row_sets)\n",
    "print '====='\n",
    "cluster_lengths = [len(c) for c in clusters]\n",
    "print cluster_lengths\n",
    "print sum(cluster_lengths)\n",
    "print '====='\n",
    "#for c in clusters:\n",
    "#    print c\n",
    "    \n",
    "all_points = []\n",
    "for c in clusters:\n",
    "    all_points.extend(c)\n",
    "    \n",
    "all_points.sort()\n",
    "print '===='\n",
    "print all_points[:20]"
   ]
  },
  {
   "cell_type": "markdown",
   "metadata": {},
   "source": [
    "## Utility functions"
   ]
  },
  {
   "cell_type": "code",
   "execution_count": 21,
   "metadata": {
    "collapsed": false
   },
   "outputs": [],
   "source": [
    "def entropy(p):\n",
    "    \"\"\"\n",
    "    Calculates the entropy of a discrete distribution using base e.\n",
    "    http://en.wikipedia.org/wiki/Entropy_(information_theory)\n",
    "\n",
    "    Arguments:\n",
    "        p: A list representing a discrete distribution (sums to 1).\n",
    "\n",
    "    Returns:\n",
    "        The entropy of the distribution.\n",
    "    \"\"\"\n",
    "\n",
    "    return -np.sum([x * np.log(x) for x in p if x != 0])\n",
    "\n",
    "def jsd(p, q):\n",
    "    \"\"\"\n",
    "    Calculates the Jensen-Shannon divergence between two discrete probability\n",
    "    distributions. Assumes the distributions are equally weighted.\n",
    "    http://en.wikipedia.org/wiki/Jensen%E2%80%93Shannon_divergence\n",
    "\n",
    "    Arguments:\n",
    "        p: A list representing discrete probability distribution (sums to 1).\n",
    "        q: A list representing discrete probability distribution (sums to 1).\n",
    "\n",
    "    Returns:\n",
    "        A float representing the Jensen-Shannon divergence, using base e.\n",
    "    \"\"\"\n",
    "\n",
    "    p = np.array(p)\n",
    "    q = np.array(q)\n",
    "\n",
    "    return entropy(0.5*p + 0.5*q) - 0.5 * (entropy(p) + entropy(q))\n",
    "\n",
    "def jsd_tuple(tuple_p, tuple_q):\n",
    "    \"\"\"\n",
    "    JSD for tuples.\n",
    "    \n",
    "    Assumes tuple[1] has the important data.\n",
    "    \"\"\"\n",
    "    p_indices = {t[0]:t[1] for t in tuple_p}\n",
    "    q_indices = {t[0]:t[1] for t in tuple_q}\n",
    "    \n",
    "    all_keys = set(p_indices.keys())\n",
    "    for key in q_indices.keys():\n",
    "        all_keys.add(key)\n",
    "        \n",
    "    all_keys = list(all_keys) # Preserve order?\n",
    "    \n",
    "    p = []\n",
    "    q = []\n",
    "    \n",
    "    for key in all_keys:\n",
    "        if key in p_indices:\n",
    "            p.append(p_indices[key])\n",
    "        else:\n",
    "            p.append(0.0)\n",
    "        \n",
    "        if key in q_indices:\n",
    "            q.append(q_indices[key])\n",
    "        else:\n",
    "            q.append(0.0)\n",
    "            \n",
    "    \n",
    "    return jsd(p,q)"
   ]
  },
  {
   "cell_type": "code",
   "execution_count": null,
   "metadata": {
    "collapsed": false
   },
   "outputs": [],
   "source": [
    "def single_link(m, k, dist):\n",
    "    '''\n",
    "    Computes the single clink clustering for the given points:\n",
    "    \n",
    "    Arguments:\n",
    "        m: A list of data points.\n",
    "        k: The number of clusters.\n",
    "        dist: The distance function.\n",
    "    Returns:\n",
    "        A 0-1 vector deliminating the clusters, in the same order as the input.\n",
    "    '''\n",
    "    clusters = [[i] for i in m]\n",
    "    while len(clusters) > k:\n",
    "        print len(clusters)\n",
    "        # Find closest pair\n",
    "        j1 = None\n",
    "        j2 = None\n",
    "        min_dist = float('inf')\n",
    "        for c1 in clusters:\n",
    "            for c2 in clusters:\n",
    "                if c1 != c2:\n",
    "                    for p in c1:\n",
    "                        for q in c2:\n",
    "                            d = dist(p,q)\n",
    "                            \n",
    "                            if d < min_dist:\n",
    "                                j1 = c1\n",
    "                                j2 = c2\n",
    "                                min_dist = d\n",
    "\n",
    "        # Update clustesr\n",
    "        clusters.remove(j1)\n",
    "        clusters.remove(j2)\n",
    "        j1.extend(j2)\n",
    "        clusters.append(j1)\n",
    "\n",
    "    c = []\n",
    "    for p in m:\n",
    "        for i in range(k):\n",
    "            if p in clusters[i]:\n",
    "                c.append(i)\n",
    "                break\n",
    "\n",
    "    return c"
   ]
  },
  {
   "cell_type": "markdown",
   "metadata": {},
   "source": [
    "### Single-link test"
   ]
  },
  {
   "cell_type": "code",
   "execution_count": 10,
   "metadata": {
    "collapsed": false
   },
   "outputs": [
    {
     "name": "stdout",
     "output_type": "stream",
     "text": [
      "31473\n",
      "sl_data.shape (2740L, 31473L)\n"
     ]
    }
   ],
   "source": [
    "sl_cols = [col for col in inverted_index if 329 >= len(inverted_index[col]) >= 2]\n",
    "print len(sl_cols)\n",
    "\n",
    "sl_data = dense_data[:,sl_cols]\n",
    "print 'sl_data.shape', sl_data.shape\n",
    "\n",
    "# Sign() the thresholded data.\n",
    "#signed_sl_data = np.sign(thresholded_data)"
   ]
  },
  {
   "cell_type": "code",
   "execution_count": null,
   "metadata": {
    "collapsed": true
   },
   "outputs": [],
   "source": [
    "# sclusters = si"
   ]
  },
  {
   "cell_type": "markdown",
   "metadata": {},
   "source": [
    "## Data Statistics"
   ]
  },
  {
   "cell_type": "code",
   "execution_count": null,
   "metadata": {
    "collapsed": false
   },
   "outputs": [],
   "source": []
  },
  {
   "cell_type": "markdown",
   "metadata": {},
   "source": [
    "#### Investigate words that occur in a little/large amount of documents."
   ]
  },
  {
   "cell_type": "code",
   "execution_count": 104,
   "metadata": {
    "collapsed": false
   },
   "outputs": [
    {
     "name": "stdout",
     "output_type": "stream",
     "text": [
      "Avg speeches per debate 72\n",
      "Est word thresh: 9\n",
      "Est word thresh: 31\n",
      "Data split: 1436.0066\n",
      "thresholded_data.shape (2740L, 7481L)\n"
     ]
    }
   ],
   "source": [
    "print 'Avg speeches per debate', NUM_SPEECHES / NUM_DEBATES\n",
    "\n",
    "lower_word_percent_thresh = 9\n",
    "print 'Est word thresh:', lower_word_percent_thresh\n",
    "\n",
    "upper_word_percent_thresh = 31\n",
    "print 'Est word thresh:', upper_word_percent_thresh\n",
    "\n",
    "zero_one_split = 2740 * 0.52409\n",
    "print 'Data split:' , zero_one_split\n",
    "\n",
    "# Threshold the input data.\n",
    "threshold_columns = [col for col in inverted_index if upper_word_percent_thresh > len(inverted_index[col]) > lower_word_percent_thresh]\n",
    "thresholded_data = dense_data[:,threshold_columns]\n",
    "print 'thresholded_data.shape', thresholded_data.shape\n",
    "\n",
    "# Sign() the thresholded data.\n",
    "signed_thresholded_data = np.sign(thresholded_data)"
   ]
  },
  {
   "cell_type": "code",
   "execution_count": 37,
   "metadata": {
    "collapsed": false
   },
   "outputs": [
    {
     "name": "stdout",
     "output_type": "stream",
     "text": [
      "Sorted subset of word_doc_occs: [1, 1, 1, 1, 1, 1, 1, 1, 1, 1]\n",
      "Num of words in only 1 doc: 16803\n",
      "Num words with freq > est_word_thresh: 13091\n",
      "Num words with freq < upper_word_percent_thresh: 46657\n"
     ]
    },
    {
     "data": {
      "text/plain": [
       "<matplotlib.text.Text at 0x27b804a8>"
      ]
     },
     "execution_count": 37,
     "metadata": {},
     "output_type": "execute_result"
    },
    {
     "data": {
      "image/png": "[encoded data removed]",
      "text/plain": [
       "<matplotlib.figure.Figure at 0x26c81b38>"
      ]
     },
     "metadata": {},
     "output_type": "display_data"
    }
   ],
   "source": [
    "word_doc_occs = [len(inverted_index[w]) for w in inverted_index]\n",
    "print 'Sorted subset of word_doc_occs:', sorted(word_doc_occs)[:10]\n",
    "print 'Num of words in only 1 doc:', word_doc_occs.count(1)\n",
    "print 'Num words with freq > est_word_thresh:', sum([1 for w in inverted_index if len(inverted_index[w]) > lower_word_percent_thresh])\n",
    "print 'Num words with freq < upper_word_percent_thresh:', sum([1 for w in inverted_index if len(inverted_index[w]) < upper_word_percent_thresh])\n",
    "plt.hist(word_doc_occs, bins=50)\n",
    "plt.title('Histgram of Word/Doc Occurrences')"
   ]
  },
  {
   "cell_type": "markdown",
   "metadata": {},
   "source": [
    "#### Investigate high entropy words."
   ]
  },
  {
   "cell_type": "code",
   "execution_count": 57,
   "metadata": {
    "collapsed": false
   },
   "outputs": [
    {
     "name": "stdout",
     "output_type": "stream",
     "text": [
      "[4.792846295791648, 4.7750591404233802, 4.7617200327941944, 4.7568878136881265, 4.7470202926506797, 4.7447988214215719, 4.7384972639503884, 4.7369740502534787, 4.7346353148575062, 4.732341498926365]\n"
     ]
    },
    {
     "data": {
      "text/plain": [
       "<matplotlib.text.Text at 0x237bdb00>"
      ]
     },
     "execution_count": 57,
     "metadata": {},
     "output_type": "execute_result"
    },
    {
     "data": {
      "image/png": "[encoded data removed]",
      "text/plain": [
       "<matplotlib.figure.Figure at 0x34540f0>"
      ]
     },
     "metadata": {},
     "output_type": "display_data"
    }
   ],
   "source": [
    "entropies = []\n",
    "for col in inverted_index:\n",
    "     if upper_word_percent_thresh > len(inverted_index[col]) > lower_word_percent_thresh:\n",
    "            d = list(dense_data[:,col])\n",
    "            d_sum = sum(d)\n",
    "            d_norm = [i / d_sum for i in d]\n",
    "            assert np.isclose(sum(d_norm),1.0), sum(d_norm)\n",
    "            entropies.append(entropy(d_norm))\n",
    "            \n",
    "entropies.sort(reverse=True)\n",
    "print entropies[:10]\n",
    "            \n",
    "plt.hist(entropies)\n",
    "plt.title('Histogram of word entropies')"
   ]
  },
  {
   "cell_type": "code",
   "execution_count": 78,
   "metadata": {
    "collapsed": false
   },
   "outputs": [
    {
     "name": "stdout",
     "output_type": "stream",
     "text": [
      "440\n",
      "[0.0, 0.0, 0.0, 0.0, 0.0, 0.0, 0.0, 0.0, 0.0, 0.0]\n",
      "[382.0, 424.0, 427.0, 438.0, 453.0, 460.0, 612.0, 661.0, 849.0, 916.0]\n",
      "46.9211678832\n",
      "65.093949432\n",
      "(2740L, 7481L)\n"
     ]
    },
    {
     "data": {
      "text/plain": [
       "(array([  2.29200000e+03,   3.51000000e+02,   7.20000000e+01,\n",
       "          1.40000000e+01,   6.00000000e+00,   1.00000000e+00,\n",
       "          1.00000000e+00,   1.00000000e+00,   0.00000000e+00,\n",
       "          2.00000000e+00]),\n",
       " array([   0. ,   91.6,  183.2,  274.8,  366.4,  458. ,  549.6,  641.2,\n",
       "         732.8,  824.4,  916. ]),\n",
       " <a list of 10 Patch objects>)"
      ]
     },
     "execution_count": 78,
     "metadata": {},
     "output_type": "execute_result"
    },
    {
     "data": {
      "image/png": "[encoded data removed]",
      "text/plain": [
       "<matplotlib.figure.Figure at 0x33928be0>"
      ]
     },
     "metadata": {},
     "output_type": "display_data"
    }
   ],
   "source": [
    "signed_thresholded_data_row_sums = []\n",
    "for row in range(signed_thresholded_data.shape[0]):\n",
    "    signed_thresholded_data_row_sums.append(sum(signed_thresholded_data[row,:]))\n",
    "    \n",
    "print sum(1 for i in signed_thresholded_data_row_sums if upper_word_percent_thresh > i > lower_word_percent_thresh)\n",
    "signed_thresholded_data_row_sums.sort()\n",
    "print signed_thresholded_data_row_sums[:10]\n",
    "print signed_thresholded_data_row_sums[-10:]\n",
    "print np.average(signed_thresholded_data_row_sums)\n",
    "print np.std(signed_thresholded_data_row_sums)\n",
    "print signed_thresholded_data.shape\n",
    "plt.hist(signed_thresholded_data_row_sums)"
   ]
  },
  {
   "cell_type": "markdown",
   "metadata": {
    "collapsed": false
   },
   "source": [
    "## Single link"
   ]
  },
  {
   "cell_type": "code",
   "execution_count": 38,
   "metadata": {
    "collapsed": false
   },
   "outputs": [
    {
     "data": {
      "text/plain": [
       "\"\\ndef use_jsd_matrix(p, q):\\n    return jsd_matrix[jsd_matrix_map(str(p))][jsd_matrix_map(str(q))]\\n\\nprint 'Creating jsd_matrix_map.'\\njsd_matrix_map = {str(d):i for i,d in enumerate(data)}\\n\\nprint 'Creating jsd_matrix.'\\njsd_matrix = [range(NUM_DATA) for i in range(NUM_DATA)]\\nfor i in range(NUM_DATA):\\n    print i\\n    for j in range(NUM_DATA):\\n        jsd_matrix[i][j] = jsd_tuple(data[i], data[j])\\n\\nprint 'Creating single_link_clusters'\\nsingle_link_clusters = single_link(data, 38, use_jsd_matrix)\\n\""
      ]
     },
     "execution_count": 38,
     "metadata": {},
     "output_type": "execute_result"
    }
   ],
   "source": [
    "\"\"\"\n",
    "def use_jsd_matrix(p, q):\n",
    "    return jsd_matrix[jsd_matrix_map(str(p))][jsd_matrix_map(str(q))]\n",
    "\n",
    "print 'Creating jsd_matrix_map.'\n",
    "jsd_matrix_map = {str(d):i for i,d in enumerate(data)}\n",
    "\n",
    "print 'Creating jsd_matrix.'\n",
    "jsd_matrix = [range(NUM_DATA) for i in range(NUM_DATA)]\n",
    "for i in range(NUM_DATA):\n",
    "    print i\n",
    "    for j in range(NUM_DATA):\n",
    "        jsd_matrix[i][j] = jsd_tuple(data[i], data[j])\n",
    "\n",
    "print 'Creating single_link_clusters'\n",
    "single_link_clusters = single_link(data, 38, use_jsd_matrix)\n",
    "\"\"\""
   ]
  },
  {
   "cell_type": "markdown",
   "metadata": {},
   "source": [
    "## Random Projection"
   ]
  },
  {
   "cell_type": "code",
   "execution_count": 42,
   "metadata": {
    "collapsed": false
   },
   "outputs": [
    {
     "data": {
      "text/plain": [
       "(2740, 6784)"
      ]
     },
     "execution_count": 42,
     "metadata": {},
     "output_type": "execute_result"
    }
   ],
   "source": [
    "sparse_transformer = random_projection.SparseRandomProjection()\n",
    "data_new = sparse_transformer.fit_transform(sparse_data)\n",
    "data_new.shape"
   ]
  },
  {
   "cell_type": "markdown",
   "metadata": {
    "collapsed": false
   },
   "source": [
    "## T-SNE on Various Data Representations"
   ]
  },
  {
   "cell_type": "markdown",
   "metadata": {},
   "source": [
    "#### T-SNE on Sparse Data Transformed using SVD"
   ]
  },
  {
   "cell_type": "code",
   "execution_count": 13,
   "metadata": {
    "collapsed": false
   },
   "outputs": [
    {
     "name": "stdout",
     "output_type": "stream",
     "text": [
      " Shape of truncated_svd_sparse_data: (2740L, 10L)\n",
      "% Variance explained by SVD: 0.454772124557\n"
     ]
    }
   ],
   "source": [
    "# Perform SVD first.\n",
    "truncated_svd = TruncatedSVD(n_components=10, random_state=42)\n",
    "truncated_svd_sparse_data = truncated_svd.fit_transform(sparse_data)\n",
    "print 'Shape of truncated_svd_sparse_data:', truncated_svd_sparse_data.shape\n",
    "print '% Variance explained by SVD:', truncated_svd.explained_variance_ratio_.sum()"
   ]
  },
  {
   "cell_type": "code",
   "execution_count": 24,
   "metadata": {
    "collapsed": false
   },
   "outputs": [
    {
     "name": "stdout",
     "output_type": "stream",
     "text": [
      "Shape of data_tsne: (2740L, 2L)\n"
     ]
    },
    {
     "data": {
      "text/plain": [
       "[<matplotlib.lines.Line2D at 0x19506908>]"
      ]
     },
     "execution_count": 24,
     "metadata": {},
     "output_type": "execute_result"
    },
    {
     "data": {
      "image/png": "[encoded data removed]",
      "text/plain": [
       "<matplotlib.figure.Figure at 0x190719e8>"
      ]
     },
     "metadata": {},
     "output_type": "display_data"
    }
   ],
   "source": [
    "# Run TSNE\n",
    "tsne_model_svd = manifoldT.SNE(n_components=2, random_state=0)\n",
    "sparse_data_tsne = tsne_model_svd.fit_transform(truncated_svd_sparse_data)\n",
    "print 'Shape of data_tsne:', sparse_data_tsne.shape\n",
    "\n",
    "plt.plot(sparse_data_tsne[:,0], sparse_data_tsne[:,1], 'ro')"
   ]
  },
  {
   "cell_type": "markdown",
   "metadata": {},
   "source": [
    "#### T-SNE on Thresholded, Dense Data Using PCA"
   ]
  },
  {
   "cell_type": "code",
   "execution_count": 58,
   "metadata": {
    "collapsed": false
   },
   "outputs": [
    {
     "name": "stdout",
     "output_type": "stream",
     "text": [
      "Shape of pca_data: (2740L, 50L)\n",
      "% Variance explained by SVD: 0.684023179982\n"
     ]
    }
   ],
   "source": [
    "# PCA on thresholded data.\n",
    "pca_model = decomposition.PCA(n_components=50)\n",
    "pca_thresholded_data = pca_model.fit_transform(thresholded_data)\n",
    "print 'Shape of pca_data:', pca_data.shape\n",
    "print '% Variance explained by SVD:', pca_model.explained_variance_ratio_.sum()"
   ]
  },
  {
   "cell_type": "code",
   "execution_count": 59,
   "metadata": {
    "collapsed": false
   },
   "outputs": [
    {
     "name": "stdout",
     "output_type": "stream",
     "text": [
      "Shape of data_tsne: (2740L, 2L)\n"
     ]
    }
   ],
   "source": [
    "tsne_model_pca = manifold.TSNE(n_components=2, random_state=0)\n",
    "thresholded_data_tsne = tsne_model_pca.fit_transform(pca_thresholded_data)\n",
    "print 'Shape of data_tsne:', thresholded_data_tsne.shape"
   ]
  },
  {
   "cell_type": "code",
   "execution_count": 60,
   "metadata": {
    "collapsed": false
   },
   "outputs": [
    {
     "data": {
      "text/plain": [
       "[<matplotlib.lines.Line2D at 0x27cacc88>]"
      ]
     },
     "execution_count": 60,
     "metadata": {},
     "output_type": "execute_result"
    },
    {
     "data": {
      "image/png": "[encoded data removed]",
      "text/plain": [
       "<matplotlib.figure.Figure at 0x252c0748>"
      ]
     },
     "metadata": {},
     "output_type": "display_data"
    }
   ],
   "source": [
    "plt.plot(thresholded_data_tsne[:,0], thresholded_data_tsne[:,1], 'ro')"
   ]
  },
  {
   "cell_type": "markdown",
   "metadata": {},
   "source": [
    "#### T-SNE on Thresholded, Dense Data Using PCA"
   ]
  },
  {
   "cell_type": "code",
   "execution_count": null,
   "metadata": {
    "collapsed": true
   },
   "outputs": [],
   "source": [
    "# PCA on signed thresholded data.\n",
    "signed_thresholded_pca_model = decomposition.PCA(n_components=50)\n",
    "pca_signed_thresholded_data = signed_thresholded_pca_model.fit_transform(signed_thresholded_data)\n",
    "print 'Shape of pca_data:', pca_signed_thresholded_data.shape\n",
    "print '% Variance explained by SVD:', signed_thresholded_pca_model.explained_variance_ratio_.sum()\n",
    "\n",
    "tsne_model_pca_signed_thresholded = manifold.TSNE(n_components=2, random_state=0)\n",
    "signed_thresholded_data_tsne = tsne_model_pca_signed_thresholded.fit_transform(pca_signed_thresholded_data)\n",
    "print 'Shape of data_tsne:', signed_thresholded_data_tsne.shape\n",
    "plt.plot(signed_thresholded_data_tsne[:,0], signed_thresholded_data_tsne[:,1], 'ro')"
   ]
  },
  {
   "cell_type": "markdown",
   "metadata": {},
   "source": [
    "## K-Means on Thresholded Data"
   ]
  },
  {
   "cell_type": "code",
   "execution_count": 122,
   "metadata": {
    "collapsed": true
   },
   "outputs": [],
   "source": [
    "def hist_kmeans_labels(labels, var_name):\n",
    "\n",
    "    counts = [labels.count(i) for i in range(NUM_DEBATES)]\n",
    "\n",
    "    print 'Labels:', sorted(counts)\n",
    "    print 'Avg:', np.average(counts)\n",
    "    print 'Std dev:', np.std(counts)\n",
    "\n",
    "    plt.hist(counts,  bins=38)\n",
    "    plt.xlabel('Number of points in bins')\n",
    "    plt.ylabel('# bins')\n",
    "    plt.title('Histogram of ' + var_name)"
   ]
  },
  {
   "cell_type": "code",
   "execution_count": 90,
   "metadata": {
    "collapsed": false
   },
   "outputs": [],
   "source": [
    "def visualize_kmeans(data, estimator, title):\n",
    "    # Step size of the mesh. Decrease to increase the quality of the VQ.\n",
    "    h = .02     # point in the mesh [x_min, m_max]x[y_min, y_max].\n",
    "\n",
    "    # Plot the decision boundary. For that, we will assign a color to each\n",
    "    x_min, x_max = data[:, 0].min() + 1, data[:, 0].max() - 1\n",
    "    y_min, y_max = data[:, 1].min() + 1, data[:, 1].max() - 1\n",
    "    xx, yy = np.meshgrid(np.arange(x_min, x_max, h), np.arange(y_min, y_max, h))\n",
    "\n",
    "    # Obtain labels for each point in mesh. Use last trained model.\n",
    "    Z = estimator.predict(np.c_[xx.ravel(), yy.ravel()])\n",
    "\n",
    "    # Put the result into a color plot\n",
    "    Z = Z.reshape(xx.shape)\n",
    "    plt.figure(1)\n",
    "    plt.clf()\n",
    "    plt.imshow(Z, interpolation='nearest',\n",
    "               extent=(xx.min(), xx.max(), yy.min(), yy.max()),\n",
    "               cmap=plt.cm.Paired,\n",
    "               aspect='auto', origin='lower')\n",
    "\n",
    "    plt.plot(data[:, 0], data[:, 1], 'k.', markersize=2)\n",
    "    # Plot the centroids as a white X\n",
    "    centroids = estimator.cluster_centers_\n",
    "    plt.scatter(centroids[:, 0], centroids[:, 1],\n",
    "                marker='x', s=169, linewidths=3,\n",
    "                color='w', zorder=10)\n",
    "    plt.title('K-means clustering using estimator ' + title)\n",
    "    plt.xlim(x_min, x_max)\n",
    "    plt.ylim(y_min, y_max)\n",
    "    plt.xticks(())\n",
    "    plt.yticks(())"
   ]
  },
  {
   "cell_type": "markdown",
   "metadata": {},
   "source": [
    "#### Using the original thresholded data."
   ]
  },
  {
   "cell_type": "code",
   "execution_count": 102,
   "metadata": {
    "collapsed": false
   },
   "outputs": [
    {
     "data": {
      "text/plain": [
       "KMeans(copy_x=True, init='k-means++', max_iter=300, n_clusters=38, n_init=10,\n",
       "    n_jobs=1, precompute_distances=True, random_state=None, tol=0.0001,\n",
       "    verbose=0)"
      ]
     },
     "execution_count": 102,
     "metadata": {},
     "output_type": "execute_result"
    }
   ],
   "source": [
    "kmeans_clf = cluster.KMeans(n_clusters=NUM_DEBATES, n_init=10, max_iter=300)\n",
    "kmeans_clf.fit(thresholded_data)"
   ]
  },
  {
   "cell_type": "code",
   "execution_count": 112,
   "metadata": {
    "collapsed": false
   },
   "outputs": [
    {
     "name": "stdout",
     "output_type": "stream",
     "text": [
      "Labels: [1, 1, 1, 1, 1, 1, 1, 1, 1, 1, 2, 2, 3, 4, 4, 4, 5, 5, 5, 6, 6, 6, 7, 9, 9, 10, 12, 13, 14, 16, 17, 19, 19, 21, 21, 26, 62, 2403]\n",
      "Avg: 72.1052631579\n",
      "Std dev: 383.357315079\n"
     ]
    },
    {
     "data": {
      "image/png": "[encoded data removed]",
      "text/plain": [
       "<matplotlib.figure.Figure at 0x2817b588>"
      ]
     },
     "metadata": {},
     "output_type": "display_data"
    }
   ],
   "source": [
    "k_means_labels = list(kmeans_clf.labels_)\n",
    "\n",
    "hist_kmeans_labels(k_means_labels, 'k_means_labels')"
   ]
  },
  {
   "cell_type": "markdown",
   "metadata": {},
   "source": [
    "#### Using the signed thresholded data."
   ]
  },
  {
   "cell_type": "code",
   "execution_count": 97,
   "metadata": {
    "collapsed": false
   },
   "outputs": [
    {
     "data": {
      "text/plain": [
       "KMeans(copy_x=True, init='k-means++', max_iter=300, n_clusters=38, n_init=20,\n",
       "    n_jobs=1, precompute_distances=True, random_state=None, tol=0.0001,\n",
       "    verbose=0)"
      ]
     },
     "execution_count": 97,
     "metadata": {},
     "output_type": "execute_result"
    }
   ],
   "source": [
    "signed_kmeans_clf = cluster.KMeans(n_clusters=NUM_DEBATES, n_init=20, max_iter=300)\n",
    "signed_kmeans_clf.fit(signed_thresholded_data)"
   ]
  },
  {
   "cell_type": "code",
   "execution_count": 111,
   "metadata": {
    "collapsed": false
   },
   "outputs": [
    {
     "name": "stdout",
     "output_type": "stream",
     "text": [
      "Labels: [1, 1, 1, 1, 1, 1, 1, 1, 1, 1, 1, 1, 1, 1, 1, 1, 1, 1, 1, 1, 1, 1, 1, 1, 1, 1, 1, 1, 1, 1, 1, 2, 3, 87, 143, 285, 519, 1670]\n",
      "Avg: 72.1052631579\n",
      "Std dev: 279.566373766\n"
     ]
    },
    {
     "data": {
      "image/png": "[encoded data removed]",
      "text/plain": [
       "<matplotlib.figure.Figure at 0x27ffa390>"
      ]
     },
     "metadata": {},
     "output_type": "display_data"
    }
   ],
   "source": [
    "signed_k_means_labels = list(signed_kmeans_clf.labels_)\n",
    "\n",
    "hist_kmeans_labels(signed_k_means_labels, 'signed_k_means_labels')"
   ]
  },
  {
   "cell_type": "markdown",
   "metadata": {},
   "source": [
    "#### Trying to break down clusters"
   ]
  },
  {
   "cell_type": "code",
   "execution_count": 133,
   "metadata": {
    "collapsed": true
   },
   "outputs": [],
   "source": [
    "signed_thresholded_data_row_sums = []\n",
    "for row in range(signed_thresholded_data.shape[0]):\n",
    "    signed_thresholded_data_row_sums.append(sum(signed_thresholded_data[row,:]))\n",
    "    \n",
    "rows_to_keep = [i for i in signed_thresholded_data_row_sums if upper_word_percent_thresh > i > lower_word_percent_thresh]\n",
    "\n",
    "pruned_signed_thresholded_data = thresholded_data[rows_to_keep, :]"
   ]
  },
  {
   "cell_type": "code",
   "execution_count": 134,
   "metadata": {
    "collapsed": false
   },
   "outputs": [
    {
     "data": {
      "text/plain": [
       "[<matplotlib.lines.Line2D at 0x2e896128>]"
      ]
     },
     "execution_count": 134,
     "metadata": {},
     "output_type": "execute_result"
    },
    {
     "data": {
      "image/png": "[encoded data removed]",
      "text/plain": [
       "<matplotlib.figure.Figure at 0x2e513048>"
      ]
     },
     "metadata": {},
     "output_type": "display_data"
    }
   ],
   "source": [
    "reduced_pruned_signed_thresholded_data = decomposition.PCA(n_components=25).fit_transform(pruned_signed_thresholded_data)\n",
    "\n",
    "plt.plot(reduced_pruned_signed_thresholded_data[:,0], reduced_pruned_signed_thresholded_data[:,1], 'ro')"
   ]
  },
  {
   "cell_type": "code",
   "execution_count": 135,
   "metadata": {
    "collapsed": false
   },
   "outputs": [
    {
     "name": "stdout",
     "output_type": "stream",
     "text": [
      "(440L, 25L)\n"
     ]
    }
   ],
   "source": [
    "print reduced_pruned_signed_thresholded_data.shape"
   ]
  },
  {
   "cell_type": "code",
   "execution_count": 136,
   "metadata": {
    "collapsed": false
   },
   "outputs": [
    {
     "name": "stdout",
     "output_type": "stream",
     "text": [
      "Labels: [0, 0, 0, 0, 0, 0, 0, 0, 0, 0, 0, 0, 0, 0, 0, 0, 0, 0, 0, 0, 0, 0, 0, 0, 0, 0, 0, 0, 0, 0, 0, 0, 0, 0, 22, 26, 31, 361]\n",
      "Avg: 11.5789473684\n",
      "Std dev: 57.88992803\n"
     ]
    },
    {
     "data": {
      "image/png": "[encoded data removed]",
      "text/plain": [
       "<matplotlib.figure.Figure at 0x2ea8fb38>"
      ]
     },
     "metadata": {},
     "output_type": "display_data"
    }
   ],
   "source": [
    "reduced_pruned_signed_thresholded_kmeans = cluster.KMeans(init='k-means++', n_clusters=4, n_init=10)\n",
    "reduced_pruned_signed_thresholded_kmeans.fit(reduced_pruned_signed_thresholded_data)\n",
    "reduced_pruned_signed_thresholdeds_labels = list(reduced_pruned_signed_thresholded_kmeans.labels_)\n",
    "\n",
    "hist_kmeans_labels(reduced_pruned_signed_thresholdeds_labels, 'reduced_pruned_signed_thresholdeds_labels')"
   ]
  },
  {
   "cell_type": "code",
   "execution_count": 119,
   "metadata": {
    "collapsed": false
   },
   "outputs": [
    {
     "data": {
      "image/png": "[encoded data removed]",
      "text/plain": [
       "<matplotlib.figure.Figure at 0x398ef2b0>"
      ]
     },
     "metadata": {},
     "output_type": "display_data"
    }
   ],
   "source": [
    "visualize_kmeans(reduced_pruned_signed_thresholded_data, reduced_pruned_signed_thresholded_kmeans, 'reduced_pruned_signed_thresholded_kmeans')"
   ]
  },
  {
   "cell_type": "code",
   "execution_count": 139,
   "metadata": {
    "collapsed": false
   },
   "outputs": [],
   "source": [
    "orig_rows = []\n",
    "for i,a in zip(rows_to_keep,reduced_pruned_signed_thresholdeds_labels):\n",
    "    if a == 0:\n",
    "        orig_rows.append(i)"
   ]
  },
  {
   "cell_type": "code",
   "execution_count": 141,
   "metadata": {
    "collapsed": false
   },
   "outputs": [
    {
     "data": {
      "text/plain": [
       "[<matplotlib.lines.Line2D at 0x300ef0b8>]"
      ]
     },
     "execution_count": 141,
     "metadata": {},
     "output_type": "execute_result"
    },
    {
     "data": {
      "image/png": "[encoded data removed]",
      "text/plain": [
       "<matplotlib.figure.Figure at 0x2e8b55c0>"
      ]
     },
     "metadata": {},
     "output_type": "display_data"
    }
   ],
   "source": [
    "cluster_to_break_down = TruncatedSVD(n_components=10, random_state=42).fit_transform(dense_data[orig_rows,:])\n",
    "\n",
    "plt.plot(cluster_to_break_down[:,0], cluster_to_break_down[:,1], 'ro')"
   ]
  },
  {
   "cell_type": "markdown",
   "metadata": {},
   "source": [
    "#### Testing Using small threshold"
   ]
  },
  {
   "cell_type": "code",
   "execution_count": null,
   "metadata": {
    "collapsed": true
   },
   "outputs": [],
   "source": [
    "cols_to_keep = [k for\n",
    "data_to_cluster = dense_data["
   ]
  },
  {
   "cell_type": "markdown",
   "metadata": {},
   "source": [
    "#### Using signed threshold PCA data."
   ]
  },
  {
   "cell_type": "code",
   "execution_count": 114,
   "metadata": {
    "collapsed": false
   },
   "outputs": [
    {
     "data": {
      "text/plain": [
       "KMeans(copy_x=True, init='k-means++', max_iter=300, n_clusters=38, n_init=10,\n",
       "    n_jobs=1, precompute_distances=True, random_state=None, tol=0.0001,\n",
       "    verbose=0)"
      ]
     },
     "execution_count": 114,
     "metadata": {},
     "output_type": "execute_result"
    }
   ],
   "source": [
    "#reduced_signed_thresholded_data = decomposition.PCA(n_components=2).fit_transform(signed_thresholded_data)\n",
    "reduced_signed_thresholded_data = decomposition.PCA(n_components=2).fit_transform(thresholded_data)\n",
    "reduced_signed_kmeans = cluster.KMeans(init='k-means++', n_clusters=NUM_DEBATES, n_init=10)\n",
    "reduced_signed_kmeans.fit(reduced_signed_thresholded_data)"
   ]
  },
  {
   "cell_type": "code",
   "execution_count": 115,
   "metadata": {
    "collapsed": false,
    "scrolled": true
   },
   "outputs": [
    {
     "name": "stdout",
     "output_type": "stream",
     "text": [
      "Labels: [1, 1, 2, 3, 7, 8, 9, 10, 11, 14, 15, 16, 20, 21, 23, 25, 26, 26, 28, 35, 36, 37, 38, 48, 52, 59, 69, 69, 69, 82, 83, 84, 95, 129, 142, 153, 259, 935]\n",
      "Avg: 72.1052631579\n",
      "Std dev: 151.048056047\n"
     ]
    },
    {
     "data": {
      "image/png": "[encoded data removed]",
      "text/plain": [
       "<matplotlib.figure.Figure at 0x36043cf8>"
      ]
     },
     "metadata": {},
     "output_type": "display_data"
    }
   ],
   "source": [
    "reduced_signed_k_means_labels = list(reduced_signed_kmeans.labels_)\n",
    "\n",
    "hist_kmeans_labels(reduced_signed_k_means_labels, 'reduced_signed_k_means_labels')"
   ]
  },
  {
   "cell_type": "markdown",
   "metadata": {},
   "source": [
    "Visualize the k-means output on the PCA data."
   ]
  },
  {
   "cell_type": "code",
   "execution_count": 122,
   "metadata": {
    "collapsed": false
   },
   "outputs": [
    {
     "data": {
      "image/png": "[encoded data removed]",
      "text/plain": [
       "<matplotlib.figure.Figure at 0x280e6b70>"
      ]
     },
     "metadata": {},
     "output_type": "display_data"
    }
   ],
   "source": [
    "visualize_kmeans(reduced_signed_thresholded_data, reduced_signed_kmeans, 'reduced_signed_kmeans')"
   ]
  },
  {
   "cell_type": "markdown",
   "metadata": {},
   "source": [
    "#### Kmeans using truncated SVD on original sparse matrix."
   ]
  },
  {
   "cell_type": "code",
   "execution_count": 124,
   "metadata": {
    "collapsed": true
   },
   "outputs": [],
   "source": [
    "truncated_svd_for_kmeans = TruncatedSVD(n_components=2, random_state=42)\n",
    "truncated_svd_kmeans_sparse_data = truncated_svd_for_kmeans.fit_transform(sparse_data)"
   ]
  },
  {
   "cell_type": "code",
   "execution_count": 125,
   "metadata": {
    "collapsed": false
   },
   "outputs": [
    {
     "data": {
      "text/plain": [
       "KMeans(copy_x=True, init='k-means++', max_iter=300, n_clusters=38, n_init=10,\n",
       "    n_jobs=1, precompute_distances=True, random_state=None, tol=0.0001,\n",
       "    verbose=0)"
      ]
     },
     "execution_count": 125,
     "metadata": {},
     "output_type": "execute_result"
    }
   ],
   "source": [
    "truncated_sparse_kmeans = cluster.KMeans(init='k-means++', n_clusters=NUM_DEBATES, n_init=10)\n",
    "truncated_sparse_kmeans.fit(truncated_svd_kmeans_sparse_data)"
   ]
  },
  {
   "cell_type": "code",
   "execution_count": 128,
   "metadata": {
    "collapsed": false
   },
   "outputs": [
    {
     "name": "stdout",
     "output_type": "stream",
     "text": [
      "(2740L, 2L)\n",
      "Labels: [7, 9, 10, 11, 11, 12, 15, 21, 22, 26, 26, 26, 27, 28, 30, 31, 33, 38, 39, 40, 44, 56, 59, 64, 70, 72, 78, 84, 87, 97, 118, 158, 158, 162, 205, 239, 251, 276]\n",
      "Avg: 72.1052631579\n",
      "Std dev: 71.9143457885\n"
     ]
    },
    {
     "ename": "ValueError",
     "evalue": "zero-size array to reduction operation minimum which has no identity",
     "output_type": "error",
     "traceback": [
      "\u001b[1;31m---------------------------------------------------------------------------\u001b[0m",
      "\u001b[1;31mValueError\u001b[0m                                Traceback (most recent call last)",
      "\u001b[1;32m<ipython-input-128-ca31a96ac1e2>\u001b[0m in \u001b[0;36m<module>\u001b[1;34m()\u001b[0m\n\u001b[0;32m      3\u001b[0m \u001b[1;33m\u001b[0m\u001b[0m\n\u001b[0;32m      4\u001b[0m \u001b[0mhist_kmeans_labels\u001b[0m\u001b[1;33m(\u001b[0m\u001b[0mtruncated_sparse_kmeans_labels\u001b[0m\u001b[1;33m,\u001b[0m \u001b[1;34m'truncated_sparse_kmeans_labels'\u001b[0m\u001b[1;33m)\u001b[0m\u001b[1;33m\u001b[0m\u001b[0m\n\u001b[1;32m----> 5\u001b[1;33m \u001b[0mvisualize_kmeans\u001b[0m\u001b[1;33m(\u001b[0m\u001b[0mtruncated_svd_kmeans_sparse_data\u001b[0m\u001b[1;33m,\u001b[0m \u001b[0mtruncated_sparse_kmeans\u001b[0m\u001b[1;33m,\u001b[0m \u001b[1;34m'truncated_sparse_kmeans'\u001b[0m\u001b[1;33m)\u001b[0m\u001b[1;33m\u001b[0m\u001b[0m\n\u001b[0m",
      "\u001b[1;32m<ipython-input-121-3d2cf0995c92>\u001b[0m in \u001b[0;36mvisualize_kmeans\u001b[1;34m(data, estimator, title)\u001b[0m\n\u001b[0;32m     16\u001b[0m     \u001b[0mplt\u001b[0m\u001b[1;33m.\u001b[0m\u001b[0mclf\u001b[0m\u001b[1;33m(\u001b[0m\u001b[1;33m)\u001b[0m\u001b[1;33m\u001b[0m\u001b[0m\n\u001b[0;32m     17\u001b[0m     plt.imshow(Z, interpolation='nearest',\n\u001b[1;32m---> 18\u001b[1;33m                \u001b[0mextent\u001b[0m\u001b[1;33m=\u001b[0m\u001b[1;33m(\u001b[0m\u001b[0mxx\u001b[0m\u001b[1;33m.\u001b[0m\u001b[0mmin\u001b[0m\u001b[1;33m(\u001b[0m\u001b[1;33m)\u001b[0m\u001b[1;33m,\u001b[0m \u001b[0mxx\u001b[0m\u001b[1;33m.\u001b[0m\u001b[0mmax\u001b[0m\u001b[1;33m(\u001b[0m\u001b[1;33m)\u001b[0m\u001b[1;33m,\u001b[0m \u001b[0myy\u001b[0m\u001b[1;33m.\u001b[0m\u001b[0mmin\u001b[0m\u001b[1;33m(\u001b[0m\u001b[1;33m)\u001b[0m\u001b[1;33m,\u001b[0m \u001b[0myy\u001b[0m\u001b[1;33m.\u001b[0m\u001b[0mmax\u001b[0m\u001b[1;33m(\u001b[0m\u001b[1;33m)\u001b[0m\u001b[1;33m)\u001b[0m\u001b[1;33m,\u001b[0m\u001b[1;33m\u001b[0m\u001b[0m\n\u001b[0m\u001b[0;32m     19\u001b[0m                \u001b[0mcmap\u001b[0m\u001b[1;33m=\u001b[0m\u001b[0mplt\u001b[0m\u001b[1;33m.\u001b[0m\u001b[0mcm\u001b[0m\u001b[1;33m.\u001b[0m\u001b[0mPaired\u001b[0m\u001b[1;33m,\u001b[0m\u001b[1;33m\u001b[0m\u001b[0m\n\u001b[0;32m     20\u001b[0m                aspect='auto', origin='lower')\n",
      "\u001b[1;32mC:\\Anaconda\\lib\\site-packages\\numpy\\core\\_methods.pyc\u001b[0m in \u001b[0;36m_amin\u001b[1;34m(a, axis, out, keepdims)\u001b[0m\n\u001b[0;32m     27\u001b[0m \u001b[1;33m\u001b[0m\u001b[0m\n\u001b[0;32m     28\u001b[0m \u001b[1;32mdef\u001b[0m \u001b[0m_amin\u001b[0m\u001b[1;33m(\u001b[0m\u001b[0ma\u001b[0m\u001b[1;33m,\u001b[0m \u001b[0maxis\u001b[0m\u001b[1;33m=\u001b[0m\u001b[0mNone\u001b[0m\u001b[1;33m,\u001b[0m \u001b[0mout\u001b[0m\u001b[1;33m=\u001b[0m\u001b[0mNone\u001b[0m\u001b[1;33m,\u001b[0m \u001b[0mkeepdims\u001b[0m\u001b[1;33m=\u001b[0m\u001b[0mFalse\u001b[0m\u001b[1;33m)\u001b[0m\u001b[1;33m:\u001b[0m\u001b[1;33m\u001b[0m\u001b[0m\n\u001b[1;32m---> 29\u001b[1;33m     \u001b[1;32mreturn\u001b[0m \u001b[0mumr_minimum\u001b[0m\u001b[1;33m(\u001b[0m\u001b[0ma\u001b[0m\u001b[1;33m,\u001b[0m \u001b[0maxis\u001b[0m\u001b[1;33m,\u001b[0m \u001b[0mNone\u001b[0m\u001b[1;33m,\u001b[0m \u001b[0mout\u001b[0m\u001b[1;33m,\u001b[0m \u001b[0mkeepdims\u001b[0m\u001b[1;33m)\u001b[0m\u001b[1;33m\u001b[0m\u001b[0m\n\u001b[0m\u001b[0;32m     30\u001b[0m \u001b[1;33m\u001b[0m\u001b[0m\n\u001b[0;32m     31\u001b[0m \u001b[1;32mdef\u001b[0m \u001b[0m_sum\u001b[0m\u001b[1;33m(\u001b[0m\u001b[0ma\u001b[0m\u001b[1;33m,\u001b[0m \u001b[0maxis\u001b[0m\u001b[1;33m=\u001b[0m\u001b[0mNone\u001b[0m\u001b[1;33m,\u001b[0m \u001b[0mdtype\u001b[0m\u001b[1;33m=\u001b[0m\u001b[0mNone\u001b[0m\u001b[1;33m,\u001b[0m \u001b[0mout\u001b[0m\u001b[1;33m=\u001b[0m\u001b[0mNone\u001b[0m\u001b[1;33m,\u001b[0m \u001b[0mkeepdims\u001b[0m\u001b[1;33m=\u001b[0m\u001b[0mFalse\u001b[0m\u001b[1;33m)\u001b[0m\u001b[1;33m:\u001b[0m\u001b[1;33m\u001b[0m\u001b[0m\n",
      "\u001b[1;31mValueError\u001b[0m: zero-size array to reduction operation minimum which has no identity"
     ]
    },
    {
     "data": {
      "text/plain": [
       "<matplotlib.figure.Figure at 0x36846748>"
      ]
     },
     "metadata": {},
     "output_type": "display_data"
    }
   ],
   "source": [
    "print truncated_svd_kmeans_sparse_data.shape\n",
    "truncated_sparse_kmeans_labels = list(truncated_sparse_kmeans.labels_)\n",
    "\n",
    "hist_kmeans_labels(truncated_sparse_kmeans_labels, 'truncated_sparse_kmeans_labels')\n",
    "visualize_kmeans(truncated_svd_kmeans_sparse_data, truncated_sparse_kmeans, 'truncated_sparse_kmeans')"
   ]
  },
  {
   "cell_type": "markdown",
   "metadata": {},
   "source": [
    "#### Upper Threshold"
   ]
  },
  {
   "cell_type": "code",
   "execution_count": 109,
   "metadata": {
    "collapsed": false
   },
   "outputs": [
    {
     "name": "stdout",
     "output_type": "stream",
     "text": [
      "lower_thresholded_data.shape (2137L, 7481L)\n",
      "lower_thresholded_inverse_data (2137L, 2680L)\n"
     ]
    }
   ],
   "source": [
    "# Threshold the input data.\n",
    "\n",
    "rows_to_keep = []\n",
    "for row in range(signed_thresholded_data.shape[0]):\n",
    "    if sum(signed_thresholded_data[row,:]) > 0.0:\n",
    "        rows_to_keep.append(row)\n",
    "\n",
    "# Sign() the thresholded data.\n",
    "lower_thresholded_data = signed_thresholded_data[rows_to_keep, :]\n",
    "print 'lower_thresholded_data.shape', lower_thresholded_data.shape\n",
    "\n",
    "rows_to_keep_set = set(rows_to_keep)\n",
    "rows_to_keep = []\n",
    "for row in range(dense_data.shape[0]):\n",
    "    if row not in rows_to_keep_set:\n",
    "        rows_to_keep.append(row)\n",
    "        \n",
    "cols_to_keep = [i for i in range(NUM_SPEECHES) if i not in set(threshold_columns)]\n",
    "lower_thresholded_inverse_data = dense_data[rows_to_keep, :]\n",
    "lower_thresholded_inverse_data = lower_thresholded_data[:, cols_to_keep]\n",
    "print 'lower_thresholded_inverse_data', lower_thresholded_inverse_data.shape"
   ]
  },
  {
   "cell_type": "markdown",
   "metadata": {},
   "source": [
    "####lower_thresholded_inverse_data"
   ]
  },
  {
   "cell_type": "code",
   "execution_count": 113,
   "metadata": {
    "collapsed": false
   },
   "outputs": [
    {
     "data": {
      "text/plain": [
       "[<matplotlib.lines.Line2D at 0x39845a58>]"
      ]
     },
     "execution_count": 113,
     "metadata": {},
     "output_type": "execute_result"
    },
    {
     "data": {
      "image/png": "[encoded data removed]",
      "text/plain": [
       "<matplotlib.figure.Figure at 0x393ef908>"
      ]
     },
     "metadata": {},
     "output_type": "display_data"
    }
   ],
   "source": [
    "lower_thresholded_inverse_tsne_model = manifold.TSNE(n_components=2, random_state=0)\n",
    "lower_thresholded_inverse_tsne_data = lower_thresholded_inverse_tsne_model.fit_transform(decomposition.PCA(n_components=10).fit_transform(lower_thresholded_inverse_data))\n",
    "\n",
    "plt.plot(lower_thresholded_inverse_tsne_data[:,0], lower_thresholded_inverse_tsne_data[:,1], 'ro')"
   ]
  },
  {
   "cell_type": "code",
   "execution_count": 110,
   "metadata": {
    "collapsed": false
   },
   "outputs": [],
   "source": [
    "reduced_lower_thresholded_inverse_data = decomposition.PCA(n_components=2).fit_transform(lower_thresholded_inverse_data)"
   ]
  },
  {
   "cell_type": "code",
   "execution_count": 111,
   "metadata": {
    "collapsed": false
   },
   "outputs": [
    {
     "data": {
      "text/plain": [
       "[<matplotlib.lines.Line2D at 0x3962d710>]"
      ]
     },
     "execution_count": 111,
     "metadata": {},
     "output_type": "execute_result"
    },
    {
     "data": {
      "image/png": "[encoded data removed]",
      "text/plain": [
       "<matplotlib.figure.Figure at 0x393d7748>"
      ]
     },
     "metadata": {},
     "output_type": "display_data"
    }
   ],
   "source": [
    "plt.plot(reduced_lower_thresholded_inverse_data[:,0], reduced_lower_thresholded_inverse_data[:,1], 'bo')"
   ]
  },
  {
   "cell_type": "code",
   "execution_count": 96,
   "metadata": {
    "collapsed": false
   },
   "outputs": [
    {
     "data": {
      "text/plain": [
       "KMeans(copy_x=True, init='k-means++', max_iter=300, n_clusters=10, n_init=10,\n",
       "    n_jobs=1, precompute_distances=True, random_state=None, tol=0.0001,\n",
       "    verbose=0)"
      ]
     },
     "execution_count": 96,
     "metadata": {},
     "output_type": "execute_result"
    }
   ],
   "source": [
    "lower_thresholded_inverse_kmeans = cluster.KMeans(init='k-means++', n_clusters=10, n_init=10)\n",
    "lower_thresholded_inverse_kmeans.fit(reduced_lower_thresholded_inverse_data)"
   ]
  },
  {
   "cell_type": "code",
   "execution_count": 95,
   "metadata": {
    "collapsed": false
   },
   "outputs": [
    {
     "name": "stdout",
     "output_type": "stream",
     "text": [
      "Labels: [0, 0, 0, 0, 0, 0, 0, 0, 0, 0, 0, 0, 0, 0, 0, 0, 0, 0, 0, 0, 0, 0, 0, 0, 0, 0, 0, 0, 6, 16, 23, 25, 47, 48, 73, 95, 129, 141]\n",
      "Avg: 15.8684210526\n",
      "Std dev: 35.2682733917\n"
     ]
    },
    {
     "ename": "ValueError",
     "evalue": "zero-size array to reduction operation minimum which has no identity",
     "output_type": "error",
     "traceback": [
      "\u001b[1;31m---------------------------------------------------------------------------\u001b[0m",
      "\u001b[1;31mValueError\u001b[0m                                Traceback (most recent call last)",
      "\u001b[1;32m<ipython-input-95-4124198535ae>\u001b[0m in \u001b[0;36m<module>\u001b[1;34m()\u001b[0m\n\u001b[0;32m      2\u001b[0m \u001b[1;33m\u001b[0m\u001b[0m\n\u001b[0;32m      3\u001b[0m \u001b[0mhist_kmeans_labels\u001b[0m\u001b[1;33m(\u001b[0m\u001b[0mreduced_lower_thresholded_inverse_labels\u001b[0m\u001b[1;33m,\u001b[0m \u001b[1;34m'reduced_lower_thresholded_inverse_labels'\u001b[0m\u001b[1;33m)\u001b[0m\u001b[1;33m\u001b[0m\u001b[0m\n\u001b[1;32m----> 4\u001b[1;33m \u001b[0mvisualize_kmeans\u001b[0m\u001b[1;33m(\u001b[0m\u001b[0mreduced_lower_thresholded_inverse_data\u001b[0m\u001b[1;33m,\u001b[0m \u001b[0mlower_thresholded_inverse_kmeans\u001b[0m\u001b[1;33m,\u001b[0m \u001b[1;34m'lower_thresholded_inverse_kmeans'\u001b[0m\u001b[1;33m)\u001b[0m\u001b[1;33m\u001b[0m\u001b[0m\n\u001b[0m",
      "\u001b[1;32m<ipython-input-90-3d2cf0995c92>\u001b[0m in \u001b[0;36mvisualize_kmeans\u001b[1;34m(data, estimator, title)\u001b[0m\n\u001b[0;32m     16\u001b[0m     \u001b[0mplt\u001b[0m\u001b[1;33m.\u001b[0m\u001b[0mclf\u001b[0m\u001b[1;33m(\u001b[0m\u001b[1;33m)\u001b[0m\u001b[1;33m\u001b[0m\u001b[0m\n\u001b[0;32m     17\u001b[0m     plt.imshow(Z, interpolation='nearest',\n\u001b[1;32m---> 18\u001b[1;33m                \u001b[0mextent\u001b[0m\u001b[1;33m=\u001b[0m\u001b[1;33m(\u001b[0m\u001b[0mxx\u001b[0m\u001b[1;33m.\u001b[0m\u001b[0mmin\u001b[0m\u001b[1;33m(\u001b[0m\u001b[1;33m)\u001b[0m\u001b[1;33m,\u001b[0m \u001b[0mxx\u001b[0m\u001b[1;33m.\u001b[0m\u001b[0mmax\u001b[0m\u001b[1;33m(\u001b[0m\u001b[1;33m)\u001b[0m\u001b[1;33m,\u001b[0m \u001b[0myy\u001b[0m\u001b[1;33m.\u001b[0m\u001b[0mmin\u001b[0m\u001b[1;33m(\u001b[0m\u001b[1;33m)\u001b[0m\u001b[1;33m,\u001b[0m \u001b[0myy\u001b[0m\u001b[1;33m.\u001b[0m\u001b[0mmax\u001b[0m\u001b[1;33m(\u001b[0m\u001b[1;33m)\u001b[0m\u001b[1;33m)\u001b[0m\u001b[1;33m,\u001b[0m\u001b[1;33m\u001b[0m\u001b[0m\n\u001b[0m\u001b[0;32m     19\u001b[0m                \u001b[0mcmap\u001b[0m\u001b[1;33m=\u001b[0m\u001b[0mplt\u001b[0m\u001b[1;33m.\u001b[0m\u001b[0mcm\u001b[0m\u001b[1;33m.\u001b[0m\u001b[0mPaired\u001b[0m\u001b[1;33m,\u001b[0m\u001b[1;33m\u001b[0m\u001b[0m\n\u001b[0;32m     20\u001b[0m                aspect='auto', origin='lower')\n",
      "\u001b[1;32mC:\\Anaconda\\lib\\site-packages\\numpy\\core\\_methods.pyc\u001b[0m in \u001b[0;36m_amin\u001b[1;34m(a, axis, out, keepdims)\u001b[0m\n\u001b[0;32m     27\u001b[0m \u001b[1;33m\u001b[0m\u001b[0m\n\u001b[0;32m     28\u001b[0m \u001b[1;32mdef\u001b[0m \u001b[0m_amin\u001b[0m\u001b[1;33m(\u001b[0m\u001b[0ma\u001b[0m\u001b[1;33m,\u001b[0m \u001b[0maxis\u001b[0m\u001b[1;33m=\u001b[0m\u001b[0mNone\u001b[0m\u001b[1;33m,\u001b[0m \u001b[0mout\u001b[0m\u001b[1;33m=\u001b[0m\u001b[0mNone\u001b[0m\u001b[1;33m,\u001b[0m \u001b[0mkeepdims\u001b[0m\u001b[1;33m=\u001b[0m\u001b[0mFalse\u001b[0m\u001b[1;33m)\u001b[0m\u001b[1;33m:\u001b[0m\u001b[1;33m\u001b[0m\u001b[0m\n\u001b[1;32m---> 29\u001b[1;33m     \u001b[1;32mreturn\u001b[0m \u001b[0mumr_minimum\u001b[0m\u001b[1;33m(\u001b[0m\u001b[0ma\u001b[0m\u001b[1;33m,\u001b[0m \u001b[0maxis\u001b[0m\u001b[1;33m,\u001b[0m \u001b[0mNone\u001b[0m\u001b[1;33m,\u001b[0m \u001b[0mout\u001b[0m\u001b[1;33m,\u001b[0m \u001b[0mkeepdims\u001b[0m\u001b[1;33m)\u001b[0m\u001b[1;33m\u001b[0m\u001b[0m\n\u001b[0m\u001b[0;32m     30\u001b[0m \u001b[1;33m\u001b[0m\u001b[0m\n\u001b[0;32m     31\u001b[0m \u001b[1;32mdef\u001b[0m \u001b[0m_sum\u001b[0m\u001b[1;33m(\u001b[0m\u001b[0ma\u001b[0m\u001b[1;33m,\u001b[0m \u001b[0maxis\u001b[0m\u001b[1;33m=\u001b[0m\u001b[0mNone\u001b[0m\u001b[1;33m,\u001b[0m \u001b[0mdtype\u001b[0m\u001b[1;33m=\u001b[0m\u001b[0mNone\u001b[0m\u001b[1;33m,\u001b[0m \u001b[0mout\u001b[0m\u001b[1;33m=\u001b[0m\u001b[0mNone\u001b[0m\u001b[1;33m,\u001b[0m \u001b[0mkeepdims\u001b[0m\u001b[1;33m=\u001b[0m\u001b[0mFalse\u001b[0m\u001b[1;33m)\u001b[0m\u001b[1;33m:\u001b[0m\u001b[1;33m\u001b[0m\u001b[0m\n",
      "\u001b[1;31mValueError\u001b[0m: zero-size array to reduction operation minimum which has no identity"
     ]
    },
    {
     "data": {
      "text/plain": [
       "<matplotlib.figure.Figure at 0x34caea90>"
      ]
     },
     "metadata": {},
     "output_type": "display_data"
    }
   ],
   "source": [
    "reduced_lower_thresholded_inverse_labels = list(lower_thresholded_inverse_kmeans.labels_)\n",
    "\n",
    "#hist_kmeans_labels(reduced_lower_thresholded_inverse_labels, 'reduced_lower_thresholded_inverse_labels')\n",
    "#visualize_kmeans(reduced_lower_thresholded_inverse_data, lower_thresholded_inverse_kmeans, 'lower_thresholded_inverse_kmeans')"
   ]
  },
  {
   "cell_type": "markdown",
   "metadata": {},
   "source": [
    "#### Kmeans using truncated SVD on original signed sparse matrix."
   ]
  },
  {
   "cell_type": "code",
   "execution_count": 130,
   "metadata": {
    "collapsed": true
   },
   "outputs": [],
   "source": [
    "# TODO"
   ]
  },
  {
   "cell_type": "markdown",
   "metadata": {},
   "source": [
    "## Manifold Comparision"
   ]
  },
  {
   "cell_type": "code",
   "execution_count": 5,
   "metadata": {
    "collapsed": true
   },
   "outputs": [],
   "source": [
    "#----------------------------------------------------------------------\n",
    "# Scale and visualize the embedding vectors\n",
    "def plot_embedding(X, title=None):\n",
    "    x_min, x_max = np.min(X, 0), np.max(X, 0)\n",
    "    X = (X - x_min) / (x_max - x_min)\n",
    "\n",
    "    plt.figure()\n",
    "    ax = plt.subplot(111)\n",
    "    plt.plot(X[:,0], X[:,1], 'go')\n",
    "    if title is not None:\n",
    "        plt.title(title)"
   ]
  },
  {
   "cell_type": "code",
   "execution_count": null,
   "metadata": {
    "collapsed": false
   },
   "outputs": [
    {
     "name": "stdout",
     "output_type": "stream",
     "text": [
      "Computing random projection\n",
      "Computing PCA projection\n",
      "Computing LLE embedding"
     ]
    }
   ],
   "source": [
    "if not SKIP_LONG_PARTS:\n",
    "    X = dense_data\n",
    "    n_samples, n_features = X.shape\n",
    "    n_neighbors = 30\n",
    "\n",
    "    #----------------------------------------------------------------------\n",
    "    # Random 2D projection using a random unitary matrix\n",
    "    print(\"Computing random projection\")\n",
    "    rp = random_projection.SparseRandomProjection(n_components=2, random_state=42)\n",
    "    X_projected = rp.fit_transform(X)\n",
    "    plot_embedding(X_projected, \"Random Projection of the digits\")\n",
    "\n",
    "\n",
    "    #----------------------------------------------------------------------\n",
    "    # Projection on to the first 2 principal components\n",
    "\n",
    "    print(\"Computing PCA projection\")\n",
    "    t0 = time()\n",
    "    X_pca = decomposition.TruncatedSVD(n_components=2).fit_transform(X)\n",
    "    plot_embedding(X_pca,\n",
    "                   \"Principal Components projection of the digits (time %.2fs)\" %\n",
    "                   (time() - t0))\n",
    "\n",
    "    # We do not have y values.\n",
    "    \"\"\"\n",
    "    #----------------------------------------------------------------------\n",
    "    # Projection on to the first 2 linear discriminant components\n",
    "\n",
    "    print(\"Computing LDA projection\")\n",
    "    X2 = X.copy()\n",
    "    X2.flat[::X.shape[1] + 1] += 0.01  # Make X invertible\n",
    "    t0 = time()\n",
    "    X_lda = lda.LDA(n_components=2).fit_transform(X2, y)\n",
    "    plot_embedding(X_lda,\n",
    "                   \"Linear Discriminant projection of the digits (time %.2fs)\" %\n",
    "                   (time() - t0))\n",
    "    \"\"\"\n",
    "\n",
    "\n",
    "    # Takes too long..\n",
    "    \"\"\"\n",
    "    #----------------------------------------------------------------------\n",
    "    # Isomap projection of the digits dataset\n",
    "    print(\"Computing Isomap embedding\")\n",
    "    t0 = time()\n",
    "    X_iso = manifold.Isomap(n_neighbors, n_components=2).fit_transform(X)\n",
    "    print(\"Done.\")\n",
    "    plot_embedding(X_iso,\n",
    "                   \"Isomap projection of the digits (time %.2fs)\" %\n",
    "                   (time() - t0))\n",
    "    \"\"\"\n",
    "\n",
    "\n",
    "    #----------------------------------------------------------------------\n",
    "    # Locally linear embedding of the digits dataset\n",
    "    print(\"Computing LLE embedding\")\n",
    "    clf = manifold.LocallyLinearEmbedding(n_neighbors, n_components=2,\n",
    "                                          method='standard')\n",
    "    t0 = time()\n",
    "    X_lle = clf.fit_transform(X)\n",
    "    print(\"Done. Reconstruction error: %g\" % clf.reconstruction_error_)\n",
    "    plot_embedding(X_lle,\n",
    "                   \"Locally Linear Embedding of the digits (time %.2fs)\" %\n",
    "                   (time() - t0))\n",
    "\n",
    "\n",
    "    #----------------------------------------------------------------------\n",
    "    # Modified Locally linear embedding of the digits dataset\n",
    "    print(\"Computing modified LLE embedding\")\n",
    "    clf = manifold.LocallyLinearEmbedding(n_neighbors, n_components=2,\n",
    "                                          method='modified')\n",
    "    t0 = time()\n",
    "    X_mlle = clf.fit_transform(X)\n",
    "    print(\"Done. Reconstruction error: %g\" % clf.reconstruction_error_)\n",
    "    plot_embedding(X_mlle,\n",
    "                   \"Modified Locally Linear Embedding of the digits (time %.2fs)\" %\n",
    "                   (time() - t0))\n",
    "\n",
    "\n",
    "    #----------------------------------------------------------------------\n",
    "    # HLLE embedding of the digits dataset\n",
    "    print(\"Computing Hessian LLE embedding\")\n",
    "    clf = manifold.LocallyLinearEmbedding(n_neighbors, n_components=2,\n",
    "                                          method='hessian')\n",
    "    t0 = time()\n",
    "    X_hlle = clf.fit_transform(X)\n",
    "    print(\"Done. Reconstruction error: %g\" % clf.reconstruction_error_)\n",
    "    plot_embedding(X_hlle,\n",
    "                   \"Hessian Locally Linear Embedding of the digits (time %.2fs)\" %\n",
    "                   (time() - t0))\n",
    "\n",
    "\n",
    "    #----------------------------------------------------------------------\n",
    "    # LTSA embedding of the digits dataset\n",
    "    print(\"Computing LTSA embedding\")\n",
    "    clf = manifold.LocallyLinearEmbedding(n_neighbors, n_components=2,\n",
    "                                          method='ltsa')\n",
    "    t0 = time()\n",
    "    X_ltsa = clf.fit_transform(X)\n",
    "    print(\"Done. Reconstruction error: %g\" % clf.reconstruction_error_)\n",
    "    plot_embedding(X_ltsa,\n",
    "                   \"Local Tangent Space Alignment of the digits (time %.2fs)\" %\n",
    "                   (time() - t0))\n",
    "\n",
    "    #----------------------------------------------------------------------\n",
    "    # MDS  embedding of the digits dataset\n",
    "    print(\"Computing MDS embedding\")\n",
    "    clf = manifold.MDS(n_components=2, n_init=1, max_iter=100)\n",
    "    t0 = time()\n",
    "    X_mds = clf.fit_transform(X)\n",
    "    print(\"Done. Stress: %f\" % clf.stress_)\n",
    "    plot_embedding(X_mds,\n",
    "                   \"MDS embedding of the digits (time %.2fs)\" %\n",
    "                   (time() - t0))\n",
    "\n",
    "    #----------------------------------------------------------------------\n",
    "    # Random Trees embedding of the digits dataset\n",
    "    print(\"Computing Totally Random Trees embedding\")\n",
    "    hasher = ensemble.RandomTreesEmbedding(n_estimators=200, random_state=0,\n",
    "                                           max_depth=5)\n",
    "    t0 = time()\n",
    "    X_transformed = hasher.fit_transform(X)\n",
    "    pca = decomposition.TruncatedSVD(n_components=2)\n",
    "    X_reduced = pca.fit_transform(X_transformed)\n",
    "\n",
    "    plot_embedding(X_reduced,\n",
    "                   \"Random forest embedding of the digits (time %.2fs)\" %\n",
    "                   (time() - t0))\n",
    "\n",
    "    #----------------------------------------------------------------------\n",
    "    # Spectral embedding of the digits dataset\n",
    "    print(\"Computing Spectral embedding\")\n",
    "    embedder = manifold.SpectralEmbedding(n_components=2, random_state=0,\n",
    "                                          eigen_solver=\"arpack\")\n",
    "    t0 = time()\n",
    "    X_se = embedder.fit_transform(X)\n",
    "\n",
    "    plot_embedding(X_se,\n",
    "                   \"Spectral embedding of the digits (time %.2fs)\" %\n",
    "                   (time() - t0))\n",
    "\n",
    "    \"\"\"\n",
    "    #----------------------------------------------------------------------\n",
    "    # t-SNE embedding of the digits dataset\n",
    "    print(\"Computing t-SNE embedding\")\n",
    "    tsne = manifold.TSNE(n_components=2, init='pca', random_state=0)\n",
    "    t0 = time()\n",
    "    X_tsne = tsne.fit_transform(X)\n",
    "\n",
    "    plot_embedding(X_tsne,\n",
    "                   \"t-SNE embedding of the digits (time %.2fs)\" %\n",
    "                   (time() - t0))\n",
    "    \"\"\""
   ]
  },
  {
   "cell_type": "markdown",
   "metadata": {},
   "source": [
    "### PMI"
   ]
  },
  {
   "cell_type": "code",
   "execution_count": 6,
   "metadata": {
    "collapsed": false
   },
   "outputs": [
    {
     "ename": "KeyboardInterrupt",
     "evalue": "",
     "output_type": "error",
     "traceback": [
      "\u001b[1;31m---------------------------------------------------------------------------\u001b[0m",
      "\u001b[1;31mKeyboardInterrupt\u001b[0m                         Traceback (most recent call last)",
      "\u001b[1;32m<ipython-input-6-d2ba0150f189>\u001b[0m in \u001b[0;36m<module>\u001b[1;34m()\u001b[0m\n\u001b[0;32m      3\u001b[0m \u001b[1;32mfor\u001b[0m \u001b[0mi\u001b[0m \u001b[1;32min\u001b[0m \u001b[0mrange\u001b[0m\u001b[1;33m(\u001b[0m\u001b[0mnum_inverted_index_keys\u001b[0m\u001b[1;33m)\u001b[0m\u001b[1;33m:\u001b[0m\u001b[1;33m\u001b[0m\u001b[0m\n\u001b[0;32m      4\u001b[0m     \u001b[1;32mfor\u001b[0m \u001b[0mj\u001b[0m \u001b[1;32min\u001b[0m \u001b[0mrange\u001b[0m\u001b[1;33m(\u001b[0m\u001b[0mi\u001b[0m\u001b[1;33m+\u001b[0m\u001b[1;36m1\u001b[0m\u001b[1;33m,\u001b[0m \u001b[0mnum_inverted_index_keys\u001b[0m\u001b[1;33m)\u001b[0m\u001b[1;33m:\u001b[0m\u001b[1;33m\u001b[0m\u001b[0m\n\u001b[1;32m----> 5\u001b[1;33m         \u001b[0mpmi\u001b[0m \u001b[1;33m=\u001b[0m \u001b[0mlen\u001b[0m\u001b[1;33m(\u001b[0m\u001b[0minverted_index\u001b[0m\u001b[1;33m[\u001b[0m\u001b[0mi\u001b[0m\u001b[1;33m]\u001b[0m\u001b[1;33m.\u001b[0m\u001b[0mintersection\u001b[0m\u001b[1;33m(\u001b[0m\u001b[0minverted_index\u001b[0m\u001b[1;33m[\u001b[0m\u001b[0mj\u001b[0m\u001b[1;33m]\u001b[0m\u001b[1;33m)\u001b[0m\u001b[1;33m)\u001b[0m\u001b[1;33m\u001b[0m\u001b[0m\n\u001b[0m\u001b[0;32m      6\u001b[0m \u001b[1;33m\u001b[0m\u001b[0m\n\u001b[0;32m      7\u001b[0m         \u001b[1;32mif\u001b[0m \u001b[0mpmi\u001b[0m \u001b[1;33m==\u001b[0m \u001b[1;36m0\u001b[0m\u001b[1;33m:\u001b[0m\u001b[1;33m\u001b[0m\u001b[0m\n",
      "\u001b[1;31mKeyboardInterrupt\u001b[0m: "
     ]
    }
   ],
   "source": [
    "inverted_index_keys = [k for k in inverted_index.keys() if len(inverted_index[k]) > 1]\n",
    "num_inverted_index_keys = len(inverted_index_keys)\n",
    "for i in range(num_inverted_index_keys):\n",
    "    for j in range(i+1, num_inverted_index_keys):\n",
    "        pmi = len(inverted_index[i].intersection(inverted_index[j]))\n",
    "        \n",
    "        if pmi == 0:\n",
    "            continue\n",
    "        \n",
    "        pmi *= 1.0\n",
    "        \n",
    "        try:\n",
    "            pmi /= len(inverted_index[i]) * len(inverted_index[j])\n",
    "        except:\n",
    "            continue\n",
    "        pmi = np.log2(pmi)\n",
    "        if pmi > 0.5:\n",
    "            print i, j, pmi"
   ]
  },
  {
   "cell_type": "code",
   "execution_count": 15,
   "metadata": {
    "collapsed": false
   },
   "outputs": [
    {
     "name": "stdout",
     "output_type": "stream",
     "text": [
      "set([2])\n",
      "set([1, 2])\n"
     ]
    }
   ],
   "source": [
    "s = set()\n",
    "s.add(1)\n",
    "s.add(1)\n",
    "s.add(2)\n",
    "\n",
    "s1 = set()\n",
    "s1.add(2)\n",
    "\n",
    "print s.intersection(s1)\n",
    "print s"
   ]
  },
  {
   "cell_type": "markdown",
   "metadata": {
    "collapsed": true
   },
   "source": [
    "## Tests with Speech Graph\n",
    "\n",
    "To start you off, you are told that points (rows, where the first row is number 0) \n",
    "\n",
    "2, 13, 18, 24 are examples of speeches that belong to category “Against\" (=label 0) and speeches \n",
    "\n",
    "1, 3, 27, 177 are examples of speeches that belong to the “For”(=label 1) category"
   ]
  },
  {
   "cell_type": "code",
   "execution_count": 11,
   "metadata": {
    "collapsed": false
   },
   "outputs": [
    {
     "name": "stdout",
     "output_type": "stream",
     "text": [
      "(array([   6,   10,   11,   15,   24,   27,   34,   36,   38,   42,   43,\n",
      "         45,   46,   47,   51,   67,   68,   70,   90,   93,   95,  102,\n",
      "        117,  120,  128,  134,  142,  143,  145,  148,  152,  154,  160,\n",
      "        161,  162,  164,  168,  175,  176,  179,  185,  194,  201,  204,\n",
      "        206,  209,  210,  212,  216,  217,  219,  224,  233,  241,  249,\n",
      "        255,  258,  259,  260,  261,  262,  263,  265,  268,  272,  273,\n",
      "        274,  279,  280,  297,  303,  309,  312,  313,  315,  324,  331,\n",
      "        334,  335,  352,  353,  355,  359,  360,  364,  365,  366,  369,\n",
      "        375,  383,  384,  393,  403,  406,  412,  414,  415,  416,  418,\n",
      "        423,  424,  427,  433,  434,  435,  438,  442,  443,  444,  445,\n",
      "        446,  447,  454,  455,  460,  461,  462,  468,  469,  472,  480,\n",
      "        483,  487,  490,  492,  497,  500,  502,  523,  529,  532,  537,\n",
      "        541,  546,  551,  557,  559,  563,  578,  589,  591,  592,  603,\n",
      "        613,  617,  620,  627,  628,  634,  639,  652,  656,  658,  659,\n",
      "        665,  668,  674,  676,  689,  699,  702,  705,  715,  719,  725,\n",
      "        728,  733,  737,  747,  748,  749,  750,  751,  752,  758,  762,\n",
      "        764,  771,  777,  779,  784,  785,  794,  795,  800,  801,  808,\n",
      "        809,  811,  814,  815,  816,  821,  823,  825,  841,  847,  851,\n",
      "        862,  863,  865,  866,  868,  870,  871,  874,  876,  880,  882,\n",
      "        886,  888,  892,  897,  898,  904,  907,  912,  916,  920,  923,\n",
      "        924,  926,  938,  940,  941,  943,  952,  953,  964,  966,  972,\n",
      "        974,  977,  978,  980,  982,  983,  990,  995,  996,  998, 1001,\n",
      "       1005, 1010, 1014, 1027, 1031, 1035, 1038, 1042, 1047, 1051, 1054,\n",
      "       1056, 1058, 1062, 1063, 1065, 1066, 1068, 1069, 1073, 1075, 1080,\n",
      "       1084, 1097, 1100, 1102, 1126, 1130, 1132, 1135, 1137, 1138, 1142,\n",
      "       1146, 1150, 1153, 1154, 1165, 1176, 1179, 1184, 1185, 1187, 1189,\n",
      "       1191, 1196, 1197, 1204, 1205, 1209, 1221, 1225, 1231, 1235, 1240,\n",
      "       1244, 1245, 1248, 1252, 1254, 1257, 1262, 1264, 1269, 1273, 1275,\n",
      "       1279, 1281, 1292, 1302, 1303, 1306, 1307, 1311, 1315, 1322, 1324,\n",
      "       1329, 1333, 1339, 1340, 1347, 1348, 1352, 1354, 1364, 1370, 1372,\n",
      "       1377, 1379, 1384, 1389, 1392, 1398, 1405, 1406, 1407, 1415, 1417,\n",
      "       1419, 1424, 1426, 1430, 1435, 1436, 1450, 1456, 1457, 1461, 1468,\n",
      "       1479, 1480, 1488, 1489, 1490, 1491, 1495, 1499, 1500, 1502, 1506,\n",
      "       1518, 1528, 1530, 1542, 1548, 1568, 1569, 1573, 1586, 1587, 1591,\n",
      "       1596, 1599, 1603, 1618, 1623, 1627, 1633, 1634, 1635, 1640, 1641,\n",
      "       1644, 1651, 1658, 1660, 1667, 1686, 1688, 1690, 1695, 1698, 1703,\n",
      "       1704, 1709, 1714, 1719, 1724, 1728, 1732, 1734, 1736, 1737, 1741,\n",
      "       1748, 1751, 1765, 1787, 1798, 1802, 1804, 1816, 1817, 1824, 1830,\n",
      "       1835, 1837, 1845, 1846, 1850, 1853, 1857, 1858, 1874, 1894, 1899,\n",
      "       1925, 1930, 1942, 1948, 1966, 1969, 1971, 1974, 1977, 1978, 1980,\n",
      "       1987, 1997, 1999, 2021, 2026, 2033, 2035, 2040, 2042, 2045, 2046,\n",
      "       2055, 2058, 2064, 2065, 2066, 2073, 2075, 2078, 2080, 2089, 2104,\n",
      "       2105, 2106, 2109, 2112, 2117, 2118, 2125, 2130, 2131, 2133, 2137,\n",
      "       2138, 2149, 2153, 2157, 2166, 2169, 2178, 2187, 2190, 2199, 2205,\n",
      "       2211, 2212, 2216, 2230, 2233, 2237, 2251, 2256, 2258, 2262, 2267,\n",
      "       2270, 2271, 2286, 2287, 2293, 2294, 2297, 2298, 2303, 2314, 2321,\n",
      "       2333, 2336, 2345, 2349, 2353, 2359, 2371, 2375, 2380, 2384, 2386,\n",
      "       2391, 2395, 2403, 2406, 2413, 2429, 2434, 2436, 2438, 2441, 2442,\n",
      "       2444, 2445, 2451, 2454, 2456, 2457, 2465, 2466, 2472, 2476, 2480,\n",
      "       2486, 2487, 2492, 2499, 2509, 2516, 2518, 2522, 2527, 2528, 2530,\n",
      "       2538, 2546, 2551, 2554, 2555, 2566, 2577, 2581, 2583, 2584, 2590,\n",
      "       2600, 2601, 2608, 2609, 2613, 2614, 2615, 2618, 2619, 2622, 2624,\n",
      "       2625, 2633, 2644, 2648, 2650, 2651, 2683, 2695, 2702, 2703, 2713,\n",
      "       2720, 2722, 2725, 2733, 2734, 2737], dtype=int64),)\n"
     ]
    }
   ],
   "source": [
    "print np.where(speech_graph[2])"
   ]
  },
  {
   "cell_type": "markdown",
   "metadata": {
    "collapsed": true
   },
   "source": [
    "### Using both data structures"
   ]
  },
  {
   "cell_type": "code",
   "execution_count": 12,
   "metadata": {
    "collapsed": false
   },
   "outputs": [
    {
     "name": "stdout",
     "output_type": "stream",
     "text": [
      "False\n"
     ]
    }
   ],
   "source": [
    "print 2276 in sparse_where(sparse_data, 1673)"
   ]
  },
  {
   "cell_type": "code",
   "execution_count": 66,
   "metadata": {
    "collapsed": false
   },
   "outputs": [],
   "source": [
    "def cluster_using_counters(counters, thresholds):\n",
    "    cluster_tracker = {}\n",
    "    clusters = []\n",
    "    for counter, threshold in zip(counters, thresholds):\n",
    "        for key in counter:\n",
    "            if counter[key] < threshold:\n",
    "                continue\n",
    "            t = json.loads(key)\n",
    "\n",
    "            row1 = t[0]\n",
    "            other_rows = t[1:]\n",
    "\n",
    "            for row2 in other_rows:\n",
    "                if not row1 in cluster_tracker and not row2 in cluster_tracker:\n",
    "                    cluster_tracker[row1] = len(clusters)\n",
    "                    cluster_tracker[row2] = len(clusters)\n",
    "                    clusters.append( [row1, row2] )\n",
    "                # row1 is not labeled\n",
    "                elif not row1 in cluster_tracker:\n",
    "                    row2_index = cluster_tracker[row2]\n",
    "                    clusters[row2_index].append(row1)\n",
    "                    cluster_tracker[row1] = row2_index\n",
    "                # row2 is not labeled\n",
    "                elif not row2 in cluster_tracker:\n",
    "                    row1_index = cluster_tracker[row1]\n",
    "                    clusters[row1_index].append(row2)\n",
    "                    cluster_tracker[row2] = row1_index\n",
    "                # Both are already labeled, but in different clustesr.\n",
    "                elif cluster_tracker[row1] != cluster_tracker[row2]:\n",
    "                    row1_index = cluster_tracker[row1]\n",
    "                    old_row2_index = cluster_tracker[row2]\n",
    "                    # Merge row2's cluster into row1's cluster.\n",
    "                    row2_cluster = clusters[old_row2_index]\n",
    "                    clusters[row1_index].extend(row2_cluster)\n",
    "                    clusters.pop(old_row2_index)\n",
    "\n",
    "                    # Update indices > row2\n",
    "                    for index in cluster_tracker:\n",
    "                        if cluster_tracker[index] > old_row2_index:\n",
    "                            cluster_tracker[index] -= 1\n",
    "                    # Update row2's cluster indices.\n",
    "                    row1_index = cluster_tracker[row1]\n",
    "                    for index in row2_cluster:\n",
    "                        cluster_tracker[index] = row1_index\n",
    "    return clusters"
   ]
  },
  {
   "cell_type": "code",
   "execution_count": 101,
   "metadata": {
    "collapsed": false
   },
   "outputs": [
    {
     "name": "stdout",
     "output_type": "stream",
     "text": [
      "[4, 4, 3, 3, 3, 3, 3, 3, 3, 3, 3, 3, 3, 3, 3, 3, 2, 2, 2, 2]\n",
      "408\n"
     ]
    },
    {
     "data": {
      "image/png": "[encoded data removed]",
      "text/plain": [
       "<matplotlib.figure.Figure at 0x253d34e0>"
      ]
     },
     "metadata": {},
     "output_type": "display_data"
    }
   ],
   "source": [
    "def create_counter(n_docs):\n",
    "    docs_counter = collections.defaultdict(int)\n",
    "\n",
    "    for k in inverted_index:\n",
    "        v = inverted_index[k]\n",
    "        if len(v) == n_docs:\n",
    "            docs_counter[str(sorted(v))] += 1\n",
    "    return docs_counter\n",
    "\n",
    "counter_2 = create_counter(13)\n",
    "counter_2_values = counter_2.values()\n",
    "plt.hist(counter_2_values)\n",
    "counter_2_values.sort(reverse=True)\n",
    "print counter_2_values[:20]\n",
    "print len(counter_2_values)"
   ]
  },
  {
   "cell_type": "code",
   "execution_count": 102,
   "metadata": {
    "collapsed": true
   },
   "outputs": [],
   "source": [
    "counters = [create_counter(n) for n in [2,5,11, 13]]\n",
    "thresholds = [10,9,3, 4]"
   ]
  },
  {
   "cell_type": "code",
   "execution_count": 121,
   "metadata": {
    "collapsed": false
   },
   "outputs": [
    {
     "name": "stdout",
     "output_type": "stream",
     "text": [
      "===\n",
      "[2, 2, 2, 5, 11, 323]\n",
      "[269, 1962]\n",
      "[6, 2594]\n",
      "[1164, 2483]\n",
      "[19, 272, 957, 1704, 2405]\n",
      "[506, 602, 716, 761, 981, 1091, 1477, 1871, 2234, 2601, 2662]\n",
      "[59, 355, 22, 82, 88, 238, 379, 657, 659, 861, 102, 275, 426, 249, 346, 817, 843, 449, 471, 630, 632, 1049, 1276, 1515, 262, 274, 564, 228, 270, 276, 609, 24, 211, 237, 271, 79, 477, 258, 265, 1059, 1426, 131, 551, 776, 899, 951, 229, 464, 496, 668, 747, 1374, 1612, 1624, 1674, 1911, 1945, 497, 577, 452, 573, 591, 508, 638, 679, 1115, 1172, 233, 736, 748, 955, 1063, 1200, 20, 145, 539, 544, 1011, 1194, 1645, 1661, 1765, 197, 1377, 1416, 1455, 1474, 1637, 2276, 1916, 2198, 2317, 2319, 2428, 2707, 1773, 2262, 2360, 2449, 8, 213, 492, 778, 881, 1277, 1392, 1417, 1419, 2327, 2559, 2684, 846, 1105, 1112, 1240, 1270, 1549, 1753, 2027, 2217, 278, 603, 804, 1121, 1563, 1615, 1656, 383, 610, 674, 796, 1150, 1396, 1759, 1831, 1877, 2012, 2158, 2375, 1523, 1567, 2057, 2357, 634, 1025, 1875, 2025, 2185, 1182, 1442, 1634, 2366, 2517, 2528, 2556, 2541, 1246, 1299, 1456, 1566, 2040, 2105, 17, 343, 646, 734, 771, 1527, 1544, 1782, 2052, 2356, 2671, 2411, 1202, 1659, 2660, 1050, 1304, 1356, 1510, 1860, 1905, 2396, 2477, 118, 226, 441, 800, 801, 267, 386, 460, 655, 979, 1217, 1333, 1619, 1841, 1943, 2365, 1335, 1501, 1857, 2107, 2724, 2020, 2116, 2280, 2544, 1734, 2376, 2591, 2606, 859, 1286, 1638, 2104, 2646, 149, 680, 1084, 1411, 1496, 1723, 2499, 129, 579, 590, 672, 1568, 1900, 1972, 830, 1160, 1625, 1936, 2169, 2235, 1014, 1216, 1325, 1408, 1886, 2452, 2610, 2627, 744, 1061, 1138, 1316, 1688, 1735, 2091, 721, 774, 873, 1342, 1564, 1727, 1977, 559, 1243, 1623, 1930, 2247, 2652, 181, 765, 1332, 1555, 1565, 1710, 2288, 2298, 2575, 1490, 1855, 2196, 2220, 2408, 1845, 2736, 1253, 1722, 1850, 757, 1080, 1618, 1917, 2089, 2427, 2442, 996, 1097, 1428, 2080, 2503, 978, 1134, 1629, 1858, 1922, 1990, 1838, 2112, 557, 652, 896, 1184, 1513, 2240, 2406, 2525, 2579, 999, 1444, 1460, 1462, 1468, 1500, 1864, 2083]\n"
     ]
    }
   ],
   "source": [
    "clusters = cluster_using_counters(counters, thresholds)\n",
    "print '==='\n",
    "print [len(c) for c in clusters]\n",
    "for c in clusters:\n",
    "    print c"
   ]
  },
  {
   "cell_type": "code",
   "execution_count": 125,
   "metadata": {
    "collapsed": false
   },
   "outputs": [],
   "source": [
    "def trim_clusters(clusters):\n",
    "    trimmed_clusters = []\n",
    "    for cluster in clusters:\n",
    "        max_votes = len(cluster)\n",
    "        new_cluster = []\n",
    "        counter = collections.defaultdict(int)\n",
    "        for c1 in cluster:\n",
    "            for c2 in cluster:\n",
    "                if c2 in sparse_where(speech_graph, c1):\n",
    "                    counter[c2] += 1\n",
    "        for k in counter:\n",
    "            if counter[k] > 0.5 * max_votes:\n",
    "                new_cluster.append(k)\n",
    "        trimmed_clusters.append(new_cluster)\n",
    "    return trimmed_clusters"
   ]
  },
  {
   "cell_type": "code",
   "execution_count": 126,
   "metadata": {
    "collapsed": true
   },
   "outputs": [],
   "source": [
    "trimmed_clusters = trim_clusters(clusters)"
   ]
  },
  {
   "cell_type": "code",
   "execution_count": 128,
   "metadata": {
    "collapsed": false
   },
   "outputs": [
    {
     "name": "stdout",
     "output_type": "stream",
     "text": [
      "===\n",
      "[0, 0, 0, 3, 0, 0]\n",
      "[]\n",
      "[]\n",
      "[]\n",
      "[19, 957, 2405]\n",
      "[]\n",
      "[]\n"
     ]
    }
   ],
   "source": [
    "print '==='\n",
    "print [len(c) for c in trimmed_clusters]\n",
    "for c in trimmed_clusters:\n",
    "    print c"
   ]
  },
  {
   "cell_type": "code",
   "execution_count": 131,
   "metadata": {
    "collapsed": false
   },
   "outputs": [
    {
     "name": "stdout",
     "output_type": "stream",
     "text": [
      "562 562\n"
     ]
    }
   ],
   "source": [
    "row1 = 0\n",
    "counter = 0\n",
    "for row2 in sparse_where(speech_graph, row1):\n",
    "    if row1 in sparse_where(speech_graph, row2):\n",
    "        counter += 1\n",
    "        \n",
    "print counter, len(sparse_where(speech_graph, row1))"
   ]
  },
  {
   "cell_type": "code",
   "execution_count": 132,
   "metadata": {
    "collapsed": false
   },
   "outputs": [
    {
     "data": {
      "text/plain": [
       "(array([  23.,  241.,  581.,  541.,  353.,   97.,  164.,  437.,  259.,   44.]),\n",
       " array([ 457. ,  488.6,  520.2,  551.8,  583.4,  615. ,  646.6,  678.2,\n",
       "         709.8,  741.4,  773. ]),\n",
       " <a list of 10 Patch objects>)"
      ]
     },
     "execution_count": 132,
     "metadata": {},
     "output_type": "execute_result"
    },
    {
     "data": {
      "image/png": "[encoded data removed]",
      "text/plain": [
       "<matplotlib.figure.Figure at 0x23982f60>"
      ]
     },
     "metadata": {},
     "output_type": "display_data"
    }
   ],
   "source": [
    "plt.hist( [len(sparse_where(speech_graph,i)) for i in range(NUM_SPEECHES)] )"
   ]
  },
  {
   "cell_type": "code",
   "execution_count": 137,
   "metadata": {
    "collapsed": false
   },
   "outputs": [
    {
     "name": "stdout",
     "output_type": "stream",
     "text": [
      "Against\n",
      "[589, 553, 610, 752]\n",
      "For\n",
      "[518, 693, 632, 580]\n"
     ]
    }
   ],
   "source": [
    "print 'Against'\n",
    "print [len(sparse_where(speech_graph, i)) for i in LABELS_AGAINST]\n",
    "print 'For'\n",
    "print [len(sparse_where(speech_graph, i)) for i in LABELS_FOR]"
   ]
  },
  {
   "cell_type": "code",
   "execution_count": 143,
   "metadata": {
    "collapsed": false
   },
   "outputs": [
    {
     "name": "stdout",
     "output_type": "stream",
     "text": [
      "0.0 %\n",
      "5.47445255474 %\n",
      "10.9489051095 %\n",
      "16.4233576642 %\n",
      "21.897810219 %\n",
      "27.3722627737 %\n",
      "32.8467153285 %\n",
      "38.3211678832 %\n",
      "43.795620438 %\n",
      "49.2700729927 %\n",
      "54.7445255474 %\n",
      "60.2189781022 %\n",
      "65.6934306569 %\n",
      "71.1678832117 %\n",
      "76.6423357664 %\n",
      "82.1167883212 %\n",
      "87.5912408759 %\n",
      "93.0656934307 %\n",
      "98.5401459854 %\n",
      "99.9635036496 %\n"
     ]
    },
    {
     "data": {
      "text/plain": [
       "(array([  26.,  371.,  681.,  524.,  211.,   23.,  169.,  436.,  255.,   44.]),\n",
       " array([ 275052. ,  296823.3,  318594.6,  340365.9,  362137.2,  383908.5,\n",
       "         405679.8,  427451.1,  449222.4,  470993.7,  492765. ]),\n",
       " <a list of 10 Patch objects>)"
      ]
     },
     "execution_count": 143,
     "metadata": {},
     "output_type": "execute_result"
    },
    {
     "data": {
      "image/png": "[encoded data removed]",
      "text/plain": [
       "<matplotlib.figure.Figure at 0x2f67b00>"
      ]
     },
     "metadata": {},
     "output_type": "display_data"
    }
   ],
   "source": [
    "counts_of_one = [0 for i in range(NUM_SPEECHES)]\n",
    "for i in range(NUM_SPEECHES):\n",
    "    row_i = sparse_where(speech_graph,i)\n",
    "    counts_of_one[i] += len(row_i)\n",
    "    for e in row_i:\n",
    "        counts_of_one[i] += len(sparse_where(speech_graph,e))\n",
    "        \n",
    "    if i % 150 == 0:\n",
    "        print 100.0 * i / NUM_SPEECHES, '%'\n",
    "print 100.0 * i / NUM_SPEECHES, '%'\n",
    "plt.hist(counts_of_one)"
   ]
  },
  {
   "cell_type": "code",
   "execution_count": 145,
   "metadata": {
    "collapsed": false
   },
   "outputs": [
    {
     "name": "stdout",
     "output_type": "stream",
     "text": [
      "Against\n",
      "[332641, 355057, 370482, 478225]\n",
      "For\n",
      "[314930, 352561, 382767, 437641]\n"
     ]
    }
   ],
   "source": [
    "print 'Against'\n",
    "print sorted([counts_of_one[i] for i in LABELS_AGAINST])\n",
    "print 'For'\n",
    "print sorted([counts_of_one[i]  for i in LABELS_FOR])"
   ]
  },
  {
   "cell_type": "code",
   "execution_count": 158,
   "metadata": {
    "collapsed": false,
    "scrolled": true
   },
   "outputs": [
    {
     "data": {
      "text/plain": [
       "(array([   1.,    0.,    9.,   14.,   24.,   61.,   87.,  123.,  127.,\n",
       "         191.,  152.,  151.,  162.,  127.,  127.,  137.,  103.,   86.,\n",
       "          57.,   40.,   27.,   17.,   17.,   17.,   33.,   71.,   80.,\n",
       "         111.,  132.,  114.,  105.,   93.,   54.,   41.,   25.,   13.,\n",
       "           3.,    8.]),\n",
       " array([ 457.        ,  465.31578947,  473.63157895,  481.94736842,\n",
       "         490.26315789,  498.57894737,  506.89473684,  515.21052632,\n",
       "         523.52631579,  531.84210526,  540.15789474,  548.47368421,\n",
       "         556.78947368,  565.10526316,  573.42105263,  581.73684211,\n",
       "         590.05263158,  598.36842105,  606.68421053,  615.        ,\n",
       "         623.31578947,  631.63157895,  639.94736842,  648.26315789,\n",
       "         656.57894737,  664.89473684,  673.21052632,  681.52631579,\n",
       "         689.84210526,  698.15789474,  706.47368421,  714.78947368,\n",
       "         723.10526316,  731.42105263,  739.73684211,  748.05263158,\n",
       "         756.36842105,  764.68421053,  773.        ]),\n",
       " <a list of 38 Patch objects>)"
      ]
     },
     "execution_count": 158,
     "metadata": {},
     "output_type": "execute_result"
    },
    {
     "data": {
      "image/png": "[encoded data removed]",
      "text/plain": [
       "<matplotlib.figure.Figure at 0x382fad68>"
      ]
     },
     "metadata": {},
     "output_type": "display_data"
    }
   ],
   "source": [
    "inverted_graph_values = [len(v) for v in inverted_graph.values()]\n",
    "plt.hist(inverted_graph_values, bins=38)"
   ]
  },
  {
   "cell_type": "code",
   "execution_count": 157,
   "metadata": {
    "collapsed": false
   },
   "outputs": [
    {
     "name": "stdout",
     "output_type": "stream",
     "text": [
      "[457, 474, 474, 478, 479, 480, 481, 481, 481, 481, 482, 483, 483, 483, 484, 486, 486, 486, 487, 487]\n",
      "[752, 752, 752, 753, 753, 754, 755, 756, 756, 757, 758, 764, 765, 766, 766, 767, 768, 770, 772, 773]\n"
     ]
    }
   ],
   "source": [
    "inverted_graph_values.sort()\n",
    "print inverted_graph_values[:20]\n",
    "print inverted_graph_values[-20:]"
   ]
  },
  {
   "cell_type": "markdown",
   "metadata": {},
   "source": [
    "## Looking for Distribution Mismatches"
   ]
  },
  {
   "cell_type": "code",
   "execution_count": 19,
   "metadata": {
    "collapsed": false
   },
   "outputs": [
    {
     "name": "stdout",
     "output_type": "stream",
     "text": [
      "0.0 %\n",
      "5.47445255474 %\n",
      "10.9489051095 %\n",
      "16.4233576642 %\n",
      "21.897810219 %\n",
      "27.3722627737 %\n",
      "32.8467153285 %\n",
      "38.3211678832 %\n",
      "43.795620438 %\n",
      "49.2700729927 %\n",
      "54.7445255474 %\n",
      "60.2189781022 %\n",
      "65.6934306569 %\n",
      "71.1678832117 %\n",
      "76.6423357664 %\n",
      "82.1167883212 %\n",
      "87.5912408759 %\n",
      "93.0656934307 %\n",
      "98.5401459854 %\n",
      "99.9635036496 %\n"
     ]
    }
   ],
   "source": [
    "std_devs = []\n",
    "for i in range(NUM_SPEECHES):\n",
    "    std_devs.append(np.std( [len(sparse_where(speech_graph,j)) for j in sparse_where(speech_graph,i)] ))\n",
    "    \n",
    "    if i % 150 == 0:\n",
    "        print 100.0 * i / NUM_SPEECHES, '%'\n",
    "print 100.0 * i / NUM_SPEECHES, '%'"
   ]
  },
  {
   "cell_type": "code",
   "execution_count": 20,
   "metadata": {
    "collapsed": false
   },
   "outputs": [
    {
     "data": {
      "text/plain": [
       "(array([  43.,  189.,  344.,  377.,  692.,  650.,  116.,   31.,  203.,   95.]),\n",
       " array([ 65.20623219,  66.96296498,  68.71969777,  70.47643055,\n",
       "         72.23316334,  73.98989613,  75.74662891,  77.5033617 ,\n",
       "         79.26009449,  81.01682727,  82.77356006]),\n",
       " <a list of 10 Patch objects>)"
      ]
     },
     "execution_count": 20,
     "metadata": {},
     "output_type": "execute_result"
    },
    {
     "data": {
      "image/png": "[encoded data removed]",
      "text/plain": [
       "<matplotlib.figure.Figure at 0x2e6437b8>"
      ]
     },
     "metadata": {},
     "output_type": "display_data"
    }
   ],
   "source": [
    "plt.hist(std_devs)"
   ]
  },
  {
   "cell_type": "markdown",
   "metadata": {},
   "source": [
    "### Load diffs"
   ]
  },
  {
   "cell_type": "code",
   "execution_count": 185,
   "metadata": {
    "collapsed": false
   },
   "outputs": [],
   "source": [
    "diffs = json.load(open('diffs.json'))\n",
    "assert len(diffs) == 1656376\n",
    "assert np.isclose(np.std(diffs), 96.5386873527)\n",
    "assert np.isclose(np.average(diffs), 0.0)"
   ]
  },
  {
   "cell_type": "markdown",
   "metadata": {},
   "source": [
    "### Recalculate diffs"
   ]
  },
  {
   "cell_type": "code",
   "execution_count": 22,
   "metadata": {
    "collapsed": false,
    "scrolled": true
   },
   "outputs": [
    {
     "name": "stdout",
     "output_type": "stream",
     "text": [
      "0.0 %\n",
      "5.47445255474 %\n",
      "10.9489051095 %\n",
      "16.4233576642 %\n",
      "21.897810219 %\n",
      "27.3722627737 %\n",
      "32.8467153285 %\n",
      "38.3211678832 %\n",
      "43.795620438 %\n",
      "49.2700729927 %\n",
      "54.7445255474 %\n",
      "60.2189781022 %\n",
      "65.6934306569 %\n",
      "71.1678832117 %\n",
      "76.6423357664 %\n",
      "82.1167883212 %\n",
      "87.5912408759 %\n",
      "93.0656934307 %\n",
      "98.5401459854 %\n",
      "99.9635036496 %\n"
     ]
    }
   ],
   "source": [
    "diffs = []\n",
    "for i in range(NUM_SPEECHES):\n",
    "    a = len(sparse_where(speech_graph,i))\n",
    "    diffs.extend( [a-len(sparse_where(speech_graph,j)) for j in sparse_where(speech_graph,i)] )\n",
    "    \n",
    "    if i % 150 == 0:\n",
    "        print 100.0 * i / NUM_SPEECHES, '%'\n",
    "print 100.0 * i / NUM_SPEECHES, '%'"
   ]
  },
  {
   "cell_type": "code",
   "execution_count": 201,
   "metadata": {
    "collapsed": false
   },
   "outputs": [
    {
     "name": "stdout",
     "output_type": "stream",
     "text": [
      "# of diffs 1656376\n",
      "# zeros 0.630050181843 %\n",
      "---\n",
      "0.0 96.5386873527\n",
      "% in one std dev 66.4737958048 %\n",
      "% in two std dev 95.8982743049 %\n",
      "# out one std dev 555320.0\n",
      "# out two std dev 67940.0\n"
     ]
    },
    {
     "data": {
      "text/plain": [
       "(array([  1.18000000e+02,   1.88300000e+03,   1.27170000e+04,\n",
       "          4.24100000e+04,   7.66760000e+04,   8.37510000e+04,\n",
       "          7.48050000e+04,   8.81550000e+04,   1.64187000e+05,\n",
       "          2.78268000e+05,   2.88704000e+05,   1.64187000e+05,\n",
       "          8.81550000e+04,   7.48050000e+04,   8.37510000e+04,\n",
       "          7.66760000e+04,   4.24100000e+04,   1.27170000e+04,\n",
       "          1.88300000e+03,   1.18000000e+02]),\n",
       " array([-301. , -270.9, -240.8, -210.7, -180.6, -150.5, -120.4,  -90.3,\n",
       "         -60.2,  -30.1,    0. ,   30.1,   60.2,   90.3,  120.4,  150.5,\n",
       "         180.6,  210.7,  240.8,  270.9,  301. ]),\n",
       " <a list of 20 Patch objects>)"
      ]
     },
     "execution_count": 201,
     "metadata": {},
     "output_type": "execute_result"
    },
    {
     "data": {
      "image/png": "[encoded data removed]",
      "text/plain": [
       "<matplotlib.figure.Figure at 0x3de98198>"
      ]
     },
     "metadata": {},
     "output_type": "display_data"
    }
   ],
   "source": [
    "diff_len = len(diffs)\n",
    "print '# of diffs', diff_len\n",
    "print '# zeros', 100.0 * diffs.count(0) / diff_len , '%'\n",
    "diff_avg = np.average(diffs)\n",
    "diff_std_dev = np.std(diffs)\n",
    "print '---'\n",
    "print diff_avg, diff_std_dev\n",
    "percent_one_dev = 100.0 * sum([1 for i in diffs if diff_avg + diff_std_dev > i > diff_avg - diff_std_dev]) / diff_len\n",
    "percent_two_dev =  100.0 * sum([1 for i in diffs if diff_avg + 2*diff_std_dev > i > diff_avg - 2*diff_std_dev]) / diff_len\n",
    "print '% in one std dev', percent_one_dev, '%'\n",
    "print '% in two std dev', percent_two_dev, '%'\n",
    "print '# out one std dev', diff_len * (100.0 - percent_one_dev) / 100.0\n",
    "print '# out two std dev', diff_len * (100.0 - percent_two_dev) / 100.0\n",
    "plt.hist(diffs, bins=20)"
   ]
  },
  {
   "cell_type": "code",
   "execution_count": 94,
   "metadata": {
    "collapsed": true
   },
   "outputs": [],
   "source": [
    "diffs.sort()\n",
    "json.dump(diffs, open('diffs.json', 'w+'))"
   ]
  },
  {
   "cell_type": "markdown",
   "metadata": {},
   "source": [
    "### Propagation using differences in row lengths"
   ]
  },
  {
   "cell_type": "markdown",
   "metadata": {},
   "source": [
    "#### Notes:\n",
    "\n",
    "propagate_labels using 2 std dev: Accuracy 0.59161\n",
    " - preds_propagation1.csv\n",
    " - Num predictions: 2339\n",
    " - [855, 586, 898] num against, num zero, num for (from propagation)\n",
    " - Num yes: 1885 (after accounting for unresolved speeches) (68.795620438%)\n",
    " \n",
    "propagate_labels using 1 std dev: Accuracy 0.55438\n",
    " - preds_propagation2.csv\n",
    " - using bugfixed code\n",
    " - Num predictions: 2740\n",
    " - Num yes: 1777 ( 64.8540145985 % )\n",
    " - [963, 0, 1777]\n",
    "   \n",
    "    propagate_labels2(LABELS_FOR)\n",
    "    \n",
    "    propagate_labels2(LABELS_AGAINST)\n",
    "    \n",
    "    next_propagation_keys = set(predicted_labels.keys()).difference(ORIG_LABELS)\n",
    "    \n",
    "    propagate_labels2(next_propagation_keys)"
   ]
  },
  {
   "cell_type": "code",
   "execution_count": 181,
   "metadata": {
    "collapsed": false
   },
   "outputs": [
    {
     "name": "stdout",
     "output_type": "stream",
     "text": [
      "68.795620438\n"
     ]
    }
   ],
   "source": [
    "print 100.0 * 1885 / NUM_SPEECHES"
   ]
  },
  {
   "cell_type": "code",
   "execution_count": 195,
   "metadata": {
    "collapsed": false
   },
   "outputs": [
    {
     "name": "stdout",
     "output_type": "stream",
     "text": [
      "96.5386873527 -96.5386873527\n",
      "Done\n"
     ]
    }
   ],
   "source": [
    "# < 0 = against\n",
    "# > 0 = for\n",
    "\n",
    "predicted_labels = collections.defaultdict(int)\n",
    "\n",
    "speech_row_sums = {i: len(sparse_where(speech_graph, i)) for i in range(NUM_SPEECHES)}\n",
    "\n",
    "for label in LABELS_AGAINST:\n",
    "    predicted_labels[label] = -1\n",
    "for label in LABELS_FOR:\n",
    "    predicted_labels[label] = 1\n",
    "    \n",
    "# bounds for std deviation\n",
    "upper_bound = diff_avg + 1 * diff_std_dev\n",
    "lower_bound = diff_avg - 1 * diff_std_dev\n",
    "print upper_bound, lower_bound\n",
    "\n",
    "def propagate_labels2(labels):\n",
    "    \n",
    "    new_parent_dict = collections.defaultdict(set)\n",
    "    newly_labeled = set()\n",
    "    \n",
    "    for curr_label in labels:\n",
    "        curr_len = speech_row_sums[curr_label]\n",
    "        curr_indices = sparse_where(speech_graph, curr_label)\n",
    "        for reference in curr_indices:\n",
    "         \n",
    "            # Do not reassign the original labels.\n",
    "            if reference in ORIG_LABELS or reference in predicted_labels:\n",
    "                continue\n",
    "                \n",
    "            sum_diff = curr_len - speech_row_sums[reference]\n",
    "\n",
    "            #if upper_bound > sum_diff > lower_bound: #Used for current first place. This is a bug!\n",
    "            if sum_diff > upper_bound or lower_bound > sum_diff:\n",
    "                predicted_labels[reference] += np.sign(predicted_labels[curr_label])\n",
    "                newly_labeled.add(reference)\n",
    "                new_parent_dict[reference].add(curr_label)\n",
    "\n",
    "def propagate_labels(labels, parent_labels_dict, parent_labels):\n",
    "    \n",
    "    new_parent_dict = collections.defaultdict(set)\n",
    "    newly_labeled = set()\n",
    "    \n",
    "    for curr_label in labels:\n",
    "        curr_len = speech_row_sums[curr_label]\n",
    "        curr_indices = sparse_where(speech_graph, curr_label)\n",
    "        for reference in curr_indices:\n",
    "            \n",
    "            # Only propagate labels forward.\n",
    "            \n",
    "            if reference in parent_labels_dict[curr_label] and reference not in ORIG_LABELS:\n",
    "                continue\n",
    "                \n",
    "            # We can influence a parent that was not our parent.\n",
    "            if reference in parent_labels and reference not in ORIG_LABELS:\n",
    "                predicted_labels[reference] += np.sign(predicted_labels[curr_label])\n",
    "                # Do NOT add to newly_labeled\n",
    "                continue\n",
    "            \n",
    "            # Do not reassign the original labels.\n",
    "            if reference in ORIG_LABELS:\n",
    "                continue\n",
    "                \n",
    "            sum_diff = curr_len - speech_row_sums[reference]\n",
    "\n",
    "            #if upper_bound > sum_diff > lower_bound: #Used for current first place. This is a bug!\n",
    "            if sum_diff > upper_bound or lower_bound > sum_diff:\n",
    "                predicted_labels[reference] += np.sign(predicted_labels[curr_label])\n",
    "                newly_labeled.add(reference)\n",
    "                new_parent_dict[reference].add(curr_label)\n",
    "                \n",
    "    return newly_labeled, new_parent_dict\n",
    "                \n",
    "def run_propagation(labels, num_iters):\n",
    "    newly_labeled, new_parent_dict = propagate_labels(LABELS_FOR, collections.defaultdict(set), set())\n",
    "    prev_labels = labels\n",
    "    for i in range(num_iters):\n",
    "        prev_labels_temp = newly_labeled\n",
    "        newly_labeled, new_parent_dict = propagate_labels(newly_labeled, new_parent_dict, prev_labels)\n",
    "        prev_labels = prev_labels_temp\n",
    "\n",
    "NUM_ITERS = 0\n",
    "\n",
    "# Best score so far\n",
    "#propagate_labels(LABELS_FOR, collections.defaultdict(set), set())\n",
    "#propagate_labels(LABELS_AGAINST, collections.defaultdict(set), set())\n",
    "\n",
    "# without using run_propagation\n",
    "propagate_labels2(LABELS_FOR)\n",
    "propagate_labels2(LABELS_AGAINST)\n",
    "next_propagation_keys = set(predicted_labels.keys()).difference(ORIG_LABELS)\n",
    "propagate_labels2(next_propagation_keys)\n",
    "\n",
    "#run_propagation(LABELS_FOR, 0)\n",
    "#run_propagation(LABELS_AGAINST, 0)\n",
    "\n",
    "print 'Done'"
   ]
  },
  {
   "cell_type": "code",
   "execution_count": 187,
   "metadata": {
    "collapsed": false
   },
   "outputs": [
    {
     "name": "stdout",
     "output_type": "stream",
     "text": [
      "0 -1\n",
      "1 1\n",
      "2 -1\n",
      "3 1\n",
      "4 1\n",
      "5 1\n",
      "6 1\n",
      "7 1\n",
      "8 1\n",
      "9 1\n",
      "10 1\n",
      "11 1\n",
      "12 1\n",
      "13 -1\n",
      "14 -1\n",
      "15 1\n",
      "16 -1\n",
      "17 -1\n",
      "18 -1\n",
      "19 1\n",
      "20 1\n",
      "21 1\n",
      "22 1\n",
      "23 1\n",
      "24 -1\n",
      "25 -1\n",
      "26 1\n",
      "27 1\n",
      "28 -1\n",
      "29 1\n",
      "30 -1\n",
      "31 1\n",
      "32 1\n",
      "33 1\n",
      "34 1\n",
      "35 1\n",
      "36 1\n",
      "37 -1\n",
      "38 -1\n",
      "39 1\n",
      "40 -1\n",
      "41 -1\n",
      "42 1\n",
      "43 -1\n",
      "44 1\n",
      "45 1\n",
      "46 1\n",
      "47 1\n",
      "48 -1\n",
      "49 1\n",
      "50 -1\n",
      "51 -1\n",
      "52 1\n",
      "53 1\n",
      "54 -1\n",
      "55 -1\n",
      "56 -1\n",
      "57 1\n",
      "58 1\n",
      "59 -1\n",
      "60 1\n",
      "61 1\n",
      "62 1\n",
      "63 -1\n",
      "64 1\n",
      "65 1\n",
      "66 1\n",
      "67 1\n",
      "68 1\n",
      "69 1\n",
      "70 1\n",
      "71 1\n",
      "72 1\n",
      "73 1\n",
      "74 1\n",
      "75 -1\n",
      "76 -1\n",
      "77 1\n",
      "78 1\n",
      "79 1\n",
      "80 1\n",
      "81 1\n",
      "82 -1\n",
      "83 -1\n",
      "84 1\n",
      "85 1\n",
      "86 1\n",
      "87 -1\n",
      "88 1\n",
      "89 1\n",
      "90 1\n",
      "91 -1\n",
      "92 1\n",
      "93 1\n",
      "94 1\n",
      "95 -1\n",
      "96 -1\n",
      "97 1\n",
      "98 -1\n",
      "99 1\n",
      "100 1\n",
      "101 -1\n",
      "102 -1\n",
      "103 1\n",
      "104 -1\n",
      "105 1\n",
      "106 1\n",
      "107 1\n",
      "108 1\n",
      "109 -1\n",
      "110 1\n",
      "111 1\n",
      "112 -1\n",
      "113 1\n",
      "114 1\n",
      "115 -1\n",
      "116 1\n",
      "117 -1\n",
      "118 1\n",
      "119 -1\n",
      "120 1\n",
      "121 1\n",
      "122 1\n",
      "123 1\n",
      "124 1\n",
      "125 1\n",
      "126 1\n",
      "127 -1\n",
      "128 1\n",
      "129 -1\n",
      "130 1\n",
      "131 1\n",
      "132 -1\n",
      "133 1\n",
      "134 -1\n",
      "135 1\n",
      "136 -1\n",
      "137 1\n",
      "138 1\n",
      "139 1\n",
      "140 1\n",
      "141 -1\n",
      "142 1\n",
      "143 1\n",
      "144 1\n",
      "145 1\n",
      "146 -1\n",
      "147 -1\n",
      "148 1\n",
      "149 -1\n",
      "150 1\n",
      "151 -1\n",
      "152 -1\n",
      "153 1\n",
      "154 1\n",
      "155 -1\n",
      "156 1\n",
      "157 -1\n",
      "158 1\n",
      "159 -1\n",
      "160 1\n",
      "161 1\n",
      "162 -1\n",
      "163 -1\n",
      "164 -1\n",
      "165 1\n",
      "166 1\n",
      "167 1\n",
      "168 1\n",
      "169 1\n",
      "170 1\n",
      "171 1\n",
      "172 -1\n",
      "173 -1\n",
      "174 1\n",
      "175 1\n",
      "176 1\n",
      "177 1\n",
      "178 1\n",
      "179 1\n",
      "180 1\n",
      "181 1\n",
      "182 1\n",
      "183 1\n",
      "184 -1\n",
      "185 -1\n",
      "186 -1\n",
      "187 1\n",
      "188 -1\n",
      "189 1\n",
      "190 1\n",
      "191 1\n",
      "192 1\n",
      "193 -1\n",
      "194 -1\n",
      "195 1\n",
      "196 1\n",
      "197 1\n",
      "198 1\n",
      "199 1\n",
      "200 1\n",
      "201 -1\n",
      "202 -1\n",
      "203 1\n",
      "204 -1\n",
      "205 1\n",
      "206 1\n",
      "207 1\n",
      "208 1\n",
      "209 -1\n",
      "210 -1\n",
      "211 1\n",
      "212 1\n",
      "213 1\n",
      "214 1\n",
      "215 1\n",
      "216 -1\n",
      "217 -1\n",
      "218 1\n",
      "219 -1\n",
      "220 -1\n",
      "221 1\n",
      "222 1\n",
      "223 1\n",
      "224 -1\n",
      "225 1\n",
      "226 1\n",
      "227 -1\n",
      "228 1\n",
      "229 1\n",
      "230 -1\n",
      "231 1\n",
      "232 -1\n",
      "233 1\n",
      "234 1\n",
      "235 -1\n",
      "236 -1\n",
      "237 1\n",
      "238 1\n",
      "239 -1\n",
      "240 -1\n",
      "241 1\n",
      "242 -1\n",
      "243 -1\n",
      "244 -1\n",
      "245 1\n",
      "246 1\n",
      "247 -1\n",
      "248 1\n",
      "249 1\n",
      "250 1\n",
      "251 -1\n",
      "252 -1\n",
      "253 1\n",
      "254 1\n",
      "255 -1\n",
      "256 1\n",
      "257 1\n",
      "258 1\n",
      "259 1\n",
      "260 -1\n",
      "261 1\n",
      "262 -1\n",
      "263 1\n",
      "264 -1\n",
      "265 -1\n",
      "266 1\n",
      "267 1\n",
      "268 -1\n",
      "269 -1\n",
      "270 -1\n",
      "271 1\n",
      "272 1\n",
      "273 1\n",
      "274 1\n",
      "275 1\n",
      "276 -1\n",
      "277 1\n",
      "278 1\n",
      "279 -1\n",
      "280 1\n",
      "281 1\n",
      "282 -1\n",
      "283 1\n",
      "284 1\n",
      "285 -1\n",
      "286 1\n",
      "287 1\n",
      "288 -1\n",
      "289 1\n",
      "290 1\n",
      "291 1\n",
      "292 1\n",
      "293 1\n",
      "294 -1\n",
      "295 1\n",
      "296 1\n",
      "297 1\n",
      "298 -1\n",
      "299 1\n",
      "300 1\n",
      "301 1\n",
      "302 -1\n",
      "303 1\n",
      "304 1\n",
      "305 1\n",
      "306 1\n",
      "307 1\n",
      "308 1\n",
      "309 1\n",
      "310 -1\n",
      "311 1\n",
      "312 -1\n",
      "313 1\n",
      "314 -1\n",
      "315 1\n",
      "316 1\n",
      "317 1\n",
      "318 1\n",
      "319 1\n",
      "320 1\n",
      "321 1\n",
      "322 -1\n",
      "323 1\n",
      "324 -1\n",
      "325 -1\n",
      "326 1\n",
      "327 1\n",
      "328 1\n",
      "329 -1\n",
      "330 1\n",
      "331 -1\n",
      "332 1\n",
      "333 1\n",
      "334 -1\n",
      "335 1\n",
      "336 -1\n",
      "337 1\n",
      "338 1\n",
      "339 1\n",
      "340 1\n",
      "341 1\n",
      "342 1\n",
      "343 -1\n",
      "344 -1\n",
      "345 1\n",
      "346 1\n",
      "347 1\n",
      "348 1\n",
      "349 1\n",
      "350 -1\n",
      "351 1\n",
      "352 1\n",
      "353 -1\n",
      "354 -1\n",
      "355 1\n",
      "356 1\n",
      "357 -1\n",
      "358 1\n",
      "359 1\n",
      "360 -1\n",
      "361 1\n",
      "362 -1\n",
      "363 -1\n",
      "364 -1\n",
      "365 -1\n",
      "366 -1\n",
      "367 -1\n",
      "368 -1\n",
      "369 -1\n",
      "370 1\n",
      "371 1\n",
      "372 1\n",
      "373 1\n",
      "374 -1\n",
      "375 -1\n",
      "376 1\n",
      "377 -1\n",
      "378 1\n",
      "379 1\n",
      "380 -1\n",
      "381 -1\n",
      "382 -1\n",
      "383 1\n",
      "384 -1\n",
      "385 1\n",
      "386 -1\n",
      "387 -1\n",
      "388 1\n",
      "389 1\n",
      "390 1\n",
      "391 1\n",
      "392 1\n",
      "393 1\n",
      "394 1\n",
      "395 -1\n",
      "396 -1\n",
      "397 1\n",
      "398 1\n",
      "399 1\n",
      "400 -1\n",
      "401 1\n",
      "402 -1\n",
      "403 1\n",
      "404 1\n",
      "405 1\n",
      "406 1\n",
      "407 -1\n",
      "408 1\n",
      "409 -1\n",
      "410 1\n",
      "411 -1\n",
      "412 1\n",
      "413 1\n",
      "414 1\n",
      "415 -1\n",
      "416 -1\n",
      "417 -1\n",
      "418 -1\n",
      "419 1\n",
      "420 -1\n",
      "421 1\n",
      "422 1\n",
      "423 -1\n",
      "424 1\n",
      "425 1\n",
      "426 1\n",
      "427 1\n",
      "428 -1\n",
      "429 1\n",
      "430 1\n",
      "431 1\n",
      "432 1\n",
      "433 1\n",
      "434 1\n",
      "435 -1\n",
      "436 -1\n",
      "437 1\n",
      "438 1\n",
      "439 -1\n",
      "440 1\n",
      "441 -1\n",
      "442 -1\n",
      "443 1\n",
      "444 1\n",
      "445 1\n",
      "446 1\n",
      "447 -1\n",
      "448 1\n",
      "449 1\n",
      "450 1\n",
      "451 1\n",
      "452 -1\n",
      "453 1\n",
      "454 1\n",
      "455 -1\n",
      "456 -1\n",
      "457 1\n",
      "458 1\n",
      "459 1\n",
      "460 -1\n",
      "461 -1\n",
      "462 -1\n",
      "463 1\n",
      "464 -1\n",
      "465 1\n",
      "466 1\n",
      "467 1\n",
      "468 1\n",
      "469 1\n",
      "470 1\n",
      "471 1\n",
      "472 -1\n",
      "473 1\n",
      "474 1\n",
      "475 1\n",
      "476 -1\n",
      "477 -1\n",
      "478 -1\n",
      "479 1\n",
      "480 -1\n",
      "481 1\n",
      "482 -1\n",
      "483 -1\n",
      "484 1\n",
      "485 1\n",
      "486 1\n",
      "487 1\n",
      "488 1\n",
      "489 1\n",
      "490 1\n",
      "491 1\n",
      "492 1\n",
      "493 -1\n",
      "494 1\n",
      "495 1\n",
      "496 -1\n",
      "497 -1\n",
      "498 1\n",
      "499 -1\n",
      "500 1\n",
      "501 1\n",
      "502 1\n",
      "503 1\n",
      "504 -1\n",
      "505 1\n",
      "506 1\n",
      "507 -1\n",
      "508 1\n",
      "509 1\n",
      "510 -1\n",
      "511 1\n",
      "512 1\n",
      "513 1\n",
      "514 1\n",
      "515 1\n",
      "516 1\n",
      "517 1\n",
      "518 -1\n",
      "519 1\n",
      "520 1\n",
      "521 1\n",
      "522 -1\n",
      "523 1\n",
      "524 1\n",
      "525 1\n",
      "526 1\n",
      "527 1\n",
      "528 1\n",
      "529 -1\n",
      "530 -1\n",
      "531 -1\n",
      "532 1\n",
      "533 -1\n",
      "534 1\n",
      "535 1\n",
      "536 1\n",
      "537 -1\n",
      "538 1\n",
      "539 -1\n",
      "540 1\n",
      "541 -1\n",
      "542 -1\n",
      "543 1\n",
      "544 1\n",
      "545 -1\n",
      "546 -1\n",
      "547 -1\n",
      "548 1\n",
      "549 -1\n",
      "550 1\n",
      "551 -1\n",
      "552 -1\n",
      "553 1\n",
      "554 1\n",
      "555 1\n",
      "556 1\n",
      "557 -1\n",
      "558 1\n",
      "559 1\n",
      "560 1\n",
      "561 1\n",
      "562 -1\n",
      "563 -1\n",
      "564 -1\n",
      "565 -1\n",
      "566 1\n",
      "567 1\n",
      "568 -1\n",
      "569 1\n",
      "570 -1\n",
      "571 -1\n",
      "572 -1\n",
      "573 1\n",
      "574 -1\n",
      "575 -1\n",
      "576 1\n",
      "577 1\n",
      "578 -1\n",
      "579 1\n",
      "580 1\n",
      "581 1\n",
      "582 -1\n",
      "583 1\n",
      "584 -1\n",
      "585 -1\n",
      "586 1\n",
      "587 1\n",
      "588 1\n",
      "589 -1\n",
      "590 -1\n",
      "591 -1\n",
      "592 1\n",
      "593 1\n",
      "594 1\n",
      "595 -1\n",
      "596 -1\n",
      "597 1\n",
      "598 1\n",
      "599 1\n",
      "600 1\n",
      "601 -1\n",
      "602 -1\n",
      "603 1\n",
      "604 -1\n",
      "605 -1\n",
      "606 1\n",
      "607 1\n",
      "608 1\n",
      "609 1\n",
      "610 -1\n",
      "611 1\n",
      "612 1\n",
      "613 -1\n",
      "614 1\n",
      "615 1\n",
      "616 1\n",
      "617 -1\n",
      "618 1\n",
      "619 -1\n",
      "620 -1\n",
      "621 1\n",
      "622 1\n",
      "623 -1\n",
      "624 1\n",
      "625 -1\n",
      "626 1\n",
      "627 1\n",
      "628 1\n",
      "629 -1\n",
      "630 1\n",
      "631 -1\n",
      "632 1\n",
      "633 -1\n",
      "634 1\n",
      "635 -1\n",
      "636 1\n",
      "637 -1\n",
      "638 1\n",
      "639 -1\n",
      "640 1\n",
      "641 -1\n",
      "642 -1\n",
      "643 1\n",
      "644 -1\n",
      "645 1\n",
      "646 -1\n",
      "647 1\n",
      "648 -1\n",
      "649 1\n",
      "650 -1\n",
      "651 -1\n",
      "652 1\n",
      "653 -1\n",
      "654 -1\n",
      "655 1\n",
      "656 1\n",
      "657 1\n",
      "658 1\n",
      "659 1\n",
      "660 -1\n",
      "661 1\n",
      "662 1\n",
      "663 -1\n",
      "664 1\n",
      "665 1\n",
      "666 1\n",
      "667 1\n",
      "668 1\n",
      "669 1\n",
      "670 -1\n",
      "671 -1\n",
      "672 1\n",
      "673 -1\n",
      "674 -1\n",
      "675 -1\n",
      "676 1\n",
      "677 1\n",
      "678 1\n",
      "679 -1\n",
      "680 1\n",
      "681 -1\n",
      "682 1\n",
      "683 1\n",
      "684 1\n",
      "685 1\n",
      "686 1\n",
      "687 1\n",
      "688 -1\n",
      "689 1\n",
      "690 -1\n",
      "691 1\n",
      "692 -1\n",
      "693 1\n",
      "694 1\n",
      "695 1\n",
      "696 -1\n",
      "697 -1\n",
      "698 -1\n",
      "699 1\n",
      "700 1\n",
      "701 1\n",
      "702 1\n",
      "703 1\n",
      "704 1\n",
      "705 -1\n",
      "706 -1\n",
      "707 -1\n",
      "708 1\n",
      "709 -1\n",
      "710 1\n",
      "711 1\n",
      "712 1\n",
      "713 1\n",
      "714 1\n",
      "715 1\n",
      "716 1\n",
      "717 -1\n",
      "718 1\n",
      "719 -1\n",
      "720 -1\n",
      "721 1\n",
      "722 1\n",
      "723 1\n",
      "724 1\n",
      "725 1\n",
      "726 -1\n",
      "727 1\n",
      "728 1\n",
      "729 1\n",
      "730 1\n",
      "731 1\n",
      "732 -1\n",
      "733 -1\n",
      "734 -1\n",
      "735 1\n",
      "736 1\n",
      "737 1\n",
      "738 1\n",
      "739 -1\n",
      "740 -1\n",
      "741 1\n",
      "742 1\n",
      "743 -1\n",
      "744 1\n",
      "745 -1\n",
      "746 -1\n",
      "747 1\n",
      "748 1\n",
      "749 -1\n",
      "750 -1\n",
      "751 1\n",
      "752 1\n",
      "753 1\n",
      "754 1\n",
      "755 1\n",
      "756 1\n",
      "757 1\n",
      "758 -1\n",
      "759 1\n",
      "760 -1\n",
      "761 -1\n",
      "762 1\n",
      "763 1\n",
      "764 1\n",
      "765 1\n",
      "766 -1\n",
      "767 1\n",
      "768 1\n",
      "769 -1\n",
      "770 -1\n",
      "771 1\n",
      "772 1\n",
      "773 -1\n",
      "774 1\n",
      "775 1\n",
      "776 -1\n",
      "777 1\n",
      "778 1\n",
      "779 -1\n",
      "780 1\n",
      "781 -1\n",
      "782 1\n",
      "783 1\n",
      "784 1\n",
      "785 1\n",
      "786 1\n",
      "787 1\n",
      "788 -1\n",
      "789 1\n",
      "790 -1\n",
      "791 1\n",
      "792 1\n",
      "793 1\n",
      "794 1\n",
      "795 -1\n",
      "796 1\n",
      "797 1\n",
      "798 -1\n",
      "799 -1\n",
      "800 -1\n",
      "801 1\n",
      "802 -1\n",
      "803 1\n",
      "804 -1\n",
      "805 -1\n",
      "806 -1\n",
      "807 1\n",
      "808 1\n",
      "809 -1\n",
      "810 1\n",
      "811 1\n",
      "812 1\n",
      "813 1\n",
      "814 1\n",
      "815 -1\n",
      "816 1\n",
      "817 1\n",
      "818 1\n",
      "819 -1\n",
      "820 1\n",
      "821 1\n",
      "822 -1\n",
      "823 -1\n",
      "824 -1\n",
      "825 1\n",
      "826 -1\n",
      "827 -1\n",
      "828 1\n",
      "829 1\n",
      "830 1\n",
      "831 1\n",
      "832 1\n",
      "833 -1\n",
      "834 1\n",
      "835 -1\n",
      "836 -1\n",
      "837 1\n",
      "838 1\n",
      "839 1\n",
      "840 -1\n",
      "841 -1\n",
      "842 1\n",
      "843 1\n",
      "844 -1\n",
      "845 1\n",
      "846 1\n",
      "847 -1\n",
      "848 1\n",
      "849 1\n",
      "850 1\n",
      "851 -1\n",
      "852 1\n",
      "853 -1\n",
      "854 1\n",
      "855 -1\n",
      "856 1\n",
      "857 -1\n",
      "858 1\n",
      "859 -1\n",
      "860 1\n",
      "861 1\n",
      "862 -1\n",
      "863 1\n",
      "864 1\n",
      "865 1\n",
      "866 -1\n",
      "867 -1\n",
      "868 1\n",
      "869 1\n",
      "870 1\n",
      "871 -1\n",
      "872 1\n",
      "873 -1\n",
      "874 1\n",
      "875 1\n",
      "876 -1\n",
      "877 1\n",
      "878 -1\n",
      "879 -1\n",
      "880 1\n",
      "881 1\n",
      "882 -1\n",
      "883 1\n",
      "884 -1\n",
      "885 1\n",
      "886 1\n",
      "887 1\n",
      "888 1\n",
      "889 1\n",
      "890 1\n",
      "891 -1\n",
      "892 1\n",
      "893 1\n",
      "894 1\n",
      "895 1\n",
      "896 -1\n",
      "897 1\n",
      "898 -1\n",
      "899 -1\n",
      "900 1\n",
      "901 -1\n",
      "902 -1\n",
      "903 -1\n",
      "904 -1\n",
      "905 1\n",
      "906 1\n",
      "907 1\n",
      "908 -1\n",
      "909 1\n",
      "910 -1\n",
      "911 1\n",
      "912 -1\n",
      "913 1\n",
      "914 1\n",
      "915 1\n",
      "916 1\n",
      "917 1\n",
      "918 -1\n",
      "919 -1\n",
      "920 1\n",
      "921 1\n",
      "922 -1\n",
      "923 1\n",
      "924 1\n",
      "925 1\n",
      "926 1\n",
      "927 1\n",
      "928 1\n",
      "929 1\n",
      "930 1\n",
      "931 1\n",
      "932 1\n",
      "933 1\n",
      "934 -1\n",
      "935 1\n",
      "936 1\n",
      "937 1\n",
      "938 1\n",
      "939 1\n",
      "940 1\n",
      "941 -1\n",
      "942 1\n",
      "943 1\n",
      "944 1\n",
      "945 -1\n",
      "946 1\n",
      "947 1\n",
      "948 -1\n",
      "949 1\n",
      "950 -1\n",
      "951 -1\n",
      "952 -1\n",
      "953 1\n",
      "954 1\n",
      "955 -1\n",
      "956 1\n",
      "957 -1\n",
      "958 1\n",
      "959 1\n",
      "960 1\n",
      "961 1\n",
      "962 1\n",
      "963 1\n",
      "964 1\n",
      "965 1\n",
      "966 1\n",
      "967 1\n",
      "968 1\n",
      "969 1\n",
      "970 1\n",
      "971 1\n",
      "972 1\n",
      "973 1\n",
      "974 -1\n",
      "975 1\n",
      "976 1\n",
      "977 -1\n",
      "978 1\n",
      "979 1\n",
      "980 1\n",
      "981 1\n",
      "982 1\n",
      "983 -1\n",
      "984 1\n",
      "985 1\n",
      "986 1\n",
      "987 1\n",
      "988 -1\n",
      "989 1\n",
      "990 1\n",
      "991 -1\n",
      "992 1\n",
      "993 1\n",
      "994 1\n",
      "995 1\n",
      "996 1\n",
      "997 1\n",
      "998 -1\n",
      "999 1\n",
      "1000 -1\n",
      "1001 1\n",
      "1002 -1\n",
      "1003 1\n",
      "1004 1\n",
      "1005 -1\n",
      "1006 1\n",
      "1007 1\n",
      "1008 1\n",
      "1009 1\n",
      "1010 1\n",
      "1011 1\n",
      "1012 -1\n",
      "1013 -1\n",
      "1014 -1\n",
      "1015 1\n",
      "1016 -1\n",
      "1017 1\n",
      "1018 1\n",
      "1019 1\n",
      "1020 1\n",
      "1021 1\n",
      "1022 1\n",
      "1023 1\n",
      "1024 1\n",
      "1025 1\n",
      "1026 1\n",
      "1027 1\n",
      "1028 -1\n",
      "1029 -1\n",
      "1030 1\n",
      "1031 1\n",
      "1032 -1\n",
      "1033 -1\n",
      "1034 -1\n",
      "1035 1\n",
      "1036 -1\n",
      "1037 1\n",
      "1038 1\n",
      "1039 -1\n",
      "1040 1\n",
      "1041 1\n",
      "1042 1\n",
      "1043 1\n",
      "1044 1\n",
      "1045 -1\n",
      "1046 -1\n",
      "1047 1\n",
      "1048 1\n",
      "1049 1\n",
      "1050 -1\n",
      "1051 1\n",
      "1052 1\n",
      "1053 1\n",
      "1054 1\n",
      "1055 -1\n",
      "1056 1\n",
      "1057 -1\n",
      "1058 -1\n",
      "1059 1\n",
      "1060 -1\n",
      "1061 1\n",
      "1062 -1\n",
      "1063 1\n",
      "1064 1\n",
      "1065 -1\n",
      "1066 -1\n",
      "1067 1\n",
      "1068 1\n",
      "1069 1\n",
      "1070 1\n",
      "1071 1\n",
      "1072 1\n",
      "1073 1\n",
      "1074 -1\n",
      "1075 -1\n",
      "1076 1\n",
      "1077 1\n",
      "1078 1\n",
      "1079 1\n",
      "1080 1\n",
      "1081 1\n",
      "1082 -1\n",
      "1083 -1\n",
      "1084 -1\n",
      "1085 -1\n",
      "1086 1\n",
      "1087 -1\n",
      "1088 -1\n",
      "1089 1\n",
      "1090 1\n",
      "1091 -1\n",
      "1092 -1\n",
      "1093 1\n",
      "1094 -1\n",
      "1095 -1\n",
      "1096 1\n",
      "1097 -1\n",
      "1098 1\n",
      "1099 -1\n",
      "1100 1\n",
      "1101 1\n",
      "1102 -1\n",
      "1103 1\n",
      "1104 1\n",
      "1105 -1\n",
      "1106 1\n",
      "1107 -1\n",
      "1108 1\n",
      "1109 1\n",
      "1110 1\n",
      "1111 1\n",
      "1112 1\n",
      "1113 1\n",
      "1114 1\n",
      "1115 1\n",
      "1116 -1\n",
      "1117 -1\n",
      "1118 1\n",
      "1119 -1\n",
      "1120 1\n",
      "1121 1\n",
      "1122 1\n",
      "1123 -1\n",
      "1124 1\n",
      "1125 -1\n",
      "1126 1\n",
      "1127 1\n",
      "1128 -1\n",
      "1129 1\n",
      "1130 1\n",
      "1131 1\n",
      "1132 1\n",
      "1133 -1\n",
      "1134 -1\n",
      "1135 1\n",
      "1136 -1\n",
      "1137 1\n",
      "1138 -1\n",
      "1139 1\n",
      "1140 1\n",
      "1141 -1\n",
      "1142 1\n",
      "1143 1\n",
      "1144 1\n",
      "1145 -1\n",
      "1146 -1\n",
      "1147 1\n",
      "1148 1\n",
      "1149 1\n",
      "1150 -1\n",
      "1151 -1\n",
      "1152 1\n",
      "1153 1\n",
      "1154 -1\n",
      "1155 -1\n",
      "1156 -1\n",
      "1157 -1\n",
      "1158 1\n",
      "1159 1\n",
      "1160 -1\n",
      "1161 1\n",
      "1162 -1\n",
      "1163 -1\n",
      "1164 -1\n",
      "1165 1\n",
      "1166 -1\n",
      "1167 -1\n",
      "1168 -1\n",
      "1169 -1\n",
      "1170 1\n",
      "1171 1\n",
      "1172 1\n",
      "1173 -1\n",
      "1174 1\n",
      "1175 1\n",
      "1176 1\n",
      "1177 -1\n",
      "1178 1\n",
      "1179 1\n",
      "1180 -1\n",
      "1181 -1\n",
      "1182 1\n",
      "1183 -1\n",
      "1184 -1\n",
      "1185 1\n",
      "1186 -1\n",
      "1187 1\n",
      "1188 1\n",
      "1189 1\n",
      "1190 1\n",
      "1191 -1\n",
      "1192 1\n",
      "1193 1\n",
      "1194 -1\n",
      "1195 1\n",
      "1196 -1\n",
      "1197 -1\n",
      "1198 1\n",
      "1199 1\n",
      "1200 1\n",
      "1201 1\n",
      "1202 1\n",
      "1203 -1\n",
      "1204 1\n",
      "1205 -1\n",
      "1206 1\n",
      "1207 1\n",
      "1208 -1\n",
      "1209 1\n",
      "1210 1\n",
      "1211 1\n",
      "1212 -1\n",
      "1213 1\n",
      "1214 1\n",
      "1215 1\n",
      "1216 1\n",
      "1217 1\n",
      "1218 1\n",
      "1219 1\n",
      "1220 -1\n",
      "1221 1\n",
      "1222 -1\n",
      "1223 -1\n",
      "1224 -1\n",
      "1225 1\n",
      "1226 -1\n",
      "1227 -1\n",
      "1228 -1\n",
      "1229 1\n",
      "1230 -1\n",
      "1231 1\n",
      "1232 -1\n",
      "1233 1\n",
      "1234 -1\n",
      "1235 1\n",
      "1236 1\n",
      "1237 1\n",
      "1238 -1\n",
      "1239 1\n",
      "1240 1\n",
      "1241 1\n",
      "1242 -1\n",
      "1243 -1\n",
      "1244 1\n",
      "1245 1\n",
      "1246 1\n",
      "1247 1\n",
      "1248 -1\n",
      "1249 1\n",
      "1250 -1\n",
      "1251 1\n",
      "1252 1\n",
      "1253 1\n",
      "1254 1\n",
      "1255 1\n",
      "1256 1\n",
      "1257 1\n",
      "1258 1\n",
      "1259 1\n",
      "1260 1\n",
      "1261 1\n",
      "1262 -1\n",
      "1263 -1\n",
      "1264 1\n",
      "1265 1\n",
      "1266 -1\n",
      "1267 1\n",
      "1268 -1\n",
      "1269 1\n",
      "1270 -1\n",
      "1271 -1\n",
      "1272 1\n",
      "1273 -1\n",
      "1274 -1\n",
      "1275 -1\n",
      "1276 1\n",
      "1277 1\n",
      "1278 1\n",
      "1279 -1\n",
      "1280 1\n",
      "1281 1\n",
      "1282 1\n",
      "1283 1\n",
      "1284 -1\n",
      "1285 -1\n",
      "1286 1\n",
      "1287 1\n",
      "1288 -1\n",
      "1289 -1\n",
      "1290 1\n",
      "1291 1\n",
      "1292 1\n",
      "1293 1\n",
      "1294 -1\n",
      "1295 1\n",
      "1296 1\n",
      "1297 1\n",
      "1298 1\n",
      "1299 -1\n",
      "1300 1\n",
      "1301 1\n",
      "1302 1\n",
      "1303 1\n",
      "1304 -1\n",
      "1305 -1\n",
      "1306 1\n",
      "1307 -1\n",
      "1308 1\n",
      "1309 1\n",
      "1310 1\n",
      "1311 1\n",
      "1312 1\n",
      "1313 1\n",
      "1314 -1\n",
      "1315 -1\n",
      "1316 -1\n",
      "1317 1\n",
      "1318 1\n",
      "1319 -1\n",
      "1320 1\n",
      "1321 1\n",
      "1322 -1\n",
      "1323 1\n",
      "1324 -1\n",
      "1325 1\n",
      "1326 1\n",
      "1327 1\n",
      "1328 -1\n",
      "1329 -1\n",
      "1330 -1\n",
      "1331 1\n",
      "1332 1\n",
      "1333 1\n",
      "1334 1\n",
      "1335 1\n",
      "1336 1\n",
      "1337 1\n",
      "1338 1\n",
      "1339 -1\n",
      "1340 -1\n",
      "1341 -1\n",
      "1342 -1\n",
      "1343 1\n",
      "1344 1\n",
      "1345 1\n",
      "1346 -1\n",
      "1347 1\n",
      "1348 1\n",
      "1349 -1\n",
      "1350 1\n",
      "1351 1\n",
      "1352 1\n",
      "1353 -1\n",
      "1354 -1\n",
      "1355 1\n",
      "1356 1\n",
      "1357 1\n",
      "1358 1\n",
      "1359 -1\n",
      "1360 1\n",
      "1361 1\n",
      "1362 1\n",
      "1363 1\n",
      "1364 1\n",
      "1365 1\n",
      "1366 1\n",
      "1367 -1\n",
      "1368 1\n",
      "1369 1\n",
      "1370 1\n",
      "1371 1\n",
      "1372 1\n",
      "1373 -1\n",
      "1374 1\n",
      "1375 -1\n",
      "1376 -1\n",
      "1377 1\n",
      "1378 -1\n",
      "1379 1\n",
      "1380 -1\n",
      "1381 1\n",
      "1382 1\n",
      "1383 1\n",
      "1384 1\n",
      "1385 1\n",
      "1386 1\n",
      "1387 1\n",
      "1388 -1\n",
      "1389 1\n",
      "1390 -1\n",
      "1391 1\n",
      "1392 1\n",
      "1393 1\n",
      "1394 1\n",
      "1395 1\n",
      "1396 1\n",
      "1397 1\n",
      "1398 1\n",
      "1399 1\n",
      "1400 1\n",
      "1401 1\n",
      "1402 1\n",
      "1403 1\n",
      "1404 1\n",
      "1405 -1\n",
      "1406 -1\n",
      "1407 1\n",
      "1408 1\n",
      "1409 -1\n",
      "1410 1\n",
      "1411 -1\n",
      "1412 1\n",
      "1413 -1\n",
      "1414 -1\n",
      "1415 1\n",
      "1416 -1\n",
      "1417 -1\n",
      "1418 -1\n",
      "1419 1\n",
      "1420 1\n",
      "1421 1\n",
      "1422 1\n",
      "1423 -1\n",
      "1424 1\n",
      "1425 1\n",
      "1426 1\n",
      "1427 1\n",
      "1428 -1\n",
      "1429 -1\n",
      "1430 1\n",
      "1431 1\n",
      "1432 1\n",
      "1433 1\n",
      "1434 -1\n",
      "1435 1\n",
      "1436 1\n",
      "1437 1\n",
      "1438 -1\n",
      "1439 -1\n",
      "1440 -1\n",
      "1441 1\n",
      "1442 1\n",
      "1443 -1\n",
      "1444 1\n",
      "1445 1\n",
      "1446 1\n",
      "1447 1\n",
      "1448 1\n",
      "1449 1\n",
      "1450 -1\n",
      "1451 1\n",
      "1452 1\n",
      "1453 1\n",
      "1454 -1\n",
      "1455 -1\n",
      "1456 -1\n",
      "1457 1\n",
      "1458 -1\n",
      "1459 1\n",
      "1460 1\n",
      "1461 1\n",
      "1462 1\n",
      "1463 1\n",
      "1464 1\n",
      "1465 1\n",
      "1466 1\n",
      "1467 1\n",
      "1468 1\n",
      "1469 1\n",
      "1470 1\n",
      "1471 -1\n",
      "1472 -1\n",
      "1473 1\n",
      "1474 1\n",
      "1475 1\n",
      "1476 -1\n",
      "1477 1\n",
      "1478 1\n",
      "1479 1\n",
      "1480 -1\n",
      "1481 -1\n",
      "1482 1\n",
      "1483 -1\n",
      "1484 1\n",
      "1485 1\n",
      "1486 -1\n",
      "1487 1\n",
      "1488 1\n",
      "1489 1\n",
      "1490 -1\n",
      "1491 -1\n",
      "1492 -1\n",
      "1493 1\n",
      "1494 -1\n",
      "1495 1\n",
      "1496 1\n",
      "1497 1\n",
      "1498 -1\n",
      "1499 1\n",
      "1500 1\n",
      "1501 1\n",
      "1502 1\n",
      "1503 -1\n",
      "1504 -1\n",
      "1505 1\n",
      "1506 1\n",
      "1507 1\n",
      "1508 -1\n",
      "1509 -1\n",
      "1510 1\n",
      "1511 1\n",
      "1512 1\n",
      "1513 1\n",
      "1514 1\n",
      "1515 1\n",
      "1516 1\n",
      "1517 1\n",
      "1518 1\n",
      "1519 1\n",
      "1520 1\n",
      "1521 -1\n",
      "1522 -1\n",
      "1523 -1\n",
      "1524 1\n",
      "1525 1\n",
      "1526 1\n",
      "1527 -1\n",
      "1528 -1\n",
      "1529 1\n",
      "1530 -1\n",
      "1531 1\n",
      "1532 -1\n",
      "1533 1\n",
      "1534 1\n",
      "1535 1\n",
      "1536 1\n",
      "1537 1\n",
      "1538 1\n",
      "1539 1\n",
      "1540 1\n",
      "1541 1\n",
      "1542 1\n",
      "1543 1\n",
      "1544 1\n",
      "1545 1\n",
      "1546 -1\n",
      "1547 1\n",
      "1548 1\n",
      "1549 1\n",
      "1550 -1\n",
      "1551 1\n",
      "1552 1\n",
      "1553 1\n",
      "1554 1\n",
      "1555 1\n",
      "1556 1\n",
      "1557 -1\n",
      "1558 1\n",
      "1559 1\n",
      "1560 -1\n",
      "1561 -1\n",
      "1562 1\n",
      "1563 1\n",
      "1564 1\n",
      "1565 -1\n",
      "1566 1\n",
      "1567 1\n",
      "1568 1\n",
      "1569 1\n",
      "1570 1\n",
      "1571 1\n",
      "1572 1\n",
      "1573 1\n",
      "1574 1\n",
      "1575 1\n",
      "1576 -1\n",
      "1577 1\n",
      "1578 1\n",
      "1579 1\n",
      "1580 1\n",
      "1581 -1\n",
      "1582 -1\n",
      "1583 -1\n",
      "1584 1\n",
      "1585 1\n",
      "1586 1\n",
      "1587 1\n",
      "1588 1\n",
      "1589 -1\n",
      "1590 1\n",
      "1591 -1\n",
      "1592 1\n",
      "1593 1\n",
      "1594 1\n",
      "1595 -1\n",
      "1596 1\n",
      "1597 1\n",
      "1598 -1\n",
      "1599 1\n",
      "1600 1\n",
      "1601 1\n",
      "1602 1\n",
      "1603 -1\n",
      "1604 1\n",
      "1605 1\n",
      "1606 -1\n",
      "1607 1\n",
      "1608 1\n",
      "1609 -1\n",
      "1610 1\n",
      "1611 1\n",
      "1612 1\n",
      "1613 1\n",
      "1614 1\n",
      "1615 1\n",
      "1616 1\n",
      "1617 1\n",
      "1618 -1\n",
      "1619 -1\n",
      "1620 1\n",
      "1621 -1\n",
      "1622 1\n",
      "1623 -1\n",
      "1624 1\n",
      "1625 1\n",
      "1626 -1\n",
      "1627 1\n",
      "1628 -1\n",
      "1629 1\n",
      "1630 -1\n",
      "1631 1\n",
      "1632 -1\n",
      "1633 -1\n",
      "1634 1\n",
      "1635 -1\n",
      "1636 1\n",
      "1637 1\n",
      "1638 -1\n",
      "1639 -1\n",
      "1640 1\n",
      "1641 1\n",
      "1642 1\n",
      "1643 1\n",
      "1644 1\n",
      "1645 1\n",
      "1646 1\n",
      "1647 -1\n",
      "1648 1\n",
      "1649 1\n",
      "1650 -1\n",
      "1651 -1\n",
      "1652 1\n",
      "1653 -1\n",
      "1654 -1\n",
      "1655 1\n",
      "1656 -1\n",
      "1657 1\n",
      "1658 -1\n",
      "1659 1\n",
      "1660 1\n",
      "1661 1\n",
      "1662 -1\n",
      "1663 -1\n",
      "1664 -1\n",
      "1665 1\n",
      "1666 1\n",
      "1667 -1\n",
      "1668 1\n",
      "1669 -1\n",
      "1670 -1\n",
      "1671 1\n",
      "1672 1\n",
      "1673 -1\n",
      "1674 -1\n",
      "1675 1\n",
      "1676 1\n",
      "1677 -1\n",
      "1678 1\n",
      "1679 1\n",
      "1680 -1\n",
      "1681 -1\n",
      "1682 1\n",
      "1683 1\n",
      "1684 1\n",
      "1685 1\n",
      "1686 1\n",
      "1687 1\n",
      "1688 -1\n",
      "1689 1\n",
      "1690 -1\n",
      "1691 1\n",
      "1692 1\n",
      "1693 1\n",
      "1694 -1\n",
      "1695 -1\n",
      "1696 1\n",
      "1697 1\n",
      "1698 1\n",
      "1699 -1\n",
      "1700 -1\n",
      "1701 -1\n",
      "1702 1\n",
      "1703 1\n",
      "1704 1\n",
      "1705 1\n",
      "1706 -1\n",
      "1707 -1\n",
      "1708 1\n",
      "1709 -1\n",
      "1710 1\n",
      "1711 1\n",
      "1712 1\n",
      "1713 -1\n",
      "1714 1\n",
      "1715 -1\n",
      "1716 1\n",
      "1717 1\n",
      "1718 1\n",
      "1719 1\n",
      "1720 -1\n",
      "1721 1\n",
      "1722 -1\n",
      "1723 1\n",
      "1724 -1\n",
      "1725 1\n",
      "1726 -1\n",
      "1727 -1\n",
      "1728 1\n",
      "1729 1\n",
      "1730 -1\n",
      "1731 1\n",
      "1732 1\n",
      "1733 -1\n",
      "1734 1\n",
      "1735 1\n",
      "1736 1\n",
      "1737 1\n",
      "1738 -1\n",
      "1739 -1\n",
      "1740 -1\n",
      "1741 1\n",
      "1742 1\n",
      "1743 1\n",
      "1744 -1\n",
      "1745 1\n",
      "1746 1\n",
      "1747 -1\n",
      "1748 1\n",
      "1749 -1\n",
      "1750 1\n",
      "1751 1\n",
      "1752 -1\n",
      "1753 1\n",
      "1754 1\n",
      "1755 1\n",
      "1756 1\n",
      "1757 1\n",
      "1758 1\n",
      "1759 1\n",
      "1760 1\n",
      "1761 1\n",
      "1762 1\n",
      "1763 1\n",
      "1764 1\n",
      "1765 1\n",
      "1766 -1\n",
      "1767 1\n",
      "1768 -1\n",
      "1769 1\n",
      "1770 -1\n",
      "1771 -1\n",
      "1772 1\n",
      "1773 -1\n",
      "1774 1\n",
      "1775 -1\n",
      "1776 1\n",
      "1777 1\n",
      "1778 1\n",
      "1779 1\n",
      "1780 1\n",
      "1781 -1\n",
      "1782 1\n",
      "1783 -1\n",
      "1784 1\n",
      "1785 1\n",
      "1786 1\n",
      "1787 1\n",
      "1788 -1\n",
      "1789 -1\n",
      "1790 1\n",
      "1791 1\n",
      "1792 1\n",
      "1793 1\n",
      "1794 1\n",
      "1795 1\n",
      "1796 1\n",
      "1797 1\n",
      "1798 1\n",
      "1799 1\n",
      "1800 1\n",
      "1801 1\n",
      "1802 1\n",
      "1803 -1\n",
      "1804 -1\n",
      "1805 1\n",
      "1806 1\n",
      "1807 1\n",
      "1808 1\n",
      "1809 1\n",
      "1810 -1\n",
      "1811 1\n",
      "1812 -1\n",
      "1813 -1\n",
      "1814 1\n",
      "1815 -1\n",
      "1816 1\n",
      "1817 1\n",
      "1818 1\n",
      "1819 1\n",
      "1820 1\n",
      "1821 1\n",
      "1822 1\n",
      "1823 1\n",
      "1824 -1\n",
      "1825 -1\n",
      "1826 -1\n",
      "1827 1\n",
      "1828 1\n",
      "1829 1\n",
      "1830 -1\n",
      "1831 -1\n",
      "1832 1\n",
      "1833 1\n",
      "1834 1\n",
      "1835 1\n",
      "1836 -1\n",
      "1837 1\n",
      "1838 -1\n",
      "1839 1\n",
      "1840 -1\n",
      "1841 -1\n",
      "1842 1\n",
      "1843 1\n",
      "1844 -1\n",
      "1845 1\n",
      "1846 -1\n",
      "1847 1\n",
      "1848 1\n",
      "1849 1\n",
      "1850 1\n",
      "1851 -1\n",
      "1852 1\n",
      "1853 1\n",
      "1854 -1\n",
      "1855 1\n",
      "1856 1\n",
      "1857 -1\n",
      "1858 -1\n",
      "1859 -1\n",
      "1860 1\n",
      "1861 1\n",
      "1862 1\n",
      "1863 1\n",
      "1864 1\n",
      "1865 1\n",
      "1866 -1\n",
      "1867 1\n",
      "1868 -1\n",
      "1869 1\n",
      "1870 1\n",
      "1871 1\n",
      "1872 1\n",
      "1873 1\n",
      "1874 1\n",
      "1875 1\n",
      "1876 1\n",
      "1877 1\n",
      "1878 -1\n",
      "1879 -1\n",
      "1880 1\n",
      "1881 1\n",
      "1882 1\n",
      "1883 1\n",
      "1884 1\n",
      "1885 -1\n",
      "1886 1\n",
      "1887 -1\n",
      "1888 -1\n",
      "1889 1\n",
      "1890 1\n",
      "1891 1\n",
      "1892 1\n",
      "1893 1\n",
      "1894 -1\n",
      "1895 1\n",
      "1896 1\n",
      "1897 1\n",
      "1898 -1\n",
      "1899 -1\n",
      "1900 1\n",
      "1901 1\n",
      "1902 1\n",
      "1903 1\n",
      "1904 1\n",
      "1905 1\n",
      "1906 1\n",
      "1907 1\n",
      "1908 1\n",
      "1909 1\n",
      "1910 1\n",
      "1911 -1\n",
      "1912 1\n",
      "1913 1\n",
      "1914 -1\n",
      "1915 1\n",
      "1916 -1\n",
      "1917 -1\n",
      "1918 1\n",
      "1919 1\n",
      "1920 -1\n",
      "1921 1\n",
      "1922 -1\n",
      "1923 -1\n",
      "1924 -1\n",
      "1925 1\n",
      "1926 1\n",
      "1927 -1\n",
      "1928 -1\n",
      "1929 1\n",
      "1930 -1\n",
      "1931 1\n",
      "1932 -1\n",
      "1933 1\n",
      "1934 1\n",
      "1935 1\n",
      "1936 -1\n",
      "1937 1\n",
      "1938 1\n",
      "1939 1\n",
      "1940 -1\n",
      "1941 1\n",
      "1942 1\n",
      "1943 1\n",
      "1944 1\n",
      "1945 -1\n",
      "1946 1\n",
      "1947 1\n",
      "1948 -1\n",
      "1949 1\n",
      "1950 -1\n",
      "1951 -1\n",
      "1952 1\n",
      "1953 1\n",
      "1954 1\n",
      "1955 1\n",
      "1956 1\n",
      "1957 -1\n",
      "1958 -1\n",
      "1959 1\n",
      "1960 1\n",
      "1961 1\n",
      "1962 -1\n",
      "1963 1\n",
      "1964 1\n",
      "1965 1\n",
      "1966 1\n",
      "1967 -1\n",
      "1968 1\n",
      "1969 1\n",
      "1970 -1\n",
      "1971 1\n",
      "1972 1\n",
      "1973 -1\n",
      "1974 -1\n",
      "1975 1\n",
      "1976 1\n",
      "1977 1\n",
      "1978 -1\n",
      "1979 1\n",
      "1980 1\n",
      "1981 -1\n",
      "1982 -1\n",
      "1983 -1\n",
      "1984 1\n",
      "1985 -1\n",
      "1986 -1\n",
      "1987 1\n",
      "1988 -1\n",
      "1989 1\n",
      "1990 -1\n",
      "1991 1\n",
      "1992 -1\n",
      "1993 1\n",
      "1994 1\n",
      "1995 -1\n",
      "1996 1\n",
      "1997 1\n",
      "1998 1\n",
      "1999 -1\n",
      "2000 1\n",
      "2001 1\n",
      "2002 -1\n",
      "2003 1\n",
      "2004 -1\n",
      "2005 1\n",
      "2006 1\n",
      "2007 1\n",
      "2008 -1\n",
      "2009 -1\n",
      "2010 -1\n",
      "2011 1\n",
      "2012 -1\n",
      "2013 1\n",
      "2014 1\n",
      "2015 -1\n",
      "2016 1\n",
      "2017 -1\n",
      "2018 1\n",
      "2019 1\n",
      "2020 1\n",
      "2021 -1\n",
      "2022 1\n",
      "2023 1\n",
      "2024 1\n",
      "2025 -1\n",
      "2026 1\n",
      "2027 1\n",
      "2028 1\n",
      "2029 1\n",
      "2030 1\n",
      "2031 -1\n",
      "2032 1\n",
      "2033 -1\n",
      "2034 1\n",
      "2035 -1\n",
      "2036 1\n",
      "2037 1\n",
      "2038 1\n",
      "2039 1\n",
      "2040 -1\n",
      "2041 1\n",
      "2042 -1\n",
      "2043 -1\n",
      "2044 1\n",
      "2045 -1\n",
      "2046 -1\n",
      "2047 1\n",
      "2048 -1\n",
      "2049 1\n",
      "2050 -1\n",
      "2051 1\n",
      "2052 -1\n",
      "2053 1\n",
      "2054 1\n",
      "2055 -1\n",
      "2056 1\n",
      "2057 1\n",
      "2058 1\n",
      "2059 -1\n",
      "2060 -1\n",
      "2061 1\n",
      "2062 1\n",
      "2063 1\n",
      "2064 -1\n",
      "2065 -1\n",
      "2066 1\n",
      "2067 1\n",
      "2068 -1\n",
      "2069 1\n",
      "2070 1\n",
      "2071 1\n",
      "2072 1\n",
      "2073 1\n",
      "2074 -1\n",
      "2075 1\n",
      "2076 1\n",
      "2077 -1\n",
      "2078 -1\n",
      "2079 1\n",
      "2080 1\n",
      "2081 1\n",
      "2082 -1\n",
      "2083 1\n",
      "2084 -1\n",
      "2085 1\n",
      "2086 1\n",
      "2087 1\n",
      "2088 -1\n",
      "2089 -1\n",
      "2090 1\n",
      "2091 1\n",
      "2092 1\n",
      "2093 1\n",
      "2094 -1\n",
      "2095 1\n",
      "2096 1\n",
      "2097 1\n",
      "2098 1\n",
      "2099 1\n",
      "2100 1\n",
      "2101 -1\n",
      "2102 -1\n",
      "2103 1\n",
      "2104 -1\n",
      "2105 1\n",
      "2106 -1\n",
      "2107 -1\n",
      "2108 -1\n",
      "2109 1\n",
      "2110 -1\n",
      "2111 1\n",
      "2112 1\n",
      "2113 1\n",
      "2114 1\n",
      "2115 1\n",
      "2116 1\n",
      "2117 -1\n",
      "2118 1\n",
      "2119 1\n",
      "2120 1\n",
      "2121 1\n",
      "2122 -1\n",
      "2123 1\n",
      "2124 1\n",
      "2125 1\n",
      "2126 1\n",
      "2127 1\n",
      "2128 -1\n",
      "2129 1\n",
      "2130 1\n",
      "2131 1\n",
      "2132 -1\n",
      "2133 -1\n",
      "2134 -1\n",
      "2135 1\n",
      "2136 1\n",
      "2137 1\n",
      "2138 1\n",
      "2139 1\n",
      "2140 -1\n",
      "2141 -1\n",
      "2142 -1\n",
      "2143 -1\n",
      "2144 1\n",
      "2145 1\n",
      "2146 -1\n",
      "2147 -1\n",
      "2148 1\n",
      "2149 -1\n",
      "2150 1\n",
      "2151 -1\n",
      "2152 1\n",
      "2153 1\n",
      "2154 1\n",
      "2155 1\n",
      "2156 -1\n",
      "2157 -1\n",
      "2158 1\n",
      "2159 1\n",
      "2160 1\n",
      "2161 1\n",
      "2162 1\n",
      "2163 1\n",
      "2164 -1\n",
      "2165 1\n",
      "2166 1\n",
      "2167 1\n",
      "2168 -1\n",
      "2169 -1\n",
      "2170 1\n",
      "2171 1\n",
      "2172 1\n",
      "2173 1\n",
      "2174 1\n",
      "2175 1\n",
      "2176 1\n",
      "2177 1\n",
      "2178 -1\n",
      "2179 1\n",
      "2180 1\n",
      "2181 1\n",
      "2182 1\n",
      "2183 -1\n",
      "2184 1\n",
      "2185 1\n",
      "2186 -1\n",
      "2187 -1\n",
      "2188 -1\n",
      "2189 1\n",
      "2190 -1\n",
      "2191 -1\n",
      "2192 1\n",
      "2193 -1\n",
      "2194 1\n",
      "2195 1\n",
      "2196 1\n",
      "2197 -1\n",
      "2198 1\n",
      "2199 -1\n",
      "2200 1\n",
      "2201 -1\n",
      "2202 1\n",
      "2203 1\n",
      "2204 1\n",
      "2205 1\n",
      "2206 1\n",
      "2207 1\n",
      "2208 1\n",
      "2209 1\n",
      "2210 1\n",
      "2211 1\n",
      "2212 1\n",
      "2213 1\n",
      "2214 1\n",
      "2215 1\n",
      "2216 1\n",
      "2217 -1\n",
      "2218 1\n",
      "2219 1\n",
      "2220 1\n",
      "2221 1\n",
      "2222 1\n",
      "2223 1\n",
      "2224 1\n",
      "2225 1\n",
      "2226 -1\n",
      "2227 -1\n",
      "2228 -1\n",
      "2229 1\n",
      "2230 -1\n",
      "2231 1\n",
      "2232 1\n",
      "2233 1\n",
      "2234 1\n",
      "2235 1\n",
      "2236 1\n",
      "2237 1\n",
      "2238 1\n",
      "2239 -1\n",
      "2240 -1\n",
      "2241 1\n",
      "2242 1\n",
      "2243 -1\n",
      "2244 1\n",
      "2245 1\n",
      "2246 -1\n",
      "2247 -1\n",
      "2248 1\n",
      "2249 1\n",
      "2250 -1\n",
      "2251 1\n",
      "2252 1\n",
      "2253 -1\n",
      "2254 1\n",
      "2255 1\n",
      "2256 1\n",
      "2257 1\n",
      "2258 -1\n",
      "2259 1\n",
      "2260 -1\n",
      "2261 -1\n",
      "2262 1\n",
      "2263 1\n",
      "2264 1\n",
      "2265 1\n",
      "2266 1\n",
      "2267 -1\n",
      "2268 1\n",
      "2269 1\n",
      "2270 -1\n",
      "2271 1\n",
      "2272 -1\n",
      "2273 1\n",
      "2274 1\n",
      "2275 1\n",
      "2276 -1\n",
      "2277 1\n",
      "2278 -1\n",
      "2279 -1\n",
      "2280 -1\n",
      "2281 1\n",
      "2282 1\n",
      "2283 -1\n",
      "2284 1\n",
      "2285 -1\n",
      "2286 1\n",
      "2287 1\n",
      "2288 1\n",
      "2289 -1\n",
      "2290 1\n",
      "2291 -1\n",
      "2292 1\n",
      "2293 -1\n",
      "2294 -1\n",
      "2295 1\n",
      "2296 1\n",
      "2297 1\n",
      "2298 -1\n",
      "2299 1\n",
      "2300 1\n",
      "2301 1\n",
      "2302 1\n",
      "2303 1\n",
      "2304 -1\n",
      "2305 1\n",
      "2306 -1\n",
      "2307 -1\n",
      "2308 -1\n",
      "2309 1\n",
      "2310 -1\n",
      "2311 1\n",
      "2312 -1\n",
      "2313 1\n",
      "2314 -1\n",
      "2315 1\n",
      "2316 -1\n",
      "2317 1\n",
      "2318 1\n",
      "2319 1\n",
      "2320 -1\n",
      "2321 -1\n",
      "2322 -1\n",
      "2323 -1\n",
      "2324 1\n",
      "2325 1\n",
      "2326 1\n",
      "2327 1\n",
      "2328 -1\n",
      "2329 1\n",
      "2330 1\n",
      "2331 -1\n",
      "2332 -1\n",
      "2333 1\n",
      "2334 1\n",
      "2335 -1\n",
      "2336 -1\n",
      "2337 1\n",
      "2338 1\n",
      "2339 -1\n",
      "2340 -1\n",
      "2341 1\n",
      "2342 1\n",
      "2343 1\n",
      "2344 1\n",
      "2345 -1\n",
      "2346 -1\n",
      "2347 -1\n",
      "2348 1\n",
      "2349 -1\n",
      "2350 1\n",
      "2351 -1\n",
      "2352 1\n",
      "2353 1\n",
      "2354 -1\n",
      "2355 1\n",
      "2356 -1\n",
      "2357 -1\n",
      "2358 1\n",
      "2359 1\n",
      "2360 1\n",
      "2361 -1\n",
      "2362 1\n",
      "2363 1\n",
      "2364 1\n",
      "2365 -1\n",
      "2366 1\n",
      "2367 1\n",
      "2368 1\n",
      "2369 1\n",
      "2370 1\n",
      "2371 1\n",
      "2372 1\n",
      "2373 1\n",
      "2374 1\n",
      "2375 1\n",
      "2376 -1\n",
      "2377 1\n",
      "2378 -1\n",
      "2379 1\n",
      "2380 1\n",
      "2381 1\n",
      "2382 1\n",
      "2383 -1\n",
      "2384 -1\n",
      "2385 1\n",
      "2386 1\n",
      "2387 -1\n",
      "2388 1\n",
      "2389 -1\n",
      "2390 -1\n",
      "2391 1\n",
      "2392 1\n",
      "2393 -1\n",
      "2394 1\n",
      "2395 -1\n",
      "2396 1\n",
      "2397 1\n",
      "2398 1\n",
      "2399 1\n",
      "2400 -1\n",
      "2401 1\n",
      "2402 1\n",
      "2403 -1\n",
      "2404 -1\n",
      "2405 -1\n",
      "2406 -1\n",
      "2407 1\n",
      "2408 -1\n",
      "2409 -1\n",
      "2410 -1\n",
      "2411 1\n",
      "2412 1\n",
      "2413 1\n",
      "2414 -1\n",
      "2415 1\n",
      "2416 -1\n",
      "2417 1\n",
      "2418 -1\n",
      "2419 -1\n",
      "2420 1\n",
      "2421 1\n",
      "2422 1\n",
      "2423 1\n",
      "2424 -1\n",
      "2425 1\n",
      "2426 1\n",
      "2427 1\n",
      "2428 1\n",
      "2429 1\n",
      "2430 1\n",
      "2431 1\n",
      "2432 1\n",
      "2433 -1\n",
      "2434 -1\n",
      "2435 1\n",
      "2436 1\n",
      "2437 1\n",
      "2438 -1\n",
      "2439 1\n",
      "2440 1\n",
      "2441 1\n",
      "2442 -1\n",
      "2443 1\n",
      "2444 1\n",
      "2445 -1\n",
      "2446 1\n",
      "2447 1\n",
      "2448 -1\n",
      "2449 1\n",
      "2450 1\n",
      "2451 -1\n",
      "2452 1\n",
      "2453 -1\n",
      "2454 -1\n",
      "2455 1\n",
      "2456 -1\n",
      "2457 -1\n",
      "2458 1\n",
      "2459 1\n",
      "2460 1\n",
      "2461 -1\n",
      "2462 1\n",
      "2463 1\n",
      "2464 1\n",
      "2465 -1\n",
      "2466 -1\n",
      "2467 1\n",
      "2468 -1\n",
      "2469 1\n",
      "2470 1\n",
      "2471 1\n",
      "2472 -1\n",
      "2473 1\n",
      "2474 1\n",
      "2475 -1\n",
      "2476 1\n",
      "2477 -1\n",
      "2478 1\n",
      "2479 -1\n",
      "2480 -1\n",
      "2481 1\n",
      "2482 1\n",
      "2483 1\n",
      "2484 1\n",
      "2485 -1\n",
      "2486 1\n",
      "2487 1\n",
      "2488 1\n",
      "2489 1\n",
      "2490 -1\n",
      "2491 1\n",
      "2492 -1\n",
      "2493 1\n",
      "2494 -1\n",
      "2495 1\n",
      "2496 1\n",
      "2497 1\n",
      "2498 -1\n",
      "2499 1\n",
      "2500 1\n",
      "2501 1\n",
      "2502 1\n",
      "2503 1\n",
      "2504 -1\n",
      "2505 1\n",
      "2506 1\n",
      "2507 1\n",
      "2508 1\n",
      "2509 1\n",
      "2510 -1\n",
      "2511 1\n",
      "2512 1\n",
      "2513 -1\n",
      "2514 -1\n",
      "2515 1\n",
      "2516 1\n",
      "2517 1\n",
      "2518 1\n",
      "2519 1\n",
      "2520 1\n",
      "2521 -1\n",
      "2522 -1\n",
      "2523 1\n",
      "2524 1\n",
      "2525 1\n",
      "2526 1\n",
      "2527 -1\n",
      "2528 1\n",
      "2529 1\n",
      "2530 -1\n",
      "2531 -1\n",
      "2532 1\n",
      "2533 1\n",
      "2534 1\n",
      "2535 -1\n",
      "2536 1\n",
      "2537 1\n",
      "2538 -1\n",
      "2539 -1\n",
      "2540 -1\n",
      "2541 1\n",
      "2542 1\n",
      "2543 1\n",
      "2544 1\n",
      "2545 -1\n",
      "2546 -1\n",
      "2547 1\n",
      "2548 -1\n",
      "2549 -1\n",
      "2550 1\n",
      "2551 -1\n",
      "2552 1\n",
      "2553 -1\n",
      "2554 1\n",
      "2555 1\n",
      "2556 -1\n",
      "2557 1\n",
      "2558 1\n",
      "2559 -1\n",
      "2560 1\n",
      "2561 -1\n",
      "2562 1\n",
      "2563 1\n",
      "2564 1\n",
      "2565 -1\n",
      "2566 1\n",
      "2567 1\n",
      "2568 -1\n",
      "2569 1\n",
      "2570 -1\n",
      "2571 1\n",
      "2572 -1\n",
      "2573 -1\n",
      "2574 1\n",
      "2575 1\n",
      "2576 -1\n",
      "2577 1\n",
      "2578 -1\n",
      "2579 1\n",
      "2580 -1\n",
      "2581 -1\n",
      "2582 1\n",
      "2583 -1\n",
      "2584 -1\n",
      "2585 -1\n",
      "2586 1\n",
      "2587 -1\n",
      "2588 1\n",
      "2589 -1\n",
      "2590 -1\n",
      "2591 -1\n",
      "2592 1\n",
      "2593 -1\n",
      "2594 1\n",
      "2595 1\n",
      "2596 -1\n",
      "2597 -1\n",
      "2598 -1\n",
      "2599 1\n",
      "2600 -1\n",
      "2601 1\n",
      "2602 -1\n",
      "2603 -1\n",
      "2604 -1\n",
      "2605 -1\n",
      "2606 -1\n",
      "2607 1\n",
      "2608 -1\n",
      "2609 1\n",
      "2610 1\n",
      "2611 -1\n",
      "2612 1\n",
      "2613 1\n",
      "2614 1\n",
      "2615 -1\n",
      "2616 1\n",
      "2617 1\n",
      "2618 1\n",
      "2619 1\n",
      "2620 1\n",
      "2621 -1\n",
      "2622 -1\n",
      "2623 1\n",
      "2624 1\n",
      "2625 -1\n",
      "2626 -1\n",
      "2627 1\n",
      "2628 1\n",
      "2629 1\n",
      "2630 -1\n",
      "2631 -1\n",
      "2632 1\n",
      "2633 1\n",
      "2634 1\n",
      "2635 1\n",
      "2636 1\n",
      "2637 1\n",
      "2638 -1\n",
      "2639 1\n",
      "2640 1\n",
      "2641 1\n",
      "2642 -1\n",
      "2643 1\n",
      "2644 -1\n",
      "2645 1\n",
      "2646 1\n",
      "2647 -1\n",
      "2648 1\n",
      "2649 -1\n",
      "2650 1\n",
      "2651 -1\n",
      "2652 1\n",
      "2653 -1\n",
      "2654 1\n",
      "2655 1\n",
      "2656 1\n",
      "2657 1\n",
      "2658 -1\n",
      "2659 1\n",
      "2660 -1\n",
      "2661 1\n",
      "2662 -1\n",
      "2663 1\n",
      "2664 1\n",
      "2665 -1\n",
      "2666 1\n",
      "2667 1\n",
      "2668 1\n",
      "2669 1\n",
      "2670 -1\n",
      "2671 -1\n",
      "2672 1\n",
      "2673 1\n",
      "2674 1\n",
      "2675 1\n",
      "2676 1\n",
      "2677 1\n",
      "2678 1\n",
      "2679 -1\n",
      "2680 1\n",
      "2681 -1\n",
      "2682 -1\n",
      "2683 -1\n",
      "2684 1\n",
      "2685 1\n",
      "2686 1\n",
      "2687 -1\n",
      "2688 1\n",
      "2689 1\n",
      "2690 1\n",
      "2691 -1\n",
      "2692 1\n",
      "2693 1\n",
      "2694 1\n",
      "2695 -1\n",
      "2696 1\n",
      "2697 -1\n",
      "2698 1\n",
      "2699 -1\n",
      "2700 1\n",
      "2701 -1\n",
      "2702 1\n",
      "2703 1\n",
      "2704 -1\n",
      "2705 -1\n",
      "2706 1\n",
      "2707 -1\n",
      "2708 1\n",
      "2709 1\n",
      "2710 1\n",
      "2711 -1\n",
      "2712 -1\n",
      "2713 -1\n",
      "2714 1\n",
      "2715 1\n",
      "2716 1\n",
      "2717 -1\n",
      "2718 -1\n",
      "2719 -1\n",
      "2720 1\n",
      "2721 1\n",
      "2722 1\n",
      "2723 -1\n",
      "2724 1\n",
      "2725 1\n",
      "2726 1\n",
      "2727 1\n",
      "2728 -1\n",
      "2729 1\n",
      "2730 -1\n",
      "2731 1\n",
      "2732 1\n",
      "2733 1\n",
      "2734 1\n",
      "2735 1\n",
      "2736 1\n",
      "2737 -1\n",
      "2738 1\n",
      "2739 1\n"
     ]
    }
   ],
   "source": [
    "for k in sorted(predicted_labels.keys()):\n",
    "    print k,predicted_labels[k]"
   ]
  },
  {
   "cell_type": "code",
   "execution_count": 196,
   "metadata": {
    "collapsed": false
   },
   "outputs": [
    {
     "name": "stdout",
     "output_type": "stream",
     "text": [
      "Num predictions: 2740\n",
      "===\n",
      "Num yes: 1777 ( 64.8540145985 % )\n"
     ]
    }
   ],
   "source": [
    "print 'Num predictions:', len(predicted_labels)\n",
    "print '==='\n",
    "yes = 0\n",
    "predicted_tuples = []\n",
    "for k in range(NUM_SPEECHES):\n",
    "    if k in predicted_labels and predicted_labels[k] != 0:\n",
    "        if predicted_labels[k] > 0:\n",
    "            yes += 1\n",
    "            #print str(k) + ',1'\n",
    "            predicted_tuples.append( (k,1) )\n",
    "        else:\n",
    "            #print str(k) + ',0'\n",
    "            predicted_tuples.append( (k,0) )\n",
    "    else:\n",
    "        yes += 1\n",
    "        #print str(k) + ',1' # Assign for by default\n",
    "        predicted_tuples.append( (k,1) )\n",
    "\n",
    "write_evaluation(predicted_tuples, 'preds_propagation3.csv')\n",
    "        \n",
    "print 'Num yes:', yes, '(', 100.0 * yes / NUM_SPEECHES ,'% )'"
   ]
  },
  {
   "cell_type": "code",
   "execution_count": 194,
   "metadata": {
    "collapsed": false
   },
   "outputs": [
    {
     "name": "stdout",
     "output_type": "stream",
     "text": [
      "[963, 0, 1777]\n",
      "% against 0.351459854015\n",
      "% zero 0.0\n",
      "% for 0.648540145985\n"
     ]
    }
   ],
   "source": [
    "# num against, num zero, num for\n",
    "num_pred_categories = [0, 0, 0]\n",
    "for k in predicted_labels:\n",
    "    num_pred_categories[np.sign(predicted_labels[k])+1] += 1\n",
    "    \n",
    "print num_pred_categories\n",
    "print '% against', 1.0 * num_pred_categories[0] / len(predicted_labels)\n",
    "print '% zero', 1.0 * num_pred_categories[1] / len(predicted_labels)\n",
    "print '% for', 1.0 * num_pred_categories[2] / len(predicted_labels)"
   ]
  },
  {
   "cell_type": "code",
   "execution_count": 93,
   "metadata": {
    "collapsed": false
   },
   "outputs": [
    {
     "name": "stdout",
     "output_type": "stream",
     "text": [
      "-301.0\n",
      "301.0\n"
     ]
    }
   ],
   "source": [
    "print min(diffs) + diff_avg\n",
    "print max(diffs) - diff_avg"
   ]
  },
  {
   "cell_type": "markdown",
   "metadata": {},
   "source": [
    "## Spectral Clustering on the Speech Graph\n",
    "\n",
    "Attempt to modify input adjacency matrix to remove links to docs in the same cluster."
   ]
  },
  {
   "cell_type": "code",
   "execution_count": 48,
   "metadata": {
    "collapsed": false
   },
   "outputs": [
    {
     "ename": "TypeError",
     "evalue": "list indices must be integers, not tuple",
     "output_type": "error",
     "traceback": [
      "\u001b[0;31m---------------------------------------------------------------------------\u001b[0m",
      "\u001b[0;31mTypeError\u001b[0m                                 Traceback (most recent call last)",
      "\u001b[0;32m<ipython-input-48-37a6b73a63fb>\u001b[0m in \u001b[0;36m<module>\u001b[0;34m()\u001b[0m\n\u001b[1;32m      1\u001b[0m \u001b[0;31m# Find the minimum row sum.\u001b[0m\u001b[0;34m\u001b[0m\u001b[0;34m\u001b[0m\u001b[0m\n\u001b[1;32m      2\u001b[0m \u001b[0;34m\u001b[0m\u001b[0m\n\u001b[0;32m----> 3\u001b[0;31m \u001b[0mspeech_row_sums\u001b[0m \u001b[0;34m=\u001b[0m \u001b[0;34m{\u001b[0m\u001b[0mi\u001b[0m\u001b[0;34m:\u001b[0m \u001b[0mlen\u001b[0m\u001b[0;34m(\u001b[0m\u001b[0msparse_where\u001b[0m\u001b[0;34m(\u001b[0m\u001b[0mspeech_graph\u001b[0m\u001b[0;34m,\u001b[0m \u001b[0mi\u001b[0m\u001b[0;34m)\u001b[0m\u001b[0;34m)\u001b[0m \u001b[0;32mfor\u001b[0m \u001b[0mi\u001b[0m \u001b[0;32min\u001b[0m \u001b[0mrange\u001b[0m\u001b[0;34m(\u001b[0m\u001b[0mNUM_SPEECHES\u001b[0m\u001b[0;34m)\u001b[0m\u001b[0;34m}\u001b[0m\u001b[0;34m\u001b[0m\u001b[0m\n\u001b[0m\u001b[1;32m      4\u001b[0m \u001b[0;34m\u001b[0m\u001b[0m\n\u001b[1;32m      5\u001b[0m \u001b[0mmin_key\u001b[0m \u001b[0;34m=\u001b[0m \u001b[0;34m-\u001b[0m\u001b[0;36m1\u001b[0m\u001b[0;34m\u001b[0m\u001b[0m\n",
      "\u001b[0;32m<ipython-input-48-37a6b73a63fb>\u001b[0m in \u001b[0;36m<dictcomp>\u001b[0;34m((i,))\u001b[0m\n\u001b[1;32m      1\u001b[0m \u001b[0;31m# Find the minimum row sum.\u001b[0m\u001b[0;34m\u001b[0m\u001b[0;34m\u001b[0m\u001b[0m\n\u001b[1;32m      2\u001b[0m \u001b[0;34m\u001b[0m\u001b[0m\n\u001b[0;32m----> 3\u001b[0;31m \u001b[0mspeech_row_sums\u001b[0m \u001b[0;34m=\u001b[0m \u001b[0;34m{\u001b[0m\u001b[0mi\u001b[0m\u001b[0;34m:\u001b[0m \u001b[0mlen\u001b[0m\u001b[0;34m(\u001b[0m\u001b[0msparse_where\u001b[0m\u001b[0;34m(\u001b[0m\u001b[0mspeech_graph\u001b[0m\u001b[0;34m,\u001b[0m \u001b[0mi\u001b[0m\u001b[0;34m)\u001b[0m\u001b[0;34m)\u001b[0m \u001b[0;32mfor\u001b[0m \u001b[0mi\u001b[0m \u001b[0;32min\u001b[0m \u001b[0mrange\u001b[0m\u001b[0;34m(\u001b[0m\u001b[0mNUM_SPEECHES\u001b[0m\u001b[0;34m)\u001b[0m\u001b[0;34m}\u001b[0m\u001b[0;34m\u001b[0m\u001b[0m\n\u001b[0m\u001b[1;32m      4\u001b[0m \u001b[0;34m\u001b[0m\u001b[0m\n\u001b[1;32m      5\u001b[0m \u001b[0mmin_key\u001b[0m \u001b[0;34m=\u001b[0m \u001b[0;34m-\u001b[0m\u001b[0;36m1\u001b[0m\u001b[0;34m\u001b[0m\u001b[0m\n",
      "\u001b[0;32m<ipython-input-47-dee09eab761f>\u001b[0m in \u001b[0;36msparse_where\u001b[0;34m(sparse_matrix, num)\u001b[0m\n\u001b[1;32m      3\u001b[0m     \u001b[0mnp\u001b[0m\u001b[0;34m.\u001b[0m\u001b[0mwhere\u001b[0m\u001b[0;34m(\u001b[0m\u001b[0;34m)\u001b[0m \u001b[0;32mfor\u001b[0m \u001b[0ma\u001b[0m \u001b[0msparse\u001b[0m \u001b[0mmatrix\u001b[0m\u001b[0;34m.\u001b[0m \u001b[0mReturns\u001b[0m \u001b[0ma\u001b[0m \u001b[0mset\u001b[0m \u001b[0mof\u001b[0m \u001b[0mindices\u001b[0m\u001b[0;34m.\u001b[0m\u001b[0;34m\u001b[0m\u001b[0m\n\u001b[1;32m      4\u001b[0m     \"\"\"\n\u001b[0;32m----> 5\u001b[0;31m     \u001b[0;32mreturn\u001b[0m \u001b[0mset\u001b[0m\u001b[0;34m(\u001b[0m\u001b[0mnp\u001b[0m\u001b[0;34m.\u001b[0m\u001b[0mwhere\u001b[0m\u001b[0;34m(\u001b[0m\u001b[0msparse_matrix\u001b[0m\u001b[0;34m[\u001b[0m\u001b[0mnum\u001b[0m\u001b[0;34m,\u001b[0m\u001b[0;34m:\u001b[0m\u001b[0;34m]\u001b[0m\u001b[0;34m.\u001b[0m\u001b[0mtoarray\u001b[0m\u001b[0;34m(\u001b[0m\u001b[0;34m)\u001b[0m\u001b[0;34m)\u001b[0m\u001b[0;34m[\u001b[0m\u001b[0;36m1\u001b[0m\u001b[0;34m]\u001b[0m\u001b[0;34m.\u001b[0m\u001b[0mtolist\u001b[0m\u001b[0;34m(\u001b[0m\u001b[0;34m)\u001b[0m\u001b[0;34m)\u001b[0m\u001b[0;34m\u001b[0m\u001b[0m\n\u001b[0m",
      "\u001b[0;31mTypeError\u001b[0m: list indices must be integers, not tuple"
     ]
    }
   ],
   "source": [
    "# Find the minimum row sum.\n",
    "\n",
    "speech_row_sums = {i: len(sparse_where(speech_graph, i)) for i in range(NUM_SPEECHES)}\n",
    "\n",
    "min_key = -1\n",
    "min_val = 1000\n",
    "for k in speech_row_sums:\n",
    "    if speech_row_sums[k] < min_val:\n",
    "        min_key = k\n",
    "        min_val = speech_row_sums[k]\n",
    "        \n",
    "print min_key, min_val\n",
    "\n",
    "min_keys_refs_sums = []\n",
    "for i in sparse_where(speech_graph, i):\n",
    "    min_keys_refs_sums.append(speech_row_sums[i])\n",
    "    \n",
    "plt.hist(min_keys_refs_sums, bins=40)"
   ]
  },
  {
   "cell_type": "code",
   "execution_count": 49,
   "metadata": {
    "collapsed": true
   },
   "outputs": [],
   "source": [
    "def spectral_clustering(A, us, title):\n",
    "    \"\"\"\n",
    "    Arguments:\n",
    "        A: An adjacency matrix.\n",
    "    Returns:\n",
    "        A 0-1 vector deliminating the clusters, in the same order as the row\n",
    "        in the input.\n",
    "    \"\"\"\n",
    "    n = A.shape[0]\n",
    "\n",
    "    L = np.eye(n)\n",
    "\n",
    "    D = np.zeros(A.shape)\n",
    "    for i in  range(n):\n",
    "        D[i,i] = 1/np.sqrt(np.sum(A[i,:]))\n",
    "\n",
    "    L -= np.dot(np.dot(D,A), D)\n",
    "\n",
    "    eig_vals, eig_vecs = np.linalg.eig(L)\n",
    "    n_eigs = len(eig_vals)\n",
    "    eig_pairs = [(np.abs(eig_vals[i]), eig_vecs[:,i]) for i in range(n_eigs)]\n",
    "    eig_pairs.sort(key=lambda t:t[0])\n",
    "\n",
    "    ps =[ [x,y] for x,y in zip(eig_pairs[0][1], eig_pairs[1][1]) ]\n",
    "    return ps\n",
    "    \n",
    "    #c, u_f = k_means(ps, us)\n",
    "    \n",
    "    #plot(ps, c, us=us, title='Embeddings for ' + title)\n",
    "\n",
    "    #return c, u_f"
   ]
  },
  {
   "cell_type": "markdown",
   "metadata": {},
   "source": [
    "Notes:\n",
    "\n",
    "We will assume the data has no noise, in the hopes that this will not drastically affect the spectral clustering.\n",
    "\n",
    "Assuming for/against are split 50/50, then 2740 * 0.5 = 1370:\n",
    "\n",
    "Assume 30% chance of linking to another speech with the same label.\n",
    "( Note that 457 - (1370 * 0.3) = 46, which leaves just enough room for noise. 457 is the smallest row sum. )\n",
    "\n",
    "Assuming binomial distribution with p = 30%:\n",
    "\n",
    "Standard dev of added links = np.sqrt( (1370) * .3 * .7 ) = 16.9617216107\n",
    "\n",
    "Since number of trials = 1370, we can approximation the distribution by a normal.\n",
    "\n",
    "Thus 95% percent of the speechs will have +/- 33.9234432215 extra links and 99.7% of the speechs will have +/- 50.8851648322 extra links.\n",
    "\n",
    "We assumed that when.\n",
    "\n",
    "Condition:\n",
    "\n",
    "if abs(speech_row_sums[index] - speech_row_sums[row]) <= ceiling, then speech_graph_copy[row, index] = 0.0\n",
    "    - ceiling =14.4808031029 yields 10.802919708% minority class\n",
    "        - shape of 2d project is three clusters\n",
    "\n",
    "    - ceiling = 24.1346718382 yields 47.7372262774% minority class\n",
    "       - shape of 2d projection is two slowly merging clusters\n",
    "       \n",
    "    - ceiling = 45.3731830558, yields 47.6642335766%\n",
    "       - two separated clusters\n",
    " \n",
    "    - ceiling = 50.8851648322 yields 47.700729927% minority\n",
    "        - two separated clusters\n",
    "    \n",
    "    -  ceiling = 48.2693436763 yields 47.6277372263% minority class \n",
    "       - shape of 2d projection is two almost separated clusters (looks best so far)\n",
    "\n",
    "    - ceiling = 53.096278044 yields 47.5912408759% minority class\n",
    "      - two barely separated clusters\n",
    "\n",
    "    - ceiling = 96.5386873527 yields 35.9489051095% minority class \n",
    "       - shape of 2d projection is an upside down Y"
   ]
  },
  {
   "cell_type": "code",
   "execution_count": 283,
   "metadata": {
    "collapsed": false
   },
   "outputs": [
    {
     "name": "stdout",
     "output_type": "stream",
     "text": [
      "46.0\n",
      "std dev 16.9617216107\n",
      "2 std devs 33.9234432215\n",
      "3 std devs 50.8851648322\n"
     ]
    }
   ],
   "source": [
    "print 457 - (1370 * 0.3)\n",
    "\n",
    "p = 0.30\n",
    "print 'std dev', np.sqrt( (1370) * p * (1-p) ) \n",
    "print '2 std devs', 2 * np.sqrt( (1370) * p * (1-p) ) \n",
    "print '3 std devs',  3 * np.sqrt( (1370) * p * (1-p) ) "
   ]
  },
  {
   "cell_type": "code",
   "execution_count": 92,
   "metadata": {
    "collapsed": false
   },
   "outputs": [
    {
     "name": "stdout",
     "output_type": "stream",
     "text": [
      "Reading data.\n",
      "0.0 %\n",
      "5.47445255474 %\n",
      "10.9489051095 %\n",
      "16.4233576642 %\n",
      "21.897810219 %\n",
      "27.3722627737 %\n",
      "32.8467153285 %\n",
      "38.3211678832 %\n",
      "43.795620438 %\n",
      "49.2700729927 %\n",
      "54.7445255474 %\n",
      "60.2189781022 %\n",
      "65.6934306569 %\n",
      "71.1678832117 %\n",
      "76.6423357664 %\n",
      "82.1167883212 %\n",
      "87.5912408759 %\n",
      "93.0656934307 %\n",
      "98.5401459854 %\n",
      "99.9635036496 %\n",
      "Done reading data.\n"
     ]
    }
   ],
   "source": [
    "speech_graph_copy = load_sparse_data('speech_graph.csv', NUM_SPEECHES)"
   ]
  },
  {
   "cell_type": "code",
   "execution_count": 304,
   "metadata": {
    "collapsed": false,
    "scrolled": true
   },
   "outputs": [
    {
     "name": "stdout",
     "output_type": "stream",
     "text": [
      "Reading data.\n",
      "0.0 %\n",
      "5.47445255474 %\n",
      "10.9489051095 %\n",
      "16.4233576642 %\n",
      "21.897810219 %\n",
      "27.3722627737 %\n",
      "32.8467153285 %\n",
      "38.3211678832 %\n",
      "43.795620438 %\n",
      "49.2700729927 %\n",
      "54.7445255474 %\n",
      "60.2189781022 %\n",
      "65.6934306569 %\n",
      "71.1678832117 %\n",
      "76.6423357664 %\n",
      "82.1167883212 %\n",
      "87.5912408759 %\n",
      "93.0656934307 %\n",
      "98.5401459854 %\n",
      "99.9635036496 %\n",
      "Done reading data.\n",
      "Creating affinity matrix.\n",
      "0.0 %\n",
      "5.47445255474 %\n",
      "10.9489051095 %\n",
      "16.4233576642 %\n",
      "21.897810219 %\n",
      "27.3722627737 %\n",
      "32.8467153285 %\n",
      "38.3211678832 %\n",
      "43.795620438 %\n",
      "49.2700729927 %\n",
      "54.7445255474 %\n",
      "60.2189781022 %\n",
      "65.6934306569 %\n",
      "71.1678832117 %\n",
      "76.6423357664 %\n",
      "82.1167883212 %\n",
      "87.5912408759 %\n",
      "93.0656934307 %\n",
      "98.5401459854 %\n",
      "Done\n"
     ]
    }
   ],
   "source": [
    "#\n",
    "# Bad ass motherfucking code starts right here.\n",
    "#\n",
    "\n",
    "speech_graph_copy, _ = load_sparse_data('speech_graph.csv', NUM_SPEECHES)\n",
    "\n",
    "speech_row_sums = {i: len(sparse_where(speech_graph, i)) for i in range(NUM_SPEECHES)}\n",
    "\n",
    "# Create affinity matrix.\n",
    "print 'Creating affinity matrix.'\n",
    "for row in range(NUM_SPEECHES):\n",
    "    row_indices = sparse_where(speech_graph, row)\n",
    "    for index in row_indices:\n",
    "        if abs(speech_row_sums[index] - speech_row_sums[row]) <= 50.8851648322 :\n",
    "            speech_graph_copy[row, index] = 0.0\n",
    "    if row % 150 == 0:\n",
    "        print row * 100.0 / NUM_SPEECHES, '%'\n",
    "\n",
    "print 'Done'"
   ]
  },
  {
   "cell_type": "markdown",
   "metadata": {},
   "source": [
    "### Their Laplacian"
   ]
  },
  {
   "cell_type": "code",
   "execution_count": 298,
   "metadata": {
    "collapsed": false
   },
   "outputs": [
    {
     "name": "stdout",
     "output_type": "stream",
     "text": [
      "Calculating spectral clustering.\n",
      "47.700729927\n",
      "labels against\n",
      "1 1 1 1\n",
      "lablels for\n",
      "0 0 0 0\n"
     ]
    },
    {
     "data": {
      "image/png": "[encoded data removed]",
      "text/plain": [
       "<matplotlib.figure.Figure at 0x4cdb95c0>"
      ]
     },
     "metadata": {},
     "output_type": "display_data"
    }
   ],
   "source": [
    "print 'Calculating spectral clustering.'\n",
    "spectral_labels = cluster.spectral_clustering(speech_graph_copy, n_clusters=2)\n",
    "plt.hist(spectral_labels, bins=38)\n",
    "\n",
    "print ''\n",
    "\n",
    "print 'Minority percentage'\n",
    "print 100.0 * min(sum(spectral_labels), NUM_SPEECHES-sum(spectral_labels)) / NUM_SPEECHES\n",
    "\n",
    "print ''\n",
    "\n",
    "print 'labels for original against', spectral_labels[2], spectral_labels[13], spectral_labels[18], spectral_labels[24]\n",
    "print 'labels for original for' spectral_labels[1], spectral_labels[3], spectral_labels[27], spectral_labels[177]"
   ]
  },
  {
   "cell_type": "code",
   "execution_count": 303,
   "metadata": {
    "collapsed": false
   },
   "outputs": [],
   "source": [
    "preds_laplacian_tuples = []\n",
    "for i in range(NUM_SPEECHES):\n",
    "    #\n",
    "    # Important! Make sure the original points are in the right cluster because labeling is arbitrary!!\n",
    "    #\n",
    "    preds_laplacian_tuples.append( (i, abs(spectral_labels[i]-1)) )\n",
    "write_evaluation(preds_laplacian_tuples, 'preds_laplacian.csv')"
   ]
  },
  {
   "cell_type": "markdown",
   "metadata": {},
   "source": [
    "### My Laplacian (2D + plot)"
   ]
  },
  {
   "cell_type": "code",
   "execution_count": 294,
   "metadata": {
    "collapsed": false
   },
   "outputs": [
    {
     "name": "stdout",
     "output_type": "stream",
     "text": [
      "2740\n"
     ]
    }
   ],
   "source": [
    "n_dims = 4\n",
    "points = spectral_clustering(speech_graph_copy.toarray(), None, n_dims)\n",
    "\n",
    "print len(points)\n",
    "\n",
    "x_against = [points[2][0], points[13][0], points[18][0], points[24][0]]\n",
    "y_against = [points[2][1], points[13][1], points[18][1], points[24][1]]\n",
    "\n",
    "x_for = [points[1][0], points[3][0], points[27][0], points[127][0]]\n",
    "y_for = [points[1][1], points[3][1], points[27][1], points[127][1]]"
   ]
  },
  {
   "cell_type": "code",
   "execution_count": 291,
   "metadata": {
    "collapsed": false
   },
   "outputs": [
    {
     "data": {
      "text/plain": [
       "<matplotlib.text.Text at 0x4ba8ea20>"
      ]
     },
     "execution_count": 291,
     "metadata": {},
     "output_type": "execute_result"
    },
    {
     "data": {
      "image/png": "[encoded data removed]",
      "text/plain": [
       "<matplotlib.figure.Figure at 0x4741f1d0>"
      ]
     },
     "metadata": {},
     "output_type": "display_data"
    }
   ],
   "source": [
    "#\n",
    "#  DO NOT REFRESH!\n",
    "#\n",
    "\n",
    "plt.plot([p[0] for p in points], [p[1] for p in points], 'go')\n",
    "plt.plot(x_against, y_against, 'ro')\n",
    "plt.plot(x_for, y_for, 'bo')\n",
    "plt.title('Plot for bound = 48.2693436763')"
   ]
  },
  {
   "cell_type": "code",
   "execution_count": 296,
   "metadata": {
    "collapsed": false
   },
   "outputs": [
    {
     "data": {
      "text/plain": [
       "<matplotlib.text.Text at 0x4709b2e8>"
      ]
     },
     "execution_count": 296,
     "metadata": {},
     "output_type": "execute_result"
    },
    {
     "data": {
      "image/png": "[encoded data removed]",
      "text/plain": [
       "<matplotlib.figure.Figure at 0x3cd1bda0>"
      ]
     },
     "metadata": {},
     "output_type": "display_data"
    }
   ],
   "source": [
    "#\n",
    "#  DO NOT REFRESH!\n",
    "#\n",
    "\n",
    "plt.plot([p[0] for p in points], [p[1] for p in points], 'go')\n",
    "plt.plot(x_against, y_against, 'ro')\n",
    "plt.plot(x_for, y_for, 'bo')\n",
    "plt.title('Plot for bound = 50.8851648322')"
   ]
  },
  {
   "cell_type": "code",
   "execution_count": 217,
   "metadata": {
    "collapsed": false
   },
   "outputs": [
    {
     "name": "stdout",
     "output_type": "stream",
     "text": [
      "33.102189781\n"
     ]
    }
   ],
   "source": [
    "print 100.0 * sum(1 for p in points if p[1] < -0.01) / NUM_SPEECHES"
   ]
  },
  {
   "cell_type": "markdown",
   "metadata": {
    "collapsed": true
   },
   "source": [
    "## Topic Modeling"
   ]
  },
  {
   "cell_type": "code",
   "execution_count": 11,
   "metadata": {
    "collapsed": false
   },
   "outputs": [],
   "source": [
    "# Clean the old models.\n",
    "\n",
    "stopwords = set([str(w) for w in inverted_index if len(inverted_index[w]) > 329])\n",
    "\n",
    "dirty_dir = 'generated_docs'\n",
    "clean_dir = 'clean_docs'\n",
    "\n",
    "if not os.path.exists(clean_dir):\n",
    "    os.mkdir(clean_dir)\n",
    "\n",
    "for f in os.listdir(dirty_dir):\n",
    "    text = ' '.join(open(os.path.join(dirty_dir,f)).readlines())\n",
    "    text = text.split()\n",
    "    text = [t for t in text if t not in stopwords]\n",
    "    text = ' '.join(text)\n",
    "    open(os.path.join(clean_dir, f), 'w+').write(text)  "
   ]
  },
  {
   "cell_type": "code",
   "execution_count": 31,
   "metadata": {
    "collapsed": false
   },
   "outputs": [
    {
     "name": "stdout",
     "output_type": "stream",
     "text": [
      "38\n",
      "[30, 33, 34, 35, 36, 36, 36, 36, 37, 38, 39, 40, 45, 47, 47, 47, 49, 50, 58, 71, 74, 79, 82, 83, 84, 85, 86, 87, 93, 96, 107, 111, 112, 114, 116, 150, 160, 177]\n",
      "[0.0499939885807, 0.0499939885807, 0.0499939885807, 0.0499939885807, 0.0499939885807, 0.0499939885807, 0.0499939885807, 0.0499939885807, 0.0499939885807, 0.0499939885807, 0.0499939885807, 0.0499939885807, 0.0499939885807, 0.0499939885807, 0.0499939885807, 0.0499939885807, 0.0499939885807, 0.0499939885807, 0.0499939885807, 0.0499939885807, 0.0499939885807, 0.0499939885807, 0.0499939885807, 0.0499939885807, 0.0499939885807]\n"
     ]
    },
    {
     "data": {
      "image/png": "[encoded data removed]",
      "text/plain": [
       "<matplotlib.figure.Figure at 0x2e60c9b0>"
      ]
     },
     "metadata": {},
     "output_type": "display_data"
    }
   ],
   "source": [
    "## Record the predicted classes (execute after running run_lda.py)\n",
    "\n",
    "CLASS_FILE = 'classes_75k_50p_38t_329sw.txt'\n",
    "OUTPUT = 'preds_' + CLASS_FILE \n",
    "\n",
    "probs = [-1 for i in range(2740)]\n",
    "classes = [-1 for i in range(2740)]\n",
    "class_inv_idx = collections.defaultdict(int)\n",
    "\n",
    "for line in open(CLASS_FILE):\n",
    "    parts = line.strip().split()\n",
    "    doc_num = int(parts[0].split(os.path.sep)[-1].split('.')[0])\n",
    "\n",
    "    for i in range(1, len(parts), 2):\n",
    "        c = int(parts[i]) # probability\n",
    "        p = float(parts[i+1]) # class\n",
    "        if p > probs[doc_num]:\n",
    "            classes[doc_num] = c\n",
    "            probs[doc_num] = p\n",
    "\n",
    "    class_inv_idx[classes[doc_num]] += 1\n",
    "with open(OUTPUT, 'w+') as f:\n",
    "    for doc_num, prediction in enumerate(classes):\n",
    "        f.write(str(doc_num) + ',' + str(prediction) + '\\n')\n",
    "\n",
    "print len(set(classes))\n",
    "plt.hist(class_inv_idx.values())\n",
    "print sorted(class_inv_idx.values())\n",
    "print sorted(probs)[:25]"
   ]
  },
  {
   "cell_type": "code",
   "execution_count": null,
   "metadata": {
    "collapsed": true
   },
   "outputs": [],
   "source": []
  }
 ],
 "metadata": {
  "kernelspec": {
   "display_name": "Python 2",
   "language": "python",
   "name": "python2"
  },
  "language_info": {
   "codemirror_mode": {
    "name": "ipython",
    "version": 2
   },
   "file_extension": ".py",
   "mimetype": "text/x-python",
   "name": "python",
   "nbconvert_exporter": "python",
   "pygments_lexer": "ipython2",
   "version": "2.7.5"
  }
 },
 "nbformat": 4,
 "nbformat_minor": 0
}
