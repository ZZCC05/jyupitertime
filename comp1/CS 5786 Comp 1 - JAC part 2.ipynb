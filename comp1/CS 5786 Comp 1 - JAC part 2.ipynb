{
 "cells": [
  {
   "cell_type": "code",
   "execution_count": 4,
   "metadata": {
    "collapsed": true
   },
   "outputs": [],
   "source": [
    "import collections\n",
    "import gensim\n",
    "import heapq\n",
    "import json\n",
    "import matplotlib.pyplot as plt\n",
    "import numpy as np\n",
    "import os\n",
    "import time\n",
    "\n",
    "from matplotlib import offsetbox\n",
    "from scipy.sparse import csr_matrix\n",
    "from sklearn import cluster, datasets, decomposition, ensemble, lda, manifold, random_projection, grid_search\n",
    "from sklearn.decomposition import TruncatedSVD\n",
    "from sklearn.multiclass import OneVsRestClassifier\n",
    "from sklearn.svm import LinearSVC, SVC\n",
    "from scipy import sparse as sp\n",
    "\n",
    "%matplotlib inline"
   ]
  },
  {
   "cell_type": "code",
   "execution_count": 29,
   "metadata": {
    "collapsed": true
   },
   "outputs": [],
   "source": [
    "def write_evaluation(tuples, filename):\n",
    "    f = open(filename, 'w+')\n",
    "    f.write('Id,Prediction\\n')\n",
    "    for t in tuples:\n",
    "        f.write(str(t[0]) + ',' + str(t[1]) + '\\n')"
   ]
  },
  {
   "cell_type": "code",
   "execution_count": 27,
   "metadata": {
    "collapsed": true
   },
   "outputs": [],
   "source": [
    "def load_sparse_data(filename, num_lines):\n",
    "    \"\"\"\n",
    "    Function to load sparse data.\n",
    "    \"\"\"\n",
    "    inverted_index = collections.defaultdict(set)\n",
    "    \n",
    "    sparse_indptr = [0]\n",
    "    sparse_indices = []\n",
    "    sparse_data = []\n",
    "    vocabulary = {}\n",
    "\n",
    "    print 'Reading data.'\n",
    "    for line_num, line in enumerate(open(filename)):\n",
    "        new_row = [(idx,float(prob)) for idx, prob in enumerate(line.strip().split(',')) if float(prob) > 0.0]\n",
    "        for i,p in new_row:\n",
    "            sparse_indices.append(i)\n",
    "            sparse_data.append(p)\n",
    "            inverted_index[i].add(line_num)\n",
    "        sparse_indptr.append(len(sparse_indices))\n",
    "\n",
    "        if line_num % 450 == 0:\n",
    "            print 100.0 * line_num / num_lines, '%'\n",
    "    print 100.0 * line_num / num_lines, '%'\n",
    "    print 'Done reading data.'\n",
    "\n",
    "    sparse_matrix = csr_matrix((sparse_data, sparse_indices, sparse_indptr), dtype=float)\n",
    "    return sparse_matrix, inverted_index"
   ]
  },
  {
   "cell_type": "code",
   "execution_count": 30,
   "metadata": {
    "collapsed": true
   },
   "outputs": [],
   "source": [
    "def sparse_where(sparse_matrix, num):\n",
    "    \"\"\"\n",
    "    np.where() for a sparse matrix. Returns a set of indices.\n",
    "    \"\"\"\n",
    "    return set(np.where(sparse_matrix[num,:].toarray())[1].tolist())"
   ]
  },
  {
   "cell_type": "code",
   "execution_count": 10,
   "metadata": {
    "collapsed": true
   },
   "outputs": [],
   "source": [
    "def load_clustering(fname):\n",
    "    cluster_dict = {}\n",
    "    cluster_inv_idx = collections.defaultdict(list)\n",
    "    \n",
    "    header = True\n",
    "    actual_cluster_sizes = {}\n",
    "    for line in open(fname):\n",
    "        if header:\n",
    "            header = False\n",
    "            continue\n",
    "        parts = line.strip().split(',')\n",
    "        point = int(parts[0])\n",
    "        cluster_num = int(parts[1])\n",
    "        cluster_dict[point] = cluster_num\n",
    "        cluster_inv_idx[cluster_num].append(point)\n",
    "    \n",
    "    return cluster_dict, cluster_inv_idx"
   ]
  },
  {
   "cell_type": "markdown",
   "metadata": {},
   "source": [
    "# Load Data"
   ]
  },
  {
   "cell_type": "code",
   "execution_count": 14,
   "metadata": {
    "collapsed": true
   },
   "outputs": [],
   "source": [
    "NUM_SPEECHES = 2740\n",
    "NUM_DEBATES = 38"
   ]
  },
  {
   "cell_type": "code",
   "execution_count": 54,
   "metadata": {
    "collapsed": false
   },
   "outputs": [
    {
     "name": "stdout",
     "output_type": "stream",
     "text": [
      "Reading data.\n",
      "0.0 %\n",
      "16.4233576642 %\n",
      "32.8467153285 %\n",
      "49.2700729927 %\n",
      "65.6934306569 %\n",
      "82.1167883212 %\n",
      "98.5401459854 %\n",
      "99.9635036496 %\n",
      "Done reading data.\n"
     ]
    },
    {
     "ename": "NameError",
     "evalue": "name 'sparse_data' is not defined",
     "output_type": "error",
     "traceback": [
      "\u001b[1;31m---------------------------------------------------------------------------\u001b[0m",
      "\u001b[1;31mNameError\u001b[0m                                 Traceback (most recent call last)",
      "\u001b[1;32m<ipython-input-54-3f29458548ca>\u001b[0m in \u001b[0;36m<module>\u001b[1;34m()\u001b[0m\n\u001b[0;32m      1\u001b[0m \u001b[0mspeech_vectors\u001b[0m\u001b[1;33m,\u001b[0m \u001b[0minverted_vectors\u001b[0m \u001b[1;33m=\u001b[0m \u001b[0mload_sparse_data\u001b[0m\u001b[1;33m(\u001b[0m\u001b[1;34m'speech_vectors.csv'\u001b[0m\u001b[1;33m,\u001b[0m \u001b[0mNUM_SPEECHES\u001b[0m\u001b[1;33m)\u001b[0m\u001b[1;33m\u001b[0m\u001b[0m\n\u001b[1;32m----> 2\u001b[1;33m \u001b[1;32mprint\u001b[0m \u001b[0msparse_data\u001b[0m\u001b[1;33m.\u001b[0m\u001b[0mshape\u001b[0m\u001b[1;33m\u001b[0m\u001b[0m\n\u001b[0m",
      "\u001b[1;31mNameError\u001b[0m: name 'sparse_data' is not defined"
     ]
    }
   ],
   "source": [
    "speech_vectors, inverted_vectors = load_sparse_data('speech_vectors.csv', NUM_SPEECHES)"
   ]
  },
  {
   "cell_type": "code",
   "execution_count": 55,
   "metadata": {
    "collapsed": false
   },
   "outputs": [
    {
     "name": "stdout",
     "output_type": "stream",
     "text": [
      "(2740, 50000)\n"
     ]
    }
   ],
   "source": [
    "print speech_vectors.shape"
   ]
  },
  {
   "cell_type": "code",
   "execution_count": 32,
   "metadata": {
    "collapsed": false
   },
   "outputs": [
    {
     "name": "stdout",
     "output_type": "stream",
     "text": [
      "Reading data.\n",
      "0.0 %\n",
      "16.4233576642 %\n",
      "32.8467153285 %\n",
      "49.2700729927 %\n",
      "65.6934306569 %\n",
      "82.1167883212 %\n",
      "98.5401459854 %\n",
      "99.9635036496 %\n",
      "Done reading data.\n",
      "(2740, 2740)\n"
     ]
    }
   ],
   "source": [
    "speech_graph, inverted_graph = load_sparse_data('speech_graph.csv', NUM_SPEECHES)\n",
    "print speech_graph.shape"
   ]
  },
  {
   "cell_type": "code",
   "execution_count": 19,
   "metadata": {
    "collapsed": false
   },
   "outputs": [],
   "source": [
    "# Load ground truth for for/against labels.\n",
    "for_against_label = {}\n",
    "\n",
    "for_against_label_file = 'preds_laplacian1.csv'\n",
    "header = True # Skip the header.\n",
    "for row in open(for_against_label_file):\n",
    "    if header:\n",
    "        header = False\n",
    "        continue\n",
    "    \n",
    "    entries = row.strip().split(',')\n",
    "    speech_num = int(entries[0])\n",
    "    label = entries[1]\n",
    "    \n",
    "    for_against_label[speech_num] = label"
   ]
  },
  {
   "cell_type": "markdown",
   "metadata": {},
   "source": [
    "# Hints"
   ]
  },
  {
   "cell_type": "markdown",
   "metadata": {},
   "source": [
    "### Actual cluster sizes"
   ]
  },
  {
   "cell_type": "code",
   "execution_count": 1,
   "metadata": {
    "collapsed": false
   },
   "outputs": [
    {
     "name": "stdout",
     "output_type": "stream",
     "text": [
      "{0: 327, 1: 294, 2: 282, 3: 159, 4: 134, 5: 130, 6: 117, 7: 114, 8: 89, 9: 87, 10: 84, 11: 64, 12: 60, 13: 58, 14: 58, 15: 54, 16: 53, 17: 45, 18: 44, 19: 43, 20: 42, 21: 42, 22: 42, 23: 41, 24: 35, 25: 30, 26: 28, 27: 27, 28: 26, 29: 21, 30: 20, 31: 19, 32: 17, 33: 14, 34: 14, 35: 12, 36: 11, 37: 3}\n",
      "38\n"
     ]
    }
   ],
   "source": [
    "header = False\n",
    "actual_cluster_sizes = {}\n",
    "for line in open('challenge-2-label-hint.csv'):\n",
    "    if header:\n",
    "        header = False\n",
    "        continue\n",
    "    parts = line.strip().split(',')\n",
    "    actual_cluster_sizes[int(parts[0])] = int(parts[1])\n",
    "\n",
    "print actual_cluster_sizes\n",
    "print len(actual_cluster_sizes)"
   ]
  },
  {
   "cell_type": "markdown",
   "metadata": {},
   "source": [
    "### Actual cluster seeds"
   ]
  },
  {
   "cell_type": "code",
   "execution_count": 272,
   "metadata": {
    "collapsed": false
   },
   "outputs": [
    {
     "name": "stdout",
     "output_type": "stream",
     "text": [
      "0 \t21 \t327\n",
      "1 \t3 \t294\n",
      "2 \t7 \t282\n",
      "3 \t18 \t159\n",
      "4 \t2 \t134\n",
      "5 \t13 \t130\n",
      "6 \t30 \t117\n",
      "7 \t0 \t114\n",
      "8 \t11 \t89\n",
      "9 \t20 \t87\n",
      "10 \t8 \t84\n",
      "11 \t96 \t64\n",
      "12 \t12 \t60\n",
      "13 \t125 \t58\n",
      "14 \t59 \t58\n",
      "15 \t4 \t54\n",
      "16 \t160 \t53\n",
      "17 \t9 \t45\n",
      "18 \t28 \t44\n",
      "19 \t31 \t43\n",
      "20 \t6 \t42\n",
      "21 \t145 \t42\n",
      "22 \t55 \t42\n",
      "23 \t69 \t41\n",
      "24 \t46 \t35\n",
      "25 \t22 \t30\n",
      "26 \t53 \t28\n",
      "27 \t130 \t27\n",
      "28 \t14 \t26\n",
      "29 \t1 \t21\n",
      "30 \t43 \t20\n",
      "31 \t181 \t19\n",
      "32 \t80 \t17\n",
      "33 \t19 \t14\n",
      "34 \t66 \t14\n",
      "35 \t63 \t12\n",
      "36 \t498 \t11\n",
      "37 \t183 \t3\n"
     ]
    }
   ],
   "source": [
    "header = False\n",
    "actual_debates = {}\n",
    "for line in open('actual-debate-labels.csv'):\n",
    "    if header:\n",
    "        header = False\n",
    "        continue\n",
    "    parts = line.strip().split(',')\n",
    "    actual_debates[int(parts[1])] = int(parts[0])\n",
    "    \n",
    "for i in range(NUM_DEBATES):\n",
    "    print i, '\\t', actual_debates[i], '\\t', actual_cluster_sizes[i]"
   ]
  },
  {
   "cell_type": "markdown",
   "metadata": {},
   "source": [
    "# Evaluate the cluster sizes we found"
   ]
  },
  {
   "cell_type": "code",
   "execution_count": 420,
   "metadata": {
    "collapsed": false
   },
   "outputs": [
    {
     "name": "stdout",
     "output_type": "stream",
     "text": [
      "#\tPred\tAct\tP-A\n",
      "===========================\n",
      "0 \t329 \t327 \t2\n",
      "1 \t295 \t294 \t1\n",
      "2 \t281 \t282 \t-1\n",
      "3 \t158 \t159 \t-1\n",
      "4 \t132 \t134 \t-2\n",
      "5 \t130 \t130 \t0\n",
      "6 \t118 \t117 \t1\n",
      "7 \t115 \t114 \t1\n",
      "8 \t87 \t89 \t-2\n",
      "9 \t87 \t87 \t0\n",
      "10 \t83 \t84 \t-1\n",
      "11 \t63 \t64 \t-1\n",
      "12 \t59 \t60 \t-1\n",
      "13 \t57 \t58 \t-1\n",
      "14 \t59 \t58 \t1\n",
      "15 \t54 \t54 \t0\n",
      "16 \t50 \t53 \t-3\n",
      "17 \t45 \t45 \t0\n",
      "18 \t47 \t44 \t3\n",
      "19 \t43 \t43 \t0\n",
      "20 \t42 \t42 \t0\n",
      "21 \t42 \t42 \t0\n",
      "22 \t42 \t42 \t0\n",
      "23 \t41 \t41 \t0\n",
      "24 \t36 \t35 \t1\n",
      "25 \t30 \t30 \t0\n",
      "26 \t29 \t28 \t1\n",
      "27 \t26 \t27 \t-1\n",
      "28 \t25 \t26 \t-1\n",
      "29 \t21 \t21 \t0\n",
      "30 \t21 \t20 \t1\n",
      "31 \t20 \t19 \t1\n",
      "32 \t17 \t17 \t0\n",
      "33 \t14 \t14 \t0\n",
      "34 \t17 \t14 \t3\n",
      "35 \t7 \t12 \t-5\n",
      "36 \t12 \t11 \t1\n",
      "37 \t6 \t3 \t3\n",
      "# errors 40\n"
     ]
    }
   ],
   "source": [
    "print '#\\tPred\\tAct\\tP-A'\n",
    "print '==========================='\n",
    "errors = 0\n",
    "for i in range(NUM_DEBATES):\n",
    "    pred = len(predicted_label_inv_idx[i])\n",
    "    act = actual_cluster_sizes[i]\n",
    "    errors += abs(pred-act)\n",
    "    print i, '\\t', pred,'\\t', act, '\\t', pred-act\n",
    "print '# errors', errors"
   ]
  },
  {
   "cell_type": "markdown",
   "metadata": {},
   "source": [
    "# Fix clusters -"
   ]
  },
  {
   "cell_type": "code",
   "execution_count": 115,
   "metadata": {
    "collapsed": true
   },
   "outputs": [
    {
     "name": "stdout",
     "output_type": "stream",
     "text": [
      "320\n",
      "Reading data.\n",
      "0.0 %\n",
      "16.4233576642 %\n",
      "32.8467153285 %\n",
      "49.2700729927 %\n",
      "65.6934306569 %\n",
      "82.1167883212 %\n",
      "98.5401459854 %\n",
      "99.9635036496 %\n",
      "Done reading data.\n",
      "Creating affinity matrix.\n",
      "0.0 %\n",
      "16.4233576642 %\n",
      "32.8467153285 %\n",
      "49.2700729927 %\n",
      "65.6934306569 %\n",
      "82.1167883212 %\n",
      "98.5401459854 %\n",
      "Done\n"
     ]
    }
   ],
   "source": [
    "remaining_set = set()\n",
    "for i in range(6, 9):\n",
    "    remaining_set = remaining_set.union(set(predicted_label_inv_idx[i]))\n",
    "    \n",
    "print len(remaining_set)\n",
    "\n",
    "remaining = sorted(list(remaining_set))\n",
    "\n",
    "speech_graph_copy, _ = load_sparse_data('speech_graph.csv', NUM_SPEECHES)\n",
    "\n",
    "# Create affinity matrix.\n",
    "print 'Creating affinity matrix.'\n",
    "for row in range(NUM_SPEECHES):\n",
    "    row_indices = sparse_where(speech_graph, row)\n",
    "    for index in row_indices:\n",
    "        # Remove connections to points we have already labeled.\n",
    "        # Remove connections to debate with the same label.\n",
    "        if index not in remaining_set or for_against_label[row] == for_against_label[index]:\n",
    "            speech_graph_copy[row, index] = 0.0\n",
    "    if row % 450 == 0:\n",
    "        print row * 100.0 / NUM_SPEECHES, '%'\n",
    "\n",
    "print 'Done'"
   ]
  },
  {
   "cell_type": "code",
   "execution_count": 361,
   "metadata": {
    "collapsed": false
   },
   "outputs": [
    {
     "name": "stdout",
     "output_type": "stream",
     "text": [
      "(335, 2740)\n",
      "(335, 335)\n"
     ]
    }
   ],
   "source": [
    "n = 1\n",
    "remaining = predicted_label_inv_idx[n]\n",
    "remaining.extend(to_relabel)\n",
    "speech_graph_copy_trimmed = speech_graph[sorted(remaining),:]\n",
    "print speech_graph_copy_trimmed.shape\n",
    "speech_graph_copy_trimmed = speech_graph_copy_trimmed[:,sorted(remaining)]\n",
    "print speech_graph_copy_trimmed.shape"
   ]
  },
  {
   "cell_type": "code",
   "execution_count": 365,
   "metadata": {
    "collapsed": false
   },
   "outputs": [
    {
     "name": "stdout",
     "output_type": "stream",
     "text": [
      "[78, 22, 235]\n"
     ]
    },
    {
     "data": {
      "image/png": "[encoded data removed]",
      "text/plain": [
       "<matplotlib.figure.Figure at 0x42897fd0>"
      ]
     },
     "metadata": {},
     "output_type": "display_data"
    }
   ],
   "source": [
    "n_clusters = 3\n",
    "spectral_labels = cluster.spectral_clustering(speech_graph_copy_trimmed, n_clusters=n_clusters)\n",
    "plt.hist(spectral_labels, bins=10)\n",
    "print [list(spectral_labels).count(i) for i in range(n_clusters)]\n",
    "#print [(spectral_labels[remaining.index(i)],i) for i in actual_debates.values() if i in remaining_set]"
   ]
  },
  {
   "cell_type": "code",
   "execution_count": 394,
   "metadata": {
    "collapsed": false
   },
   "outputs": [
    {
     "name": "stdout",
     "output_type": "stream",
     "text": [
      "64\n"
     ]
    }
   ],
   "source": [
    "#to_relabel = json.load(open('to_relabel.json'))\n",
    "#predicted_label_inv_idx = json.load(open('predicted_label_inv_idx.json'))\n",
    "print len(to_relabel)"
   ]
  },
  {
   "cell_type": "code",
   "execution_count": 405,
   "metadata": {
    "collapsed": true
   },
   "outputs": [
    {
     "name": "stdout",
     "output_type": "stream",
     "text": [
      "385\n",
      "(385, 385)\n",
      "299\n",
      "(299, 299)\n",
      "284\n",
      "(284, 284)\n",
      "157\n",
      "(157, 157)\n",
      "131\n",
      "(131, 131)\n",
      "124\n",
      "(124, 124)\n",
      "118\n",
      "(118, 118)\n",
      "116\n",
      "(116, 116)\n",
      "87\n",
      "(87, 87)\n",
      "84\n",
      "(84, 84)\n",
      "81\n",
      "(81, 81)\n",
      "63\n",
      "(63, 63)\n",
      "59\n",
      "(59, 59)\n",
      "56\n",
      "(56, 56)\n",
      "56\n",
      "(56, 56)\n",
      "50\n",
      "(50, 50)\n",
      "50\n",
      "(50, 50)\n",
      "45\n",
      "(45, 45)\n",
      "43\n",
      "(43, 43)\n",
      "42\n",
      "(42, 42)\n",
      "40\n",
      "(40, 40)\n",
      "42\n",
      "(42, 42)\n",
      "42\n",
      "(42, 42)\n",
      "41\n",
      "(41, 41)\n",
      "35\n",
      "(35, 35)\n",
      "30\n",
      "(30, 30)\n",
      "29\n",
      "(29, 29)\n",
      "24\n",
      "(24, 24)\n",
      "25\n",
      "(25, 25)\n",
      "21\n",
      "(21, 21)\n",
      "21\n",
      "(21, 21)\n",
      "20\n",
      "(20, 20)\n",
      "17\n",
      "(17, 17)\n",
      "14\n",
      "(14, 14)\n",
      "17\n",
      "(17, 17)\n",
      "7\n",
      "(7, 7)\n",
      "12\n",
      "(12, 12)\n",
      "6\n",
      "(6, 6)\n",
      "0\n",
      "(0, 0)\n"
     ]
    },
    {
     "ename": "ValueError",
     "evalue": "work array size computation for internal gesdd failed: -5",
     "output_type": "error",
     "traceback": [
      "\u001b[1;31m---------------------------------------------------------------------------\u001b[0m",
      "\u001b[1;31mValueError\u001b[0m                                Traceback (most recent call last)",
      "\u001b[1;32m<ipython-input-405-26c44010eaf9>\u001b[0m in \u001b[0;36m<module>\u001b[1;34m()\u001b[0m\n\u001b[0;32m     11\u001b[0m \u001b[1;33m\u001b[0m\u001b[0m\n\u001b[0;32m     12\u001b[0m     \u001b[0mpca_model\u001b[0m \u001b[1;33m=\u001b[0m \u001b[0mdecomposition\u001b[0m\u001b[1;33m.\u001b[0m\u001b[0mPCA\u001b[0m\u001b[1;33m(\u001b[0m\u001b[0mn_components\u001b[0m\u001b[1;33m=\u001b[0m\u001b[1;36m3\u001b[0m\u001b[1;33m)\u001b[0m\u001b[1;33m\u001b[0m\u001b[0m\n\u001b[1;32m---> 13\u001b[1;33m     \u001b[0mpca_data\u001b[0m \u001b[1;33m=\u001b[0m \u001b[0mpca_model\u001b[0m\u001b[1;33m.\u001b[0m\u001b[0mfit_transform\u001b[0m\u001b[1;33m(\u001b[0m\u001b[0mspeech_vectors_trimmed\u001b[0m\u001b[1;33m.\u001b[0m\u001b[0mtoarray\u001b[0m\u001b[1;33m(\u001b[0m\u001b[1;33m)\u001b[0m\u001b[1;33m)\u001b[0m\u001b[1;33m\u001b[0m\u001b[0m\n\u001b[0m\u001b[0;32m     14\u001b[0m     \u001b[0mplt\u001b[0m\u001b[1;33m.\u001b[0m\u001b[0mplot\u001b[0m\u001b[1;33m(\u001b[0m\u001b[0mpca_data\u001b[0m\u001b[1;33m[\u001b[0m\u001b[1;33m:\u001b[0m\u001b[1;33m,\u001b[0m\u001b[1;36m0\u001b[0m\u001b[1;33m]\u001b[0m\u001b[1;33m,\u001b[0m \u001b[0mpca_data\u001b[0m\u001b[1;33m[\u001b[0m\u001b[1;33m:\u001b[0m\u001b[1;33m,\u001b[0m\u001b[1;36m2\u001b[0m\u001b[1;33m]\u001b[0m\u001b[1;33m,\u001b[0m \u001b[1;34m'ro'\u001b[0m\u001b[1;33m)\u001b[0m\u001b[1;33m\u001b[0m\u001b[0m\n\u001b[0;32m     15\u001b[0m \u001b[1;33m\u001b[0m\u001b[0m\n",
      "\u001b[1;32mC:\\Users\\Joshua\\AppData\\Local\\Continuum\\Anaconda\\lib\\site-packages\\sklearn\\decomposition\\pca.pyc\u001b[0m in \u001b[0;36mfit_transform\u001b[1;34m(self, X, y)\u001b[0m\n\u001b[0;32m    240\u001b[0m \u001b[1;33m\u001b[0m\u001b[0m\n\u001b[0;32m    241\u001b[0m         \"\"\"\n\u001b[1;32m--> 242\u001b[1;33m         \u001b[0mU\u001b[0m\u001b[1;33m,\u001b[0m \u001b[0mS\u001b[0m\u001b[1;33m,\u001b[0m \u001b[0mV\u001b[0m \u001b[1;33m=\u001b[0m \u001b[0mself\u001b[0m\u001b[1;33m.\u001b[0m\u001b[0m_fit\u001b[0m\u001b[1;33m(\u001b[0m\u001b[0mX\u001b[0m\u001b[1;33m)\u001b[0m\u001b[1;33m\u001b[0m\u001b[0m\n\u001b[0m\u001b[0;32m    243\u001b[0m         \u001b[0mU\u001b[0m \u001b[1;33m=\u001b[0m \u001b[0mU\u001b[0m\u001b[1;33m[\u001b[0m\u001b[1;33m:\u001b[0m\u001b[1;33m,\u001b[0m \u001b[1;33m:\u001b[0m\u001b[0mself\u001b[0m\u001b[1;33m.\u001b[0m\u001b[0mn_components_\u001b[0m\u001b[1;33m]\u001b[0m\u001b[1;33m\u001b[0m\u001b[0m\n\u001b[0;32m    244\u001b[0m \u001b[1;33m\u001b[0m\u001b[0m\n",
      "\u001b[1;32mC:\\Users\\Joshua\\AppData\\Local\\Continuum\\Anaconda\\lib\\site-packages\\sklearn\\decomposition\\pca.pyc\u001b[0m in \u001b[0;36m_fit\u001b[1;34m(self, X)\u001b[0m\n\u001b[0;32m    273\u001b[0m         \u001b[0mself\u001b[0m\u001b[1;33m.\u001b[0m\u001b[0mmean_\u001b[0m \u001b[1;33m=\u001b[0m \u001b[0mnp\u001b[0m\u001b[1;33m.\u001b[0m\u001b[0mmean\u001b[0m\u001b[1;33m(\u001b[0m\u001b[0mX\u001b[0m\u001b[1;33m,\u001b[0m \u001b[0maxis\u001b[0m\u001b[1;33m=\u001b[0m\u001b[1;36m0\u001b[0m\u001b[1;33m)\u001b[0m\u001b[1;33m\u001b[0m\u001b[0m\n\u001b[0;32m    274\u001b[0m         \u001b[0mX\u001b[0m \u001b[1;33m-=\u001b[0m \u001b[0mself\u001b[0m\u001b[1;33m.\u001b[0m\u001b[0mmean_\u001b[0m\u001b[1;33m\u001b[0m\u001b[0m\n\u001b[1;32m--> 275\u001b[1;33m         \u001b[0mU\u001b[0m\u001b[1;33m,\u001b[0m \u001b[0mS\u001b[0m\u001b[1;33m,\u001b[0m \u001b[0mV\u001b[0m \u001b[1;33m=\u001b[0m \u001b[0mlinalg\u001b[0m\u001b[1;33m.\u001b[0m\u001b[0msvd\u001b[0m\u001b[1;33m(\u001b[0m\u001b[0mX\u001b[0m\u001b[1;33m,\u001b[0m \u001b[0mfull_matrices\u001b[0m\u001b[1;33m=\u001b[0m\u001b[0mFalse\u001b[0m\u001b[1;33m)\u001b[0m\u001b[1;33m\u001b[0m\u001b[0m\n\u001b[0m\u001b[0;32m    276\u001b[0m         \u001b[0mexplained_variance_\u001b[0m \u001b[1;33m=\u001b[0m \u001b[1;33m(\u001b[0m\u001b[0mS\u001b[0m \u001b[1;33m**\u001b[0m \u001b[1;36m2\u001b[0m\u001b[1;33m)\u001b[0m \u001b[1;33m/\u001b[0m \u001b[0mn_samples\u001b[0m\u001b[1;33m\u001b[0m\u001b[0m\n\u001b[0;32m    277\u001b[0m         explained_variance_ratio_ = (explained_variance_ /\n",
      "\u001b[1;32mC:\\Users\\Joshua\\AppData\\Local\\Continuum\\Anaconda\\lib\\site-packages\\scipy\\linalg\\decomp_svd.pyc\u001b[0m in \u001b[0;36msvd\u001b[1;34m(a, full_matrices, compute_uv, overwrite_a, check_finite)\u001b[0m\n\u001b[0;32m     99\u001b[0m     \u001b[0mlwork\u001b[0m\u001b[1;33m,\u001b[0m \u001b[0minfo\u001b[0m \u001b[1;33m=\u001b[0m \u001b[0mgesdd_lwork\u001b[0m\u001b[1;33m(\u001b[0m\u001b[0ma1\u001b[0m\u001b[1;33m.\u001b[0m\u001b[0mshape\u001b[0m\u001b[1;33m[\u001b[0m\u001b[1;36m0\u001b[0m\u001b[1;33m]\u001b[0m\u001b[1;33m,\u001b[0m \u001b[0ma1\u001b[0m\u001b[1;33m.\u001b[0m\u001b[0mshape\u001b[0m\u001b[1;33m[\u001b[0m\u001b[1;36m1\u001b[0m\u001b[1;33m]\u001b[0m\u001b[1;33m,\u001b[0m \u001b[0mcompute_uv\u001b[0m\u001b[1;33m=\u001b[0m\u001b[0mcompute_uv\u001b[0m\u001b[1;33m,\u001b[0m \u001b[0mfull_matrices\u001b[0m\u001b[1;33m=\u001b[0m\u001b[0mfull_matrices\u001b[0m\u001b[1;33m)\u001b[0m\u001b[1;33m\u001b[0m\u001b[0m\n\u001b[0;32m    100\u001b[0m     \u001b[1;32mif\u001b[0m \u001b[0minfo\u001b[0m \u001b[1;33m!=\u001b[0m \u001b[1;36m0\u001b[0m\u001b[1;33m:\u001b[0m\u001b[1;33m\u001b[0m\u001b[0m\n\u001b[1;32m--> 101\u001b[1;33m         \u001b[1;32mraise\u001b[0m \u001b[0mValueError\u001b[0m\u001b[1;33m(\u001b[0m\u001b[1;34m'work array size computation for internal gesdd failed: %d'\u001b[0m \u001b[1;33m%\u001b[0m \u001b[0minfo\u001b[0m\u001b[1;33m)\u001b[0m\u001b[1;33m\u001b[0m\u001b[0m\n\u001b[0m\u001b[0;32m    102\u001b[0m     \u001b[0mlwork\u001b[0m \u001b[1;33m=\u001b[0m \u001b[0mint\u001b[0m\u001b[1;33m(\u001b[0m\u001b[0mlwork\u001b[0m\u001b[1;33m.\u001b[0m\u001b[0mreal\u001b[0m\u001b[1;33m)\u001b[0m\u001b[1;33m\u001b[0m\u001b[0m\n\u001b[0;32m    103\u001b[0m \u001b[1;33m\u001b[0m\u001b[0m\n",
      "\u001b[1;31mValueError\u001b[0m: work array size computation for internal gesdd failed: -5"
     ]
    },
    {
     "data": {
      "image/png": "[encoded data removed]",
      "text/plain": [
       "<matplotlib.figure.Figure at 0x455da128>"
      ]
     },
     "metadata": {},
     "output_type": "display_data"
    }
   ],
   "source": [
    "for i in range(NUM_SPEECHES):\n",
    "    n = i\n",
    "    remaining = sorted(predicted_label_inv_idx[n])\n",
    "    remaining.extend(to_relabel)\n",
    "    n_p = len(remaining)\n",
    "    print n_p\n",
    "\n",
    "    speech_vectors_trimmed = speech_vectors[sorted(remaining),25000:]\n",
    "    #speech_vectors_trimmed = speech_vectors_trimmed[:,sorted(remaining)]\n",
    "    print speech_vectors_trimmed.shape\n",
    "\n",
    "    pca_model = decomposition.PCA(n_components=3)\n",
    "    pca_data = pca_model.fit_transform(speech_vectors_trimmed.toarray())\n",
    "    plt.plot(pca_data[:,0], pca_data[:,2], 'ro')\n",
    "\n",
    "    new_relabels = [sorted(remaining)[i] for i in range(n_p) if \\\n",
    "                    pca_data[i,0] < 0.001 and pca_data[i,1] > -0.0001 and pca_data[i,0] > -0.0001 and \\\n",
    "                    pca_data[i,1] < 0.001 and \\\n",
    "                    pca_data[i,2] < 0.001 and pca_data[i,2] > -0.0001]\n",
    "\n",
    "    predicted_label_inv_idx[n] = new_relabels\n",
    "    to_relabel = list(set(remaining).difference(set(new_relabels)))"
   ]
  },
  {
   "cell_type": "markdown",
   "metadata": {},
   "source": [
    "## removing wrong"
   ]
  },
  {
   "cell_type": "code",
   "execution_count": null,
   "metadata": {
    "collapsed": true
   },
   "outputs": [],
   "source": [
    "parameters = {'C': np.arange(1,10,0.05)}\n",
    "lin_clf = svm.LinearSVC()\n",
    "clf = grid_search.GridSearchCV(lin_clf, parameters)\n",
    "\n",
    "clf.fix(X,Y)\n",
    "clf.predict(X_test)"
   ]
  },
  {
   "cell_type": "code",
   "execution_count": 438,
   "metadata": {
    "collapsed": false
   },
   "outputs": [],
   "source": [
    "predicted_label, predicted_label_inv_idx = load_clustering('hacky1.csv')"
   ]
  },
  {
   "cell_type": "code",
   "execution_count": 439,
   "metadata": {
    "collapsed": true
   },
   "outputs": [],
   "source": [
    "to_relabel = []"
   ]
  },
  {
   "cell_type": "code",
   "execution_count": 443,
   "metadata": {
    "collapsed": false
   },
   "outputs": [
    {
     "data": {
      "image/png": "[encoded data removed]",
      "text/plain": [
       "<matplotlib.figure.Figure at 0x46eb7ac8>"
      ]
     },
     "metadata": {},
     "output_type": "display_data"
    }
   ],
   "source": [
    "for i in range(NUM_DEBATES):\n",
    "    n = 5\n",
    "    n_p = len(predicted_label_inv_idx[n])\n",
    "    speech_vectors_trimmed = speech_vectors[sorted(predicted_label_inv_idx[n]),25000:]\n",
    "    #speech_vectors_trimmed = speech_vectors_trimmed[:,sorted(predicted_label_inv_idx[n])]\n",
    "    pca_model = decomposition.PCA(n_components=5)\n",
    "    pca_data = pca_model.fit_transform(speech_vectors_trimmed.toarray())\n",
    "    plt.plot(pca_data[:,2], pca_data[:,3], 'ro')\n",
    "    break\n",
    "    new_relabels = [sorted(predicted_label_inv_idx[n])[i] for i in range(n_p) if \\\n",
    "                pca_data[i,0] > 0.0001 or pca_data[i,1] < -0.0001 or pca_data[i,0] < -0.0001 or  pca_data[i,1] > 0.0001]\n",
    "    to_relabel.extend(new_relabels)\n",
    "    for i in new_relabels:\n",
    "        predicted_label_inv_idx[n].remove(i)\n",
    "\n",
    "    print len(to_relabel)\n",
    "\n",
    "    json.dump(predicted_label_inv_idx, open('predicted_label_inv_idx.json', 'w+'))\n",
    "    json.dump(to_relabel, open('to_relabel.json', 'w+'))"
   ]
  },
  {
   "cell_type": "code",
   "execution_count": 357,
   "metadata": {
    "collapsed": false
   },
   "outputs": [
    {
     "name": "stdout",
     "output_type": "stream",
     "text": [
      "44\n"
     ]
    }
   ],
   "source": [
    "new_relabels = [sorted(predicted_label_inv_idx[n])[i] for i in range(n_p) if \\\n",
    "                pca_data[i,0] > 0.0001 or pca_data[i,1] < -0.0001 or pca_data[i,0] < -0.0001 or  pca_data[i,1] > 0.0001]\n",
    "to_relabel.extend(new_relabels)\n",
    "for i in new_relabels:\n",
    "    predicted_label_inv_idx[n].remove(i)\n",
    "    \n",
    "print len(to_relabel)\n",
    "\n",
    "json.dump(predicted_label_inv_idx, open('predicted_label_inv_idx.json', 'w+'))\n",
    "json.dump(to_relabel, open('to_relabel.json', 'w+'))"
   ]
  },
  {
   "cell_type": "code",
   "execution_count": 363,
   "metadata": {
    "collapsed": false
   },
   "outputs": [
    {
     "name": "stdout",
     "output_type": "stream",
     "text": [
      "[]\n"
     ]
    }
   ],
   "source": [
    "print [i for i in actual_debates.values() if i in to_relabel]"
   ]
  },
  {
   "cell_type": "code",
   "execution_count": 320,
   "metadata": {
    "collapsed": false
   },
   "outputs": [
    {
     "name": "stdout",
     "output_type": "stream",
     "text": [
      "23\n"
     ]
    }
   ],
   "source": [
    "num_out = 0\n",
    "for i in range(4):\n",
    "    speech_vectors_trimmed = speech_vectors[sorted(predicted_label_inv_idx[i]),:]\n",
    "    speech_vectors_trimmed = speech_vectors_trimmed[:,sorted(predicted_label_inv_idx[i])]\n",
    "    pca_model = decomposition.PCA(n_components=3)\n",
    "    pca_data = pca_model.fit_transform(speech_vectors_trimmed.toarray())\n",
    "    \n",
    "    for i in range(len(predicted_label_inv_idx[i])):\n",
    "        #d = np.linalg.norm(np.array([0.0,0.0]) - pca_data[i,0:2])\n",
    "        d = abs(pca_data[i,0]) + abs(pca_data[i,1])\n",
    "        if d > 0.0001:\n",
    "            num_out += 1\n",
    "        #else: print d\n",
    "            \n",
    "print num_out"
   ]
  },
  {
   "cell_type": "code",
   "execution_count": 229,
   "metadata": {
    "collapsed": false
   },
   "outputs": [
    {
     "data": {
      "text/plain": [
       "0.5"
      ]
     },
     "execution_count": 229,
     "metadata": {},
     "output_type": "execute_result"
    }
   ],
   "source": [
    "np.linalg.norm(np.array([0,1])-np.array([0,0.5]))"
   ]
  },
  {
   "cell_type": "code",
   "execution_count": 206,
   "metadata": {
    "collapsed": false
   },
   "outputs": [
    {
     "name": "stdout",
     "output_type": "stream",
     "text": [
      "1\n"
     ]
    }
   ],
   "source": [
    "#print sum(1 for i in range(len(remaining_set)) if pca_data[i,0] < -0.002 or pca_data[i,1] < -0.002)\n",
    "print sum(1 for i in range(len(predicted_label_inv_idx[0])) if pca_data[i,0] < -0.002)"
   ]
  },
  {
   "cell_type": "code",
   "execution_count": 179,
   "metadata": {
    "collapsed": true
   },
   "outputs": [],
   "source": [
    "new_relabels = [sorted(predicted_label_inv_idx[0])[i] for i in range(len(remaining_set)) if pca_data[i,0] < -0.002 or pca_data[i,1] < -0.002]\n",
    "to_relabel = to_relabel.union(new_relabels)\n",
    "for i in new_relabels:\n",
    "    predicted_label_inv_idx[0].remove(i)"
   ]
  },
  {
   "cell_type": "code",
   "execution_count": 180,
   "metadata": {
    "collapsed": false
   },
   "outputs": [
    {
     "name": "stdout",
     "output_type": "stream",
     "text": [
      "set([2369, 469])\n",
      "2\n",
      "0\n"
     ]
    }
   ],
   "source": [
    "print to_relabel\n",
    "print len(to_relabel)\n",
    "print sum([1 for i in to_relabel if i in actual_debates.values()])"
   ]
  },
  {
   "cell_type": "markdown",
   "metadata": {},
   "source": [
    "## C 1"
   ]
  },
  {
   "cell_type": "code",
   "execution_count": 181,
   "metadata": {
    "collapsed": true
   },
   "outputs": [],
   "source": [
    "CLUSTER_NUM = 1\n",
    "\n",
    "next_cand = sorted(predicted_label_inv_idx[CLUSTER_NUM])\n",
    "next_cand.extend(list(to_relabel))\n",
    "\n",
    "speech_vectors_trimmed = speech_vectors[sorted(next_cand),:]\n",
    "speech_vectors_trimmed = speech_vectors_trimmed[:,sorted(next_cand)]\n",
    "\n",
    "pca_model = decomposition.PCA(n_components=5)\n",
    "pca_data = pca_model.fit_transform(speech_vectors_trimmed.toarray())"
   ]
  },
  {
   "cell_type": "code",
   "execution_count": 193,
   "metadata": {
    "collapsed": false
   },
   "outputs": [
    {
     "data": {
      "text/plain": [
       "[<matplotlib.lines.Line2D at 0x402e9e80>]"
      ]
     },
     "execution_count": 193,
     "metadata": {},
     "output_type": "execute_result"
    },
    {
     "data": {
      "image/png": "[encoded data removed]",
      "text/plain": [
       "<matplotlib.figure.Figure at 0x3c67be10>"
      ]
     },
     "metadata": {},
     "output_type": "display_data"
    }
   ],
   "source": [
    "plt.plot(pca_data[:,1], pca_data[:,2], 'ro')"
   ]
  },
  {
   "cell_type": "code",
   "execution_count": 194,
   "metadata": {
    "collapsed": false
   },
   "outputs": [
    {
     "name": "stdout",
     "output_type": "stream",
     "text": [
      "2\n",
      "283\n"
     ]
    }
   ],
   "source": [
    "errs = sum(1 for i in range(len(next_cand)) if pca_data[i,1] < -0.0005 or pca_data[i,2] > 0.001)\n",
    "print errs\n",
    "print len(next_cand) - errs"
   ]
  },
  {
   "cell_type": "code",
   "execution_count": 184,
   "metadata": {
    "collapsed": false
   },
   "outputs": [
    {
     "name": "stdout",
     "output_type": "stream",
     "text": [
      "4\n",
      "291\n"
     ]
    }
   ],
   "source": [
    "new_relabels = [sorted(next_cand)[i] for i in range(len(next_cand)) if pca_data[i,0] < -0.001 or pca_data[i,1] < -0.001]\n",
    "to_relabel = new_relabels\n",
    "for i in new_relabels:\n",
    "    try:\n",
    "        predicted_label_inv_idx[CLUSTER_NUM].remove(i)\n",
    "    except:\n",
    "        pass\n",
    "print len(to_relabel)\n",
    "print len( predicted_label_inv_idx[CLUSTER_NUM])"
   ]
  },
  {
   "cell_type": "markdown",
   "metadata": {},
   "source": [
    "## C 2"
   ]
  },
  {
   "cell_type": "code",
   "execution_count": 186,
   "metadata": {
    "collapsed": true
   },
   "outputs": [],
   "source": [
    "CLUSTER_NUM = 2\n",
    "\n",
    "next_cand = sorted(predicted_label_inv_idx[CLUSTER_NUM])\n",
    "next_cand.extend(list(to_relabel))\n",
    "\n",
    "speech_vectors_trimmed = speech_vectors[sorted(next_cand),:]\n",
    "speech_vectors_trimmed = speech_vectors_trimmed[:,sorted(next_cand)]\n",
    "\n",
    "pca_model = decomposition.PCA(n_components=5)\n",
    "pca_data = pca_model.fit_transform(speech_vectors_trimmed.toarray())"
   ]
  },
  {
   "cell_type": "code",
   "execution_count": 187,
   "metadata": {
    "collapsed": false
   },
   "outputs": [
    {
     "data": {
      "text/plain": [
       "[<matplotlib.lines.Line2D at 0x3caa0588>]"
      ]
     },
     "execution_count": 187,
     "metadata": {},
     "output_type": "execute_result"
    },
    {
     "data": {
      "image/png": "[encoded data removed]",
      "text/plain": [
       "<matplotlib.figure.Figure at 0x3de6d860>"
      ]
     },
     "metadata": {},
     "output_type": "display_data"
    }
   ],
   "source": [
    "plt.plot(pca_data[:,0], pca_data[:,1], 'ro')"
   ]
  },
  {
   "cell_type": "code",
   "execution_count": 189,
   "metadata": {
    "collapsed": false
   },
   "outputs": [
    {
     "name": "stdout",
     "output_type": "stream",
     "text": [
      "2\n",
      "283\n"
     ]
    }
   ],
   "source": [
    "errs = [i for i in range(len(next_cand)) if pca_data[i,0] < -0.0015 or pca_data[i,1] < -0.001]\n",
    "print len(errs)\n",
    "print len(next_cand) - len(errs)"
   ]
  },
  {
   "cell_type": "code",
   "execution_count": null,
   "metadata": {
    "collapsed": true
   },
   "outputs": [],
   "source": []
  },
  {
   "cell_type": "code",
   "execution_count": null,
   "metadata": {
    "collapsed": true
   },
   "outputs": [],
   "source": []
  },
  {
   "cell_type": "code",
   "execution_count": null,
   "metadata": {
    "collapsed": true
   },
   "outputs": [],
   "source": [
    "write_evaluation([(i, d[i]) for i in range(NUM_SPEECHES)], 'fix.csv')"
   ]
  }
 ],
 "metadata": {
  "kernelspec": {
   "display_name": "Python 2",
   "language": "python",
   "name": "python2"
  },
  "language_info": {
   "codemirror_mode": {
    "name": "ipython",
    "version": 2
   },
   "file_extension": ".py",
   "mimetype": "text/x-python",
   "name": "python",
   "nbconvert_exporter": "python",
   "pygments_lexer": "ipython2",
   "version": "2.7.9"
  }
 },
 "nbformat": 4,
 "nbformat_minor": 0
}
