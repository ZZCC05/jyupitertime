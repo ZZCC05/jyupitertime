{
 "cells": [
  {
   "cell_type": "code",
   "execution_count": 37,
   "metadata": {
    "collapsed": true
   },
   "outputs": [],
   "source": [
    "import collections\n",
    "import heapq\n",
    "import matplotlib.pyplot as plt\n",
    "import numpy as np\n",
    "import os, time, json\n",
    "import pickle\n",
    "\n",
    "import itertools, sys, math, time\n",
    "from scipy.spatial import distance as dist\n",
    "from numpy import linalg\n",
    "\n",
    "from matplotlib import offsetbox\n",
    "from scipy.sparse import csr_matrix\n",
    "from sklearn import cluster, datasets, decomposition, ensemble, lda, manifold, random_projection\n",
    "from sklearn.decomposition import TruncatedSVD\n",
    "\n",
    "from sklearn import svm, grid_search\n",
    "from sklearn.decomposition import PCA, SparsePCA\n",
    "from scipy import sparse as sp\n",
    "\n",
    "from sklearn import cluster\n",
    "\n",
    "%matplotlib inline"
   ]
  },
  {
   "cell_type": "code",
   "execution_count": 3,
   "metadata": {
    "collapsed": true
   },
   "outputs": [],
   "source": [
    "def sparse_where(sparse_matrix, num):\n",
    "    \"\"\"\n",
    "    np.where() for a sparse matrix. Returns a set of indices.\n",
    "    \"\"\"\n",
    "    return set(np.where(sparse_matrix[num,:].toarray())[1].tolist())\n",
    "\n",
    "def sparse_vals(row):\n",
    "    return row[np.where(row.toarray())[0]]\n"
   ]
  },
  {
   "cell_type": "code",
   "execution_count": 4,
   "metadata": {
    "collapsed": true
   },
   "outputs": [],
   "source": [
    "# Skip parts that take a long time.\n",
    "SKIP_LONG_PARTS = True\n",
    "\n",
    "# Create a dense representation of the data.\n",
    "CREATE_DENSE_ARRAY = False\n",
    "\n",
    "NUM_SPEECHES = 2740\n",
    "\n",
    "NUM_DEBATES = 38"
   ]
  },
  {
   "cell_type": "code",
   "execution_count": 5,
   "metadata": {
    "collapsed": true
   },
   "outputs": [],
   "source": [
    "def load_sparse_data(filename, num_lines):\n",
    "    \"\"\"\n",
    "    Function to load sparse data.\n",
    "    \"\"\"\n",
    "    inverted_index = collections.defaultdict(set)\n",
    "    \n",
    "    sparse_indptr = [0]\n",
    "    sparse_indices = []\n",
    "    sparse_data = []\n",
    "    vocabulary = {}\n",
    "\n",
    "    print 'Reading data.'\n",
    "    for line_num, line in enumerate(open(filename)):\n",
    "        new_row = [(idx,float(prob)) for idx, prob in enumerate(line.strip().split(',')) if float(prob) > 0.0]\n",
    "        for i,p in new_row:\n",
    "            sparse_indices.append(i)\n",
    "            sparse_data.append(p)\n",
    "            inverted_index[i].add(line_num)\n",
    "        sparse_indptr.append(len(sparse_indices))\n",
    "        sys.stdout.write(\"\\r%d%%\" % (100.0 * line_num / num_lines))\n",
    "        sys.stdout.flush()\n",
    "    print 100.0 * line_num / num_lines, '%'\n",
    "    print 'Done reading data.'\n",
    "\n",
    "    sparse_matrix = csr_matrix((sparse_data, sparse_indices, sparse_indptr), dtype=float)\n",
    "    return sparse_matrix, inverted_index"
   ]
  },
  {
   "cell_type": "code",
   "execution_count": 6,
   "metadata": {
    "collapsed": false
   },
   "outputs": [
    {
     "name": "stdout",
     "output_type": "stream",
     "text": [
      "Reading data.\n",
      "99%99.9635036496 %\n",
      "Done reading data.\n"
     ]
    }
   ],
   "source": [
    "speech_vectors, inverted_index = load_sparse_data('speech_vectors.csv', NUM_SPEECHES)"
   ]
  },
  {
   "cell_type": "code",
   "execution_count": 170,
   "metadata": {
    "collapsed": false
   },
   "outputs": [
    {
     "name": "stdout",
     "output_type": "stream",
     "text": [
      "Reading data.\n",
      "99%99.9635036496 %\n",
      "Done reading data.\n"
     ]
    }
   ],
   "source": [
    "speech_graph, inverted_graph = load_sparse_data('speech_graph.csv', NUM_SPEECHES)"
   ]
  },
  {
   "cell_type": "markdown",
   "metadata": {},
   "source": [
    "## TF-IDF Matrix"
   ]
  },
  {
   "cell_type": "code",
   "execution_count": 74,
   "metadata": {
    "collapsed": false
   },
   "outputs": [],
   "source": [
    "def sparse_cosine_sim(X, Y):\n",
    "    dot = s1.dot(s2.T)\n",
    "    norm = (math.sqrt(s1.dot(s1.T).sum()) * math.sqrt(s2.dot(s2.T).sum()))\n",
    "    if not dot.data or norm == 0:\n",
    "        return 0\n",
    "    return dot.data[0]/norm\n",
    "\n",
    "def cosine_sim(X, Y):\n",
    "    dot = s1.dot(s2.T)\n",
    "    norm = (math.sqrt(s1.dot(s1.T).sum()) * math.sqrt(s2.dot(s2.T).sum()))\n",
    "    return dot/norm if norm != 0 else 0\n",
    "\n",
    "def cosine_similarity(X, Y):\n",
    "    \"\"\"\n",
    "    Calculates cosine Similarity of two vectors\n",
    "    Inputs:\n",
    "        X : The question vectors (sparse or dense matrix)\n",
    "        Y : The passage vectors (sparse or dense matrix)\n",
    "    Outputs:\n",
    "        Consine Similarity\n",
    "    !!!!MAKE SURE DOC IS SECOND ARGUMENT!!!!! (the Y)\n",
    "    \"\"\"\n",
    "    def dense_cosine_sim(X,Y):\n",
    "        denom = np.linalg.norm(Y) * np.linalg.norm(X)\n",
    "        return np.dot(X,Y)/denom if denom !=0 else 0\n",
    "    def is_array(X):\n",
    "        return isinstance(X, list) or isinstance(X, (np.ndarray, np.generic) )\n",
    "    return dense_cosine_sim(X,Y) if is_array(X) and is_array(Y) else sparse_cosine_sim(X,Y)"
   ]
  },
  {
   "cell_type": "code",
   "execution_count": 45,
   "metadata": {
    "collapsed": false
   },
   "outputs": [
    {
     "name": "stdout",
     "output_type": "stream",
     "text": [
      "(2740, 25000)\n"
     ]
    }
   ],
   "source": [
    "import math\n",
    "from scipy import sparse as sp\n",
    "def compute_idf(inv_idx, tf_matrix, min_df=10, max_df_ratio=0.95):\n",
    "    \"\"\" \n",
    "    =Inputs=\n",
    "    inv_idx: an inverted index as above\n",
    "    tf: matrix\n",
    "        sprase matrix of tf\n",
    "    min_df: int,\n",
    "        Minimum number of documenats a term must occur in.\n",
    "        Less frequent words get ignored.\n",
    "    max_df_ratio: float,\n",
    "        Maximum ratio of documents a term can occur in.\n",
    "        More frequent words get ignored.\n",
    "    =Outputs=\n",
    "    idf vector\n",
    "    \"\"\"\n",
    "    idf = []\n",
    "    n_docs  = tf_matrix.shape[0]\n",
    "    n_terms = tf_matrix.shape[1]\n",
    "    cut_count = 0\n",
    "    for term_idx in xrange(25000, 25000+n_terms):\n",
    "        df = float(len(inv_idx[term_idx]))\n",
    "        if (df >= min_df) and ((df/n_docs) <= max_df_ratio):\n",
    "            idf.append(math.log(n_docs/(1 + df)))\n",
    "        else:\n",
    "            cut_count += 1\n",
    "            idf.append(0)\n",
    "    print \"cut off this many with df stuff:\", cut_count\n",
    "    print \"% data cut: \", (cut_count/float(n_terms))\n",
    "    return idf\n",
    "\n",
    "# tf_matrix = speech_vectors[:,25000:]\n",
    "# idf = compute_idf(inverted_index, tf_matrix, min_df=3, max_df_ratio=(249 / float(2740)))\n",
    "\n",
    "# print tf_matrix.shape, csr_matrix(idf).T.shape\n",
    "# tfidf_matrix = tf_matrix.multiply(csr_matrix(idf))\n",
    "\n",
    "tfidf_matrix = pickle.load(open('files/tfidf_matrix_sparse.p', 'r'))\n",
    "print tfidf_matrix.shape"
   ]
  },
  {
   "cell_type": "markdown",
   "metadata": {},
   "source": [
    "##Random Projection"
   ]
  },
  {
   "cell_type": "code",
   "execution_count": 330,
   "metadata": {
    "collapsed": false
   },
   "outputs": [
    {
     "name": "stdout",
     "output_type": "stream",
     "text": [
      "(2740, 300)\n",
      "done\n"
     ]
    }
   ],
   "source": [
    "# run PCA on data\n",
    "# truncated_svd = TruncatedSVD(n_components=10)\n",
    "# tfidf_matrix_reduced = truncated_svd.fit_transform(tfidf_matrix[:, :25000])\n",
    "\n",
    "# Sparse random projection to reduce dimensionality\n",
    "\n",
    "# transformer = random_projection.GaussianRandomProjection(n_components=1000)\n",
    "transformer = random_projection.SparseRandomProjection(n_components=300)\n",
    "tfidf_matrix_reduced = transformer.fit_transform(tfidf_matrix[:, :25000])\n",
    "print tfidf_matrix_reduced.shape\n",
    "\n",
    "sims = np.zeros((2740, 2740))\n",
    "print 'done'\n",
    "\n",
    "tfidf_matrix_reduced = tfidf_matrix_reduced.toarray()"
   ]
  },
  {
   "cell_type": "markdown",
   "metadata": {},
   "source": [
    "##Get cosine similarities"
   ]
  },
  {
   "cell_type": "code",
   "execution_count": 331,
   "metadata": {
    "collapsed": false
   },
   "outputs": [
    {
     "name": "stdout",
     "output_type": "stream",
     "text": [
      "2730# sims: 7507600\n",
      "done\n"
     ]
    },
    {
     "data": {
      "image/png": "[encoded data removed]",
      "text/plain": [
       "<matplotlib.figure.Figure at 0x10fe76910>"
      ]
     },
     "metadata": {},
     "output_type": "display_data"
    }
   ],
   "source": [
    "start = time.time()\n",
    "for i in range(0, 2740):\n",
    "    s1 = tfidf_matrix_reduced[i]\n",
    "    if i %10 == 0:\n",
    "        sys.stdout.write('\\r')\n",
    "        sys.stdout.write(\"%d\" % (i))\n",
    "        sys.stdout.flush()\n",
    "    \n",
    "    for j in range(i, 2740):\n",
    "        s2 = tfidf_matrix_reduced[j]\n",
    "        sim = cosine_sim(s1, s2)\n",
    "        sims[i][j] = sim\n",
    "        sims[j][i] = sim\n",
    "\n",
    "# np.savetxt('files/sims_matrix.txt', sims)\n",
    "all_sims = sims.flatten()\n",
    "print '# sims: ' + str(len(all_sims))\n",
    "plt.hist(all_sims, bins=25)\n",
    "\n",
    "print 'done'"
   ]
  },
  {
   "cell_type": "markdown",
   "metadata": {},
   "source": [
    "## TF-IDF and Stopping // not used"
   ]
  },
  {
   "cell_type": "code",
   "execution_count": 332,
   "metadata": {
    "collapsed": false
   },
   "outputs": [],
   "source": [
    "# avg_word_freqs = {}\n",
    "# for row in range(2740):\n",
    "#     sys.stdout.write('\\rrow %d' % row)\n",
    "#     sys.stdout.flush()\n",
    "#     for word, freq in enumerate(speech_vectors[row].toarray()[0]):\n",
    "#         if freq == 0: continue\n",
    "#         if word not in avg_word_freqs:\n",
    "#             avg_word_freqs[word] = 0\n",
    "#         avg_word_freqs[word] += freq\n",
    "\n",
    "# for word in avg_word_freqs.keys():\n",
    "#     avg_word_freqs[word] /= 2740.0\n"
   ]
  },
  {
   "cell_type": "code",
   "execution_count": 333,
   "metadata": {
    "collapsed": false
   },
   "outputs": [],
   "source": [
    "# plt.hist(avg_word_freqs.values(), bins=50)"
   ]
  },
  {
   "cell_type": "markdown",
   "metadata": {},
   "source": [
    "##Create SVM training set"
   ]
  },
  {
   "cell_type": "code",
   "execution_count": 334,
   "metadata": {
    "collapsed": false
   },
   "outputs": [
    {
     "name": "stdout",
     "output_type": "stream",
     "text": [
      "37\n",
      "# labels: 1945\n"
     ]
    },
    {
     "data": {
      "text/plain": [
       "(array([43, 59, 45, 44, 39, 53, 21, 80, 62, 67, 76, 75, 23, 40, 70, 63, 20,\n",
       "        63, 67, 49, 58, 61, 55, 50, 56, 46, 16, 33, 50, 52, 49, 61, 55, 38,\n",
       "        41, 65, 59, 41]),\n",
       " array([  0.        ,   0.97368421,   1.94736842,   2.92105263,\n",
       "          3.89473684,   4.86842105,   5.84210526,   6.81578947,\n",
       "          7.78947368,   8.76315789,   9.73684211,  10.71052632,\n",
       "         11.68421053,  12.65789474,  13.63157895,  14.60526316,\n",
       "         15.57894737,  16.55263158,  17.52631579,  18.5       ,\n",
       "         19.47368421,  20.44736842,  21.42105263,  22.39473684,\n",
       "         23.36842105,  24.34210526,  25.31578947,  26.28947368,\n",
       "         27.26315789,  28.23684211,  29.21052632,  30.18421053,\n",
       "         31.15789474,  32.13157895,  33.10526316,  34.07894737,\n",
       "         35.05263158,  36.02631579,  37.        ]),\n",
       " <a list of 38 Patch objects>)"
      ]
     },
     "execution_count": 334,
     "metadata": {},
     "output_type": "execute_result"
    },
    {
     "data": {
      "image/png": "[encoded data removed]",
      "text/plain": [
       "<matplotlib.figure.Figure at 0x10fe79bd0>"
      ]
     },
     "metadata": {},
     "output_type": "display_data"
    }
   ],
   "source": [
    "original_cluster_labels = []\n",
    "cluster_labels = {}\n",
    "\n",
    "# populate cluster labels with initial given\n",
    "with open('files/hint.csv', 'r') as labels_file:\n",
    "    for line in labels_file:\n",
    "        vals = line.split(',')\n",
    "        row = int(vals[0])\n",
    "        label = int(vals[1].strip())\n",
    "        original_cluster_labels.append( (row, label) )\n",
    "        cluster_labels[row] = (label, 99)\n",
    "\n",
    "# propogate labels with similar rows based on cosine similarity\n",
    "sim_count = 0\n",
    "for row, label in original_cluster_labels:\n",
    "    row_sims = sorted([(i, sim) for i, sim in enumerate(sims[row])], reverse=True, key=lambda pair: pair[1])\n",
    "    sys.stdout.write('\\r%d' % label)\n",
    "    sys.stdout.flush()\n",
    "#     for i, sim in enumerate(sims[row]):\n",
    "#         if i == row: continue\n",
    "#         if sim > 0.9:\n",
    "#             sim_count += 1\n",
    "#             if i not in cluster_labels:\n",
    "#                 cluster_labels[i] = (label, sim)\n",
    "#             else:\n",
    "#                 _, old_sim = cluster_labels[i]\n",
    "#                 if sim > old_sim:\n",
    "#                     cluster_labels[i] = (label, sim)\n",
    "    for (i, sim) in row_sims[:100]:\n",
    "        if i == row: continue\n",
    "        if i not in cluster_labels:\n",
    "            cluster_labels[i] = (label, sim)\n",
    "        else:\n",
    "            _, old_sim = cluster_labels[i]\n",
    "            if sim > old_sim:\n",
    "#                 print row, i, old_sim, sim, label\n",
    "                cluster_labels[i] = (label, sim)\n",
    "                \n",
    "# print '# similar speeches: ' + str(sim_count)\n",
    "print '\\n# labels: ' + str(len(cluster_labels))\n",
    "# print zip(*cluster_labels)[1]\n",
    "label_freqs = list(zip(*cluster_labels.values())[0])\n",
    "label_freqs.sort()\n",
    "\n",
    "# print label_freqs\n",
    "# groups = [(key, len(list(group))) for key, group in itertools.groupby(label_freqs)]\n",
    "# print (groups)\n",
    "\n",
    "plt.hist(label_freqs, bins=38)\n"
   ]
  },
  {
   "cell_type": "code",
   "execution_count": 335,
   "metadata": {
    "collapsed": false
   },
   "outputs": [],
   "source": [
    "# plt.hist(sims[5], bins=25)"
   ]
  },
  {
   "cell_type": "markdown",
   "metadata": {},
   "source": [
    "## SVM Multiclass"
   ]
  },
  {
   "cell_type": "code",
   "execution_count": 336,
   "metadata": {
    "collapsed": false
   },
   "outputs": [
    {
     "name": "stdout",
     "output_type": "stream",
     "text": [
      "(1945, 300) (1945,)\n",
      "GridSearchCV(cv=None,\n",
      "       estimator=LinearSVC(C=1.0, class_weight=None, dual=True, fit_intercept=True,\n",
      "     intercept_scaling=1, loss='l2', multi_class='ovr', penalty='l2',\n",
      "     random_state=None, tol=0.0001, verbose=0),\n",
      "       fit_params={}, iid=True, loss_func=None, n_jobs=1,\n",
      "       param_grid={'C': array([ 1. ,  1.5,  2. ,  2.5,  3. ,  3.5,  4. ,  4.5,  5. ,  5.5,  6. ,\n",
      "        6.5,  7. ,  7.5,  8. ,  8.5,  9. ,  9.5])},\n",
      "       pre_dispatch='2*n_jobs', refit=True, score_func=None, scoring=None,\n",
      "       verbose=0)\n"
     ]
    }
   ],
   "source": [
    "# construct SVM training input\n",
    "X = []\n",
    "Y = []\n",
    "for row, (label, sim) in cluster_labels.iteritems():\n",
    "    X += [tfidf_matrix_reduced[row]]\n",
    "    Y += [label]\n",
    "X = np.array(X)\n",
    "Y = np.array(Y)\n",
    "print X.shape, Y.shape\n",
    "# plt.hist(Y, bins=25)\n",
    "\n",
    "# train SVM, searching over paramaters\n",
    "parameters = {'C':np.arange(1, 10, 0.5)}\n",
    "\n",
    "lin_clf = svm.LinearSVC()\n",
    "clf = grid_search.GridSearchCV(lin_clf, parameters)\n",
    "print clf.fit(X, Y)"
   ]
  },
  {
   "cell_type": "code",
   "execution_count": 337,
   "metadata": {
    "collapsed": false
   },
   "outputs": [
    {
     "data": {
      "text/plain": [
       "(array([ 50,  96,  51,  43,  63,  79,  12, 148,  79, 116, 134,  99,  16,\n",
       "         34, 104,  92,   7,  92,  96,  60,  80, 105,  62,  59,  90, 190,\n",
       "          0,  28,  65,  79,  56,  99,  72,  43,  47,  75,  71,  48]),\n",
       " array([  0.        ,   0.97368421,   1.94736842,   2.92105263,\n",
       "          3.89473684,   4.86842105,   5.84210526,   6.81578947,\n",
       "          7.78947368,   8.76315789,   9.73684211,  10.71052632,\n",
       "         11.68421053,  12.65789474,  13.63157895,  14.60526316,\n",
       "         15.57894737,  16.55263158,  17.52631579,  18.5       ,\n",
       "         19.47368421,  20.44736842,  21.42105263,  22.39473684,\n",
       "         23.36842105,  24.34210526,  25.31578947,  26.28947368,\n",
       "         27.26315789,  28.23684211,  29.21052632,  30.18421053,\n",
       "         31.15789474,  32.13157895,  33.10526316,  34.07894737,\n",
       "         35.05263158,  36.02631579,  37.        ]),\n",
       " <a list of 38 Patch objects>)"
      ]
     },
     "execution_count": 337,
     "metadata": {},
     "output_type": "execute_result"
    },
    {
     "data": {
      "image/png": "[encoded data removed]",
      "text/plain": [
       "<matplotlib.figure.Figure at 0x1223a6f90>"
      ]
     },
     "metadata": {},
     "output_type": "display_data"
    }
   ],
   "source": [
    "predictions = clf.predict(tfidf_matrix_reduced)\n",
    "\n",
    "groups = [(key, len(list(group))) for key, group in itertools.groupby(predictions)]\n",
    "# print groups\n",
    "\n",
    "plt.hist(predictions, bins=38)"
   ]
  },
  {
   "cell_type": "code",
   "execution_count": 341,
   "metadata": {
    "collapsed": false
   },
   "outputs": [
    {
     "name": "stdout",
     "output_type": "stream",
     "text": [
      "0\n",
      "1\n",
      "2\n",
      "3\n",
      "4\n",
      "5\n",
      "4\n",
      "7\n",
      "8\n",
      "9\n",
      "10\n",
      "11\n",
      "36\n",
      "13\n",
      "14\n",
      "15\n",
      "25\n",
      "17\n",
      "18\n",
      "19\n",
      "20\n",
      "21\n",
      "22\n",
      "23\n",
      "24\n",
      "25\n",
      "4\n",
      "27\n",
      "28\n",
      "29\n",
      "30\n",
      "31\n",
      "32\n",
      "33\n",
      "34\n",
      "35\n",
      "36\n",
      "37\n",
      "{0: 0, 1: 1, 2: 2, 3: 3, 4: 26, 5: 5, 7: 7, 8: 8, 9: 9, 10: 10, 11: 11, 13: 13, 14: 14, 15: 15, 17: 17, 18: 18, 19: 19, 20: 20, 21: 21, 22: 22, 23: 23, 24: 24, 25: 25, 27: 27, 28: 28, 29: 29, 30: 30, 31: 31, 32: 32, 33: 33, 34: 34, 35: 35, 36: 36, 37: 37}\n",
      "0.193795620438\n"
     ]
    }
   ],
   "source": [
    "# Compare to Josh's 97% output\n",
    "good_preds = np.loadtxt(open('files/hacky1.csv'),delimiter=\",\",skiprows=1)\n",
    "\n",
    "good_preds_dict = {}\n",
    "for row, pred in good_preds:\n",
    "    good_preds_dict[row] = pred\n",
    "\n",
    "# relabel predictions according to original labels\n",
    "label_map = {}\n",
    "for row, label in original_cluster_labels:\n",
    "    print predictions[row]\n",
    "    label_map[predictions[row]] = label\n",
    "print label_map\n",
    "\n",
    "common_count = 0.0\n",
    "for row, pred in enumerate(predictions):\n",
    "    if pred in label_map and label_map[pred] == good_preds_dict[row]:\n",
    "        common_count+=1\n",
    "print common_count/2740\n"
   ]
  },
  {
   "cell_type": "markdown",
   "metadata": {},
   "source": [
    "## Spectral cutting"
   ]
  },
  {
   "cell_type": "code",
   "execution_count": 244,
   "metadata": {
    "collapsed": false
   },
   "outputs": [
    {
     "name": "stdout",
     "output_type": "stream",
     "text": [
      "done\n"
     ]
    }
   ],
   "source": [
    "rows_over_635 = np.array(json.loads(open('files/rows_over_365.json', 'r').read()))\n",
    "print 'done'"
   ]
  },
  {
   "cell_type": "code",
   "execution_count": 245,
   "metadata": {
    "collapsed": false
   },
   "outputs": [
    {
     "name": "stdout",
     "output_type": "stream",
     "text": [
      "(922, 922)\n"
     ]
    },
    {
     "data": {
      "text/plain": [
       "(array([282,   0,   0,   0,   0,   0,   0,   0,   0,   0,   0,   0,   0,\n",
       "          0,   0,   0,   0,   0,   0, 344,   0,   0,   0,   0,   0,   0,\n",
       "          0,   0,   0,   0,   0,   0,   0,   0,   0,   0,   0, 296]),\n",
       " array([ 0.        ,  0.05263158,  0.10526316,  0.15789474,  0.21052632,\n",
       "         0.26315789,  0.31578947,  0.36842105,  0.42105263,  0.47368421,\n",
       "         0.52631579,  0.57894737,  0.63157895,  0.68421053,  0.73684211,\n",
       "         0.78947368,  0.84210526,  0.89473684,  0.94736842,  1.        ,\n",
       "         1.05263158,  1.10526316,  1.15789474,  1.21052632,  1.26315789,\n",
       "         1.31578947,  1.36842105,  1.42105263,  1.47368421,  1.52631579,\n",
       "         1.57894737,  1.63157895,  1.68421053,  1.73684211,  1.78947368,\n",
       "         1.84210526,  1.89473684,  1.94736842,  2.        ]),\n",
       " <a list of 38 Patch objects>)"
      ]
     },
     "execution_count": 245,
     "metadata": {},
     "output_type": "execute_result"
    },
    {
     "data": {
      "image/png": "[encoded data removed]",
      "text/plain": [
       "<matplotlib.figure.Figure at 0x1198f6690>"
      ]
     },
     "metadata": {},
     "output_type": "display_data"
    }
   ],
   "source": [
    "# spectral = SpectralClustering(n_clusters=4)\n",
    "\n",
    "vectors_big_clusters = speech_graph[rows_over_635]\n",
    "vectors_big_clusters = vectors_big_clusters[:, rows_over_635]\n",
    "\n",
    "print vectors_big_clusters.shape\n",
    "spectral_labels = cluster.spectral_clustering(vectors_big_clusters, n_clusters=3)\n",
    "plt.hist(spectral_labels, bins=38)"
   ]
  },
  {
   "cell_type": "code",
   "execution_count": 246,
   "metadata": {
    "collapsed": false
   },
   "outputs": [
    {
     "name": "stdout",
     "output_type": "stream",
     "text": [
      "Reading data.\n",
      "99%99.9635036496 %\n",
      "Done reading data.\n",
      "done\n"
     ]
    }
   ],
   "source": [
    "speech_graph_copy, _ = load_sparse_data('speech_graph.csv', NUM_SPEECHES)\n",
    "\n",
    "speech_row_sums = {i: len(sparse_where(speech_graph, i)) for i in range(NUM_SPEECHES)}\n",
    "print 'done'"
   ]
  },
  {
   "cell_type": "code",
   "execution_count": 247,
   "metadata": {
    "collapsed": false
   },
   "outputs": [
    {
     "name": "stdout",
     "output_type": "stream",
     "text": [
      "Creating affinity matrix.\n",
      "3"
     ]
    },
    {
     "ename": "KeyboardInterrupt",
     "evalue": "",
     "output_type": "error",
     "traceback": [
      "\u001b[0;31m---------------------------------------------------------------------------\u001b[0m",
      "\u001b[0;31mKeyboardInterrupt\u001b[0m                         Traceback (most recent call last)",
      "\u001b[0;32m<ipython-input-247-1f0adb8beb45>\u001b[0m in \u001b[0;36m<module>\u001b[0;34m()\u001b[0m\n\u001b[1;32m      7\u001b[0m     \u001b[0;32mfor\u001b[0m \u001b[0mcol\u001b[0m \u001b[0;32min\u001b[0m \u001b[0mrow_indices\u001b[0m\u001b[0;34m:\u001b[0m\u001b[0;34m\u001b[0m\u001b[0m\n\u001b[1;32m      8\u001b[0m         \u001b[0;32mif\u001b[0m \u001b[0mspeech_row_sums\u001b[0m\u001b[0;34m[\u001b[0m\u001b[0mcol\u001b[0m\u001b[0;34m]\u001b[0m \u001b[0;34m<=\u001b[0m \u001b[0;36m634\u001b[0m \u001b[0;34m:\u001b[0m\u001b[0;34m\u001b[0m\u001b[0m\n\u001b[0;32m----> 9\u001b[0;31m             \u001b[0mspeech_graph_copy\u001b[0m\u001b[0;34m[\u001b[0m\u001b[0mrow\u001b[0m\u001b[0;34m,\u001b[0m \u001b[0mcol\u001b[0m\u001b[0;34m]\u001b[0m \u001b[0;34m=\u001b[0m \u001b[0;36m0.0\u001b[0m\u001b[0;34m\u001b[0m\u001b[0m\n\u001b[0m\u001b[1;32m     10\u001b[0m \u001b[0;34m\u001b[0m\u001b[0m\n\u001b[1;32m     11\u001b[0m \u001b[0;32mprint\u001b[0m \u001b[0;34m'Done'\u001b[0m\u001b[0;34m\u001b[0m\u001b[0m\n",
      "\u001b[0;32m/System/Library/Frameworks/Python.framework/Versions/2.7/Extras/lib/python/scipy/sparse/compressed.pyc\u001b[0m in \u001b[0;36m__setitem__\u001b[0;34m(self, key, val)\u001b[0m\n\u001b[1;32m    517\u001b[0m                                 % (row,col))\n\u001b[1;32m    518\u001b[0m \u001b[0;34m\u001b[0m\u001b[0m\n\u001b[0;32m--> 519\u001b[0;31m             \u001b[0mself\u001b[0m\u001b[0;34m.\u001b[0m\u001b[0mcheck_format\u001b[0m\u001b[0;34m(\u001b[0m\u001b[0mfull_check\u001b[0m\u001b[0;34m=\u001b[0m\u001b[0mTrue\u001b[0m\u001b[0;34m)\u001b[0m\u001b[0;34m\u001b[0m\u001b[0m\n\u001b[0m\u001b[1;32m    520\u001b[0m         \u001b[0;32melse\u001b[0m\u001b[0;34m:\u001b[0m\u001b[0;34m\u001b[0m\u001b[0m\n\u001b[1;32m    521\u001b[0m             \u001b[0;31m# We should allow slices here!\u001b[0m\u001b[0;34m\u001b[0m\u001b[0;34m\u001b[0m\u001b[0m\n",
      "\u001b[0;32m/System/Library/Frameworks/Python.framework/Versions/2.7/Extras/lib/python/scipy/sparse/compressed.pyc\u001b[0m in \u001b[0;36mcheck_format\u001b[0;34m(self, full_check)\u001b[0m\n\u001b[1;32m    153\u001b[0m                     raise ValueError(\"%s index values must be < %d\" %\n\u001b[1;32m    154\u001b[0m                                         (minor_name,minor_dim))\n\u001b[0;32m--> 155\u001b[0;31m                 \u001b[0;32mif\u001b[0m \u001b[0mself\u001b[0m\u001b[0;34m.\u001b[0m\u001b[0mindices\u001b[0m\u001b[0;34m.\u001b[0m\u001b[0mmin\u001b[0m\u001b[0;34m(\u001b[0m\u001b[0;34m)\u001b[0m \u001b[0;34m<\u001b[0m \u001b[0;36m0\u001b[0m\u001b[0;34m:\u001b[0m\u001b[0;34m\u001b[0m\u001b[0m\n\u001b[0m\u001b[1;32m    156\u001b[0m                     raise ValueError(\"%s index values must be >= 0\" %\n\u001b[1;32m    157\u001b[0m                                         minor_name)\n",
      "\u001b[0;31mKeyboardInterrupt\u001b[0m: "
     ]
    }
   ],
   "source": [
    "# Create affinity matrix.\n",
    "print 'Creating affinity matrix.'\n",
    "for row in range(NUM_SPEECHES):\n",
    "    row_indices = sparse_where(speech_graph, row)\n",
    "    sys.stdout.write('\\r%d' % (row))\n",
    "    sys.stdout.flush()\n",
    "    for col in row_indices:\n",
    "        if speech_row_sums[col] <= 634 :\n",
    "            speech_graph_copy[row, col] = 0.0\n",
    "\n",
    "print 'Done'"
   ]
  },
  {
   "cell_type": "code",
   "execution_count": null,
   "metadata": {
    "collapsed": true
   },
   "outputs": [],
   "source": [
    "speech_graph_copy_sums = {i: len(sparse_where(speech_graph_copy, i)) for i in range(NUM_SPEECHES)}"
   ]
  },
  {
   "cell_type": "code",
   "execution_count": 224,
   "metadata": {
    "collapsed": true
   },
   "outputs": [],
   "source": [
    "rows_over_635 = [i for i in range(NUM_SPEECHES) if speech_row_sums[i] > 635]\n",
    "rows_over_635_trimmed = [i for i in range(2740) if i in rows_over_635 and speech_graph_copy_sums[i] > 250]\n",
    "print 'done'"
   ]
  },
  {
   "cell_type": "markdown",
   "metadata": {
    "collapsed": true
   },
   "source": [
    "## KMeans"
   ]
  },
  {
   "cell_type": "code",
   "execution_count": 317,
   "metadata": {
    "collapsed": false
   },
   "outputs": [
    {
     "name": "stdout",
     "output_type": "stream",
     "text": [
      "(300,)\n",
      "38\n"
     ]
    }
   ],
   "source": [
    "# construct centroids\n",
    "X = []\n",
    "Y = []\n",
    "centroid_rows = {}\n",
    "for row, (label, sim) in cluster_labels.iteritems():\n",
    "    if label not in centroid_rows:\n",
    "        centroid_rows[label] = []\n",
    "    centroid_rows[label] += [tfidf_matrix_reduced[row]]\n",
    "    \n",
    "centroids = []\n",
    "for label in centroid_rows.keys():\n",
    "    centroids.append([x/len(centroid_rows[label]) for x in [sum(col) for col in zip(*centroid_rows[label])]])\n",
    "centroids = np.array(centroids)\n",
    "\n",
    "print centroids[0].shape\n",
    "print len(centroids)\n",
    "\n",
    "#     X += [tfidf_matrix_reduced[row]]\n",
    "#     Y += [label]\n",
    "# X = np.array(X)\n",
    "# Y = np.array(Y)\n"
   ]
  },
  {
   "cell_type": "code",
   "execution_count": 343,
   "metadata": {
    "collapsed": false
   },
   "outputs": [
    {
     "data": {
      "text/plain": [
       "(array([  13,   29,  227,    1,    1,   18,    1,    7,    1,    8,    8,\n",
       "           1,    5,   36,   57,   71,   13,   22,   34,   30,   13, 1512,\n",
       "           3,    1,    1,   13,    1,   10,   40,    5,   43,  398,   22,\n",
       "           6,   42,    5,    4,   38]),\n",
       " array([  0.        ,   0.97368421,   1.94736842,   2.92105263,\n",
       "          3.89473684,   4.86842105,   5.84210526,   6.81578947,\n",
       "          7.78947368,   8.76315789,   9.73684211,  10.71052632,\n",
       "         11.68421053,  12.65789474,  13.63157895,  14.60526316,\n",
       "         15.57894737,  16.55263158,  17.52631579,  18.5       ,\n",
       "         19.47368421,  20.44736842,  21.42105263,  22.39473684,\n",
       "         23.36842105,  24.34210526,  25.31578947,  26.28947368,\n",
       "         27.26315789,  28.23684211,  29.21052632,  30.18421053,\n",
       "         31.15789474,  32.13157895,  33.10526316,  34.07894737,\n",
       "         35.05263158,  36.02631579,  37.        ]),\n",
       " <a list of 38 Patch objects>)"
      ]
     },
     "execution_count": 343,
     "metadata": {},
     "output_type": "execute_result"
    },
    {
     "data": {
      "image/png": "[encoded data removed]",
      "text/plain": [
       "<matplotlib.figure.Figure at 0x11021ff50>"
      ]
     },
     "metadata": {},
     "output_type": "display_data"
    }
   ],
   "source": [
    "k_means = cluster.KMeans(n_clusters=len(centroids), init=centroids, n_init=1)\n",
    "k_means.fit(tfidf_matrix_reduced)\n",
    "\n",
    "labels = k_means.labels_\n",
    "plt.hist(labels, bins=38)"
   ]
  },
  {
   "cell_type": "code",
   "execution_count": 344,
   "metadata": {
    "collapsed": false
   },
   "outputs": [
    {
     "name": "stdout",
     "output_type": "stream",
     "text": [
      "0.0164233576642\n"
     ]
    }
   ],
   "source": [
    "# Compare to Josh's 97% output\n",
    "good_preds = np.loadtxt(open('files/hacky1.csv'),delimiter=\",\",skiprows=1)\n",
    "\n",
    "good_preds_dict = {}\n",
    "for row, pred in good_preds:\n",
    "    good_preds_dict[row] = pred\n",
    "\n",
    "common_count = 0.0\n",
    "for row, pred in enumerate(labels):\n",
    "    if pred == good_preds_dict[row]:\n",
    "        common_count+=1\n",
    "print common_count/2740\n"
   ]
  },
  {
   "cell_type": "code",
   "execution_count": null,
   "metadata": {
    "collapsed": true
   },
   "outputs": [],
   "source": []
  }
 ],
 "metadata": {
  "kernelspec": {
   "display_name": "Python 2",
   "language": "python",
   "name": "python2"
  },
  "language_info": {
   "codemirror_mode": {
    "name": "ipython",
    "version": 2
   },
   "file_extension": ".py",
   "mimetype": "text/x-python",
   "name": "python",
   "nbconvert_exporter": "python",
   "pygments_lexer": "ipython2",
   "version": "2.7.5"
  }
 },
 "nbformat": 4,
 "nbformat_minor": 0
}
