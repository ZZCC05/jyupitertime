{
 "cells": [
  {
   "cell_type": "code",
   "execution_count": 2,
   "metadata": {
    "collapsed": true
   },
   "outputs": [],
   "source": [
    "import collections\n",
    "import heapq\n",
    "import matplotlib.pyplot as plt\n",
    "import numpy as np\n",
    "import os\n",
    "\n",
    "from matplotlib import offsetbox\n",
    "from scipy.sparse import csr_matrix\n",
    "from sklearn import cluster, datasets, decomposition, ensemble, lda, manifold, random_projection\n",
    "from sklearn.decomposition import TruncatedSVD\n",
    "from time import time\n",
    "\n",
    "%matplotlib inline"
   ]
  },
  {
   "cell_type": "code",
   "execution_count": 3,
   "metadata": {
    "collapsed": true
   },
   "outputs": [],
   "source": [
    "def sparse_where(sparse_matrix, num):\n",
    "    \"\"\"\n",
    "    np.where() for a sparse matrix. Returns a set of indices.\n",
    "    \"\"\"\n",
    "    return set(np.where(sparse_matrix[num,:].toarray())[1].tolist())"
   ]
  },
  {
   "cell_type": "code",
   "execution_count": 4,
   "metadata": {
    "collapsed": true
   },
   "outputs": [],
   "source": [
    "# Skip parts that take a long time.\n",
    "SKIP_LONG_PARTS = True\n",
    "\n",
    "# Create a dense representation of the data.\n",
    "CREATE_DENSE_ARRAY = False\n",
    "\n",
    "NUM_SPEECHES = 2740\n",
    "\n",
    "NUM_DEBATES = 38"
   ]
  },
  {
   "cell_type": "code",
   "execution_count": 5,
   "metadata": {
    "collapsed": false
   },
   "outputs": [
    {
     "name": "stdout",
     "output_type": "stream",
     "text": [
      "Reading data.\n",
      "0.0 %\n",
      "5.47445255474 %\n",
      "10.9489051095 %\n",
      "16.4233576642 %\n",
      "21.897810219 %\n",
      "27.3722627737 %\n",
      "32.8467153285 %\n",
      "38.3211678832 %\n",
      "43.795620438 %\n",
      "49.2700729927 %\n",
      "54.7445255474 %\n",
      "60.2189781022 %\n",
      "65.6934306569 %\n",
      "71.1678832117 %\n",
      "76.6423357664 %\n",
      "82.1167883212 %\n",
      "87.5912408759 %\n",
      "93.0656934307 %\n",
      "98.5401459854 %\n",
      "99.9635036496 %\n",
      "Done reading data.\n",
      "(2740, 50000)\n"
     ]
    }
   ],
   "source": [
    "WORD_INDEX = 0\n",
    "WORD_FREQ = 1\n",
    "\n",
    "# Used for building the sparse data matrix.\n",
    "sparse_indptr = [0]\n",
    "sparse_indices = []\n",
    "sparse_data = []\n",
    "vocabulary = {}\n",
    "\n",
    "inverted_index = collections.defaultdict(set)\n",
    "\n",
    "dense_data = None\n",
    "\n",
    "print 'Reading data.'\n",
    "for line_num, line in enumerate(open('speech_vectors.csv')):\n",
    "    new_row = [(idx,float(freq)) for idx, freq in enumerate(line.strip().split(',')) if float(freq) > 0.0]\n",
    "    for i,f in new_row:\n",
    "        sparse_indices.append(i)\n",
    "        sparse_data.append(f)\n",
    "        inverted_index[i].add(line_num)\n",
    "    sparse_indptr.append(len(sparse_indices))\n",
    "    \n",
    "    if line_num % 150 == 0:\n",
    "        print 100.0 * line_num / 2740, '%'\n",
    "print 100.0 * line_num / 2740, '%'\n",
    "\n",
    "sparse_data = csr_matrix((sparse_data, sparse_indices, sparse_indptr), dtype=float)\n",
    "print 'Done reading data.'\n",
    "\n",
    "print sparse_data.shape"
   ]
  },
  {
   "cell_type": "code",
   "execution_count": 6,
   "metadata": {
    "collapsed": false
   },
   "outputs": [
    {
     "name": "stdout",
     "output_type": "stream",
     "text": [
      "2740\n"
     ]
    }
   ],
   "source": [
    "speech_graph = []\n",
    "for line in open('speech_graph.csv'):\n",
    "    speech_graph.append( [float(i) for i in line.strip().split(',')] )\n",
    "    \n",
    "print len(speech_graph)\n",
    "sparse_speech_graph = csr_matrix(speech_graph)\n"
   ]
  },
  {
   "cell_type": "markdown",
   "metadata": {},
   "source": [
    "## SVM Classification"
   ]
  },
  {
   "cell_type": "code",
   "execution_count": 7,
   "metadata": {
    "collapsed": false
   },
   "outputs": [
    {
     "name": "stdout",
     "output_type": "stream",
     "text": [
      "GridSearchCV(cv=None,\n",
      "       estimator=SVC(C=1.0, cache_size=200, class_weight=None, coef0=0.0, degree=3, gamma=0.0,\n",
      "  kernel='rbf', max_iter=-1, probability=False, random_state=None,\n",
      "  shrinking=True, tol=0.001, verbose=False),\n",
      "       fit_params={}, iid=True, loss_func=None, n_jobs=1,\n",
      "       param_grid={'kernel': ('linear', 'rbf'), 'C': array([ 1. ,  1.5,  2. ,  2.5,  3. ,  3.5,  4. ,  4.5,  5. ,  5.5,  6. ,\n",
      "        6.5,  7. ,  7.5,  8. ,  8.5,  9. ,  9.5])},\n",
      "       pre_dispatch='2*n_jobs', refit=True, score_func=None, scoring=None,\n",
      "       verbose=0)\n",
      "GridSearchCV(cv=None,\n",
      "       estimator=SVC(C=1.0, cache_size=200, class_weight=None, coef0=0.0, degree=3, gamma=0.0,\n",
      "  kernel='rbf', max_iter=-1, probability=False, random_state=None,\n",
      "  shrinking=True, tol=0.001, verbose=False),\n",
      "       fit_params={}, iid=True, loss_func=None, n_jobs=1,\n",
      "       param_grid={'kernel': ('linear', 'rbf'), 'C': array([ 1. ,  1.5,  2. ,  2.5,  3. ,  3.5,  4. ,  4.5,  5. ,  5.5,  6. ,\n",
      "        6.5,  7. ,  7.5,  8. ,  8.5,  9. ,  9.5])},\n",
      "       pre_dispatch='2*n_jobs', refit=True, score_func=None, scoring=None,\n",
      "       verbose=0)\n",
      "0.528832116788\n"
     ]
    }
   ],
   "source": [
    "from sklearn import svm, grid_search\n",
    "from sklearn.decomposition import PCA, SparsePCA\n",
    "from scipy import sparse as sp\n",
    "\n",
    "# run PCA on data\n",
    "truncated_svd = TruncatedSVD(n_components=10)\n",
    "reduced_data = truncated_svd.fit_transform(sp.hstack((np.array(speech_graph), sparse_data[:, :25000])))\n",
    "\n",
    "# form the training data\n",
    "X = reduced_data[[2, 13, 18, 24, 1, 3, 27, 177], :]\n",
    "y = [0 for i in range(4)] + [1 for i in range(4)]\n",
    "\n",
    "# # run PCA on data\n",
    "# pca = PCA(n_components=50)\n",
    "# denseX = X.toarray()\n",
    "# reducedX = pca.fit(denseX).transform(denseX)\n",
    "# X = csr_matrix(reducedX)\n",
    "\n",
    "# fit SVM, searching over paramaters\n",
    "parameters = {'kernel':('linear', 'rbf'), 'C':np.arange(1, 10, 0.5)}\n",
    "svr = svm.SVC()\n",
    "clf = grid_search.GridSearchCV(svr, parameters)\n",
    "a = clf.fit(X, y)\n",
    "print a\n",
    "print clf\n",
    "\n",
    "# make predictions\n",
    "predictions = []\n",
    "ones = 0\n",
    "\n",
    "for i in range(len(reduced_data)):\n",
    "    prediction = clf.predict(reduced_data[i])[0]\n",
    "    if prediction == 1:\n",
    "        ones += 1\n",
    "    predictions += [prediction]\n",
    "\n",
    "clf = grid_search.GridSearchCV(svr, parameters)\n",
    "\n",
    "# print predictions\n",
    "print float(ones)/len(predictions)"
   ]
  },
  {
   "cell_type": "code",
   "execution_count": 8,
   "metadata": {
    "collapsed": false
   },
   "outputs": [
    {
     "data": {
      "text/plain": [
       "[<matplotlib.lines.Line2D at 0x11451ce90>]"
      ]
     },
     "execution_count": 8,
     "metadata": {},
     "output_type": "execute_result"
    },
    {
     "data": {
      "image/png": "[encoded data removed]",
      "text/plain": [
       "<matplotlib.figure.Figure at 0x11451cb90>"
      ]
     },
     "metadata": {},
     "output_type": "display_data"
    }
   ],
   "source": [
    "for_points = []\n",
    "against_points = []\n",
    "\n",
    "for i, label in enumerate(predictions):\n",
    "    if(label == 1):\n",
    "        for_points += [reduced_data[i]]\n",
    "    else:\n",
    "        against_points += [reduced_data[i]]\n",
    "\n",
    "plt.plot([p[0] for p in for_points], [p[1] for p in for_points], 'ro')\n",
    "plt.plot([p[0] for p in against_points], [p[1] for p in against_points], 'go')\n"
   ]
  },
  {
   "cell_type": "code",
   "execution_count": 14,
   "metadata": {
    "collapsed": false
   },
   "outputs": [
    {
     "name": "stdout",
     "output_type": "stream",
     "text": [
      "0.99197080292\n"
     ]
    }
   ],
   "source": [
    "good_preds = np.loadtxt(open('preds_laplacian1.csv'),delimiter=\",\",skiprows=1)\n",
    "\n",
    "# score = 0\n",
    "# for i, pred in enumerate(good_preds):\n",
    "#     if pred == predictions[i]:\n",
    "#         score += 1\n",
    "# print 'score' + str(score/2740.0)\n",
    "    \n",
    "print (2740-sum(np.logical_xor(predictions, good_preds[:, 1])))/2740.0\n",
    "\n",
    "with open('svm_pred.csv', 'w') as output_file:\n",
    "    output_file.write('Id,Prediction\\n')\n",
    "    for i, p in enumerate(predictions):\n",
    "        output_file.write(str(i) + ', ' + str(p) + '\\n')\n",
    "        "
   ]
  },
  {
   "cell_type": "code",
   "execution_count": 15,
   "metadata": {
    "collapsed": false
   },
   "outputs": [
    {
     "name": "stdout",
     "output_type": "stream",
     "text": [
      "0.0\n",
      "Creating affinity matrix.\n",
      "0.0 %\n",
      "5.47445255474 %\n",
      "10.9489051095 %\n",
      "16.4233576642 %\n",
      "21.897810219 %\n",
      "27.3722627737 %\n",
      "32.8467153285 %\n",
      "38.3211678832 %\n",
      "43.795620438 %\n",
      "49.2700729927 %\n",
      "54.7445255474 %\n",
      "60.2189781022 %\n",
      "65.6934306569 %\n",
      "71.1678832117 %\n",
      "76.6423357664 %\n",
      "82.1167883212 %\n",
      "87.5912408759 %\n",
      "93.0656934307 %\n",
      "98.5401459854 %\n",
      "Done\n"
     ]
    }
   ],
   "source": [
    "speech_graph_copy = csr_matrix(sparse_speech_graph)\n",
    "\n",
    "speech_row_sums = {i: len(sparse_where(sparse_speech_graph, i)) for i in range(NUM_SPEECHES)}\n",
    "\n",
    "print speech_graph_copy[0, 0]\n",
    "\n",
    "# Create affinity matrix.\n",
    "print 'Creating affinity matrix.'\n",
    "for row in range(NUM_SPEECHES):\n",
    "    row_indices = sparse_where(sparse_speech_graph, row)\n",
    "    for index in row_indices:\n",
    "        if abs(speech_row_sums[index] - speech_row_sums[row]) <= 50.8851648322 :\n",
    "            speech_graph_copy[row, index] = 0.0\n",
    "    if row % 150 == 0:\n",
    "        print row * 100.0 / NUM_SPEECHES, '%'\n",
    "\n",
    "print 'Done'\n"
   ]
  },
  {
   "cell_type": "code",
   "execution_count": null,
   "metadata": {
    "collapsed": false
   },
   "outputs": [],
   "source": [
    "from sklearn import svm, grid_search\n",
    "from sklearn.decomposition import PCA, SparsePCA\n",
    "from scipy import sparse as sp\n",
    "\n",
    "# run PCA on data\n",
    "truncated_svd = TruncatedSVD(n_components=10)\n",
    "reduced_data = truncated_svd.fit_transform(sp.hstack((speech_graph_copy, sparse_data[:, :25000])))\n",
    "\n",
    "# form the training data\n",
    "X = reduced_data[[2, 13, 18, 24, 1, 3, 27, 177], :]\n",
    "y = [0 for i in range(4)] + [1 for i in range(4)]\n",
    "\n",
    "# # run PCA on data\n",
    "# pca = PCA(n_components=50)\n",
    "# denseX = X.toarray()\n",
    "# reducedX = pca.fit(denseX).transform(denseX)\n",
    "# X = csr_matrix(reducedX)\n",
    "\n",
    "# fit SVM, searching over paramaters\n",
    "parameters = {'kernel':('linear', 'rbf'), 'C':[np.arange(1, 10, 0.5)]}\n",
    "svr = svm.SVC()\n",
    "clf = grid_search.GridSearchCV(svr, parameters)\n",
    "a = clf.fit(X, y)\n",
    "print clf\n",
    "\n",
    "# make predictions\n",
    "predictions = []\n",
    "ones = 0\n",
    "\n",
    "for i in range(len(reduced_data)):\n",
    "    prediction = clf.predict(reduced_data[i])[0]\n",
    "    if prediction == 1:\n",
    "        ones += 1\n",
    "    predictions += [prediction]\n",
    "\n",
    "clf = grid_search.GridSearchCV(svr, parameters)\n",
    "\n",
    "# print predictions\n",
    "print float(ones)/len(predictions)"
   ]
  },
  {
   "cell_type": "code",
   "execution_count": null,
   "metadata": {
    "collapsed": false
   },
   "outputs": [],
   "source": [
    "good_preds = np.loadtxt(open('preds_laplacian1.csv'),delimiter=\",\",skiprows=1)\n",
    "# score = 0\n",
    "# for i, pred in enumerate(good_preds):\n",
    "#     if pred == predictions[i]:\n",
    "#         score += 1\n",
    "# print 'score' + str(score/2740.0)\n",
    "    \n",
    "print (2740-sum(np.logical_xor(predictions, good_preds[:, 1])))/2740.0"
   ]
  },
  {
   "cell_type": "code",
   "execution_count": null,
   "metadata": {
    "collapsed": true
   },
   "outputs": [],
   "source": []
  },
  {
   "cell_type": "code",
   "execution_count": null,
   "metadata": {
    "collapsed": true
   },
   "outputs": [],
   "source": []
  },
  {
   "cell_type": "code",
   "execution_count": null,
   "metadata": {
    "collapsed": true
   },
   "outputs": [],
   "source": []
  }
 ],
 "metadata": {
  "kernelspec": {
   "display_name": "Python 2",
   "language": "python",
   "name": "python2"
  },
  "language_info": {
   "codemirror_mode": {
    "name": "ipython",
    "version": 2
   },
   "file_extension": ".py",
   "mimetype": "text/x-python",
   "name": "python",
   "nbconvert_exporter": "python",
   "pygments_lexer": "ipython2",
   "version": "2.7.5"
  }
 },
 "nbformat": 4,
 "nbformat_minor": 0
}
